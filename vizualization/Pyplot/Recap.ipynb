{
 "cells": [
  {
   "cell_type": "markdown",
   "metadata": {},
   "source": [
    "# Maps\n",
    "\n",
    "Let's start by running the following cell:"
   ]
  },
  {
   "cell_type": "markdown",
   "metadata": {},
   "source": [
    "😱 **Imagine a world where people can't go further than 50km from home**. How can you help them to know where they can go?\n",
    "\n",
    "We will be using the [`folium`](https://python-visualization.github.io/folium/) package, a wrapper around the [`Leaflet`](https://leafletjs.com/) JavaScript library."
   ]
  },
  {
   "cell_type": "code",
   "execution_count": 1,
   "metadata": {},
   "outputs": [],
   "source": [
    "# If you use conda based installation\n",
    "# !conda install folium -c conda-forge\n",
    "\n",
    "# If you use pip based installation\n",
    "# !pip install --quiet folium"
   ]
  },
  {
   "cell_type": "markdown",
   "metadata": {},
   "source": [
    "Now import Folium:"
   ]
  },
  {
   "cell_type": "code",
   "execution_count": 2,
   "metadata": {},
   "outputs": [],
   "source": [
    "import folium"
   ]
  },
  {
   "cell_type": "markdown",
   "metadata": {},
   "source": [
    "---\n",
    "\n",
    "### ❓ 1 - Draw your first map\n",
    "\n",
    "The goal of this first question is to:\n",
    "\n",
    "- Draw a map centered at specific coordinates (check out [gps-coordinates.net](https://www.gps-coordinates.net/))\n",
    "- Put a marker at that specific point\n",
    "- Draw a circle of 50km centered at specific point\n",
    "\n",
    "Check out the [`folium` Quickstart](https://python-visualization.github.io/folium/quickstart.html), you should find all the code examples you need, good luck!"
   ]
  },
  {
   "cell_type": "code",
   "execution_count": 3,
   "metadata": {},
   "outputs": [
    {
     "data": {
      "text/html": [
       "<div style=\"width:100%;\"><div style=\"position:relative;width:100%;height:0;padding-bottom:60%;\"><span style=\"color:#565656\">Make this Notebook Trusted to load map: File -> Trust Notebook</span><iframe srcdoc=\"&lt;!DOCTYPE html&gt;\n",
       "&lt;head&gt;    \n",
       "    &lt;meta http-equiv=&quot;content-type&quot; content=&quot;text/html; charset=UTF-8&quot; /&gt;\n",
       "    \n",
       "        &lt;script&gt;\n",
       "            L_NO_TOUCH = false;\n",
       "            L_DISABLE_3D = false;\n",
       "        &lt;/script&gt;\n",
       "    \n",
       "    &lt;style&gt;html, body {width: 100%;height: 100%;margin: 0;padding: 0;}&lt;/style&gt;\n",
       "    &lt;style&gt;#map {position:absolute;top:0;bottom:0;right:0;left:0;}&lt;/style&gt;\n",
       "    &lt;script src=&quot;https://cdn.jsdelivr.net/npm/leaflet@1.6.0/dist/leaflet.js&quot;&gt;&lt;/script&gt;\n",
       "    &lt;script src=&quot;https://code.jquery.com/jquery-1.12.4.min.js&quot;&gt;&lt;/script&gt;\n",
       "    &lt;script src=&quot;https://maxcdn.bootstrapcdn.com/bootstrap/3.2.0/js/bootstrap.min.js&quot;&gt;&lt;/script&gt;\n",
       "    &lt;script src=&quot;https://cdnjs.cloudflare.com/ajax/libs/Leaflet.awesome-markers/2.0.2/leaflet.awesome-markers.js&quot;&gt;&lt;/script&gt;\n",
       "    &lt;link rel=&quot;stylesheet&quot; href=&quot;https://cdn.jsdelivr.net/npm/leaflet@1.6.0/dist/leaflet.css&quot;/&gt;\n",
       "    &lt;link rel=&quot;stylesheet&quot; href=&quot;https://maxcdn.bootstrapcdn.com/bootstrap/3.2.0/css/bootstrap.min.css&quot;/&gt;\n",
       "    &lt;link rel=&quot;stylesheet&quot; href=&quot;https://maxcdn.bootstrapcdn.com/bootstrap/3.2.0/css/bootstrap-theme.min.css&quot;/&gt;\n",
       "    &lt;link rel=&quot;stylesheet&quot; href=&quot;https://maxcdn.bootstrapcdn.com/font-awesome/4.6.3/css/font-awesome.min.css&quot;/&gt;\n",
       "    &lt;link rel=&quot;stylesheet&quot; href=&quot;https://cdnjs.cloudflare.com/ajax/libs/Leaflet.awesome-markers/2.0.2/leaflet.awesome-markers.css&quot;/&gt;\n",
       "    &lt;link rel=&quot;stylesheet&quot; href=&quot;https://cdn.jsdelivr.net/gh/python-visualization/folium/folium/templates/leaflet.awesome.rotate.min.css&quot;/&gt;\n",
       "    \n",
       "            &lt;meta name=&quot;viewport&quot; content=&quot;width=device-width,\n",
       "                initial-scale=1.0, maximum-scale=1.0, user-scalable=no&quot; /&gt;\n",
       "            &lt;style&gt;\n",
       "                #map_aab6b29f3de645f5168eeeee1b6750da {\n",
       "                    position: relative;\n",
       "                    width: 100.0%;\n",
       "                    height: 100.0%;\n",
       "                    left: 0.0%;\n",
       "                    top: 0.0%;\n",
       "                }\n",
       "            &lt;/style&gt;\n",
       "        \n",
       "&lt;/head&gt;\n",
       "&lt;body&gt;    \n",
       "    \n",
       "            &lt;div class=&quot;folium-map&quot; id=&quot;map_aab6b29f3de645f5168eeeee1b6750da&quot; &gt;&lt;/div&gt;\n",
       "        \n",
       "&lt;/body&gt;\n",
       "&lt;script&gt;    \n",
       "    \n",
       "            var map_aab6b29f3de645f5168eeeee1b6750da = L.map(\n",
       "                &quot;map_aab6b29f3de645f5168eeeee1b6750da&quot;,\n",
       "                {\n",
       "                    center: [49.4674808, 6.3619989],\n",
       "                    crs: L.CRS.EPSG3857,\n",
       "                    zoom: 6,\n",
       "                    zoomControl: true,\n",
       "                    preferCanvas: false,\n",
       "                }\n",
       "            );\n",
       "\n",
       "            \n",
       "\n",
       "        \n",
       "    \n",
       "            var tile_layer_b31b3a3b44172c43136b1c866a055bfe = L.tileLayer(\n",
       "                &quot;https://{s}.tile.openstreetmap.org/{z}/{x}/{y}.png&quot;,\n",
       "                {&quot;attribution&quot;: &quot;Data by \\u0026copy; \\u003ca href=\\&quot;http://openstreetmap.org\\&quot;\\u003eOpenStreetMap\\u003c/a\\u003e, under \\u003ca href=\\&quot;http://www.openstreetmap.org/copyright\\&quot;\\u003eODbL\\u003c/a\\u003e.&quot;, &quot;detectRetina&quot;: false, &quot;maxNativeZoom&quot;: 18, &quot;maxZoom&quot;: 18, &quot;minZoom&quot;: 0, &quot;noWrap&quot;: false, &quot;opacity&quot;: 1, &quot;subdomains&quot;: &quot;abc&quot;, &quot;tms&quot;: false}\n",
       "            ).addTo(map_aab6b29f3de645f5168eeeee1b6750da);\n",
       "        \n",
       "    \n",
       "            var marker_70160c3985e23f5a631ba14c69ffd313 = L.marker(\n",
       "                [49.4674808, 6.3619989],\n",
       "                {}\n",
       "            ).addTo(map_aab6b29f3de645f5168eeeee1b6750da);\n",
       "        \n",
       "    \n",
       "            var icon_f3084ddd7d58e1e5ffe69e5ce5402401 = L.AwesomeMarkers.icon(\n",
       "                {&quot;extraClasses&quot;: &quot;fa-rotate-0&quot;, &quot;icon&quot;: &quot;info-sign&quot;, &quot;iconColor&quot;: &quot;white&quot;, &quot;markerColor&quot;: &quot;red&quot;, &quot;prefix&quot;: &quot;glyphicon&quot;}\n",
       "            );\n",
       "            marker_70160c3985e23f5a631ba14c69ffd313.setIcon(icon_f3084ddd7d58e1e5ffe69e5ce5402401);\n",
       "        \n",
       "    \n",
       "        var popup_536f8fa8edb69d5b9a215d1e60410ec1 = L.popup({&quot;maxWidth&quot;: &quot;100%&quot;});\n",
       "\n",
       "        \n",
       "            var html_002d1740315ace2e4565e52a132d048f = $(`&lt;div id=&quot;html_002d1740315ace2e4565e52a132d048f&quot; style=&quot;width: 100.0%; height: 100.0%;&quot;&gt;My location&lt;/div&gt;`)[0];\n",
       "            popup_536f8fa8edb69d5b9a215d1e60410ec1.setContent(html_002d1740315ace2e4565e52a132d048f);\n",
       "        \n",
       "\n",
       "        marker_70160c3985e23f5a631ba14c69ffd313.bindPopup(popup_536f8fa8edb69d5b9a215d1e60410ec1)\n",
       "        ;\n",
       "\n",
       "        \n",
       "    \n",
       "    \n",
       "            marker_70160c3985e23f5a631ba14c69ffd313.bindTooltip(\n",
       "                `&lt;div&gt;\n",
       "                     I&#x27;m here\n",
       "                 &lt;/div&gt;`,\n",
       "                {&quot;sticky&quot;: true}\n",
       "            );\n",
       "        \n",
       "    \n",
       "            var circle_902f56ba299d625d21a38c7a30db0cde = L.circle(\n",
       "                [49.4674808, 6.3619989],\n",
       "                {&quot;bubblingMouseEvents&quot;: true, &quot;color&quot;: &quot;black&quot;, &quot;dashArray&quot;: null, &quot;dashOffset&quot;: null, &quot;fill&quot;: true, &quot;fillColor&quot;: &quot;green&quot;, &quot;fillOpacity&quot;: 0.6, &quot;fillRule&quot;: &quot;evenodd&quot;, &quot;lineCap&quot;: &quot;round&quot;, &quot;lineJoin&quot;: &quot;round&quot;, &quot;opacity&quot;: 1, &quot;radius&quot;: 50000, &quot;stroke&quot;: true, &quot;weight&quot;: 1}\n",
       "            ).addTo(map_aab6b29f3de645f5168eeeee1b6750da);\n",
       "        \n",
       "    \n",
       "        var popup_9709203187c99dcbd702c3a750a1a211 = L.popup({&quot;maxWidth&quot;: &quot;100%&quot;});\n",
       "\n",
       "        \n",
       "            var html_23a230c166452c352cecb22c2a8051d7 = $(`&lt;div id=&quot;html_23a230c166452c352cecb22c2a8051d7&quot; style=&quot;width: 100.0%; height: 100.0%;&quot;&gt;50000 meters&lt;/div&gt;`)[0];\n",
       "            popup_9709203187c99dcbd702c3a750a1a211.setContent(html_23a230c166452c352cecb22c2a8051d7);\n",
       "        \n",
       "\n",
       "        circle_902f56ba299d625d21a38c7a30db0cde.bindPopup(popup_9709203187c99dcbd702c3a750a1a211)\n",
       "        ;\n",
       "\n",
       "        \n",
       "    \n",
       "    \n",
       "            circle_902f56ba299d625d21a38c7a30db0cde.bindTooltip(\n",
       "                `&lt;div&gt;\n",
       "                     50km around center\n",
       "                 &lt;/div&gt;`,\n",
       "                {&quot;sticky&quot;: true}\n",
       "            );\n",
       "        \n",
       "&lt;/script&gt;\" style=\"position:absolute;width:100%;height:100%;left:0;top:0;border:none !important;\" allowfullscreen webkitallowfullscreen mozallowfullscreen></iframe></div></div>"
      ],
      "text/plain": [
       "<folium.folium.Map at 0x127e96cb0>"
      ]
     },
     "execution_count": 3,
     "metadata": {},
     "output_type": "execute_result"
    }
   ],
   "source": [
    "coordinates = [49.4674808,6.3619989]\n",
    "radius = 50_000\n",
    "\n",
    "m = folium.Map(location=coordinates, zoom_start=6)\n",
    "\n",
    "folium.Marker(\n",
    "    location=coordinates,\n",
    "    tooltip=\"I'm here\",\n",
    "    popup=\"My location\",\n",
    "    icon=folium.Icon(color=\"red\"),\n",
    ").add_to(m)\n",
    "\n",
    "folium.Circle(\n",
    "    location=coordinates,\n",
    "    radius=radius,\n",
    "    color=\"black\",\n",
    "    weight=1,\n",
    "    fill_opacity=0.6,\n",
    "    opacity=1,\n",
    "    fill_color=\"green\",\n",
    "    fill=False,  # gets overridden by fill_color\n",
    "    popup=\"{} meters\".format(radius),\n",
    "    tooltip=\"50km around center\",\n",
    ").add_to(m)\n",
    "\n",
    "m"
   ]
  },
  {
   "cell_type": "markdown",
   "metadata": {},
   "source": [
    "---\n",
    "\n",
    "### ❓ 2 - Build a User-Friendly tool\n",
    "\n",
    "The problem of the previous code is that we need to manually convert an address into the GPS coordinates. Let's implement a program so that user can specify their plain text address and get the map drawn for that point:\n",
    "\n",
    "```python\n",
    "draw_50km_map(\"138 Kingsland Rd, London E2 8DY\")\n",
    "```\n",
    "\n",
    "💡 Hint: You can use the [Nominatim Search API](https://nominatim.org/release-docs/latest/api/Search/) to implement a `geocode(address)` function which returns a list of `[lat, lng]` coordinates. "
   ]
  },
  {
   "cell_type": "code",
   "execution_count": 4,
   "metadata": {
    "tags": [
     "challengify"
    ]
   },
   "outputs": [],
   "source": [
    "import requests"
   ]
  },
  {
   "cell_type": "code",
   "execution_count": 5,
   "metadata": {},
   "outputs": [
    {
     "data": {
      "text/plain": [
       "(50.8458365, 4.3582119)"
      ]
     },
     "execution_count": 5,
     "metadata": {},
     "output_type": "execute_result"
    }
   ],
   "source": [
    "def get_coords(location):\n",
    "    url = \"https://nominatim.openstreetmap.org/search\"\n",
    "    params = {'q': location,\n",
    "              'format': 'json'}\n",
    "\n",
    "    result = requests.get(url, params).json()[0]\n",
    "    lat = float(result['lat'])\n",
    "    lon = float(result['lon'])\n",
    "    return lat, lon\n",
    "\n",
    "get_coords(\"Kantersteen 12, Brussels\")"
   ]
  },
  {
   "cell_type": "markdown",
   "metadata": {},
   "source": [
    "The interactive tool:"
   ]
  },
  {
   "cell_type": "code",
   "execution_count": 8,
   "metadata": {},
   "outputs": [],
   "source": [
    "def draw_50km_map(location):\n",
    "    coordinates = get_coords(location)\n",
    "    radius = 50_000\n",
    "\n",
    "    m = folium.Map(location=coordinates, zoom_start=6)\n",
    "\n",
    "    folium.Marker(\n",
    "        location=coordinates,\n",
    "        tooltip=\"I'm here\",\n",
    "        popup=\"My location\",\n",
    "        icon=folium.Icon(color=\"red\"),\n",
    "    ).add_to(m)\n",
    "\n",
    "    folium.Circle(\n",
    "        location=coordinates,\n",
    "        radius=radius,\n",
    "        color=\"black\",\n",
    "        weight=1,\n",
    "        fill_opacity=0.6,\n",
    "        opacity=1,\n",
    "        fill_color=\"green\",\n",
    "        fill=False,  # gets overridden by fill_color\n",
    "        popup=\"{} meters\".format(radius),\n",
    "        tooltip=\"50km around center\",\n",
    "    ).add_to(m)\n",
    "\n",
    "    return m"
   ]
  },
  {
   "cell_type": "code",
   "execution_count": 9,
   "metadata": {
    "scrolled": true
   },
   "outputs": [
    {
     "name": "stdout",
     "output_type": "stream",
     "text": [
      "Input your address > White House\n"
     ]
    },
    {
     "data": {
      "text/html": [
       "<div style=\"width:100%;\"><div style=\"position:relative;width:100%;height:0;padding-bottom:60%;\"><span style=\"color:#565656\">Make this Notebook Trusted to load map: File -> Trust Notebook</span><iframe srcdoc=\"&lt;!DOCTYPE html&gt;\n",
       "&lt;head&gt;    \n",
       "    &lt;meta http-equiv=&quot;content-type&quot; content=&quot;text/html; charset=UTF-8&quot; /&gt;\n",
       "    \n",
       "        &lt;script&gt;\n",
       "            L_NO_TOUCH = false;\n",
       "            L_DISABLE_3D = false;\n",
       "        &lt;/script&gt;\n",
       "    \n",
       "    &lt;style&gt;html, body {width: 100%;height: 100%;margin: 0;padding: 0;}&lt;/style&gt;\n",
       "    &lt;style&gt;#map {position:absolute;top:0;bottom:0;right:0;left:0;}&lt;/style&gt;\n",
       "    &lt;script src=&quot;https://cdn.jsdelivr.net/npm/leaflet@1.6.0/dist/leaflet.js&quot;&gt;&lt;/script&gt;\n",
       "    &lt;script src=&quot;https://code.jquery.com/jquery-1.12.4.min.js&quot;&gt;&lt;/script&gt;\n",
       "    &lt;script src=&quot;https://maxcdn.bootstrapcdn.com/bootstrap/3.2.0/js/bootstrap.min.js&quot;&gt;&lt;/script&gt;\n",
       "    &lt;script src=&quot;https://cdnjs.cloudflare.com/ajax/libs/Leaflet.awesome-markers/2.0.2/leaflet.awesome-markers.js&quot;&gt;&lt;/script&gt;\n",
       "    &lt;link rel=&quot;stylesheet&quot; href=&quot;https://cdn.jsdelivr.net/npm/leaflet@1.6.0/dist/leaflet.css&quot;/&gt;\n",
       "    &lt;link rel=&quot;stylesheet&quot; href=&quot;https://maxcdn.bootstrapcdn.com/bootstrap/3.2.0/css/bootstrap.min.css&quot;/&gt;\n",
       "    &lt;link rel=&quot;stylesheet&quot; href=&quot;https://maxcdn.bootstrapcdn.com/bootstrap/3.2.0/css/bootstrap-theme.min.css&quot;/&gt;\n",
       "    &lt;link rel=&quot;stylesheet&quot; href=&quot;https://maxcdn.bootstrapcdn.com/font-awesome/4.6.3/css/font-awesome.min.css&quot;/&gt;\n",
       "    &lt;link rel=&quot;stylesheet&quot; href=&quot;https://cdnjs.cloudflare.com/ajax/libs/Leaflet.awesome-markers/2.0.2/leaflet.awesome-markers.css&quot;/&gt;\n",
       "    &lt;link rel=&quot;stylesheet&quot; href=&quot;https://cdn.jsdelivr.net/gh/python-visualization/folium/folium/templates/leaflet.awesome.rotate.min.css&quot;/&gt;\n",
       "    \n",
       "            &lt;meta name=&quot;viewport&quot; content=&quot;width=device-width,\n",
       "                initial-scale=1.0, maximum-scale=1.0, user-scalable=no&quot; /&gt;\n",
       "            &lt;style&gt;\n",
       "                #map_aa372ded0caa26f31a1431fa029a0ffa {\n",
       "                    position: relative;\n",
       "                    width: 100.0%;\n",
       "                    height: 100.0%;\n",
       "                    left: 0.0%;\n",
       "                    top: 0.0%;\n",
       "                }\n",
       "            &lt;/style&gt;\n",
       "        \n",
       "&lt;/head&gt;\n",
       "&lt;body&gt;    \n",
       "    \n",
       "            &lt;div class=&quot;folium-map&quot; id=&quot;map_aa372ded0caa26f31a1431fa029a0ffa&quot; &gt;&lt;/div&gt;\n",
       "        \n",
       "&lt;/body&gt;\n",
       "&lt;script&gt;    \n",
       "    \n",
       "            var map_aa372ded0caa26f31a1431fa029a0ffa = L.map(\n",
       "                &quot;map_aa372ded0caa26f31a1431fa029a0ffa&quot;,\n",
       "                {\n",
       "                    center: [38.897699700000004, -77.03655315],\n",
       "                    crs: L.CRS.EPSG3857,\n",
       "                    zoom: 6,\n",
       "                    zoomControl: true,\n",
       "                    preferCanvas: false,\n",
       "                }\n",
       "            );\n",
       "\n",
       "            \n",
       "\n",
       "        \n",
       "    \n",
       "            var tile_layer_c040d402b4824782feabdcc233cd06df = L.tileLayer(\n",
       "                &quot;https://{s}.tile.openstreetmap.org/{z}/{x}/{y}.png&quot;,\n",
       "                {&quot;attribution&quot;: &quot;Data by \\u0026copy; \\u003ca href=\\&quot;http://openstreetmap.org\\&quot;\\u003eOpenStreetMap\\u003c/a\\u003e, under \\u003ca href=\\&quot;http://www.openstreetmap.org/copyright\\&quot;\\u003eODbL\\u003c/a\\u003e.&quot;, &quot;detectRetina&quot;: false, &quot;maxNativeZoom&quot;: 18, &quot;maxZoom&quot;: 18, &quot;minZoom&quot;: 0, &quot;noWrap&quot;: false, &quot;opacity&quot;: 1, &quot;subdomains&quot;: &quot;abc&quot;, &quot;tms&quot;: false}\n",
       "            ).addTo(map_aa372ded0caa26f31a1431fa029a0ffa);\n",
       "        \n",
       "    \n",
       "            var marker_3803a2ea0a6ca37e4db755a783ed11ee = L.marker(\n",
       "                [38.897699700000004, -77.03655315],\n",
       "                {}\n",
       "            ).addTo(map_aa372ded0caa26f31a1431fa029a0ffa);\n",
       "        \n",
       "    \n",
       "            var icon_b0c9dddcb978b4c1591eadfd12ba2eaa = L.AwesomeMarkers.icon(\n",
       "                {&quot;extraClasses&quot;: &quot;fa-rotate-0&quot;, &quot;icon&quot;: &quot;info-sign&quot;, &quot;iconColor&quot;: &quot;white&quot;, &quot;markerColor&quot;: &quot;red&quot;, &quot;prefix&quot;: &quot;glyphicon&quot;}\n",
       "            );\n",
       "            marker_3803a2ea0a6ca37e4db755a783ed11ee.setIcon(icon_b0c9dddcb978b4c1591eadfd12ba2eaa);\n",
       "        \n",
       "    \n",
       "        var popup_5e28dfc02d0e052d78fedadae8bc9096 = L.popup({&quot;maxWidth&quot;: &quot;100%&quot;});\n",
       "\n",
       "        \n",
       "            var html_629fe19e476c570b0d82dad0465ac921 = $(`&lt;div id=&quot;html_629fe19e476c570b0d82dad0465ac921&quot; style=&quot;width: 100.0%; height: 100.0%;&quot;&gt;My location&lt;/div&gt;`)[0];\n",
       "            popup_5e28dfc02d0e052d78fedadae8bc9096.setContent(html_629fe19e476c570b0d82dad0465ac921);\n",
       "        \n",
       "\n",
       "        marker_3803a2ea0a6ca37e4db755a783ed11ee.bindPopup(popup_5e28dfc02d0e052d78fedadae8bc9096)\n",
       "        ;\n",
       "\n",
       "        \n",
       "    \n",
       "    \n",
       "            marker_3803a2ea0a6ca37e4db755a783ed11ee.bindTooltip(\n",
       "                `&lt;div&gt;\n",
       "                     I&#x27;m here\n",
       "                 &lt;/div&gt;`,\n",
       "                {&quot;sticky&quot;: true}\n",
       "            );\n",
       "        \n",
       "    \n",
       "            var circle_9f82f85a45c705ad620f3f7c3ecaf98f = L.circle(\n",
       "                [38.897699700000004, -77.03655315],\n",
       "                {&quot;bubblingMouseEvents&quot;: true, &quot;color&quot;: &quot;black&quot;, &quot;dashArray&quot;: null, &quot;dashOffset&quot;: null, &quot;fill&quot;: true, &quot;fillColor&quot;: &quot;green&quot;, &quot;fillOpacity&quot;: 0.6, &quot;fillRule&quot;: &quot;evenodd&quot;, &quot;lineCap&quot;: &quot;round&quot;, &quot;lineJoin&quot;: &quot;round&quot;, &quot;opacity&quot;: 1, &quot;radius&quot;: 50000, &quot;stroke&quot;: true, &quot;weight&quot;: 1}\n",
       "            ).addTo(map_aa372ded0caa26f31a1431fa029a0ffa);\n",
       "        \n",
       "    \n",
       "        var popup_a7bf5a5b764d28cbe94cb4ea3bcd5fb1 = L.popup({&quot;maxWidth&quot;: &quot;100%&quot;});\n",
       "\n",
       "        \n",
       "            var html_2c8a58110c39712d20a3ef8685c0ddbb = $(`&lt;div id=&quot;html_2c8a58110c39712d20a3ef8685c0ddbb&quot; style=&quot;width: 100.0%; height: 100.0%;&quot;&gt;50000 meters&lt;/div&gt;`)[0];\n",
       "            popup_a7bf5a5b764d28cbe94cb4ea3bcd5fb1.setContent(html_2c8a58110c39712d20a3ef8685c0ddbb);\n",
       "        \n",
       "\n",
       "        circle_9f82f85a45c705ad620f3f7c3ecaf98f.bindPopup(popup_a7bf5a5b764d28cbe94cb4ea3bcd5fb1)\n",
       "        ;\n",
       "\n",
       "        \n",
       "    \n",
       "    \n",
       "            circle_9f82f85a45c705ad620f3f7c3ecaf98f.bindTooltip(\n",
       "                `&lt;div&gt;\n",
       "                     50km around center\n",
       "                 &lt;/div&gt;`,\n",
       "                {&quot;sticky&quot;: true}\n",
       "            );\n",
       "        \n",
       "&lt;/script&gt;\" style=\"position:absolute;width:100%;height:100%;left:0;top:0;border:none !important;\" allowfullscreen webkitallowfullscreen mozallowfullscreen></iframe></div></div>"
      ],
      "text/plain": [
       "<folium.folium.Map at 0x1109795d0>"
      ]
     },
     "execution_count": 9,
     "metadata": {},
     "output_type": "execute_result"
    }
   ],
   "source": [
    "address = input(\"Input your address > \")\n",
    "draw_50km_map(address)"
   ]
  },
  {
   "cell_type": "code",
   "execution_count": null,
   "metadata": {},
   "outputs": [],
   "source": []
  }
 ],
 "metadata": {
  "kernelspec": {
   "display_name": "Python 3 (ipykernel)",
   "language": "python",
   "name": "python3"
  },
  "language_info": {
   "codemirror_mode": {
    "name": "ipython",
    "version": 3
   },
   "file_extension": ".py",
   "mimetype": "text/x-python",
   "name": "python",
   "nbconvert_exporter": "python",
   "pygments_lexer": "ipython3",
   "version": "3.10.6"
  },
  "toc": {
   "base_numbering": 1,
   "nav_menu": {},
   "number_sections": false,
   "sideBar": true,
   "skip_h1_title": true,
   "title_cell": "Table of Contents",
   "title_sidebar": "Contents",
   "toc_cell": false,
   "toc_position": {},
   "toc_section_display": true,
   "toc_window_display": false
  }
 },
 "nbformat": 4,
 "nbformat_minor": 4
}
