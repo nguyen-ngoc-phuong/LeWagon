{
 "cells": [
  {
   "cell_type": "markdown",
   "id": "118a9b2b",
   "metadata": {
    "id": "118a9b2b",
    "lang": "en"
   },
   "source": [
    "# Introduction to Python"
   ]
  },
  {
   "cell_type": "markdown",
   "id": "2647104a",
   "metadata": {
    "id": "2647104a",
    "lang": "en"
   },
   "source": [
    "To implement today's course on Python, you will start with simple exercises then you will move on to analyzing a json file, a typical format that you will find in a company, especially when using APIs.\n",
    "\n",
    "Your turn! And remember, if you get stuck, search, ask questions, have fun! We are all here to learn and practice."
   ]
  },
  {
   "cell_type": "markdown",
   "id": "1de1d7bb",
   "metadata": {
    "id": "1de1d7bb",
    "lang": "en"
   },
   "source": [
    "## 1) Introductory exercises"
   ]
  },
  {
   "cell_type": "markdown",
   "id": "1dba6f53",
   "metadata": {
    "id": "1dba6f53",
    "lang": "en"
   },
   "source": [
    "### Create conditions"
   ]
  },
  {
   "cell_type": "markdown",
   "id": "92e458b9",
   "metadata": {
    "id": "92e458b9",
    "lang": "en"
   },
   "source": [
    "a) Create a new variable `e` equal to 20 and create a condition that will display \"strictly greater than 5\" if this variable is indeed strictly greater than 5.\n",
    "\n",
    "Take a good look in your course at how the syntax of a condition is written."
   ]
  },
  {
   "cell_type": "code",
   "execution_count": null,
   "id": "e0e03ef9",
   "metadata": {},
   "outputs": [],
   "source": []
  },
  {
   "cell_type": "code",
   "execution_count": 28,
   "id": "a98d995e",
   "metadata": {
    "id": "a98d995e"
   },
   "outputs": [
    {
     "name": "stdout",
     "output_type": "stream",
     "text": [
      "20 is strictly greater than 5\n",
      "20 is strictly greater than 5\n"
     ]
    }
   ],
   "source": [
    "#Let's try it \n",
    "e =20\n",
    "if e >5:\n",
    "    print(f'{e} is strictly greater than 5')\n",
    "    print(str(e) +' is strictly greater than 5')"
   ]
  },
  {
   "cell_type": "markdown",
   "id": "45f4d0fc",
   "metadata": {
    "id": "45f4d0fc",
    "lang": "en"
   },
   "source": [
    "b) Complete the preceding code to display \"less than or equal to 5\" otherwise."
   ]
  },
  {
   "cell_type": "code",
   "execution_count": 29,
   "id": "42091c34",
   "metadata": {},
   "outputs": [],
   "source": [
    "if e<=5 :\n",
    "    print('{e} is less than or equal to 5')"
   ]
  },
  {
   "cell_type": "code",
   "execution_count": 34,
   "id": "22b96fda",
   "metadata": {
    "id": "22b96fda"
   },
   "outputs": [
    {
     "name": "stdout",
     "output_type": "stream",
     "text": [
      "6 is strictly greater than 5\n"
     ]
    }
   ],
   "source": [
    "#Let's try it \n",
    "e =6\n",
    "if e >5:\n",
    "    print(f'{e} is strictly greater than 5')\n",
    "elif e<=5 :\n",
    "    print(f'{e} is less than or equal to 5')\n",
    "# else :\n",
    "#     print('{e} is less than or equal to 5')"
   ]
  },
  {
   "cell_type": "markdown",
   "id": "96a500d7",
   "metadata": {
    "id": "96a500d7",
    "lang": "en"
   },
   "source": [
    "c) Create a function taking a variable e as input and returning the associated text according to its value. Then test your code on several values ​​of `e`."
   ]
  },
  {
   "cell_type": "code",
   "execution_count": null,
   "id": "37b15b02",
   "metadata": {},
   "outputs": [],
   "source": []
  },
  {
   "cell_type": "code",
   "execution_count": 48,
   "id": "93953b1b",
   "metadata": {
    "id": "93953b1b"
   },
   "outputs": [
    {
     "data": {
      "text/plain": [
       "'8 is strictly greater than 5'"
      ]
     },
     "execution_count": 48,
     "metadata": {},
     "output_type": "execute_result"
    }
   ],
   "source": [
    "#Let's try it \n",
    "def getVariable(e):\n",
    "    #message = ''\n",
    "    if e >5:\n",
    "        message = f'{e} is strictly greater than 5'\n",
    "#         print(f'{e} is strictly greater than 5')\n",
    "    else :\n",
    "        message = f'{e} is strictly greater than 5'\n",
    "#         print(f'{e} is less than or equal to 5')\n",
    "    return message\n",
    "        \n",
    "returnValue = getVariable(8)\n",
    "returnValue\n"
   ]
  },
  {
   "cell_type": "code",
   "execution_count": 41,
   "id": "c0103f37",
   "metadata": {},
   "outputs": [
    {
     "name": "stdout",
     "output_type": "stream",
     "text": [
      "Phuong is your name\n"
     ]
    }
   ],
   "source": [
    "input = 'Phuong'\n",
    "print(f'{input} is your name')"
   ]
  },
  {
   "cell_type": "markdown",
   "id": "eded1eaa",
   "metadata": {
    "id": "eded1eaa",
    "lang": "en"
   },
   "source": [
    "### List manipulation"
   ]
  },
  {
   "cell_type": "markdown",
   "id": "0e3eceb9",
   "metadata": {
    "id": "0e3eceb9",
    "lang": "en"
   },
   "source": [
    "a) Execute list creation below"
   ]
  },
  {
   "cell_type": "code",
   "execution_count": 53,
   "id": "A-xynbVrgfhW",
   "metadata": {
    "id": "A-xynbVrgfhW"
   },
   "outputs": [],
   "source": [
    "l = [3, 5, 12, 7, 4, 36, 37, 38]"
   ]
  },
  {
   "cell_type": "markdown",
   "id": "d8a6c430",
   "metadata": {
    "id": "d8a6c430",
    "lang": "en"
   },
   "source": [
    "b) Display the length of the `l` list"
   ]
  },
  {
   "cell_type": "code",
   "execution_count": 57,
   "id": "L242S9u1XTDy",
   "metadata": {
    "colab": {
     "base_uri": "https://localhost:8080/"
    },
    "executionInfo": {
     "elapsed": 1115,
     "status": "ok",
     "timestamp": 1607871843909,
     "user": {
      "displayName": "Paul Mochkovitch",
      "photoUrl": "https://lh3.googleusercontent.com/a-/AOh14GjPe8Qhi0fgkoGXkhjovyKVk4LqLO0LOxpAz42C=s64",
      "userId": "04350506765706184975"
     },
     "user_tz": -60
    },
    "id": "L242S9u1XTDy",
    "outputId": "de1b929f-f8e3-4d2d-b4b7-0b69b7c1840d"
   },
   "outputs": [
    {
     "name": "stdout",
     "output_type": "stream",
     "text": [
      "here is the length of array: 8\n"
     ]
    }
   ],
   "source": [
    "#Let's try it \n",
    "length = len(l)\n",
    "print(f'here is the length of array: {length}')"
   ]
  },
  {
   "cell_type": "markdown",
   "id": "db7460fa",
   "metadata": {
    "id": "db7460fa",
    "lang": "en"
   },
   "source": [
    "c) Display the first item in the list"
   ]
  },
  {
   "cell_type": "code",
   "execution_count": 63,
   "id": "6EDt1uzPgfhZ",
   "metadata": {
    "colab": {
     "base_uri": "https://localhost:8080/"
    },
    "executionInfo": {
     "elapsed": 1106,
     "status": "ok",
     "timestamp": 1607871843910,
     "user": {
      "displayName": "Paul Mochkovitch",
      "photoUrl": "https://lh3.googleusercontent.com/a-/AOh14GjPe8Qhi0fgkoGXkhjovyKVk4LqLO0LOxpAz42C=s64",
      "userId": "04350506765706184975"
     },
     "user_tz": -60
    },
    "id": "6EDt1uzPgfhZ",
    "outputId": "6347f4c1-6b23-4bb9-b6f2-8bdcd97bf569"
   },
   "outputs": [
    {
     "name": "stdout",
     "output_type": "stream",
     "text": [
      "This is the first item in the list: 3\n"
     ]
    }
   ],
   "source": [
    "#Let's try it \n",
    "firstItem = l[0]\n",
    "print(f'This is the first item in the list: {l[0]}')"
   ]
  },
  {
   "cell_type": "markdown",
   "id": "9fa65f7a",
   "metadata": {
    "id": "9fa65f7a",
    "lang": "en"
   },
   "source": [
    "d) Add 296 to the `l` list.\n",
    "\n",
    "Check it by displaying the list."
   ]
  },
  {
   "cell_type": "code",
   "execution_count": 66,
   "id": "DNLOFRgqRAA3",
   "metadata": {
    "colab": {
     "base_uri": "https://localhost:8080/"
    },
    "executionInfo": {
     "elapsed": 1084,
     "status": "ok",
     "timestamp": 1607871843911,
     "user": {
      "displayName": "Paul Mochkovitch",
      "photoUrl": "https://lh3.googleusercontent.com/a-/AOh14GjPe8Qhi0fgkoGXkhjovyKVk4LqLO0LOxpAz42C=s64",
      "userId": "04350506765706184975"
     },
     "user_tz": -60
    },
    "id": "DNLOFRgqRAA3",
    "outputId": "db192d43-4404-4165-a754-428b3a4f5524"
   },
   "outputs": [
    {
     "data": {
      "text/plain": [
       "[3, 5, 12, 7, 4, 36, 37, 38, 100, 296, 100, 296, 100, 296]"
      ]
     },
     "execution_count": 66,
     "metadata": {},
     "output_type": "execute_result"
    }
   ],
   "source": [
    "#Let's try it\n",
    "l.append(100)\n",
    "l.append(296)\n",
    "#show l\n",
    "l"
   ]
  },
  {
   "cell_type": "markdown",
   "id": "148ef9df",
   "metadata": {
    "id": "148ef9df",
    "lang": "en"
   },
   "source": [
    "### Manipulating dictionaries"
   ]
  },
  {
   "cell_type": "markdown",
   "id": "1618ce80",
   "metadata": {
    "id": "1618ce80",
    "lang": "en"
   },
   "source": [
    "a) Run the code below to initialize the dictionary d."
   ]
  },
  {
   "cell_type": "code",
   "execution_count": 67,
   "id": "fUI43nW6gfh5",
   "metadata": {
    "id": "fUI43nW6gfh5"
   },
   "outputs": [],
   "source": [
    "d = {\n",
    "    \"A\": \"voiture\",\n",
    "    \"B\": 2,\n",
    "    \"C\": \"vélo\"\n",
    "}"
   ]
  },
  {
   "cell_type": "markdown",
   "id": "1932e4ed",
   "metadata": {
    "id": "1932e4ed",
    "lang": "en"
   },
   "source": [
    "b) Display the dictionary keys"
   ]
  },
  {
   "cell_type": "code",
   "execution_count": null,
   "id": "72efb6b3",
   "metadata": {},
   "outputs": [],
   "source": []
  },
  {
   "cell_type": "code",
   "execution_count": 70,
   "id": "GPPj9rfjgfh8",
   "metadata": {
    "colab": {
     "base_uri": "https://localhost:8080/"
    },
    "executionInfo": {
     "elapsed": 205,
     "status": "ok",
     "timestamp": 1638301836592,
     "user": {
      "displayName": "Thomas Alibert",
      "photoUrl": "https://lh3.googleusercontent.com/a-/AOh14Gg0sZKox3UZx2gpQCuzjl_ZzoEWrTI2iQOsr1yD=s64",
      "userId": "13523364111739952183"
     },
     "user_tz": -60
    },
    "id": "GPPj9rfjgfh8",
    "outputId": "364c8513-e791-4e83-9fac-d7a965e3b9c3"
   },
   "outputs": [
    {
     "data": {
      "text/plain": [
       "dict_keys(['A', 'B', 'C'])"
      ]
     },
     "execution_count": 70,
     "metadata": {},
     "output_type": "execute_result"
    }
   ],
   "source": [
    "#Let's try it \n",
    "d.values()\n",
    "d.keys()"
   ]
  },
  {
   "cell_type": "markdown",
   "id": "69674338",
   "metadata": {
    "id": "69674338",
    "lang": "en"
   },
   "source": [
    "c) Display the value of the key \"C\""
   ]
  },
  {
   "cell_type": "code",
   "execution_count": null,
   "id": "5e7f6fbe",
   "metadata": {},
   "outputs": [],
   "source": []
  },
  {
   "cell_type": "code",
   "execution_count": 73,
   "id": "NzwdGO61gfh_",
   "metadata": {
    "colab": {
     "base_uri": "https://localhost:8080/"
    },
    "executionInfo": {
     "elapsed": 1061,
     "status": "ok",
     "timestamp": 1607871843912,
     "user": {
      "displayName": "Paul Mochkovitch",
      "photoUrl": "https://lh3.googleusercontent.com/a-/AOh14GjPe8Qhi0fgkoGXkhjovyKVk4LqLO0LOxpAz42C=s64",
      "userId": "04350506765706184975"
     },
     "user_tz": -60
    },
    "id": "NzwdGO61gfh_",
    "outputId": "df4d6d75-56bf-4714-ea18-09d4f9ade8a7"
   },
   "outputs": [
    {
     "name": "stdout",
     "output_type": "stream",
     "text": [
      "this is the value of A:  voiture\n"
     ]
    }
   ],
   "source": [
    "#Let's try it :-) \n",
    "print(f'this is the value of A:  {d[\"A\"]}')"
   ]
  },
  {
   "cell_type": "markdown",
   "id": "ac7ff34e",
   "metadata": {
    "id": "ac7ff34e",
    "lang": "en"
   },
   "source": [
    "d) Add a new key \"D\" containing 8. Display the dictionary to check."
   ]
  },
  {
   "cell_type": "code",
   "execution_count": null,
   "id": "e54c2546",
   "metadata": {},
   "outputs": [],
   "source": []
  },
  {
   "cell_type": "code",
   "execution_count": 76,
   "id": "bymhvLxqgfiC",
   "metadata": {
    "colab": {
     "base_uri": "https://localhost:8080/"
    },
    "executionInfo": {
     "elapsed": 1054,
     "status": "ok",
     "timestamp": 1607871843912,
     "user": {
      "displayName": "Paul Mochkovitch",
      "photoUrl": "https://lh3.googleusercontent.com/a-/AOh14GjPe8Qhi0fgkoGXkhjovyKVk4LqLO0LOxpAz42C=s64",
      "userId": "04350506765706184975"
     },
     "user_tz": -60
    },
    "id": "bymhvLxqgfiC",
    "outputId": "21306a98-0158-4cb6-d088-fe072d4b2835"
   },
   "outputs": [
    {
     "name": "stdout",
     "output_type": "stream",
     "text": [
      "{'A': 'voiture', 'B': 2, 'C': 'vélo', 'newKey': 'new', 'D': 8}\n"
     ]
    }
   ],
   "source": [
    "#Let's try it \n",
    "# question: are there differences between \"\" and '' ?\n",
    "d[\"newKey\"] = 'new'\n",
    "d[\"D\"] = 8\n",
    "print(d)"
   ]
  },
  {
   "cell_type": "markdown",
   "id": "0d427b25",
   "metadata": {
    "id": "0d427b25",
    "lang": "en"
   },
   "source": [
    "### Manipulation of more complex objects"
   ]
  },
  {
   "cell_type": "markdown",
   "id": "fcd6c374",
   "metadata": {
    "id": "fcd6c374",
    "lang": "en"
   },
   "source": [
    "Consider the following company_info variable:"
   ]
  },
  {
   "cell_type": "code",
   "execution_count": 2,
   "id": "bcHm-YuBgfiJ",
   "metadata": {
    "id": "bcHm-YuBgfiJ"
   },
   "outputs": [],
   "source": [
    "company_info = {\n",
    "    \"id\": 232,\n",
    "    \"address\": \"12 rue de clichy\",\n",
    "    \"postcode\": \"Paris\",\n",
    "    \"country\": \"France\",\n",
    "    \"name\": \"18 avenue\",\n",
    "    \"employees\": [\n",
    "        {\n",
    "            \"id\": 12,\n",
    "            \"name\": \"Paul\",\n",
    "            \"family_name\": \"Mochkovitch\"\n",
    "        },\n",
    "        {\n",
    "            \"id\": 13,\n",
    "            \"name\": \"Sophie\",\n",
    "            \"family_name\": \"Durand\"\n",
    "        }\n",
    "    ]\n",
    "}"
   ]
  },
  {
   "cell_type": "markdown",
   "id": "63d817fe",
   "metadata": {
    "id": "63d817fe",
    "lang": "en"
   },
   "source": [
    "Observe the importance of indentation for ease of reading. We could have written company_info like this:"
   ]
  },
  {
   "cell_type": "code",
   "execution_count": 78,
   "id": "VLKtySJngfiM",
   "metadata": {
    "id": "VLKtySJngfiM"
   },
   "outputs": [],
   "source": [
    "company_info = {'id':232,'address':'12 rue de clichy','postcode':'Paris','country':'France','name':'18 avenue','employees':[{'id':12,'name':'Paul','family_name':'Mochkovitch'},{'id':13,'name':'Sophie','family_name':'Durand'}]}\n"
   ]
  },
  {
   "cell_type": "markdown",
   "id": "65e46f79",
   "metadata": {
    "id": "65e46f79",
    "lang": "en"
   },
   "source": [
    "a) Count and display the keys of this dictionary."
   ]
  },
  {
   "cell_type": "code",
   "execution_count": null,
   "id": "eabe7036",
   "metadata": {},
   "outputs": [],
   "source": []
  },
  {
   "cell_type": "code",
   "execution_count": 82,
   "id": "TLBZZpcagfiP",
   "metadata": {
    "colab": {
     "base_uri": "https://localhost:8080/"
    },
    "executionInfo": {
     "elapsed": 1279,
     "status": "ok",
     "timestamp": 1607871844162,
     "user": {
      "displayName": "Paul Mochkovitch",
      "photoUrl": "https://lh3.googleusercontent.com/a-/AOh14GjPe8Qhi0fgkoGXkhjovyKVk4LqLO0LOxpAz42C=s64",
      "userId": "04350506765706184975"
     },
     "user_tz": -60
    },
    "id": "TLBZZpcagfiP",
    "outputId": "4bac0169-09df-4804-ba22-0384cd234ca4"
   },
   "outputs": [
    {
     "name": "stdout",
     "output_type": "stream",
     "text": [
      "There are 6 keys with following key names: dict_keys(['id', 'address', 'postcode', 'country', 'name', 'employees'])\n"
     ]
    }
   ],
   "source": [
    "#Let's try it :-) \n",
    "#get keys for print\n",
    "keys = company_info.keys()\n",
    "#get count for print \n",
    "count = len(keys)\n",
    "#print count and keys\n",
    "print(f\"There are {count} keys with following key names: {keys}\")"
   ]
  },
  {
   "cell_type": "markdown",
   "id": "afb619b7",
   "metadata": {
    "id": "afb619b7",
    "lang": "en"
   },
   "source": [
    "b) What is the type of the value associated with the employees key?"
   ]
  },
  {
   "cell_type": "code",
   "execution_count": null,
   "id": "15026b71",
   "metadata": {},
   "outputs": [],
   "source": []
  },
  {
   "cell_type": "code",
   "execution_count": 11,
   "id": "CvrCccGBgfiU",
   "metadata": {
    "colab": {
     "base_uri": "https://localhost:8080/"
    },
    "executionInfo": {
     "elapsed": 438,
     "status": "ok",
     "timestamp": 1635435321677,
     "user": {
      "displayName": "Paul Mochkovitch",
      "photoUrl": "https://lh3.googleusercontent.com/a-/AOh14GjPe8Qhi0fgkoGXkhjovyKVk4LqLO0LOxpAz42C=s64",
      "userId": "04350506765706184975"
     },
     "user_tz": -120
    },
    "id": "CvrCccGBgfiU",
    "outputId": "932f086a-5044-4663-dc2d-e58582e201a7"
   },
   "outputs": [
    {
     "data": {
      "text/plain": [
       "list"
      ]
     },
     "execution_count": 11,
     "metadata": {},
     "output_type": "execute_result"
    }
   ],
   "source": [
    "#Let's try it :-) \n",
    "# get the type of key employees\n",
    "type(company_info[\"employees\"])"
   ]
  },
  {
   "cell_type": "markdown",
   "id": "3440732f",
   "metadata": {
    "id": "3440732f",
    "lang": "en"
   },
   "source": [
    "The value associated with the key employees is itself a collection of elements of type list."
   ]
  },
  {
   "cell_type": "markdown",
   "id": "90681ef6",
   "metadata": {
    "id": "90681ef6",
    "lang": "en"
   },
   "source": [
    "c) Display the length of the employees key value. How many employees are there?"
   ]
  },
  {
   "cell_type": "code",
   "execution_count": null,
   "id": "f50581f7",
   "metadata": {},
   "outputs": [],
   "source": []
  },
  {
   "cell_type": "code",
   "execution_count": 84,
   "id": "kRIWlxcagfiZ",
   "metadata": {
    "colab": {
     "base_uri": "https://localhost:8080/"
    },
    "executionInfo": {
     "elapsed": 1264,
     "status": "ok",
     "timestamp": 1607871844164,
     "user": {
      "displayName": "Paul Mochkovitch",
      "photoUrl": "https://lh3.googleusercontent.com/a-/AOh14GjPe8Qhi0fgkoGXkhjovyKVk4LqLO0LOxpAz42C=s64",
      "userId": "04350506765706184975"
     },
     "user_tz": -60
    },
    "id": "kRIWlxcagfiZ",
    "outputId": "0990bc1f-ffca-463c-9727-2712268090b3"
   },
   "outputs": [
    {
     "data": {
      "text/plain": [
       "2"
      ]
     },
     "execution_count": 84,
     "metadata": {},
     "output_type": "execute_result"
    }
   ],
   "source": [
    "#Let's try it :-) \n",
    "len(company_info[\"employees\"])"
   ]
  },
  {
   "cell_type": "markdown",
   "id": "eb375b70",
   "metadata": {
    "id": "eb375b70",
    "lang": "en"
   },
   "source": [
    "d) Display the information of the first employee"
   ]
  },
  {
   "cell_type": "code",
   "execution_count": null,
   "id": "f8fb11c9",
   "metadata": {},
   "outputs": [],
   "source": []
  },
  {
   "cell_type": "code",
   "execution_count": 83,
   "id": "SQY_96tUgfib",
   "metadata": {
    "colab": {
     "base_uri": "https://localhost:8080/"
    },
    "executionInfo": {
     "elapsed": 1255,
     "status": "ok",
     "timestamp": 1607871844164,
     "user": {
      "displayName": "Paul Mochkovitch",
      "photoUrl": "https://lh3.googleusercontent.com/a-/AOh14GjPe8Qhi0fgkoGXkhjovyKVk4LqLO0LOxpAz42C=s64",
      "userId": "04350506765706184975"
     },
     "user_tz": -60
    },
    "id": "SQY_96tUgfib",
    "outputId": "d38fe654-03ce-45e2-dc1b-7476da9c36dd"
   },
   "outputs": [
    {
     "data": {
      "text/plain": [
       "{'id': 12, 'name': 'Paul', 'family_name': 'Mochkovitch'}"
      ]
     },
     "execution_count": 83,
     "metadata": {},
     "output_type": "execute_result"
    }
   ],
   "source": [
    "#Let's try it :-) \n",
    "company_info[\"employees\"][0]"
   ]
  },
  {
   "cell_type": "code",
   "execution_count": 85,
   "id": "257be1cf",
   "metadata": {},
   "outputs": [
    {
     "data": {
      "text/plain": [
       "12"
      ]
     },
     "execution_count": 85,
     "metadata": {},
     "output_type": "execute_result"
    }
   ],
   "source": [
    "company_info[\"employees\"][0][\"id\"]"
   ]
  },
  {
   "cell_type": "code",
   "execution_count": null,
   "id": "4bdc6b66",
   "metadata": {},
   "outputs": [],
   "source": [
    "string = \"i dont't want to code\""
   ]
  },
  {
   "cell_type": "markdown",
   "id": "1d8317db",
   "metadata": {
    "id": "1d8317db",
    "lang": "en"
   },
   "source": [
    "## 2) Creation of functions"
   ]
  },
  {
   "cell_type": "markdown",
   "id": "28eb4538",
   "metadata": {
    "id": "28eb4538",
    "lang": "en"
   },
   "source": [
    "a) Write the function **convert_to_seconds(nb_hours, nb_minutes, nb_seconds)** which takes as parameters a number of hours, minutes and seconds and returns the total number of seconds.\n",
    "\n",
    "Examples:\n",
    "\n",
    "convert_to_seconds(2, 4, 0) = 7440\n",
    "\n",
    "convert_to_seconds(1, 1, 1) = 3661"
   ]
  },
  {
   "cell_type": "code",
   "execution_count": null,
   "id": "8471ca68",
   "metadata": {
    "ExecuteTime": {
     "end_time": "2021-09-17T19:39:22.744893Z",
     "start_time": "2021-09-17T19:39:22.740422Z"
    },
    "id": "8471ca68",
    "outputId": "ea03be66-0333-4015-a28d-5bbb15db2b3d"
   },
   "outputs": [
    {
     "name": "stdout",
     "output_type": "stream",
     "text": [
      "7440\n",
      "3661\n"
     ]
    }
   ],
   "source": [
    "def convert_to_seconds(nb_hours, nb_minutes, nb_seconds):\n",
    "\n",
    "    # to do\n",
    "\n",
    "    return nb_seconds_total\n",
    "\n",
    "print(convert_to_seconds(2, 4, 0))\n",
    "print(convert_to_seconds(1, 1, 1))"
   ]
  },
  {
   "cell_type": "code",
   "execution_count": 24,
   "id": "58c2927f",
   "metadata": {},
   "outputs": [
    {
     "name": "stdout",
     "output_type": "stream",
     "text": [
      "7440\n",
      "3661\n"
     ]
    }
   ],
   "source": [
    "#let's give it a try :-) \n",
    "def convert_to_seconds(nb_hours, nb_minutes, nb_seconds):\n",
    "\n",
    "    #convert hours into seconds\n",
    "    nb_hoursInSeconds = nb_hours*3600\n",
    "    #convert minutes into seconds\n",
    "    nb_minutesInSeconds = nb_minutes*60\n",
    "    #calculate sum of seconds\n",
    "    nb_seconds_total = nb_hoursInSeconds + nb_minutesInSeconds + nb_seconds\n",
    "\n",
    "    return nb_seconds_total\n",
    "\n",
    "print(convert_to_seconds(2, 4, 0))\n",
    "print(convert_to_seconds(1, 1, 1))"
   ]
  },
  {
   "cell_type": "markdown",
   "id": "97bc841e",
   "metadata": {
    "id": "97bc841e",
    "lang": "en"
   },
   "source": [
    "b) Write the function **compute_elapsed_time(nb_hours_start, nb_minutes_start, nb_seconds_start,\n",
    "                                          nb_hours_end, nb_minutes_end, nb_seconds_end)** which takes as parameters, a start and end time and calculates the number of seconds between these two times. We will assume that the end time will always be after the start time.\n",
    "\n",
    "Consider using the previous function...\n",
    "\n",
    "Examples:\n",
    "\n",
    "compute_elapsed_time(1, 0, 0, 2, 0, 0) = 3660\n",
    "\n",
    "compute_elapsed_time(2, 4, 0, 2, 4, 0) = 0"
   ]
  },
  {
   "cell_type": "code",
   "execution_count": null,
   "id": "9b8616a2",
   "metadata": {
    "ExecuteTime": {
     "end_time": "2021-09-17T19:46:19.885813Z",
     "start_time": "2021-09-17T19:46:19.880893Z"
    },
    "id": "9b8616a2",
    "outputId": "8bd632c6-e4a7-4d56-8aac-5ab8d78625d1"
   },
   "outputs": [
    {
     "name": "stdout",
     "output_type": "stream",
     "text": [
      "3600\n",
      "0\n"
     ]
    }
   ],
   "source": [
    "def compute_elapsed_time(nb_hours_start, nb_minutes_start, nb_seconds_start,\n",
    "                         nb_hours_end, nb_minutes_end, nb_seconds_end):\n",
    "\n",
    "    # to do\n",
    "\n",
    "    return nb_seconds_elapsed\n",
    "\n",
    "print(compute_elapsed_time(1, 0, 0, 2, 0, 0))\n",
    "print(compute_elapsed_time(2, 4, 0, 2, 4, 0))"
   ]
  },
  {
   "cell_type": "code",
   "execution_count": 25,
   "id": "09d1cd7e",
   "metadata": {},
   "outputs": [
    {
     "name": "stdout",
     "output_type": "stream",
     "text": [
      "3600\n",
      "0\n"
     ]
    }
   ],
   "source": [
    "#let's give it a try :-) \n",
    "def compute_elapsed_time(nb_hours_start, nb_minutes_start, nb_seconds_start,\n",
    "                         nb_hours_end, nb_minutes_end, nb_seconds_end):\n",
    "    \n",
    "    #convert to seconds\n",
    "    nb_seconds_start = convert_to_seconds(nb_hours_start, nb_minutes_start, nb_seconds_start)\n",
    "    nb_seconds_end = convert_to_seconds(nb_hours_end, nb_minutes_end, nb_seconds_end)\n",
    "    #calculate elapsed time\n",
    "    nb_seconds_elapsed = nb_seconds_end - nb_seconds_start\n",
    "\n",
    "    return nb_seconds_elapsed\n",
    "\n",
    "print(compute_elapsed_time(1, 0, 0, 2, 0, 0))\n",
    "print(compute_elapsed_time(2, 4, 0, 2, 4, 0))"
   ]
  },
  {
   "cell_type": "markdown",
   "id": "pu8FjE7zWqwy",
   "metadata": {
    "id": "pu8FjE7zWqwy"
   },
   "source": [
    "## 3) Data Cleaning"
   ]
  },
  {
   "cell_type": "markdown",
   "id": "086f3d7e",
   "metadata": {
    "id": "086f3d7e",
    "lang": "en"
   },
   "source": [
    "In this part, we will see how to clean up text in Python. These different functions can be used in your DataFrames via lambda functions."
   ]
  },
  {
   "cell_type": "markdown",
   "id": "4c788581",
   "metadata": {
    "id": "4c788581",
    "lang": "en"
   },
   "source": [
    "a) Study the [split](https://www.w3schools.com/python/ref_string_split.asp) function. Transform the following string s representing the different tags of a Shapr user into a variable l of type list."
   ]
  },
  {
   "cell_type": "code",
   "execution_count": 91,
   "id": "RJzf4tWjbQO-",
   "metadata": {
    "id": "RJzf4tWjbQO-"
   },
   "outputs": [],
   "source": [
    "s = \"Startups;Technology;ClimateChange;Fashion\""
   ]
  },
  {
   "cell_type": "code",
   "execution_count": null,
   "id": "5GiRawQAdzgF",
   "metadata": {
    "colab": {
     "base_uri": "https://localhost:8080/"
    },
    "executionInfo": {
     "elapsed": 694,
     "status": "ok",
     "timestamp": 1604396224461,
     "user": {
      "displayName": "Paul Mochkovitch",
      "photoUrl": "https://lh3.googleusercontent.com/a-/AOh14GjPe8Qhi0fgkoGXkhjovyKVk4LqLO0LOxpAz42C=s64",
      "userId": "04350506765706184975"
     },
     "user_tz": -60
    },
    "id": "5GiRawQAdzgF",
    "outputId": "55e45ed4-4d5b-4a71-9034-6ef3c7b13184"
   },
   "outputs": [
    {
     "name": "stdout",
     "output_type": "stream",
     "text": [
      "['Startups', 'Technology', 'ClimateChange', 'Fashion']\n"
     ]
    }
   ],
   "source": []
  },
  {
   "cell_type": "code",
   "execution_count": 93,
   "id": "336e37eb",
   "metadata": {},
   "outputs": [
    {
     "name": "stdout",
     "output_type": "stream",
     "text": [
      "['Startups', 'Technology', 'ClimateChange', 'Fashion']\n"
     ]
    }
   ],
   "source": [
    "#let's give it a try :-) \n",
    "splitted = s.split(\";\")\n",
    "print(splitted)"
   ]
  },
  {
   "cell_type": "markdown",
   "id": "3abe43d2",
   "metadata": {
    "id": "3abe43d2",
    "lang": "en"
   },
   "source": [
    "b) From there how would you retrieve the second tag?"
   ]
  },
  {
   "cell_type": "code",
   "execution_count": null,
   "id": "865HK3C7eruu",
   "metadata": {
    "colab": {
     "base_uri": "https://localhost:8080/",
     "height": 35
    },
    "executionInfo": {
     "elapsed": 904,
     "status": "ok",
     "timestamp": 1604396450258,
     "user": {
      "displayName": "Paul Mochkovitch",
      "photoUrl": "https://lh3.googleusercontent.com/a-/AOh14GjPe8Qhi0fgkoGXkhjovyKVk4LqLO0LOxpAz42C=s64",
      "userId": "04350506765706184975"
     },
     "user_tz": -60
    },
    "id": "865HK3C7eruu",
    "outputId": "28e5a8c6-cfea-435c-90e1-7d53d3cada9e"
   },
   "outputs": [
    {
     "data": {
      "application/vnd.google.colaboratory.intrinsic+json": {
       "type": "string"
      },
      "text/plain": [
       "'Technology'"
      ]
     },
     "execution_count": 31,
     "metadata": {
      "tags": []
     },
     "output_type": "execute_result"
    }
   ],
   "source": []
  },
  {
   "cell_type": "code",
   "execution_count": 95,
   "id": "0585dc20",
   "metadata": {},
   "outputs": [
    {
     "data": {
      "text/plain": [
       "'Technology'"
      ]
     },
     "execution_count": 95,
     "metadata": {},
     "output_type": "execute_result"
    }
   ],
   "source": [
    "#let's give it a try :-) \n",
    "splitted[1]"
   ]
  },
  {
   "cell_type": "markdown",
   "id": "2988287d",
   "metadata": {
    "id": "2988287d",
    "lang": "en"
   },
   "source": [
    "c) To concatenate several string together, we can use in Python the \"+\" sign.\n",
    "\n",
    "Be careful, it is not possible to concatenate numbers with text if they are not converted to string first.\n",
    "\n",
    "To do this, you must use the `str()` function which converts the value between parentheses into a string.\n",
    "\n",
    "Concatenate the different strings below to reconstitute the sentence."
   ]
  },
  {
   "cell_type": "code",
   "execution_count": 32,
   "id": "N8XV0WoIig6Q",
   "metadata": {
    "id": "N8XV0WoIig6Q"
   },
   "outputs": [],
   "source": [
    "s1 = \"In \"\n",
    "s2 = 2020\n",
    "s3 = \",\"\n",
    "s4 = \"the American presidential elections will take place.\""
   ]
  },
  {
   "cell_type": "code",
   "execution_count": null,
   "id": "fnnLRDxOjid9",
   "metadata": {
    "colab": {
     "base_uri": "https://localhost:8080/"
    },
    "executionInfo": {
     "elapsed": 836,
     "status": "ok",
     "timestamp": 1604397820619,
     "user": {
      "displayName": "Paul Mochkovitch",
      "photoUrl": "https://lh3.googleusercontent.com/a-/AOh14GjPe8Qhi0fgkoGXkhjovyKVk4LqLO0LOxpAz42C=s64",
      "userId": "04350506765706184975"
     },
     "user_tz": -60
    },
    "id": "fnnLRDxOjid9",
    "outputId": "7b5dc8b6-0426-405b-9245-f655417b5020"
   },
   "outputs": [
    {
     "name": "stdout",
     "output_type": "stream",
     "text": [
      "En 2020, les élections présidentielles américaines auront lieu.\n"
     ]
    }
   ],
   "source": []
  },
  {
   "cell_type": "code",
   "execution_count": 33,
   "id": "15a7e95c",
   "metadata": {},
   "outputs": [
    {
     "name": "stdout",
     "output_type": "stream",
     "text": [
      "In 2020,the American presidential elections will take place.\n"
     ]
    }
   ],
   "source": [
    "#give it a try :-) \n",
    "output = s1 + str(s2) + s3 + s4\n",
    "print(output)"
   ]
  },
  {
   "cell_type": "markdown",
   "id": "934ef57c",
   "metadata": {
    "id": "934ef57c",
    "lang": "en"
   },
   "source": [
    "d) A string is nothing more in Python than a list of characters.\n",
    "\n",
    "If we want to retrieve only the first 3 characters of this string for example, we just need to retrieve the first 3 elements of the list.\n",
    "\n",
    "For the following strings, use this technique to remove the word \"TODELETE\"."
   ]
  },
  {
   "cell_type": "code",
   "execution_count": 34,
   "id": "zvVQp0HgiA4A",
   "metadata": {
    "id": "zvVQp0HgiA4A",
    "lang": "fr"
   },
   "outputs": [],
   "source": [
    "s1 = \"TODELETEThe bird is beautiful\" # can be seen as [\"T\", \"O\", \"D\", \"E\" ... ]\n",
    "s2 = \"The bird is beautifulTODELETE\""
   ]
  },
  {
   "cell_type": "code",
   "execution_count": 37,
   "id": "70e387e5",
   "metadata": {},
   "outputs": [
    {
     "name": "stdout",
     "output_type": "stream",
     "text": [
      "The bird is beautiful\n",
      "The bird is beautiful\n"
     ]
    }
   ],
   "source": [
    "toDeletedString = \"TODELETE\"\n",
    "length_OfToDeletedString = len(toDeletedString)\n",
    "s1_length = len(s1)\n",
    "s2_length = len(s2)\n",
    "print(s1[length_OfToDeletedString:s1_length])\n",
    "print(s2[0:(s1_length-length_OfToDeletedString)])"
   ]
  },
  {
   "cell_type": "markdown",
   "id": "925bdcae",
   "metadata": {
    "id": "925bdcae",
    "lang": "en"
   },
   "source": [
    "s1 = \"TODELETEth\" # can be seen as [\"T\", \"O\", \"D\", \"E\" ... ]\n",
    "s2 = \"the bird is beautifulTODELETE\""
   ]
  },
  {
   "cell_type": "markdown",
   "id": "aff6b1d7",
   "metadata": {
    "id": "aff6b1d7",
    "lang": "en"
   },
   "source": [
    "e) A very practical function in Python allows you to remove hidden characters (spaces, tabs, etc.) at the beginning or end of a word.\n",
    "\n",
    "Study the strip functions: [following](https://www.journaldev.com/23625/python-trim-string-rstrip-lstrip-strip) and remove the extra characters from the following strings."
   ]
  },
  {
   "cell_type": "code",
   "execution_count": 44,
   "id": "F9CBmrv1mzRk",
   "metadata": {
    "id": "F9CBmrv1mzRk"
   },
   "outputs": [],
   "source": [
    "s1 = \"       the dog\"\n",
    "s2 = \"the cat    \""
   ]
  },
  {
   "cell_type": "code",
   "execution_count": 50,
   "id": "fa750dbf",
   "metadata": {},
   "outputs": [
    {
     "name": "stdout",
     "output_type": "stream",
     "text": [
      "\"       the dog\", \"the cat    \"\n"
     ]
    }
   ],
   "source": [
    "print(f'\"{s1}\", \"{s2}\"')"
   ]
  },
  {
   "cell_type": "code",
   "execution_count": 51,
   "id": "27f17320",
   "metadata": {},
   "outputs": [
    {
     "name": "stdout",
     "output_type": "stream",
     "text": [
      "\"the dog\", \"the cat\"\n"
     ]
    }
   ],
   "source": [
    "s1_cleaned = s1.strip()\n",
    "s2_cleaned = s2.strip()\n",
    "print(f'\"{s1_cleaned}\", \"{s2_cleaned}\"')"
   ]
  },
  {
   "cell_type": "markdown",
   "id": "c8cfe838",
   "metadata": {
    "id": "c8cfe838",
    "lang": "en"
   },
   "source": [
    "f) To replace a value in a string, it will be necessary to use the function [following](https://www.geeksforgeeks.org/python-string-replace/).\n",
    "\n",
    "Use it to replace the word \"TOREPLACE\" the following strings with an empty string \"\".\n",
    "\n",
    "Attention, for the last string, we want to replace only the first appearance of the word!"
   ]
  },
  {
   "cell_type": "code",
   "execution_count": 52,
   "id": "4UzoJFeWpZOe",
   "metadata": {
    "id": "4UzoJFeWpZOe"
   },
   "outputs": [],
   "source": [
    "s1 = \"dogTOREPLACE\"\n",
    "s2 = \"TOREPLACE catTOREPLACE\"\n",
    "s3 = \"TOREPLACEcats TOREPLACE and dogs\" # only replace the first"
   ]
  },
  {
   "cell_type": "code",
   "execution_count": 54,
   "id": "27d04968",
   "metadata": {},
   "outputs": [
    {
     "data": {
      "text/plain": [
       "'dog'"
      ]
     },
     "execution_count": 54,
     "metadata": {},
     "output_type": "execute_result"
    }
   ],
   "source": [
    "s1.replace(\"TOREPLACE\",\"\")"
   ]
  },
  {
   "cell_type": "code",
   "execution_count": 55,
   "id": "e8f658f1",
   "metadata": {},
   "outputs": [
    {
     "data": {
      "text/plain": [
       "' cat'"
      ]
     },
     "execution_count": 55,
     "metadata": {},
     "output_type": "execute_result"
    }
   ],
   "source": [
    "s2.replace(\"TOREPLACE\",\"\")"
   ]
  },
  {
   "cell_type": "code",
   "execution_count": 59,
   "id": "9a789cf9",
   "metadata": {},
   "outputs": [
    {
     "data": {
      "text/plain": [
       "'cats TOREPLACE and dogs'"
      ]
     },
     "execution_count": 59,
     "metadata": {},
     "output_type": "execute_result"
    }
   ],
   "source": [
    "s3.replace(\"TOREPLACE\",\"\",1)"
   ]
  },
  {
   "cell_type": "markdown",
   "id": "96fadcb8",
   "metadata": {
    "id": "96fadcb8",
    "lang": "en"
   },
   "source": [
    "For more complex manipulations of the text in Python, it will be necessary to use regex which are outside the program of this training."
   ]
  },
  {
   "cell_type": "markdown",
   "id": "14194db6",
   "metadata": {
    "id": "14194db6",
    "lang": "en"
   },
   "source": [
    "## 4) API data retrieval"
   ]
  },
  {
   "cell_type": "markdown",
   "id": "17532cf7",
   "metadata": {
    "id": "17532cf7",
    "lang": "en"
   },
   "source": [
    "### Government API"
   ]
  },
  {
   "cell_type": "markdown",
   "id": "f63b14e7",
   "metadata": {
    "id": "f63b14e7",
    "lang": "en"
   },
   "source": [
    "On the website [api.gouv.fr](https://api.gouv.fr/)\n",
    ", find the API of the National Address Database and query it to find the GPS coordinates of the address of 10 boulevard Montmartre in Paris, 9th arrondissement. You can then reuse these GPS coordinates to check on Google Maps.\n",
    "\n",
    "You can reuse your code to test other addresses, for example your home address and check that Google Maps points to your home!"
   ]
  },
  {
   "cell_type": "code",
   "execution_count": 60,
   "id": "1ff8abfb",
   "metadata": {
    "id": "1ff8abfb"
   },
   "outputs": [],
   "source": [
    "import requests"
   ]
  },
  {
   "cell_type": "code",
   "execution_count": null,
   "id": "e1130c4a",
   "metadata": {
    "id": "e1130c4a"
   },
   "outputs": [],
   "source": [
    "adresse = \"10 boulevard Montmartre Paris 9e\".replace(\" \", \"+\")\n",
    "params = # to do\n",
    "url = # to do\n",
    "response = requests.request(\"GET\", url, params = params)"
   ]
  },
  {
   "cell_type": "code",
   "execution_count": 81,
   "id": "dc70f754",
   "metadata": {},
   "outputs": [
    {
     "data": {
      "text/plain": [
       "[2.341972, 48.871839]"
      ]
     },
     "execution_count": 81,
     "metadata": {},
     "output_type": "execute_result"
    }
   ],
   "source": [
    "#let's try it\n",
    "#from https://adresse.data.gouv.fr/api-doc/adresse\n",
    "adresse = \"10 boulevard Montmartre Paris 9e\".replace(\" \", \"+\")\n",
    "#adresse = \"10 boulevard Montmartre Paris 9e\"\n",
    "\n",
    "params = {\"q\": adresse, \"limit\":1}\n",
    "url = \"https://api-adresse.data.gouv.fr/search\"\n",
    "#call the request and get the response\n",
    "response = requests.request(\"GET\", url, params = params)\n",
    "#get the coordinates from json dictionary, see below response.json()\n",
    "response.json()[\"features\"][0][\"geometry\"][\"coordinates\"]"
   ]
  },
  {
   "cell_type": "code",
   "execution_count": 69,
   "id": "6051d68a",
   "metadata": {
    "id": "6051d68a",
    "outputId": "e1a13078-bc11-4aac-abe4-58cd263ef241"
   },
   "outputs": [
    {
     "data": {
      "text/plain": [
       "{'type': 'FeatureCollection',\n",
       " 'version': 'draft',\n",
       " 'features': [{'type': 'Feature',\n",
       "   'geometry': {'type': 'Point', 'coordinates': [2.341972, 48.871839]},\n",
       "   'properties': {'label': '10 Boulevard Montmartre 75009 Paris',\n",
       "    'score': 0.7953265689149559,\n",
       "    'housenumber': '10',\n",
       "    'id': '75109_6510_00010',\n",
       "    'name': '10 Boulevard Montmartre',\n",
       "    'postcode': '75009',\n",
       "    'citycode': '75109',\n",
       "    'x': 651732.7,\n",
       "    'y': 6863735.92,\n",
       "    'city': 'Paris',\n",
       "    'district': 'Paris 9e Arrondissement',\n",
       "    'context': '75, Paris, Île-de-France',\n",
       "    'type': 'housenumber',\n",
       "    'importance': 0.61956,\n",
       "    'street': 'Boulevard Montmartre'}}],\n",
       " 'attribution': 'BAN',\n",
       " 'licence': 'ETALAB-2.0',\n",
       " 'query': '10 boulevard Montmartre Paris 9e',\n",
       " 'limit': 1}"
      ]
     },
     "execution_count": 69,
     "metadata": {},
     "output_type": "execute_result"
    }
   ],
   "source": [
    "response.json()"
   ]
  },
  {
   "cell_type": "markdown",
   "id": "2d889da3",
   "metadata": {
    "id": "2d889da3"
   },
   "source": [
    "[url google maps](https://www.google.fr/maps/place/48%C2%B052'18.6%22N+2%C2%B020'31.1%22E/@48.8717039,2.3418571,17z/data=!4m13!1m7!3m6!1s0x0:0x533040edbd595561!2zNDjCsDUyJzE4LjYiTiAywrAyMCczMS4xIkU!3b1!8m2!3d48.871839!4d2.341972!3m4!1s0x0:0x533040edbd595561!8m2!3d48.871839!4d2.341972)"
   ]
  },
  {
   "cell_type": "markdown",
   "id": "75ebeaf0",
   "metadata": {
    "id": "75ebeaf0",
    "lang": "en"
   },
   "source": [
    "## 5) Exploitation of API results: from JSON to CSV format"
   ]
  },
  {
   "cell_type": "markdown",
   "id": "a4e486f0",
   "metadata": {
    "id": "a4e486f0",
    "lang": "en"
   },
   "source": [
    "Below, we'll process the results of an API that returns info about all companies that contain the word \"microsoft\". The end goal is to move from a json format to a csv format with all the main company information. Using Python here allows you to select the information you want and potentially apply processing to it.\n",
    "\n",
    "The resulting csv file can be used more easily by other teams."
   ]
  },
  {
   "cell_type": "markdown",
   "id": "338720ba",
   "metadata": {
    "id": "338720ba",
    "lang": "en"
   },
   "source": [
    "a) Download the `microsoft_companies.json` file."
   ]
  },
  {
   "cell_type": "markdown",
   "id": "d6aae903",
   "metadata": {
    "id": "d6aae903",
    "lang": "en"
   },
   "source": [
    "*microsoft_companies.json*: [link](https://drive.google.com/file/d/1Zrja9KY-05u8XsGfK-P97zGa-NyipS49/view?usp=sharing)"
   ]
  },
  {
   "cell_type": "markdown",
   "id": "193bffcd",
   "metadata": {
    "id": "193bffcd",
    "lang": "en"
   },
   "source": [
    "b) Import the file in Python with the help of the code below."
   ]
  },
  {
   "cell_type": "code",
   "execution_count": 82,
   "id": "dphPiTGhgfih",
   "metadata": {
    "id": "dphPiTGhgfih"
   },
   "outputs": [],
   "source": [
    "import json\n",
    "\n",
    "with open('microsoft_companies.json', encoding = \"utf-8\") as json_file:\n",
    "    microsoft_companies = json.load(json_file)"
   ]
  },
  {
   "cell_type": "markdown",
   "id": "e3f32749",
   "metadata": {
    "id": "e3f32749",
    "lang": "en"
   },
   "source": [
    "b) What is the type of the `microsoft_companies` variable?"
   ]
  },
  {
   "cell_type": "code",
   "execution_count": null,
   "id": "kUrUC6dZgfik",
   "metadata": {
    "colab": {
     "base_uri": "https://localhost:8080/"
    },
    "executionInfo": {
     "elapsed": 1237,
     "status": "ok",
     "timestamp": 1607871844166,
     "user": {
      "displayName": "Paul Mochkovitch",
      "photoUrl": "https://lh3.googleusercontent.com/a-/AOh14GjPe8Qhi0fgkoGXkhjovyKVk4LqLO0LOxpAz42C=s64",
      "userId": "04350506765706184975"
     },
     "user_tz": -60
    },
    "id": "kUrUC6dZgfik",
    "outputId": "fd39a658-e383-4727-db79-d1962c24429e"
   },
   "outputs": [
    {
     "name": "stdout",
     "output_type": "stream",
     "text": [
      "<class 'list'>\n"
     ]
    }
   ],
   "source": []
  },
  {
   "cell_type": "code",
   "execution_count": 83,
   "id": "4a5fe8f3",
   "metadata": {},
   "outputs": [
    {
     "data": {
      "text/plain": [
       "list"
      ]
     },
     "execution_count": 83,
     "metadata": {},
     "output_type": "execute_result"
    }
   ],
   "source": [
    "#let's try\n",
    "type(microsoft_companies)"
   ]
  },
  {
   "cell_type": "markdown",
   "id": "a6202cbd",
   "metadata": {
    "id": "a6202cbd",
    "lang": "en"
   },
   "source": [
    "c) How many companies are there in this list?"
   ]
  },
  {
   "cell_type": "code",
   "execution_count": null,
   "id": "DmuqK9XVgfim",
   "metadata": {
    "colab": {
     "base_uri": "https://localhost:8080/"
    },
    "executionInfo": {
     "elapsed": 1228,
     "status": "ok",
     "timestamp": 1607871844167,
     "user": {
      "displayName": "Paul Mochkovitch",
      "photoUrl": "https://lh3.googleusercontent.com/a-/AOh14GjPe8Qhi0fgkoGXkhjovyKVk4LqLO0LOxpAz42C=s64",
      "userId": "04350506765706184975"
     },
     "user_tz": -60
    },
    "id": "DmuqK9XVgfim",
    "outputId": "e3bc9c8d-f5a0-4505-cd41-819c9bc55b71"
   },
   "outputs": [
    {
     "name": "stdout",
     "output_type": "stream",
     "text": [
      "301\n"
     ]
    }
   ],
   "source": []
  },
  {
   "cell_type": "code",
   "execution_count": 85,
   "id": "db73bebd",
   "metadata": {},
   "outputs": [
    {
     "data": {
      "text/plain": [
       "301"
      ]
     },
     "execution_count": 85,
     "metadata": {},
     "output_type": "execute_result"
    }
   ],
   "source": [
    "#let's try\n",
    "len(microsoft_companies)"
   ]
  },
  {
   "cell_type": "markdown",
   "id": "4d802744",
   "metadata": {
    "id": "4d802744",
    "lang": "en"
   },
   "source": [
    "d) Look at the first item in this list. What type is it?"
   ]
  },
  {
   "cell_type": "code",
   "execution_count": 86,
   "id": "bbcfe780",
   "metadata": {},
   "outputs": [
    {
     "data": {
      "text/plain": [
       "{'datasetid': 'companies-on-linkedin',\n",
       " 'recordid': 'c4d310fc0f0f277e574e20f5e2185d4765a1ab3f',\n",
       " 'fields': {'total_employee_estimate': 44,\n",
       "  'size_range': '11 - 50',\n",
       "  'industry': 'computer games',\n",
       "  'linkedin_url': 'https://www.linkedin.com/company/develop-magazine',\n",
       "  'domain0': 'https://www.develop-online.net',\n",
       "  'current_employee_estimate': 6,\n",
       "  'name': 'microsoft'},\n",
       " 'record_timestamp': '2019-06-03T09:35:00+02:00'}"
      ]
     },
     "execution_count": 86,
     "metadata": {},
     "output_type": "execute_result"
    }
   ],
   "source": [
    "microsoft_companies[0]"
   ]
  },
  {
   "cell_type": "code",
   "execution_count": 87,
   "id": "f29fa84c",
   "metadata": {},
   "outputs": [
    {
     "data": {
      "text/plain": [
       "dict"
      ]
     },
     "execution_count": 87,
     "metadata": {},
     "output_type": "execute_result"
    }
   ],
   "source": [
    "type(microsoft_companies[0])"
   ]
  },
  {
   "cell_type": "markdown",
   "id": "4ab81363",
   "metadata": {
    "id": "4ab81363",
    "lang": "en"
   },
   "source": [
    "e) For this first item, display the company name, industry, domain and total number of employees."
   ]
  },
  {
   "cell_type": "code",
   "execution_count": null,
   "id": "nGUDhLGgsCKN",
   "metadata": {
    "id": "nGUDhLGgsCKN"
   },
   "outputs": [],
   "source": []
  },
  {
   "cell_type": "code",
   "execution_count": 88,
   "id": "baff3a44",
   "metadata": {},
   "outputs": [
    {
     "name": "stdout",
     "output_type": "stream",
     "text": [
      "microsoft\n",
      "computer games\n",
      "https://www.develop-online.net\n",
      "44\n"
     ]
    }
   ],
   "source": [
    "#Let's try\n",
    "print(microsoft_companies[0][\"fields\"][\"name\"])\n",
    "print(microsoft_companies[0][\"fields\"][\"industry\"])\n",
    "print(microsoft_companies[0][\"fields\"][\"domain0\"])\n",
    "print(microsoft_companies[0][\"fields\"][\"total_employee_estimate\"])"
   ]
  },
  {
   "cell_type": "markdown",
   "id": "eb6e2281",
   "metadata": {
    "id": "eb6e2281",
    "lang": "en"
   },
   "source": [
    "f) Do you think that this \"microsoft\" company is the American multinational?"
   ]
  },
  {
   "cell_type": "markdown",
   "id": "aec1a2c1",
   "metadata": {},
   "source": [
    "??? think so, yes.??? what to code here ?"
   ]
  },
  {
   "cell_type": "markdown",
   "id": "8226ec2d",
   "metadata": {
    "id": "8226ec2d",
    "lang": "en"
   },
   "source": [
    "g) It would therefore seem that there are homonyms.\n",
    "\n",
    "Create a new empty list and add all companies whose names are exactly \"microsoft\".\n",
    "\n",
    "To do this, you will have to loop through all the companies and use a condition to verify that their names are indeed \"microsoft\". If this is then the case, the company information will be added to the empty list (the entire dictionary).\n",
    "\n",
    "How many are there?"
   ]
  },
  {
   "cell_type": "code",
   "execution_count": null,
   "id": "aPt7PEYugfit",
   "metadata": {
    "colab": {
     "base_uri": "https://localhost:8080/"
    },
    "executionInfo": {
     "elapsed": 1201,
     "status": "ok",
     "timestamp": 1607871844169,
     "user": {
      "displayName": "Paul Mochkovitch",
      "photoUrl": "https://lh3.googleusercontent.com/a-/AOh14GjPe8Qhi0fgkoGXkhjovyKVk4LqLO0LOxpAz42C=s64",
      "userId": "04350506765706184975"
     },
     "user_tz": -60
    },
    "id": "aPt7PEYugfit",
    "outputId": "54b3daba-1afc-4684-cd6f-af8446ef80fb"
   },
   "outputs": [
    {
     "name": "stdout",
     "output_type": "stream",
     "text": [
      "6\n"
     ]
    }
   ],
   "source": [
    "exact_microsoft_companies = []\n",
    "\n",
    "for company_info in microsoft_companies:\n",
    "    # to do\n",
    "\n",
    "print(len(exact_microsoft_companies))"
   ]
  },
  {
   "cell_type": "code",
   "execution_count": 91,
   "id": "04d9e446",
   "metadata": {},
   "outputs": [
    {
     "name": "stdout",
     "output_type": "stream",
     "text": [
      "6\n"
     ]
    }
   ],
   "source": [
    "#Let's try it!\n",
    "searchedCompany = \"microsoft\"\n",
    "exact_microsoft_companies = []\n",
    "#loop for all companies\n",
    "for company_info in microsoft_companies:\n",
    "    #check if name of current company is the required one\n",
    "    if company_info[\"fields\"][\"name\"] == searchedCompany:\n",
    "        #if yes, add it to the list\n",
    "        exact_microsoft_companies.append(company_info)\n",
    "\n",
    "print(len(exact_microsoft_companies))"
   ]
  },
  {
   "cell_type": "markdown",
   "id": "b3556e6d",
   "metadata": {
    "id": "b3556e6d",
    "lang": "en"
   },
   "source": [
    "h) Among the results obtained, do you see the American multinational?\n",
    "\n",
    "You can run the code below to then use the `pprint` function to indent the info display.\n",
    "\n",
    "It is used like the print function."
   ]
  },
  {
   "cell_type": "code",
   "execution_count": 92,
   "id": "GD1Ysk9yeY7T",
   "metadata": {
    "id": "GD1Ysk9yeY7T"
   },
   "outputs": [],
   "source": [
    "from pprint import pprint"
   ]
  },
  {
   "cell_type": "code",
   "execution_count": 93,
   "id": "8wE5QkZpd07w",
   "metadata": {
    "colab": {
     "base_uri": "https://localhost:8080/"
    },
    "executionInfo": {
     "elapsed": 1189,
     "status": "ok",
     "timestamp": 1607871844173,
     "user": {
      "displayName": "Paul Mochkovitch",
      "photoUrl": "https://lh3.googleusercontent.com/a-/AOh14GjPe8Qhi0fgkoGXkhjovyKVk4LqLO0LOxpAz42C=s64",
      "userId": "04350506765706184975"
     },
     "user_tz": -60
    },
    "id": "8wE5QkZpd07w",
    "outputId": "08936b89-8283-47c7-f348-d7c89e17fb5d"
   },
   "outputs": [
    {
     "name": "stdout",
     "output_type": "stream",
     "text": [
      "[{'datasetid': 'companies-on-linkedin',\n",
      "  'fields': {'current_employee_estimate': 6,\n",
      "             'domain0': 'https://www.develop-online.net',\n",
      "             'industry': 'computer games',\n",
      "             'linkedin_url': 'https://www.linkedin.com/company/develop-magazine',\n",
      "             'name': 'microsoft',\n",
      "             'size_range': '11 - 50',\n",
      "             'total_employee_estimate': 44},\n",
      "  'record_timestamp': '2019-06-03T09:35:00+02:00',\n",
      "  'recordid': 'c4d310fc0f0f277e574e20f5e2185d4765a1ab3f'},\n",
      " {'datasetid': 'companies-on-linkedin',\n",
      "  'fields': {'country': 'united states',\n",
      "             'current_employee_estimate': 116196,\n",
      "             'domain0': 'https://www.microsoft.com',\n",
      "             'industry': 'computer software',\n",
      "             'linkedin_url': 'https://www.linkedin.com/company/microsoft',\n",
      "             'locality': 'redmond,washington,united states',\n",
      "             'name': 'microsoft',\n",
      "             'size_range': '10001+',\n",
      "             'total_employee_estimate': 276983,\n",
      "             'year_founded': '1975'},\n",
      "  'record_timestamp': '2019-06-03T09:35:00+02:00',\n",
      "  'recordid': 'd8611a51def434f1049b899a99d8a589fbb7b9c1'},\n",
      " {'datasetid': 'companies-on-linkedin',\n",
      "  'fields': {'current_employee_estimate': 1,\n",
      "             'domain0': 'https://www.',\n",
      "             'industry': 'computer software',\n",
      "             'linkedin_url': 'https://www.linkedin.com/company/microsoft-cyprus',\n",
      "             'name': 'microsoft',\n",
      "             'size_range': '1 - 10',\n",
      "             'total_employee_estimate': 5,\n",
      "             'year_founded': '1975'},\n",
      "  'record_timestamp': '2019-06-03T09:35:00+02:00',\n",
      "  'recordid': 'a5140838fb9ffcda43fa4b8f35cd13ed2abe67f7'},\n",
      " {'datasetid': 'companies-on-linkedin',\n",
      "  'fields': {'current_employee_estimate': 6,\n",
      "             'domain0': 'https://www.',\n",
      "             'industry': 'computer software',\n",
      "             'linkedin_url': 'https://www.linkedin.com/company/microsoft-2',\n",
      "             'name': 'microsoft',\n",
      "             'size_range': '11 - 50',\n",
      "             'total_employee_estimate': 9},\n",
      "  'record_timestamp': '2019-06-03T09:35:00+02:00',\n",
      "  'recordid': 'be50e923df54801d559eb644eac1580f92052573'},\n",
      " {'datasetid': 'companies-on-linkedin',\n",
      "  'fields': {'current_employee_estimate': 0,\n",
      "             'domain0': 'https://www.microsoftaaas.com',\n",
      "             'industry': 'management consulting',\n",
      "             'linkedin_url': 'https://www.linkedin.com/company/microsoft-alliance-as-a-service',\n",
      "             'name': 'microsoft',\n",
      "             'size_range': '1 - 10',\n",
      "             'total_employee_estimate': 3,\n",
      "             'year_founded': '2012'},\n",
      "  'record_timestamp': '2019-06-03T09:35:00+02:00',\n",
      "  'recordid': '998d5e4e4bebfdb1a2af75f3b3014ddb1377c736'},\n",
      " {'datasetid': 'companies-on-linkedin',\n",
      "  'fields': {'country': 'india',\n",
      "             'current_employee_estimate': 1,\n",
      "             'domain0': 'https://www.maziksolutions.com',\n",
      "             'industry': 'information technology and services',\n",
      "             'linkedin_url': 'https://www.linkedin.com/company/mazik-solutions-pvt-ltd',\n",
      "             'name': 'microsoft',\n",
      "             'size_range': '1 - 10',\n",
      "             'total_employee_estimate': 4,\n",
      "             'year_founded': '2010'},\n",
      "  'record_timestamp': '2019-06-03T09:35:00+02:00',\n",
      "  'recordid': '694e5569ffadbee848f1c3ab7a180f158a5506be'}]\n"
     ]
    }
   ],
   "source": [
    "pprint(exact_microsoft_companies)"
   ]
  },
  {
   "cell_type": "markdown",
   "id": "21b89254",
   "metadata": {
    "id": "21b89254",
    "lang": "en"
   },
   "source": [
    "Yes, the one with 276,983 employees."
   ]
  },
  {
   "cell_type": "markdown",
   "id": "c0b074ff",
   "metadata": {
    "id": "c0b074ff",
    "lang": "en"
   },
   "source": [
    "i) To facilitate the work of the other teams, we will translate the number of employees into categories. For this, we will use the following correspondences:\n",
    "   - less than 5: \"small business\"\n",
    "   - from 5 to 30: \"startup\"\n",
    "   - from 30 to 200: \"scaleup\"\n",
    "   - from 200 to 1000: \"big companies\"\n",
    "   - more than 1000: \"very large companies\"\n",
    "\n",
    "\n",
    "Write a function with one parameter, representing the number of employees, that returns its corresponding category.\n",
    "\n",
    "Don't forget to return the corresponding category at the end of your function using the keyword **return**. Take a good look at the syntax of functions in your course."
   ]
  },
  {
   "cell_type": "code",
   "execution_count": null,
   "id": "Qbm_ZwkGgfiw",
   "metadata": {
    "colab": {
     "base_uri": "https://localhost:8080/"
    },
    "executionInfo": {
     "elapsed": 1180,
     "status": "ok",
     "timestamp": 1607871844174,
     "user": {
      "displayName": "Paul Mochkovitch",
      "photoUrl": "https://lh3.googleusercontent.com/a-/AOh14GjPe8Qhi0fgkoGXkhjovyKVk4LqLO0LOxpAz42C=s64",
      "userId": "04350506765706184975"
     },
     "user_tz": -60
    },
    "id": "Qbm_ZwkGgfiw",
    "outputId": "e705d288-d83c-4691-a51c-91d037dff1dc"
   },
   "outputs": [
    {
     "name": "stdout",
     "output_type": "stream",
     "text": [
      "startup\n"
     ]
    }
   ],
   "source": [
    "def from_nb_employee_to_category(total_employee):\n",
    "\n",
    "    # to do\n",
    "\n",
    "    return category\n",
    "\n",
    "print(from_nb_employee_to_category(23))"
   ]
  },
  {
   "cell_type": "code",
   "execution_count": 99,
   "id": "51b1b54d",
   "metadata": {},
   "outputs": [
    {
     "name": "stdout",
     "output_type": "stream",
     "text": [
      "very large companies\n"
     ]
    }
   ],
   "source": [
    "def from_nb_employee_to_category(total_employee):\n",
    "\n",
    "    #less than 5: \"small business\"\n",
    "    if total_employee < 5:\n",
    "        category = \"small business\"\n",
    "    # from 5 to 30: \"startup\"\n",
    "    if total_employee >= 5 and total_employee< 30:\n",
    "        category = \"startup\"\n",
    "    # from 30 to 200: \"scaleup\"\n",
    "    if total_employee >= 30 and total_employee< 200:\n",
    "        category = \"scaleup\"\n",
    "    # from 200 to 1000: \"big companies\"\n",
    "    if total_employee >= 200 and total_employee< 1000:\n",
    "        category = \"big companies\"\n",
    "    # more than 1000: \"very large companies\"\n",
    "    if total_employee >= 1000:\n",
    "        category = \"very large companies\"\n",
    "    return category\n",
    "\n",
    "print(from_nb_employee_to_category(1001))"
   ]
  },
  {
   "cell_type": "code",
   "execution_count": 100,
   "id": "4a539dd5",
   "metadata": {},
   "outputs": [
    {
     "name": "stdout",
     "output_type": "stream",
     "text": [
      "small business\n"
     ]
    }
   ],
   "source": [
    "print(from_nb_employee_to_category(4))"
   ]
  },
  {
   "cell_type": "code",
   "execution_count": 101,
   "id": "e5ec52db",
   "metadata": {},
   "outputs": [
    {
     "name": "stdout",
     "output_type": "stream",
     "text": [
      "startup\n"
     ]
    }
   ],
   "source": [
    "print(from_nb_employee_to_category(29))"
   ]
  },
  {
   "cell_type": "code",
   "execution_count": 102,
   "id": "315a1ed3",
   "metadata": {},
   "outputs": [
    {
     "name": "stdout",
     "output_type": "stream",
     "text": [
      "scaleup\n"
     ]
    }
   ],
   "source": [
    "print(from_nb_employee_to_category(199))"
   ]
  },
  {
   "cell_type": "code",
   "execution_count": 103,
   "id": "be6b7bd5",
   "metadata": {},
   "outputs": [
    {
     "name": "stdout",
     "output_type": "stream",
     "text": [
      "big companies\n"
     ]
    }
   ],
   "source": [
    "print(from_nb_employee_to_category(999))"
   ]
  },
  {
   "cell_type": "markdown",
   "id": "f22b2df8",
   "metadata": {
    "id": "f22b2df8",
    "lang": "en"
   },
   "source": [
    "j) We are going to browse all the companies of the starting file.\n",
    "\n",
    "We will create an empty list which will record all the information on each of the companies as we go along.\n",
    "\n",
    "We will then make a loop to browse all the companies and retrieve for each of them its name, its industry, its domain and the category of company in relation to its number of employees (thanks to your previous function) in a dictionary.\n",
    "\n",
    "At each company browsed, we will save its dictionary of information in the list that we had initialized. At the end, the list will contain all the dictionaries of all the companies.\n",
    "\n",
    "Complete the code below to achieve this."
   ]
  },
  {
   "cell_type": "code",
   "execution_count": null,
   "id": "uvyBEc4Mgfiy",
   "metadata": {
    "colab": {
     "base_uri": "https://localhost:8080/"
    },
    "executionInfo": {
     "elapsed": 1169,
     "status": "ok",
     "timestamp": 1607871844175,
     "user": {
      "displayName": "Paul Mochkovitch",
      "photoUrl": "https://lh3.googleusercontent.com/a-/AOh14GjPe8Qhi0fgkoGXkhjovyKVk4LqLO0LOxpAz42C=s64",
      "userId": "04350506765706184975"
     },
     "user_tz": -60
    },
    "id": "uvyBEc4Mgfiy",
    "outputId": "f583d818-e4bf-407e-e46e-fec98bb50cb0"
   },
   "outputs": [
    {
     "data": {
      "text/plain": [
       "{'cat_company': 'scaleup',\n",
       " 'domain': 'https://www.develop-online.net',\n",
       " 'industry': 'computer games',\n",
       " 'name': 'microsoft'}"
      ]
     },
     "execution_count": 90,
     "metadata": {
      "tags": []
     },
     "output_type": "execute_result"
    }
   ],
   "source": [
    "# empty list that will store the information\n",
    "microsoft_companies_clean = []\n",
    "\n",
    "# for each company\n",
    "for company_info in microsoft_companies:\n",
    "\n",
    "    # creates a dictionary of its information\n",
    "    dic_company = {\n",
    "        \"name\": # to do,\n",
    "        \"industry\": # to do,\n",
    "        \"domain\": # to do,\n",
    "        \"cat_company\": # to do\n",
    "    }\n",
    "\n",
    "    # saves the result\n",
    "    microsoft_companies_clean.append(dic_company)\n",
    "\n",
    "microsoft_companies_clean[0]"
   ]
  },
  {
   "cell_type": "code",
   "execution_count": 104,
   "id": "86c6ec37",
   "metadata": {},
   "outputs": [
    {
     "data": {
      "text/plain": [
       "{'name': 'microsoft',\n",
       " 'industry': 'computer games',\n",
       " 'domain': 'https://www.develop-online.net',\n",
       " 'cat_company': 'scaleup'}"
      ]
     },
     "execution_count": 104,
     "metadata": {},
     "output_type": "execute_result"
    }
   ],
   "source": [
    "#Let' try it!!\n",
    "# empty list that will store the information\n",
    "microsoft_companies_clean = []\n",
    "\n",
    "# for each company\n",
    "for company_info in microsoft_companies:\n",
    "\n",
    "    # creates a dictionary of its information\n",
    "    dic_company = {\n",
    "        \"name\": company_info[\"fields\"][\"name\"],\n",
    "        \"industry\": company_info[\"fields\"][\"industry\"],\n",
    "        \"domain\": company_info[\"fields\"][\"domain0\"],\n",
    "        \"cat_company\": from_nb_employee_to_category(company_info[\"fields\"][\"total_employee_estimate\"])\n",
    "    }\n",
    "\n",
    "    # saves the result\n",
    "    microsoft_companies_clean.append(dic_company)\n",
    "\n",
    "microsoft_companies_clean[0]\n"
   ]
  },
  {
   "cell_type": "markdown",
   "id": "0fbbcd39",
   "metadata": {
    "id": "0fbbcd39",
    "lang": "en"
   },
   "source": [
    "k) Run the code below. What do you see output?"
   ]
  },
  {
   "cell_type": "code",
   "execution_count": 105,
   "id": "OoQHcdsagfi2",
   "metadata": {
    "colab": {
     "base_uri": "https://localhost:8080/",
     "height": 419
    },
    "executionInfo": {
     "elapsed": 1158,
     "status": "ok",
     "timestamp": 1607871844176,
     "user": {
      "displayName": "Paul Mochkovitch",
      "photoUrl": "https://lh3.googleusercontent.com/a-/AOh14GjPe8Qhi0fgkoGXkhjovyKVk4LqLO0LOxpAz42C=s64",
      "userId": "04350506765706184975"
     },
     "user_tz": -60
    },
    "id": "OoQHcdsagfi2",
    "outputId": "e5591e4c-49c3-45e4-c65b-6cd68aeebb82"
   },
   "outputs": [
    {
     "data": {
      "text/html": [
       "<div>\n",
       "<style scoped>\n",
       "    .dataframe tbody tr th:only-of-type {\n",
       "        vertical-align: middle;\n",
       "    }\n",
       "\n",
       "    .dataframe tbody tr th {\n",
       "        vertical-align: top;\n",
       "    }\n",
       "\n",
       "    .dataframe thead th {\n",
       "        text-align: right;\n",
       "    }\n",
       "</style>\n",
       "<table border=\"1\" class=\"dataframe\">\n",
       "  <thead>\n",
       "    <tr style=\"text-align: right;\">\n",
       "      <th></th>\n",
       "      <th>name</th>\n",
       "      <th>industry</th>\n",
       "      <th>domain</th>\n",
       "      <th>cat_company</th>\n",
       "    </tr>\n",
       "  </thead>\n",
       "  <tbody>\n",
       "    <tr>\n",
       "      <th>0</th>\n",
       "      <td>microsoft</td>\n",
       "      <td>computer games</td>\n",
       "      <td>https://www.develop-online.net</td>\n",
       "      <td>scaleup</td>\n",
       "    </tr>\n",
       "    <tr>\n",
       "      <th>1</th>\n",
       "      <td>omaha microsoft technology group</td>\n",
       "      <td>information technology and services</td>\n",
       "      <td>https://www.omahamtg.com</td>\n",
       "      <td>small business</td>\n",
       "    </tr>\n",
       "    <tr>\n",
       "      <th>2</th>\n",
       "      <td>microsoft alumni network ambassadors</td>\n",
       "      <td>non-profit organization management</td>\n",
       "      <td>https://www.</td>\n",
       "      <td>small business</td>\n",
       "    </tr>\n",
       "    <tr>\n",
       "      <th>3</th>\n",
       "      <td>scbn | microsoft certified professional - goog...</td>\n",
       "      <td>internet</td>\n",
       "      <td>https://www.scbn.biz</td>\n",
       "      <td>startup</td>\n",
       "    </tr>\n",
       "    <tr>\n",
       "      <th>4</th>\n",
       "      <td>locatelli mcc - designing domotica (voip) solu...</td>\n",
       "      <td>information technology and services</td>\n",
       "      <td>https://www.locatelli-mcc.com</td>\n",
       "      <td>small business</td>\n",
       "    </tr>\n",
       "    <tr>\n",
       "      <th>...</th>\n",
       "      <td>...</td>\n",
       "      <td>...</td>\n",
       "      <td>...</td>\n",
       "      <td>...</td>\n",
       "    </tr>\n",
       "    <tr>\n",
       "      <th>296</th>\n",
       "      <td>pmx dynamics-business software for the real es...</td>\n",
       "      <td>information technology and services</td>\n",
       "      <td>https://www.pmxdynamics.com</td>\n",
       "      <td>startup</td>\n",
       "    </tr>\n",
       "    <tr>\n",
       "      <th>297</th>\n",
       "      <td>microsoft game studios</td>\n",
       "      <td>computer software</td>\n",
       "      <td>https://www.</td>\n",
       "      <td>startup</td>\n",
       "    </tr>\n",
       "    <tr>\n",
       "      <th>298</th>\n",
       "      <td>microsoft alumni foundation</td>\n",
       "      <td>philanthropy</td>\n",
       "      <td>https://www.microsoftalumni.org</td>\n",
       "      <td>startup</td>\n",
       "    </tr>\n",
       "    <tr>\n",
       "      <th>299</th>\n",
       "      <td>naveksa a/s - manufacturing solutions for micr...</td>\n",
       "      <td>computer software</td>\n",
       "      <td>https://www.</td>\n",
       "      <td>small business</td>\n",
       "    </tr>\n",
       "    <tr>\n",
       "      <th>300</th>\n",
       "      <td>f-keys ltd microsoft training centre</td>\n",
       "      <td>information technology and services</td>\n",
       "      <td>https://www.f-keys.co.uk</td>\n",
       "      <td>startup</td>\n",
       "    </tr>\n",
       "  </tbody>\n",
       "</table>\n",
       "<p>301 rows × 4 columns</p>\n",
       "</div>"
      ],
      "text/plain": [
       "                                                  name  \\\n",
       "0                                            microsoft   \n",
       "1                     omaha microsoft technology group   \n",
       "2                 microsoft alumni network ambassadors   \n",
       "3    scbn | microsoft certified professional - goog...   \n",
       "4    locatelli mcc - designing domotica (voip) solu...   \n",
       "..                                                 ...   \n",
       "296  pmx dynamics-business software for the real es...   \n",
       "297                             microsoft game studios   \n",
       "298                        microsoft alumni foundation   \n",
       "299  naveksa a/s - manufacturing solutions for micr...   \n",
       "300               f-keys ltd microsoft training centre   \n",
       "\n",
       "                                industry                           domain  \\\n",
       "0                         computer games   https://www.develop-online.net   \n",
       "1    information technology and services         https://www.omahamtg.com   \n",
       "2     non-profit organization management                     https://www.   \n",
       "3                               internet             https://www.scbn.biz   \n",
       "4    information technology and services    https://www.locatelli-mcc.com   \n",
       "..                                   ...                              ...   \n",
       "296  information technology and services      https://www.pmxdynamics.com   \n",
       "297                    computer software                     https://www.   \n",
       "298                         philanthropy  https://www.microsoftalumni.org   \n",
       "299                    computer software                     https://www.   \n",
       "300  information technology and services         https://www.f-keys.co.uk   \n",
       "\n",
       "        cat_company  \n",
       "0           scaleup  \n",
       "1    small business  \n",
       "2    small business  \n",
       "3           startup  \n",
       "4    small business  \n",
       "..              ...  \n",
       "296         startup  \n",
       "297         startup  \n",
       "298         startup  \n",
       "299  small business  \n",
       "300         startup  \n",
       "\n",
       "[301 rows x 4 columns]"
      ]
     },
     "execution_count": 105,
     "metadata": {},
     "output_type": "execute_result"
    }
   ],
   "source": [
    "import pandas as pd\n",
    "\n",
    "df_microsoft_companies_clean = pd.DataFrame(microsoft_companies_clean)\n",
    "df_microsoft_companies_clean"
   ]
  },
  {
   "cell_type": "markdown",
   "id": "8547c9f8",
   "metadata": {
    "id": "8547c9f8",
    "lang": "en"
   },
   "source": [
    "Congratulation ! Here is your first DataFrame. It is a data structure based on the relational model.\n",
    "\n",
    "The DataFrame is a much more practical format for the exploitation of data that you will see in detail in the next two lessons!"
   ]
  },
  {
   "cell_type": "markdown",
   "id": "89e1c97c",
   "metadata": {
    "id": "89e1c97c",
    "lang": "en"
   },
   "source": [
    "## 6) [Bonus] Additional exercises"
   ]
  },
  {
   "cell_type": "markdown",
   "id": "8d6ac9c4",
   "metadata": {
    "id": "8d6ac9c4",
    "lang": "en"
   },
   "source": [
    "### Lists"
   ]
  },
  {
   "cell_type": "markdown",
   "id": "f832bb07",
   "metadata": {
    "id": "f832bb07",
    "lang": "en"
   },
   "source": [
    "a) Write the function **compute_mean(list_of_numbers)** which takes a list of numbers as parameters and returns the average of these numbers.\n",
    "\n",
    "Examples:\n",
    "\n",
    "compute_mean([2, 4, 0, 2, 4, 0]) = 2.0\n",
    "\n",
    "compute_mean([1, 1, 1]) = 1.0"
   ]
  },
  {
   "cell_type": "code",
   "execution_count": null,
   "id": "12ecc399",
   "metadata": {
    "ExecuteTime": {
     "end_time": "2021-09-17T20:03:06.627253Z",
     "start_time": "2021-09-17T20:03:06.622265Z"
    },
    "id": "12ecc399",
    "outputId": "12662c38-0026-4b46-f15f-bd56332e1727"
   },
   "outputs": [
    {
     "name": "stdout",
     "output_type": "stream",
     "text": [
      "2.0\n",
      "1.0\n"
     ]
    }
   ],
   "source": [
    "def compute_mean(list_of_numbers):\n",
    "    # to do\n",
    "    return mean\n",
    "\n",
    "print(compute_mean([2, 4, 0, 2, 4, 0]))\n",
    "print(compute_mean([1, 1, 1]))"
   ]
  },
  {
   "cell_type": "code",
   "execution_count": 109,
   "id": "430f65b2",
   "metadata": {},
   "outputs": [
    {
     "name": "stdout",
     "output_type": "stream",
     "text": [
      "2.0\n",
      "1.0\n"
     ]
    }
   ],
   "source": [
    "def compute_mean(list_of_numbers):\n",
    "    mean = sum(list_of_numbers) / len(list_of_numbers)\n",
    "    return mean\n",
    "\n",
    "print(compute_mean([2, 4, 0, 2, 4, 0]))\n",
    "print(compute_mean([1, 1, 1]))"
   ]
  },
  {
   "cell_type": "markdown",
   "id": "89bb74f2",
   "metadata": {
    "id": "89bb74f2",
    "lang": "en"
   },
   "source": [
    "b) Write the function **find_biggest_squared(threshold)** which takes a threshold as a parameter and returns the largest square strictly less than this threshold.\n",
    "\n",
    "Examples:\n",
    "\n",
    "find_biggest_squared(10) = 9\n",
    "\n",
    "find_biggest_squared(287389713) = 287370304"
   ]
  },
  {
   "cell_type": "code",
   "execution_count": 110,
   "id": "64b73b7a",
   "metadata": {},
   "outputs": [],
   "source": [
    "import math"
   ]
  },
  {
   "cell_type": "code",
   "execution_count": null,
   "id": "ba701463",
   "metadata": {
    "ExecuteTime": {
     "end_time": "2021-09-17T20:16:24.061603Z",
     "start_time": "2021-09-17T20:16:24.051885Z"
    },
    "id": "ba701463",
    "outputId": "622d0ce6-1dbb-4d5b-82d5-bc59255ddca4"
   },
   "outputs": [
    {
     "name": "stdout",
     "output_type": "stream",
     "text": [
      "9\n",
      "287370304\n"
     ]
    }
   ],
   "source": [
    "def find_biggest_squared(threshold):\n",
    "    # to do\n",
    "    return biggest_squared\n",
    "\n",
    "print(find_biggest_squared(10))\n",
    "print(find_biggest_squared(287389713))"
   ]
  },
  {
   "cell_type": "code",
   "execution_count": 125,
   "id": "877a9275",
   "metadata": {},
   "outputs": [
    {
     "name": "stdout",
     "output_type": "stream",
     "text": [
      "9\n",
      "287370304\n"
     ]
    }
   ],
   "source": [
    "#Let's try\n",
    "def find_biggest_squared(threshold):\n",
    "    biggest_squared= None\n",
    "    for i in range(int(threshold**0.5),0,-1):\n",
    "        square = i**2\n",
    "        if square <=threshold:\n",
    "            biggest_squared = square\n",
    "            break\n",
    "    return biggest_squared\n",
    "\n",
    "print(find_biggest_squared(10))\n",
    "print(find_biggest_squared(287389713))"
   ]
  },
  {
   "cell_type": "markdown",
   "id": "420206aa",
   "metadata": {
    "id": "420206aa",
    "lang": "en"
   },
   "source": [
    "### Data structures"
   ]
  },
  {
   "cell_type": "markdown",
   "id": "60d433f4",
   "metadata": {
    "id": "60d433f4",
    "lang": "en"
   },
   "source": [
    "c) Write the function **count_nucleic_acid(dna)** which takes as parameters a character string representing a DNA and the function will return a dictionary having as key the different nucleic acids (a, c, g, t) and for values ​​the number of times this acid was present in the character string. (NB: A string is a list of characters over which we can iterate...)\n",
    "\n",
    "Examples:\n",
    "\n",
    "count_nucleic_acid(\"tacgtagctagtacgtacgtgatgcatgcatcgatgctagctcgatcgag\") = {'a': 12, 'c': 11, 'g': 14, 't': 13}\n",
    "\n",
    "count_nucleic_acid(\"cgtagcatcaatcgatcgagatcgaatacgatagatcgatgatcgatcgaca\") = {'a': 18, 'c': 11, 'g': 12, 't': 11}"
   ]
  },
  {
   "cell_type": "code",
   "execution_count": null,
   "id": "6263b153",
   "metadata": {
    "ExecuteTime": {
     "end_time": "2021-10-08T18:29:14.973381Z",
     "start_time": "2021-10-08T18:29:14.967405Z"
    },
    "id": "6263b153",
    "outputId": "22711a24-138a-426a-afe1-99d745a57e55"
   },
   "outputs": [
    {
     "name": "stdout",
     "output_type": "stream",
     "text": [
      "{'a': 12, 'c': 11, 'g': 14, 't': 13}\n",
      "{'a': 18, 'c': 11, 'g': 12, 't': 11}\n"
     ]
    }
   ],
   "source": [
    "def count_nucleic_acid(adn):\n",
    "    # to do\n",
    "    d = {}\n",
    "    return d\n",
    "\n",
    "print(count_nucleic_acid(\"tacgtagctagtacgtacgtgatgcatgcatcgatgctagctcgatcgag\"))\n",
    "print(count_nucleic_acid(\"cgtagcatcaatcgatcgagatcgaatacgatagatcgatgatcgatcgaca\"))"
   ]
  },
  {
   "cell_type": "code",
   "execution_count": 14,
   "id": "59dc3054",
   "metadata": {},
   "outputs": [
    {
     "name": "stdout",
     "output_type": "stream",
     "text": [
      "{'a': 12, 'c': 11, 'g': 14, 't': 13}\n",
      "{'a': 18, 'c': 11, 'g': 12, 't': 11}\n"
     ]
    }
   ],
   "source": [
    "#Let's try\n",
    "def count_nucleic_acid(adn):\n",
    "    d = {}\n",
    "    d[\"a\"]=adn.count(\"a\")\n",
    "    d[\"c\"]=adn.count(\"c\")\n",
    "    d[\"g\"]=adn.count(\"g\")\n",
    "    d[\"t\"]=adn.count(\"t\")\n",
    "    \n",
    "    return d\n",
    "\n",
    "print(count_nucleic_acid(\"tacgtagctagtacgtacgtgatgcatgcatcgatgctagctcgatcgag\"))\n",
    "print(count_nucleic_acid(\"cgtagcatcaatcgatcgagatcgaatacgatagatcgatgatcgatcgaca\"))"
   ]
  },
  {
   "cell_type": "markdown",
   "id": "141f65bb",
   "metadata": {
    "id": "141f65bb",
    "lang": "en"
   },
   "source": [
    "### Date functions"
   ]
  },
  {
   "cell_type": "markdown",
   "id": "b3ae212d",
   "metadata": {
    "id": "b3ae212d",
    "lang": "en"
   },
   "source": [
    "d) Write the function **get_future_day_of_week(nb_days_since_today)** which returns the day of the week that will be the n-th day from today (where O = Monday, 6 = Sunday). By default, the function will return today's day. (NB: you will need to use the datetime library with two date and timedelta modules)\n",
    "\n",
    "Examples:\n",
    "\n",
    "get_future_day_of_week() = 4 (Friday)\n",
    "\n",
    "get_future_day_of_week(nb_days_since_today=20) = 3 (Thursday)"
   ]
  },
  {
   "cell_type": "code",
   "execution_count": 10,
   "id": "ef36a029",
   "metadata": {
    "ExecuteTime": {
     "end_time": "2021-10-08T18:12:49.104056Z",
     "start_time": "2021-10-08T18:12:49.099198Z"
    },
    "id": "ef36a029",
    "outputId": "fd2bedee-c9f5-4e9d-f100-b32d9d6ae23d"
   },
   "outputs": [
    {
     "ename": "NameError",
     "evalue": "name 'day_of_week' is not defined",
     "output_type": "error",
     "traceback": [
      "\u001b[1;31m---------------------------------------------------------------------------\u001b[0m",
      "\u001b[1;31mNameError\u001b[0m                                 Traceback (most recent call last)",
      "Cell \u001b[1;32mIn[10], line 7\u001b[0m\n\u001b[0;32m      3\u001b[0m \u001b[38;5;28;01mdef\u001b[39;00m \u001b[38;5;21mget_future_day_of_week\u001b[39m(nb_days_since_today\u001b[38;5;241m=\u001b[39m\u001b[38;5;241m0\u001b[39m):\n\u001b[0;32m      4\u001b[0m     \u001b[38;5;66;03m# to do\u001b[39;00m\n\u001b[0;32m      5\u001b[0m     \u001b[38;5;28;01mreturn\u001b[39;00m day_of_week\n\u001b[1;32m----> 7\u001b[0m \u001b[38;5;28mprint\u001b[39m(\u001b[43mget_future_day_of_week\u001b[49m\u001b[43m(\u001b[49m\u001b[43m)\u001b[49m)\n\u001b[0;32m      8\u001b[0m \u001b[38;5;28mprint\u001b[39m(get_future_day_of_week(nb_days_since_today\u001b[38;5;241m=\u001b[39m\u001b[38;5;241m20\u001b[39m))\n",
      "Cell \u001b[1;32mIn[10], line 5\u001b[0m, in \u001b[0;36mget_future_day_of_week\u001b[1;34m(nb_days_since_today)\u001b[0m\n\u001b[0;32m      3\u001b[0m \u001b[38;5;28;01mdef\u001b[39;00m \u001b[38;5;21mget_future_day_of_week\u001b[39m(nb_days_since_today\u001b[38;5;241m=\u001b[39m\u001b[38;5;241m0\u001b[39m):\n\u001b[0;32m      4\u001b[0m     \u001b[38;5;66;03m# to do\u001b[39;00m\n\u001b[1;32m----> 5\u001b[0m     \u001b[38;5;28;01mreturn\u001b[39;00m \u001b[43mday_of_week\u001b[49m\n",
      "\u001b[1;31mNameError\u001b[0m: name 'day_of_week' is not defined"
     ]
    }
   ],
   "source": [
    "from datetime import date, timedelta\n",
    "\n",
    "def get_future_day_of_week(nb_days_since_today=0):\n",
    "    # to do\n",
    "    return day_of_week\n",
    "\n",
    "print(get_future_day_of_week())\n",
    "print(get_future_day_of_week(nb_days_since_today=20))"
   ]
  },
  {
   "cell_type": "code",
   "execution_count": 11,
   "id": "a03a51cf",
   "metadata": {},
   "outputs": [
    {
     "name": "stdout",
     "output_type": "stream",
     "text": [
      "Thursday\n",
      "Saturday\n"
     ]
    }
   ],
   "source": [
    "#Let's try it !!!\n",
    "from datetime import date, timedelta\n",
    "\n",
    "def get_future_day_of_week(nb_days_since_today=0):\n",
    "    newDate = date.today() + timedelta(days=nb_days_since_today)\n",
    "    day_of_week = newDate.weekday()\n",
    "    # Define a list of day names\n",
    "    days_of_week_names = [\"Monday\", \"Tuesday\", \"Wednesday\", \"Thursday\", \"Friday\", \"Saturday\", \"Sunday\"]\n",
    "\n",
    "    # Get the day name from the list\n",
    "    day_name = days_of_week_names[day_of_week]\n",
    "    return day_name\n",
    "\n",
    "print(get_future_day_of_week())\n",
    "print(get_future_day_of_week(nb_days_since_today=23))"
   ]
  },
  {
   "cell_type": "markdown",
   "id": "76b45814",
   "metadata": {
    "id": "76b45814",
    "lang": "en"
   },
   "source": [
    "e) Write the function **nb_days_between(start_date, end_date)** which returns the number of days between two dates in YYYY/MM/DD format.\n",
    "\n",
    "Examples:\n",
    "\n",
    "count_days_between(\"2019/09/05\", \"2021/05/17\") = 620\n",
    "\n",
    "nb_days_between(\"1492/10/12\", \"2021/10/11\") = 193212"
   ]
  },
  {
   "cell_type": "code",
   "execution_count": null,
   "id": "cf78368c",
   "metadata": {
    "ExecuteTime": {
     "end_time": "2021-10-10T16:39:05.510028Z",
     "start_time": "2021-10-10T16:39:05.505565Z"
    },
    "id": "cf78368c",
    "outputId": "af5e254a-5fc5-44b6-fa7b-95a574bde50c"
   },
   "outputs": [
    {
     "name": "stdout",
     "output_type": "stream",
     "text": [
      "620\n",
      "193212\n"
     ]
    }
   ],
   "source": [
    "from datetime import datetime\n",
    "\n",
    "def nb_days_between(start_date, end_date):\n",
    "    difference = # to do\n",
    "    return difference.days\n",
    "\n",
    "print(nb_days_between(\"2019/09/05\", \"2021/05/17\"))\n",
    "print(nb_days_between(\"1492/10/12\", \"2021/10/11\"))"
   ]
  },
  {
   "cell_type": "code",
   "execution_count": 12,
   "id": "3dbdba4a",
   "metadata": {},
   "outputs": [
    {
     "name": "stdout",
     "output_type": "stream",
     "text": [
      "620\n",
      "193212\n"
     ]
    }
   ],
   "source": [
    "#Let's try it !!!\n",
    "from datetime import datetime\n",
    "\n",
    "def nb_days_between(start_date, end_date):\n",
    "    start_year, start_month, start_day = map(int, start_date.split(\"/\"))\n",
    "    end_year, end_month, end_day = map(int,end_date.split(\"/\"))\n",
    "    \n",
    "    # Create datetime objects using the parsed dates\n",
    "    # Consider not to use datetime.date to define objects\n",
    "    start = datetime(start_year, start_month, start_day)\n",
    "    end = datetime(end_year, end_month, end_day)\n",
    "    \n",
    "    difference = end - start \n",
    "    return difference.days\n",
    "\n",
    "print(nb_days_between(\"2019/09/05\", \"2021/05/17\"))\n",
    "print(nb_days_between(\"1492/10/12\", \"2021/10/11\"))"
   ]
  },
  {
   "cell_type": "markdown",
   "id": "c2892245",
   "metadata": {
    "id": "c2892245",
    "lang": "en"
   },
   "source": [
    "f) [Difficult and to be done last] Write the function **time_function(function)** which takes a function as a parameter and returns its execution time in microseconds. We will limit ourselves to functions that do not take an input parameter. (More advanced exercise for those who wish)"
   ]
  },
  {
   "cell_type": "code",
   "execution_count": 6,
   "id": "7ba3771c",
   "metadata": {
    "ExecuteTime": {
     "end_time": "2021-10-08T18:31:46.884320Z",
     "start_time": "2021-10-08T18:31:46.879499Z"
    },
    "id": "7ba3771c",
    "outputId": "14823d24-1bd3-4ead-f5fd-1eae9d05da6d"
   },
   "outputs": [
    {
     "ename": "NameError",
     "evalue": "name 'get_current_date' is not defined",
     "output_type": "error",
     "traceback": [
      "\u001b[1;31m---------------------------------------------------------------------------\u001b[0m",
      "\u001b[1;31mNameError\u001b[0m                                 Traceback (most recent call last)",
      "Cell \u001b[1;32mIn[6], line 7\u001b[0m\n\u001b[0;32m      3\u001b[0m \u001b[38;5;28;01mdef\u001b[39;00m \u001b[38;5;21mtime_function\u001b[39m(function, \u001b[38;5;241m*\u001b[39margs):\n\u001b[0;32m      4\u001b[0m     \u001b[38;5;66;03m# to do\u001b[39;00m\n\u001b[0;32m      5\u001b[0m     \u001b[38;5;28;01mreturn\u001b[39;00m duration\u001b[38;5;241m.\u001b[39mmicroseconds\n\u001b[1;32m----> 7\u001b[0m \u001b[38;5;28mprint\u001b[39m(time_function(\u001b[43mget_current_date\u001b[49m))\n\u001b[0;32m      8\u001b[0m \u001b[38;5;28mprint\u001b[39m(time_function(get_future_day_of_week))\n\u001b[0;32m      9\u001b[0m \u001b[38;5;28mprint\u001b[39m(time_function(count_nucleic_acid, \u001b[38;5;124m\"\u001b[39m\u001b[38;5;124mtacgtagctagtacgtacgtgatgcatgcatcgatgctagctcgatcgag\u001b[39m\u001b[38;5;124m\"\u001b[39m))\n",
      "\u001b[1;31mNameError\u001b[0m: name 'get_current_date' is not defined"
     ]
    }
   ],
   "source": [
    "from datetime import datetime\n",
    "\n",
    "def time_function(function, *args):\n",
    "    # to do\n",
    "    return duration.microseconds\n",
    "\n",
    "print(time_function(get_current_date))\n",
    "print(time_function(get_future_day_of_week))\n",
    "print(time_function(count_nucleic_acid, \"tacgtagctagtacgtacgtgatgcatgcatcgatgctagctcgatcgag\"))"
   ]
  },
  {
   "cell_type": "code",
   "execution_count": 19,
   "id": "e23bb392",
   "metadata": {},
   "outputs": [
    {
     "name": "stdout",
     "output_type": "stream",
     "text": [
      "2023-11-02 19:12:36.827062 2023-11-02 19:12:36.827062\n",
      "0\n",
      "2023-11-02 19:12:36.827062 2023-11-02 19:12:36.827062\n",
      "0\n",
      "2023-11-02 19:12:36.827062 2023-11-02 19:12:36.827062\n",
      "0\n"
     ]
    }
   ],
   "source": [
    "#Let's try it!!\n",
    "from datetime import datetime\n",
    "import time\n",
    "# Example function: get_current_date\n",
    "def get_current_date():\n",
    "    return datetime.now()\n",
    "\n",
    "def time_function(function, *args):\n",
    "    \n",
    "    #log startTime\n",
    "    startTime = datetime.now()\n",
    "    #call callback function\n",
    "    result = function(*args)\n",
    "    #time.sleep(1)\n",
    "    #Log endTime\n",
    "    endTime = datetime.now()\n",
    "    #debug why startTime is always equal endTime ???\n",
    "    print(endTime , startTime)\n",
    "    #calculate duration \n",
    "    duration = endTime - startTime\n",
    "    return duration.microseconds\n",
    "\n",
    "print(time_function(get_current_date))\n",
    "print(time_function(get_future_day_of_week))\n",
    "print(time_function(count_nucleic_acid, \"tacgtagctagtacgtacgtgatgcatgcatcgatgctagctcgatcgag\"))\n"
   ]
  },
  {
   "cell_type": "markdown",
   "id": "39bca99c",
   "metadata": {
    "id": "39bca99c",
    "lang": "en"
   },
   "source": [
    "### Character strings"
   ]
  },
  {
   "cell_type": "markdown",
   "id": "96ff4cd9",
   "metadata": {
    "id": "96ff4cd9",
    "lang": "en"
   },
   "source": [
    "g) Download [this text](https://drive.google.com/file/d/1KkYmmAhOVrleMgtTcIIwA7iXaStIvpET/view?usp=sharing) and load it. We will use the code below for this.\n",
    "\n",
    "The text comes from the generator https://www.lipsum.com)"
   ]
  },
  {
   "cell_type": "code",
   "execution_count": 178,
   "id": "be42a582",
   "metadata": {
    "ExecuteTime": {
     "end_time": "2021-10-10T15:02:55.272776Z",
     "start_time": "2021-10-10T15:02:55.269262Z"
    },
    "id": "be42a582",
    "outputId": "86a4012f-543b-477a-f10f-1d724a253065"
   },
   "outputs": [
    {
     "name": "stdout",
     "output_type": "stream",
     "text": [
      "ï»¿Lorem Ipsum is simply dummy text of the printing and typesetting industry. Lorem Ipsum has been the industry's standard dummy text ever since the 1500s, when an unknown printer took a galley of type and scrambled it to make a type specimen book. It has survived not only five centuries, but also the leap into electronic typesetting, remaining essentially unchanged.\n"
     ]
    }
   ],
   "source": [
    "with open(\"en_text.txt\") as file:\n",
    "    text = file.read()\n",
    "\n",
    "print(text)"
   ]
  },
  {
   "cell_type": "markdown",
   "id": "9a4b6ac0",
   "metadata": {
    "id": "9a4b6ac0",
    "lang": "en"
   },
   "source": [
    "h) Determine the five characters most present in the text (with its number of occurrences). You can use the collections library with the Counter module to go faster.\n",
    "\n",
    "---"
   ]
  },
  {
   "cell_type": "code",
   "execution_count": 179,
   "id": "e240aa41",
   "metadata": {
    "ExecuteTime": {
     "end_time": "2021-10-10T15:05:46.142689Z",
     "start_time": "2021-10-10T15:05:46.138603Z"
    },
    "id": "e240aa41",
    "outputId": "c6628cf1-8de8-4196-a15f-89be428d3375"
   },
   "outputs": [],
   "source": [
    "from collections import Counter\n",
    "\n",
    "#to do"
   ]
  },
  {
   "cell_type": "code",
   "execution_count": 180,
   "id": "66513da1",
   "metadata": {},
   "outputs": [
    {
     "data": {
      "text/plain": [
       "Counter({' ': 59,\n",
       "         'e': 37,\n",
       "         't': 31,\n",
       "         'n': 28,\n",
       "         's': 21,\n",
       "         'i': 20,\n",
       "         'a': 17,\n",
       "         'o': 15,\n",
       "         'r': 14,\n",
       "         'm': 13,\n",
       "         'y': 12,\n",
       "         'p': 11,\n",
       "         'u': 11,\n",
       "         'd': 11,\n",
       "         'l': 10,\n",
       "         'h': 8,\n",
       "         'c': 7,\n",
       "         'g': 6,\n",
       "         'b': 4,\n",
       "         'v': 4,\n",
       "         'k': 4,\n",
       "         'I': 3,\n",
       "         'f': 3,\n",
       "         '.': 3,\n",
       "         ',': 3,\n",
       "         'L': 2,\n",
       "         'x': 2,\n",
       "         '0': 2,\n",
       "         'w': 2,\n",
       "         'ï': 1,\n",
       "         '»': 1,\n",
       "         '¿': 1,\n",
       "         \"'\": 1,\n",
       "         '1': 1,\n",
       "         '5': 1})"
      ]
     },
     "execution_count": 180,
     "metadata": {},
     "output_type": "execute_result"
    }
   ],
   "source": [
    "Counter(text)"
   ]
  },
  {
   "cell_type": "code",
   "execution_count": 183,
   "id": "c3454904",
   "metadata": {},
   "outputs": [
    {
     "data": {
      "text/plain": [
       "[(' ', 59), ('e', 37), ('t', 31)]"
      ]
     },
     "execution_count": 183,
     "metadata": {},
     "output_type": "execute_result"
    }
   ],
   "source": [
    "Counter(text).most_common(3)"
   ]
  },
  {
   "cell_type": "markdown",
   "id": "fd9f4660",
   "metadata": {
    "id": "fd9f4660",
    "lang": "en"
   },
   "source": [
    "i) What is the longest word in the text? You can study the arguments of the function max..."
   ]
  },
  {
   "cell_type": "code",
   "execution_count": null,
   "id": "2deb1bc3",
   "metadata": {
    "ExecuteTime": {
     "end_time": "2021-10-10T15:10:38.733969Z",
     "start_time": "2021-10-10T15:10:38.729715Z"
    },
    "id": "2deb1bc3",
    "outputId": "819ecdf0-201e-45b1-d0cf-0ede88c73c5b"
   },
   "outputs": [
    {
     "data": {
      "text/plain": [
       "'ressemblent'"
      ]
     },
     "execution_count": 69,
     "metadata": {},
     "output_type": "execute_result"
    }
   ],
   "source": [
    "max(# to do)"
   ]
  },
  {
   "cell_type": "code",
   "execution_count": 200,
   "id": "966dd82b",
   "metadata": {
    "scrolled": true
   },
   "outputs": [
    {
     "name": "stdout",
     "output_type": "stream",
     "text": [
      "ï»¿Lorem 8\n",
      "typesetting 11\n"
     ]
    }
   ],
   "source": [
    "longestWord=0\n",
    "remindedWord = \"\"\n",
    "words = text.split()\n",
    "for word in words:\n",
    "    \n",
    "    if len(word.strip(\".,!?;:'\\\"()[]{}\"))> len(remindedWord):\n",
    "        remindedWord = word\n",
    "        print(remindedWord, len(remindedWord))\n",
    "        \n"
   ]
  }
 ],
 "metadata": {
  "colab": {
   "provenance": []
  },
  "kernelspec": {
   "display_name": "Python 3 (ipykernel)",
   "language": "python",
   "name": "python3"
  },
  "language_info": {
   "codemirror_mode": {
    "name": "ipython",
    "version": 3
   },
   "file_extension": ".py",
   "mimetype": "text/x-python",
   "name": "python",
   "nbconvert_exporter": "python",
   "pygments_lexer": "ipython3",
   "version": "3.9.7"
  },
  "nbTranslate": {
   "displayLangs": [
    "*"
   ],
   "hotkey": "e",
   "langInMainMenu": true,
   "sourceLang": "fr",
   "targetLang": "en",
   "useGoogleTranslate": true
  },
  "toc": {
   "base_numbering": 1,
   "nav_menu": {},
   "number_sections": true,
   "sideBar": true,
   "skip_h1_title": false,
   "title_cell": "Table of Contents",
   "title_sidebar": "Contents",
   "toc_cell": false,
   "toc_position": {},
   "toc_section_display": true,
   "toc_window_display": false
  },
  "varInspector": {
   "cols": {
    "lenName": 16,
    "lenType": 16,
    "lenVar": 40
   },
   "kernels_config": {
    "python": {
     "delete_cmd_postfix": "",
     "delete_cmd_prefix": "del ",
     "library": "var_list.py",
     "varRefreshCmd": "print(var_dic_list())"
    },
    "r": {
     "delete_cmd_postfix": ") ",
     "delete_cmd_prefix": "rm(",
     "library": "var_list.r",
     "varRefreshCmd": "cat(var_dic_list()) "
    }
   },
   "types_to_exclude": [
    "module",
    "function",
    "builtin_function_or_method",
    "instance",
    "_Feature"
   ],
   "window_display": false
  }
 },
 "nbformat": 4,
 "nbformat_minor": 5
}
