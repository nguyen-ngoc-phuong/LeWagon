{
 "cells": [
  {
   "cell_type": "markdown",
   "id": "_TQYWmV0-mrV",
   "metadata": {
    "id": "_TQYWmV0-mrV"
   },
   "source": [
    "## EDA Tiller System"
   ]
  },
  {
   "cell_type": "markdown",
   "id": "d7cfdb56",
   "metadata": {
    "lang": "en"
   },
   "source": [
    "### Import of libraries and data"
   ]
  },
  {
   "cell_type": "markdown",
   "id": "5c1a1d97",
   "metadata": {
    "lang": "en"
   },
   "source": [
    "a) Add the `pandas_profiling` library to your environment and import the following libraries:"
   ]
  },
  {
   "cell_type": "code",
   "execution_count": 1,
   "id": "OlMvy5Ks-woI",
   "metadata": {
    "id": "OlMvy5Ks-woI"
   },
   "outputs": [
    {
     "name": "stderr",
     "output_type": "stream",
     "text": [
      "C:\\Users\\p.nguyen\\AppData\\Local\\Temp\\ipykernel_32260\\143537657.py:5: DeprecationWarning: `import pandas_profiling` is going to be deprecated by April 1st. Please use `import ydata_profiling` instead.\n",
      "  from pandas_profiling import ProfileReport\n"
     ]
    }
   ],
   "source": [
    "from collections import Counter\n",
    "import json\n",
    "\n",
    "import pandas as pd\n",
    "from pandas_profiling import ProfileReport\n",
    "#ydata_profiling has also be installed => "
   ]
  },
  {
   "cell_type": "markdown",
   "id": "30857595",
   "metadata": {
    "lang": "en"
   },
   "source": [
    "b) Normally you have already downloaded the data [order_data](https://drive.google.com/file/d/1X5uXVFrl7SuMUKe7CJaiCmGEOhokorh2/view?usp=sharing) and [order_line](https: //drive.google.com/file/d/1G7Jbq_m-tJrHRhL-44j8XFOVs_zPil_9/view?usp=sharing)."
   ]
  },
  {
   "cell_type": "markdown",
   "id": "3eb1559e",
   "metadata": {
    "lang": "en"
   },
   "source": [
    "c) Import this data into 2 dataframes order_data and order_line"
   ]
  },
  {
   "cell_type": "code",
   "execution_count": 3,
   "id": "TNxhRi-Y-ztH",
   "metadata": {
    "id": "TNxhRi-Y-ztH"
   },
   "outputs": [],
   "source": [
    "#Let's try :-)\n",
    "df_order_data = pd.read_csv(\"./Tiller_order_data.csv\",low_memory=False)\n"
   ]
  },
  {
   "cell_type": "code",
   "execution_count": 4,
   "id": "6f6dbd70",
   "metadata": {},
   "outputs": [],
   "source": [
    "#Let's try :-)\n",
    "df_order_line = pd.read_csv(\"./Tiller_order_line.csv\")"
   ]
  },
  {
   "cell_type": "markdown",
   "id": "d5b9a03f",
   "metadata": {
    "lang": "en"
   },
   "source": [
    "### Missing values"
   ]
  },
  {
   "cell_type": "markdown",
   "id": "09d1c5a2",
   "metadata": {
    "lang": "en"
   },
   "source": [
    "d) Using the info function, look at the number of missing values ​​per column of your order_data dataframe"
   ]
  },
  {
   "cell_type": "code",
   "execution_count": 12,
   "id": "775aadb8",
   "metadata": {},
   "outputs": [],
   "source": [
    "df_order_data.info?"
   ]
  },
  {
   "cell_type": "code",
   "execution_count": 11,
   "id": "d23a9dd8",
   "metadata": {
    "ExecuteTime": {
     "end_time": "2021-12-07T20:50:43.001680Z",
     "start_time": "2021-12-07T20:50:42.945528Z"
    },
    "id": "d23a9dd8"
   },
   "outputs": [],
   "source": [
    "df_order_data.info()\n",
    "#RangeIndex: 117304 entries\n",
    "# \"\"\"\n",
    "#   #   Column          Non-Null Count   Dtype  \n",
    "# ---  ------          --------------   -----  \n",
    "#  0   id_order        117304 non-null  int64    => ok\n",
    "#  1   id_store        117304 non-null  int64    => ok  \n",
    "#  2   id_table        21917 non-null   float64  => nok\n",
    "#  3   id_waiter       57377 non-null   float64  => nok\n",
    "#  4   id_customer     1867 non-null    float64  => nok\n",
    "#  5   id_external     117232 non-null  object   => nok\n",
    "#  6   id_device       108906 non-null  float64  => nok\n",
    "#  7   date_opened     117304 non-null  object   => ok \n",
    "#  8   date_closed     117304 non-null  object   => ok \n",
    "#  9   dim_name        56553 non-null   object   => nok\n",
    "#  10  dim_status      117304 non-null  object   => ok \n",
    "#  11  dim_type        117304 non-null  int64    => ok \n",
    "#  12  dim_comment     94 non-null      object   => nok\n",
    "#  13  dim_source      117303 non-null  object   => nok\n",
    "#  14  m_nb_customer   117304 non-null  int64    => ok \n",
    "#  15  m_cached_payed  117304 non-null  float64  => ok \n",
    "#  16  m_cached_price  117304 non-null  float64  => ok \n",
    " \n",
    "#  \"\"\""
   ]
  },
  {
   "cell_type": "markdown",
   "id": "258fce8e",
   "metadata": {
    "lang": "en"
   },
   "source": [
    "e) Using this time the isnull() function, calculate the percentage of null rows per column of your datafrale order_data"
   ]
  },
  {
   "cell_type": "code",
   "execution_count": null,
   "id": "f56afb6c",
   "metadata": {},
   "outputs": [],
   "source": []
  },
  {
   "cell_type": "code",
   "execution_count": 6,
   "id": "8afe8994",
   "metadata": {},
   "outputs": [
    {
     "name": "stdout",
     "output_type": "stream",
     "text": [
      "117304\n"
     ]
    },
    {
     "data": {
      "text/plain": [
       "id_order           0.000000\n",
       "id_store           0.000000\n",
       "id_table          81.316068\n",
       "id_waiter         51.086919\n",
       "id_customer       98.408409\n",
       "id_external        0.061379\n",
       "id_device          7.159176\n",
       "date_opened        0.000000\n",
       "date_closed        0.000000\n",
       "dim_name          51.789368\n",
       "dim_status         0.000000\n",
       "dim_type           0.000000\n",
       "dim_comment       99.919866\n",
       "dim_source         0.000852\n",
       "m_nb_customer      0.000000\n",
       "m_cached_payed     0.000000\n",
       "m_cached_price     0.000000\n",
       "dtype: float64"
      ]
     },
     "execution_count": 6,
     "metadata": {},
     "output_type": "execute_result"
    }
   ],
   "source": [
    "#Let's try :-)\n",
    "total = df_order_data.id_order.size\n",
    "print(total)\n",
    "(df_order_data.isnull().sum()/total ) *100"
   ]
  },
  {
   "cell_type": "code",
   "execution_count": 6,
   "id": "4S_ONFsYHQ6t",
   "metadata": {
    "collapsed": true,
    "id": "4S_ONFsYHQ6t"
   },
   "outputs": [
    {
     "name": "stdout",
     "output_type": "stream",
     "text": [
      "percentage of null rows for 'id_order':  0.00%\n",
      "percentage of null rows for 'id_store':  0.00%\n",
      "percentage of null rows for 'id_table':  81.32%\n",
      "percentage of null rows for 'id_waiter':  51.09%\n",
      "percentage of null rows for 'id_customer':  98.41%\n",
      "percentage of null rows for 'id_external':  0.06%\n",
      "percentage of null rows for 'id_device':  7.16%\n",
      "percentage of null rows for 'date_opened':  0.00%\n",
      "percentage of null rows for 'date_closed':  0.00%\n",
      "percentage of null rows for 'dim_name':  51.79%\n",
      "percentage of null rows for 'dim_status':  0.00%\n",
      "percentage of null rows for 'dim_type':  0.00%\n",
      "percentage of null rows for 'dim_comment':  99.92%\n",
      "percentage of null rows for 'dim_source':  0.00%\n",
      "percentage of null rows for 'm_nb_customer':  0.00%\n",
      "percentage of null rows for 'm_cached_payed':  0.00%\n"
     ]
    }
   ],
   "source": [
    "for i in range(0,16):\n",
    "    size = df_order_data.iloc[:,i].size\n",
    "    size_is_null = df_order_data.iloc[:,i].isnull().sum()\n",
    "    column_name = df_order_data.columns[i]\n",
    "    #output console\n",
    "    print(f\"percentage of null rows for '{column_name}': {(size_is_null/size)*100 : .2f}%\")\n",
    "    "
   ]
  },
  {
   "cell_type": "markdown",
   "id": "e9a80fe5",
   "metadata": {
    "lang": "en"
   },
   "source": [
    "f) How can you explain that there are so many id_customer to null?"
   ]
  },
  {
   "cell_type": "code",
   "execution_count": null,
   "id": "3656ad00",
   "metadata": {},
   "outputs": [],
   "source": [
    "# customers are not registered"
   ]
  },
  {
   "cell_type": "markdown",
   "id": "42812f0f",
   "metadata": {
    "lang": "en"
   },
   "source": [
    "g) Create a subdataframe that only contains non-null id_customer rows? You can use the `~` operator"
   ]
  },
  {
   "cell_type": "code",
   "execution_count": 21,
   "id": "g2DKzlwTMJU0",
   "metadata": {
    "id": "g2DKzlwTMJU0"
   },
   "outputs": [
    {
     "data": {
      "text/html": [
       "<div>\n",
       "<style scoped>\n",
       "    .dataframe tbody tr th:only-of-type {\n",
       "        vertical-align: middle;\n",
       "    }\n",
       "\n",
       "    .dataframe tbody tr th {\n",
       "        vertical-align: top;\n",
       "    }\n",
       "\n",
       "    .dataframe thead th {\n",
       "        text-align: right;\n",
       "    }\n",
       "</style>\n",
       "<table border=\"1\" class=\"dataframe\">\n",
       "  <thead>\n",
       "    <tr style=\"text-align: right;\">\n",
       "      <th></th>\n",
       "      <th>id_order</th>\n",
       "      <th>id_store</th>\n",
       "      <th>id_table</th>\n",
       "      <th>id_waiter</th>\n",
       "      <th>id_customer</th>\n",
       "      <th>id_external</th>\n",
       "      <th>id_device</th>\n",
       "      <th>date_opened</th>\n",
       "      <th>date_closed</th>\n",
       "      <th>dim_name</th>\n",
       "      <th>dim_status</th>\n",
       "      <th>dim_type</th>\n",
       "      <th>dim_comment</th>\n",
       "      <th>dim_source</th>\n",
       "      <th>m_nb_customer</th>\n",
       "      <th>m_cached_payed</th>\n",
       "      <th>m_cached_price</th>\n",
       "    </tr>\n",
       "  </thead>\n",
       "  <tbody>\n",
       "    <tr>\n",
       "      <th>173</th>\n",
       "      <td>133891746</td>\n",
       "      <td>8283</td>\n",
       "      <td>NaN</td>\n",
       "      <td>16793.0</td>\n",
       "      <td>1673951.0</td>\n",
       "      <td>C4F34FB9-6DA1-45A1-95B6-107896E528CA</td>\n",
       "      <td>NaN</td>\n",
       "      <td>2020-07-21 10:36:18 UTC</td>\n",
       "      <td>2020-07-21 10:48:32 UTC</td>\n",
       "      <td>A6</td>\n",
       "      <td>CLOSED</td>\n",
       "      <td>1</td>\n",
       "      <td>NaN</td>\n",
       "      <td>tiller-order</td>\n",
       "      <td>1</td>\n",
       "      <td>30.9</td>\n",
       "      <td>30.9</td>\n",
       "    </tr>\n",
       "    <tr>\n",
       "      <th>174</th>\n",
       "      <td>135443933</td>\n",
       "      <td>8283</td>\n",
       "      <td>NaN</td>\n",
       "      <td>16793.0</td>\n",
       "      <td>2274880.0</td>\n",
       "      <td>FB13A7D7-EF75-4F89-8FE0-A65D98848F20</td>\n",
       "      <td>NaN</td>\n",
       "      <td>2020-07-30 16:17:39 UTC</td>\n",
       "      <td>2020-07-30 16:18:23 UTC</td>\n",
       "      <td>A9</td>\n",
       "      <td>CLOSED</td>\n",
       "      <td>1</td>\n",
       "      <td>NaN</td>\n",
       "      <td>tiller-order</td>\n",
       "      <td>1</td>\n",
       "      <td>32.7</td>\n",
       "      <td>32.7</td>\n",
       "    </tr>\n",
       "    <tr>\n",
       "      <th>179</th>\n",
       "      <td>132658768</td>\n",
       "      <td>8283</td>\n",
       "      <td>NaN</td>\n",
       "      <td>16793.0</td>\n",
       "      <td>1739179.0</td>\n",
       "      <td>67F9BCE7-E36D-4694-8238-08119AE1B766</td>\n",
       "      <td>NaN</td>\n",
       "      <td>2020-07-13 13:16:48 UTC</td>\n",
       "      <td>2020-07-13 13:17:11 UTC</td>\n",
       "      <td>A11</td>\n",
       "      <td>CLOSED</td>\n",
       "      <td>1</td>\n",
       "      <td>NaN</td>\n",
       "      <td>tiller-order</td>\n",
       "      <td>1</td>\n",
       "      <td>19.9</td>\n",
       "      <td>19.9</td>\n",
       "    </tr>\n",
       "    <tr>\n",
       "      <th>183</th>\n",
       "      <td>56148970</td>\n",
       "      <td>4337</td>\n",
       "      <td>NaN</td>\n",
       "      <td>NaN</td>\n",
       "      <td>1240617.0</td>\n",
       "      <td>2098522</td>\n",
       "      <td>NaN</td>\n",
       "      <td>2019-01-17 17:39:43 UTC</td>\n",
       "      <td>2019-01-17 17:49:01 UTC</td>\n",
       "      <td>MD 2098522 (18:41)</td>\n",
       "      <td>CLOSED</td>\n",
       "      <td>1</td>\n",
       "      <td>Delivery</td>\n",
       "      <td>RestoIn</td>\n",
       "      <td>0</td>\n",
       "      <td>23.8</td>\n",
       "      <td>23.8</td>\n",
       "    </tr>\n",
       "    <tr>\n",
       "      <th>190</th>\n",
       "      <td>114066972</td>\n",
       "      <td>8283</td>\n",
       "      <td>NaN</td>\n",
       "      <td>16793.0</td>\n",
       "      <td>1887406.0</td>\n",
       "      <td>B166821F-F0B5-46C8-9354-ADCEBB9C56D1</td>\n",
       "      <td>NaN</td>\n",
       "      <td>2020-01-21 15:50:41 UTC</td>\n",
       "      <td>2020-01-21 15:51:38 UTC</td>\n",
       "      <td>A22</td>\n",
       "      <td>CLOSED</td>\n",
       "      <td>1</td>\n",
       "      <td>NaN</td>\n",
       "      <td>tiller-order</td>\n",
       "      <td>1</td>\n",
       "      <td>31.7</td>\n",
       "      <td>31.7</td>\n",
       "    </tr>\n",
       "    <tr>\n",
       "      <th>...</th>\n",
       "      <td>...</td>\n",
       "      <td>...</td>\n",
       "      <td>...</td>\n",
       "      <td>...</td>\n",
       "      <td>...</td>\n",
       "      <td>...</td>\n",
       "      <td>...</td>\n",
       "      <td>...</td>\n",
       "      <td>...</td>\n",
       "      <td>...</td>\n",
       "      <td>...</td>\n",
       "      <td>...</td>\n",
       "      <td>...</td>\n",
       "      <td>...</td>\n",
       "      <td>...</td>\n",
       "      <td>...</td>\n",
       "      <td>...</td>\n",
       "    </tr>\n",
       "    <tr>\n",
       "      <th>91151</th>\n",
       "      <td>136528858</td>\n",
       "      <td>9084</td>\n",
       "      <td>265242.0</td>\n",
       "      <td>18911.0</td>\n",
       "      <td>2573388.0</td>\n",
       "      <td>E665CB9C-219E-4846-800D-6CAE6BDD41E2</td>\n",
       "      <td>17320.0</td>\n",
       "      <td>2020-08-06 19:00:17 UTC</td>\n",
       "      <td>2020-08-06 23:57:37 UTC</td>\n",
       "      <td>B11</td>\n",
       "      <td>CLOSED</td>\n",
       "      <td>1</td>\n",
       "      <td>NaN</td>\n",
       "      <td>tiller-order</td>\n",
       "      <td>1</td>\n",
       "      <td>7.0</td>\n",
       "      <td>7.0</td>\n",
       "    </tr>\n",
       "    <tr>\n",
       "      <th>91629</th>\n",
       "      <td>136657765</td>\n",
       "      <td>8052</td>\n",
       "      <td>184593.0</td>\n",
       "      <td>16199.0</td>\n",
       "      <td>2588048.0</td>\n",
       "      <td>11DBED68-B617-4C9D-8BCB-61CBA926CCBB</td>\n",
       "      <td>16813.0</td>\n",
       "      <td>2020-08-07 16:42:32 UTC</td>\n",
       "      <td>2020-08-07 19:52:21 UTC</td>\n",
       "      <td>B2</td>\n",
       "      <td>CLOSED</td>\n",
       "      <td>1</td>\n",
       "      <td>NaN</td>\n",
       "      <td>tiller-order</td>\n",
       "      <td>4</td>\n",
       "      <td>83.4</td>\n",
       "      <td>83.4</td>\n",
       "    </tr>\n",
       "    <tr>\n",
       "      <th>92264</th>\n",
       "      <td>135621408</td>\n",
       "      <td>8052</td>\n",
       "      <td>184589.0</td>\n",
       "      <td>NaN</td>\n",
       "      <td>2577253.0</td>\n",
       "      <td>A36EDBF9-18DD-44ED-9D7D-5BE671B42441</td>\n",
       "      <td>16813.0</td>\n",
       "      <td>2020-07-31 16:42:53 UTC</td>\n",
       "      <td>2020-07-31 18:54:04 UTC</td>\n",
       "      <td>Benjamin GUILLEMOIS</td>\n",
       "      <td>CLOSED</td>\n",
       "      <td>1</td>\n",
       "      <td>NaN</td>\n",
       "      <td>Tiller iPAD</td>\n",
       "      <td>5</td>\n",
       "      <td>46.0</td>\n",
       "      <td>46.0</td>\n",
       "    </tr>\n",
       "    <tr>\n",
       "      <th>93555</th>\n",
       "      <td>135621383</td>\n",
       "      <td>8052</td>\n",
       "      <td>184594.0</td>\n",
       "      <td>NaN</td>\n",
       "      <td>2577910.0</td>\n",
       "      <td>9F7A93B7-ABA6-4F65-98C0-8D9993E14858</td>\n",
       "      <td>16813.0</td>\n",
       "      <td>2020-07-31 17:52:16 UTC</td>\n",
       "      <td>2020-07-31 22:37:23 UTC</td>\n",
       "      <td>Benjamin</td>\n",
       "      <td>CLOSED</td>\n",
       "      <td>3</td>\n",
       "      <td>NaN</td>\n",
       "      <td>Tiller iPAD</td>\n",
       "      <td>4</td>\n",
       "      <td>136.5</td>\n",
       "      <td>136.5</td>\n",
       "    </tr>\n",
       "    <tr>\n",
       "      <th>95324</th>\n",
       "      <td>135622637</td>\n",
       "      <td>8052</td>\n",
       "      <td>184584.0</td>\n",
       "      <td>NaN</td>\n",
       "      <td>2577947.0</td>\n",
       "      <td>194FBCA0-F3EB-455D-AA20-4E7A0A24EB84</td>\n",
       "      <td>16813.0</td>\n",
       "      <td>2020-07-31 17:41:40 UTC</td>\n",
       "      <td>2020-07-31 20:56:04 UTC</td>\n",
       "      <td>Violaine COLLARD</td>\n",
       "      <td>CLOSED</td>\n",
       "      <td>3</td>\n",
       "      <td>NaN</td>\n",
       "      <td>Tiller iPAD</td>\n",
       "      <td>2</td>\n",
       "      <td>55.0</td>\n",
       "      <td>55.0</td>\n",
       "    </tr>\n",
       "  </tbody>\n",
       "</table>\n",
       "<p>1867 rows × 17 columns</p>\n",
       "</div>"
      ],
      "text/plain": [
       "        id_order  id_store  id_table  id_waiter  id_customer  \\\n",
       "173    133891746      8283       NaN    16793.0    1673951.0   \n",
       "174    135443933      8283       NaN    16793.0    2274880.0   \n",
       "179    132658768      8283       NaN    16793.0    1739179.0   \n",
       "183     56148970      4337       NaN        NaN    1240617.0   \n",
       "190    114066972      8283       NaN    16793.0    1887406.0   \n",
       "...          ...       ...       ...        ...          ...   \n",
       "91151  136528858      9084  265242.0    18911.0    2573388.0   \n",
       "91629  136657765      8052  184593.0    16199.0    2588048.0   \n",
       "92264  135621408      8052  184589.0        NaN    2577253.0   \n",
       "93555  135621383      8052  184594.0        NaN    2577910.0   \n",
       "95324  135622637      8052  184584.0        NaN    2577947.0   \n",
       "\n",
       "                                id_external  id_device  \\\n",
       "173    C4F34FB9-6DA1-45A1-95B6-107896E528CA        NaN   \n",
       "174    FB13A7D7-EF75-4F89-8FE0-A65D98848F20        NaN   \n",
       "179    67F9BCE7-E36D-4694-8238-08119AE1B766        NaN   \n",
       "183                                 2098522        NaN   \n",
       "190    B166821F-F0B5-46C8-9354-ADCEBB9C56D1        NaN   \n",
       "...                                     ...        ...   \n",
       "91151  E665CB9C-219E-4846-800D-6CAE6BDD41E2    17320.0   \n",
       "91629  11DBED68-B617-4C9D-8BCB-61CBA926CCBB    16813.0   \n",
       "92264  A36EDBF9-18DD-44ED-9D7D-5BE671B42441    16813.0   \n",
       "93555  9F7A93B7-ABA6-4F65-98C0-8D9993E14858    16813.0   \n",
       "95324  194FBCA0-F3EB-455D-AA20-4E7A0A24EB84    16813.0   \n",
       "\n",
       "                   date_opened              date_closed             dim_name  \\\n",
       "173    2020-07-21 10:36:18 UTC  2020-07-21 10:48:32 UTC                   A6   \n",
       "174    2020-07-30 16:17:39 UTC  2020-07-30 16:18:23 UTC                   A9   \n",
       "179    2020-07-13 13:16:48 UTC  2020-07-13 13:17:11 UTC                  A11   \n",
       "183    2019-01-17 17:39:43 UTC  2019-01-17 17:49:01 UTC   MD 2098522 (18:41)   \n",
       "190    2020-01-21 15:50:41 UTC  2020-01-21 15:51:38 UTC                  A22   \n",
       "...                        ...                      ...                  ...   \n",
       "91151  2020-08-06 19:00:17 UTC  2020-08-06 23:57:37 UTC                  B11   \n",
       "91629  2020-08-07 16:42:32 UTC  2020-08-07 19:52:21 UTC                   B2   \n",
       "92264  2020-07-31 16:42:53 UTC  2020-07-31 18:54:04 UTC  Benjamin GUILLEMOIS   \n",
       "93555  2020-07-31 17:52:16 UTC  2020-07-31 22:37:23 UTC            Benjamin    \n",
       "95324  2020-07-31 17:41:40 UTC  2020-07-31 20:56:04 UTC     Violaine COLLARD   \n",
       "\n",
       "      dim_status  dim_type dim_comment    dim_source  m_nb_customer  \\\n",
       "173       CLOSED         1         NaN  tiller-order              1   \n",
       "174       CLOSED         1         NaN  tiller-order              1   \n",
       "179       CLOSED         1         NaN  tiller-order              1   \n",
       "183       CLOSED         1    Delivery       RestoIn              0   \n",
       "190       CLOSED         1         NaN  tiller-order              1   \n",
       "...          ...       ...         ...           ...            ...   \n",
       "91151     CLOSED         1         NaN  tiller-order              1   \n",
       "91629     CLOSED         1         NaN  tiller-order              4   \n",
       "92264     CLOSED         1         NaN   Tiller iPAD              5   \n",
       "93555     CLOSED         3         NaN   Tiller iPAD              4   \n",
       "95324     CLOSED         3         NaN   Tiller iPAD              2   \n",
       "\n",
       "       m_cached_payed  m_cached_price  \n",
       "173              30.9            30.9  \n",
       "174              32.7            32.7  \n",
       "179              19.9            19.9  \n",
       "183              23.8            23.8  \n",
       "190              31.7            31.7  \n",
       "...               ...             ...  \n",
       "91151             7.0             7.0  \n",
       "91629            83.4            83.4  \n",
       "92264            46.0            46.0  \n",
       "93555           136.5           136.5  \n",
       "95324            55.0            55.0  \n",
       "\n",
       "[1867 rows x 17 columns]"
      ]
     },
     "execution_count": 21,
     "metadata": {},
     "output_type": "execute_result"
    }
   ],
   "source": [
    "#Let's try :-)\n",
    "mask = df_order_data.id_customer.isnull() \n",
    "#print(mask)\n",
    "# question: why it is working with and without .loc ?\n",
    "df_sub_nonnull_id_customer = df_order_data.loc[~mask]\n",
    "#df_sub_nonnull_id_customer = df_order_data[~mask]\n",
    "\n",
    "df_sub_nonnull_id_customer"
   ]
  },
  {
   "cell_type": "markdown",
   "id": "6e4d6f1d",
   "metadata": {
    "lang": "en"
   },
   "source": [
    "### Descriptive statistics"
   ]
  },
  {
   "cell_type": "markdown",
   "id": "bdbd043e",
   "metadata": {
    "lang": "en"
   },
   "source": [
    "h) What is the average price of an order? median? minimum? max?"
   ]
  },
  {
   "cell_type": "code",
   "execution_count": 33,
   "id": "afc205cb",
   "metadata": {
    "ExecuteTime": {
     "end_time": "2021-12-07T20:50:26.778009Z",
     "start_time": "2021-12-07T20:50:26.771504Z"
    },
    "id": "afc205cb"
   },
   "outputs": [
    {
     "name": "stdout",
     "output_type": "stream",
     "text": [
      "the average price of an order is  38.29 Euro\n",
      "the median price of an order is  14.10 Euro\n",
      "the minimum price of an order is  0.00 Euro\n",
      "the maximum price of an order is  11512.50 Euro\n"
     ]
    }
   ],
   "source": [
    "#Let's try :-)\n",
    "average = df_order_data[\"m_cached_payed\"].mean()\n",
    "median = df_order_data[\"m_cached_payed\"].median()\n",
    "minimum = df_order_data[\"m_cached_payed\"].min()\n",
    "maximum = df_order_data[\"m_cached_payed\"].max()\n",
    "\n",
    "\n",
    "print(f\"the average price of an order is {average : .2f} Euro\")\n",
    "print(f\"the median price of an order is {median: .2f} Euro\") \n",
    "print(f\"the minimum price of an order is {minimum: .2f} Euro\") \n",
    "print(f\"the maximum price of an order is {maximum: .2f} Euro\") "
   ]
  },
  {
   "cell_type": "markdown",
   "id": "02514670",
   "metadata": {
    "lang": "en"
   },
   "source": [
    "i) Use the describe function to have more descriptive statistics"
   ]
  },
  {
   "cell_type": "code",
   "execution_count": 14,
   "id": "DCADm6V4Fi5n",
   "metadata": {
    "id": "DCADm6V4Fi5n"
   },
   "outputs": [],
   "source": [
    "#Let's try :-)\n",
    "df_order_data.describe()"
   ]
  },
  {
   "cell_type": "markdown",
   "id": "cc088f25",
   "metadata": {
    "lang": "en"
   },
   "source": [
    "The dim_comment column"
   ]
  },
  {
   "cell_type": "markdown",
   "id": "9d0c239a",
   "metadata": {
    "lang": "en"
   },
   "source": [
    "j) What is the mode of the dim_name column?"
   ]
  },
  {
   "cell_type": "code",
   "execution_count": 61,
   "id": "8f31c32d",
   "metadata": {},
   "outputs": [],
   "source": [
    "#parameter of mode to ignore NaN/NaT\n",
    "df_order_data.dim_name.mode?"
   ]
  },
  {
   "cell_type": "code",
   "execution_count": 63,
   "id": "f19fd17a",
   "metadata": {
    "id": "f19fd17a"
   },
   "outputs": [
    {
     "data": {
      "text/plain": [
       "0    NaN\n",
       "Name: dim_name, dtype: object"
      ]
     },
     "execution_count": 63,
     "metadata": {},
     "output_type": "execute_result"
    }
   ],
   "source": [
    "#Let's try :-)\n",
    "df_order_data.dim_name.mode(False)"
   ]
  },
  {
   "cell_type": "markdown",
   "id": "6a40767e",
   "metadata": {
    "lang": "en"
   },
   "source": [
    "k) [More difficult] In which store was the order placed with the most products ordered? How many products in total?"
   ]
  },
  {
   "cell_type": "code",
   "execution_count": 97,
   "id": "haJfylOB8BdE",
   "metadata": {
    "id": "haJfylOB8BdE"
   },
   "outputs": [
    {
     "name": "stdout",
     "output_type": "stream",
     "text": [
      "1796 with most products ordered with 27349\n"
     ]
    }
   ],
   "source": [
    "#Let's try :-)\n",
    "# us m_quantity =>\n",
    "df_total_order = df_order_data.groupby(\"id_store\").size().reset_index(name='total_orders')\n",
    "\n",
    "index = df_total_order.total_orders.idxmax()\n",
    "\n",
    "store = df_total_order.id_store.loc[index]\n",
    "\n",
    "print(f\"{store} with most products ordered with {df_total_order.total_orders.max()}\")"
   ]
  },
  {
   "cell_type": "code",
   "execution_count": 83,
   "id": "c956ac57",
   "metadata": {},
   "outputs": [
    {
     "data": {
      "text/plain": [
       "id_store\n",
       "1796    27349\n",
       "4337    20003\n",
       "4542    17641\n",
       "6293    16103\n",
       "8283    10023\n",
       "Name: id_order, dtype: int64"
      ]
     },
     "execution_count": 83,
     "metadata": {},
     "output_type": "execute_result"
    }
   ],
   "source": [
    "df_order_data.groupby('id_store')['id_order'].count().nlargest()"
   ]
  },
  {
   "cell_type": "markdown",
   "id": "c352fda7",
   "metadata": {
    "lang": "en"
   },
   "source": [
    "### Temporal analyzes"
   ]
  },
  {
   "cell_type": "markdown",
   "id": "c8287cd0",
   "metadata": {
    "lang": "en"
   },
   "source": [
    "l) Convert `date_opened` and `date_closed` columns to datetime format"
   ]
  },
  {
   "cell_type": "code",
   "execution_count": 37,
   "id": "08033c5e",
   "metadata": {
    "collapsed": true
   },
   "outputs": [
    {
     "data": {
      "text/plain": [
       "0         2019-01-12 13:02:17 UTC\n",
       "1         2019-01-16 19:39:09 UTC\n",
       "2         2019-01-12 14:18:46 UTC\n",
       "3         2019-01-24 17:49:12 UTC\n",
       "4         2019-01-12 15:25:06 UTC\n",
       "                   ...           \n",
       "117299    2019-02-28 13:13:21 UTC\n",
       "117300    2019-06-11 11:08:01 UTC\n",
       "117301    2019-06-17 10:30:50 UTC\n",
       "117302    2019-02-21 11:50:58 UTC\n",
       "117303    2019-09-18 11:32:35 UTC\n",
       "Name: date_opened, Length: 117304, dtype: object"
      ]
     },
     "execution_count": 37,
     "metadata": {},
     "output_type": "execute_result"
    }
   ],
   "source": [
    "df_order_data.date_opened"
   ]
  },
  {
   "cell_type": "code",
   "execution_count": 38,
   "id": "9a0ff55a",
   "metadata": {
    "collapsed": true
   },
   "outputs": [
    {
     "data": {
      "text/plain": [
       "0         2019-01-12 19:58:38 UTC\n",
       "1         2019-01-16 22:10:50 UTC\n",
       "2         2019-01-12 19:50:32 UTC\n",
       "3         2019-01-24 21:58:59 UTC\n",
       "4         2019-01-12 19:21:03 UTC\n",
       "                   ...           \n",
       "117299    2019-02-28 13:38:45 UTC\n",
       "117300    2019-06-11 11:10:26 UTC\n",
       "117301    2019-06-17 10:32:45 UTC\n",
       "117302    2019-02-21 11:51:56 UTC\n",
       "117303    2019-09-18 11:39:38 UTC\n",
       "Name: date_closed, Length: 117304, dtype: object"
      ]
     },
     "execution_count": 38,
     "metadata": {},
     "output_type": "execute_result"
    }
   ],
   "source": [
    "df_order_data.date_closed"
   ]
  },
  {
   "cell_type": "code",
   "execution_count": 23,
   "id": "nqDqHVG2AMle",
   "metadata": {
    "id": "nqDqHVG2AMle"
   },
   "outputs": [],
   "source": [
    "#Let's try :-)\n",
    "df_order_data.date_opened= pd.to_datetime(df_order_data.date_opened)\n",
    "df_order_data.date_closed= pd.to_datetime(df_order_data.date_closed)"
   ]
  },
  {
   "cell_type": "code",
   "execution_count": 41,
   "id": "85d4ffea",
   "metadata": {},
   "outputs": [
    {
     "data": {
      "text/plain": [
       "0        2019-01-12 13:02:17+00:00\n",
       "1        2019-01-16 19:39:09+00:00\n",
       "2        2019-01-12 14:18:46+00:00\n",
       "3        2019-01-24 17:49:12+00:00\n",
       "4        2019-01-12 15:25:06+00:00\n",
       "                    ...           \n",
       "117299   2019-02-28 13:13:21+00:00\n",
       "117300   2019-06-11 11:08:01+00:00\n",
       "117301   2019-06-17 10:30:50+00:00\n",
       "117302   2019-02-21 11:50:58+00:00\n",
       "117303   2019-09-18 11:32:35+00:00\n",
       "Name: date_opened, Length: 117304, dtype: datetime64[ns, UTC]"
      ]
     },
     "execution_count": 41,
     "metadata": {},
     "output_type": "execute_result"
    }
   ],
   "source": [
    "df_order_data.date_opened"
   ]
  },
  {
   "cell_type": "markdown",
   "id": "45616431",
   "metadata": {
    "lang": "en"
   },
   "source": [
    "m) Using the set_index function, index the date_opened column to the dataframe (already in datetime format)"
   ]
  },
  {
   "cell_type": "code",
   "execution_count": 64,
   "id": "iT0MNO24B0bE",
   "metadata": {
    "id": "iT0MNO24B0bE"
   },
   "outputs": [
    {
     "data": {
      "text/html": [
       "<div>\n",
       "<style scoped>\n",
       "    .dataframe tbody tr th:only-of-type {\n",
       "        vertical-align: middle;\n",
       "    }\n",
       "\n",
       "    .dataframe tbody tr th {\n",
       "        vertical-align: top;\n",
       "    }\n",
       "\n",
       "    .dataframe thead th {\n",
       "        text-align: right;\n",
       "    }\n",
       "</style>\n",
       "<table border=\"1\" class=\"dataframe\">\n",
       "  <thead>\n",
       "    <tr style=\"text-align: right;\">\n",
       "      <th></th>\n",
       "      <th>id_order</th>\n",
       "      <th>id_store</th>\n",
       "      <th>id_table</th>\n",
       "      <th>id_waiter</th>\n",
       "      <th>id_customer</th>\n",
       "      <th>id_external</th>\n",
       "      <th>id_device</th>\n",
       "      <th>date_closed</th>\n",
       "      <th>dim_name</th>\n",
       "      <th>dim_status</th>\n",
       "      <th>dim_type</th>\n",
       "      <th>dim_comment</th>\n",
       "      <th>dim_source</th>\n",
       "      <th>m_nb_customer</th>\n",
       "      <th>m_cached_payed</th>\n",
       "      <th>m_cached_price</th>\n",
       "    </tr>\n",
       "    <tr>\n",
       "      <th>date_opened</th>\n",
       "      <th></th>\n",
       "      <th></th>\n",
       "      <th></th>\n",
       "      <th></th>\n",
       "      <th></th>\n",
       "      <th></th>\n",
       "      <th></th>\n",
       "      <th></th>\n",
       "      <th></th>\n",
       "      <th></th>\n",
       "      <th></th>\n",
       "      <th></th>\n",
       "      <th></th>\n",
       "      <th></th>\n",
       "      <th></th>\n",
       "      <th></th>\n",
       "    </tr>\n",
       "  </thead>\n",
       "  <tbody>\n",
       "    <tr>\n",
       "      <th>2019-01-12 13:02:17+00:00</th>\n",
       "      <td>55538867</td>\n",
       "      <td>8052</td>\n",
       "      <td>NaN</td>\n",
       "      <td>NaN</td>\n",
       "      <td>NaN</td>\n",
       "      <td>0425716B-EFF4-41CA-AEA1-839104F36833</td>\n",
       "      <td>15327.0</td>\n",
       "      <td>2019-01-12 19:58:38+00:00</td>\n",
       "      <td>vincent</td>\n",
       "      <td>CLOSED</td>\n",
       "      <td>1</td>\n",
       "      <td>NaN</td>\n",
       "      <td>Tiller iPAD</td>\n",
       "      <td>1</td>\n",
       "      <td>45.5</td>\n",
       "      <td>45.5</td>\n",
       "    </tr>\n",
       "    <tr>\n",
       "      <th>2019-01-16 19:39:09+00:00</th>\n",
       "      <td>56035309</td>\n",
       "      <td>8052</td>\n",
       "      <td>NaN</td>\n",
       "      <td>NaN</td>\n",
       "      <td>NaN</td>\n",
       "      <td>75E41FE2-64FF-41D3-954C-A7DE4AA887EF</td>\n",
       "      <td>15327.0</td>\n",
       "      <td>2019-01-16 22:10:50+00:00</td>\n",
       "      <td>frere et soeur avec pierre</td>\n",
       "      <td>CLOSED</td>\n",
       "      <td>1</td>\n",
       "      <td>NaN</td>\n",
       "      <td>Tiller iPAD</td>\n",
       "      <td>2</td>\n",
       "      <td>49.8</td>\n",
       "      <td>49.8</td>\n",
       "    </tr>\n",
       "    <tr>\n",
       "      <th>2019-01-12 14:18:46+00:00</th>\n",
       "      <td>55550051</td>\n",
       "      <td>8052</td>\n",
       "      <td>NaN</td>\n",
       "      <td>NaN</td>\n",
       "      <td>NaN</td>\n",
       "      <td>F6051A05-C9AC-4033-BF72-BB5149B8F439</td>\n",
       "      <td>15327.0</td>\n",
       "      <td>2019-01-12 19:50:32+00:00</td>\n",
       "      <td>rachel</td>\n",
       "      <td>CLOSED</td>\n",
       "      <td>1</td>\n",
       "      <td>NaN</td>\n",
       "      <td>Tiller iPAD</td>\n",
       "      <td>1</td>\n",
       "      <td>27.4</td>\n",
       "      <td>27.4</td>\n",
       "    </tr>\n",
       "    <tr>\n",
       "      <th>2019-01-24 17:49:12+00:00</th>\n",
       "      <td>57000119</td>\n",
       "      <td>8052</td>\n",
       "      <td>NaN</td>\n",
       "      <td>16199.0</td>\n",
       "      <td>NaN</td>\n",
       "      <td>B8BEEC66-1C10-48A0-B4D5-035CB5EEFE62</td>\n",
       "      <td>15327.0</td>\n",
       "      <td>2019-01-24 21:58:59+00:00</td>\n",
       "      <td>Groupe PEL</td>\n",
       "      <td>CLOSED</td>\n",
       "      <td>1</td>\n",
       "      <td>NaN</td>\n",
       "      <td>tiller-order</td>\n",
       "      <td>3</td>\n",
       "      <td>60.0</td>\n",
       "      <td>60.0</td>\n",
       "    </tr>\n",
       "    <tr>\n",
       "      <th>2019-01-12 15:25:06+00:00</th>\n",
       "      <td>55558817</td>\n",
       "      <td>8052</td>\n",
       "      <td>NaN</td>\n",
       "      <td>NaN</td>\n",
       "      <td>NaN</td>\n",
       "      <td>17F0533C-2FF1-4FC5-A50D-12704C7B7A4B</td>\n",
       "      <td>15327.0</td>\n",
       "      <td>2019-01-12 19:21:03+00:00</td>\n",
       "      <td>remi et date</td>\n",
       "      <td>CLOSED</td>\n",
       "      <td>1</td>\n",
       "      <td>NaN</td>\n",
       "      <td>Tiller iPAD</td>\n",
       "      <td>2</td>\n",
       "      <td>39.9</td>\n",
       "      <td>39.9</td>\n",
       "    </tr>\n",
       "  </tbody>\n",
       "</table>\n",
       "</div>"
      ],
      "text/plain": [
       "                           id_order  id_store  id_table  id_waiter  \\\n",
       "date_opened                                                          \n",
       "2019-01-12 13:02:17+00:00  55538867      8052       NaN        NaN   \n",
       "2019-01-16 19:39:09+00:00  56035309      8052       NaN        NaN   \n",
       "2019-01-12 14:18:46+00:00  55550051      8052       NaN        NaN   \n",
       "2019-01-24 17:49:12+00:00  57000119      8052       NaN    16199.0   \n",
       "2019-01-12 15:25:06+00:00  55558817      8052       NaN        NaN   \n",
       "\n",
       "                           id_customer                           id_external  \\\n",
       "date_opened                                                                    \n",
       "2019-01-12 13:02:17+00:00          NaN  0425716B-EFF4-41CA-AEA1-839104F36833   \n",
       "2019-01-16 19:39:09+00:00          NaN  75E41FE2-64FF-41D3-954C-A7DE4AA887EF   \n",
       "2019-01-12 14:18:46+00:00          NaN  F6051A05-C9AC-4033-BF72-BB5149B8F439   \n",
       "2019-01-24 17:49:12+00:00          NaN  B8BEEC66-1C10-48A0-B4D5-035CB5EEFE62   \n",
       "2019-01-12 15:25:06+00:00          NaN  17F0533C-2FF1-4FC5-A50D-12704C7B7A4B   \n",
       "\n",
       "                           id_device               date_closed  \\\n",
       "date_opened                                                      \n",
       "2019-01-12 13:02:17+00:00    15327.0 2019-01-12 19:58:38+00:00   \n",
       "2019-01-16 19:39:09+00:00    15327.0 2019-01-16 22:10:50+00:00   \n",
       "2019-01-12 14:18:46+00:00    15327.0 2019-01-12 19:50:32+00:00   \n",
       "2019-01-24 17:49:12+00:00    15327.0 2019-01-24 21:58:59+00:00   \n",
       "2019-01-12 15:25:06+00:00    15327.0 2019-01-12 19:21:03+00:00   \n",
       "\n",
       "                                             dim_name dim_status  dim_type  \\\n",
       "date_opened                                                                  \n",
       "2019-01-12 13:02:17+00:00                     vincent     CLOSED         1   \n",
       "2019-01-16 19:39:09+00:00  frere et soeur avec pierre     CLOSED         1   \n",
       "2019-01-12 14:18:46+00:00                      rachel     CLOSED         1   \n",
       "2019-01-24 17:49:12+00:00                  Groupe PEL     CLOSED         1   \n",
       "2019-01-12 15:25:06+00:00                remi et date     CLOSED         1   \n",
       "\n",
       "                          dim_comment    dim_source  m_nb_customer  \\\n",
       "date_opened                                                          \n",
       "2019-01-12 13:02:17+00:00         NaN   Tiller iPAD              1   \n",
       "2019-01-16 19:39:09+00:00         NaN   Tiller iPAD              2   \n",
       "2019-01-12 14:18:46+00:00         NaN   Tiller iPAD              1   \n",
       "2019-01-24 17:49:12+00:00         NaN  tiller-order              3   \n",
       "2019-01-12 15:25:06+00:00         NaN   Tiller iPAD              2   \n",
       "\n",
       "                           m_cached_payed  m_cached_price  \n",
       "date_opened                                                \n",
       "2019-01-12 13:02:17+00:00            45.5            45.5  \n",
       "2019-01-16 19:39:09+00:00            49.8            49.8  \n",
       "2019-01-12 14:18:46+00:00            27.4            27.4  \n",
       "2019-01-24 17:49:12+00:00            60.0            60.0  \n",
       "2019-01-12 15:25:06+00:00            39.9            39.9  "
      ]
     },
     "execution_count": 64,
     "metadata": {},
     "output_type": "execute_result"
    }
   ],
   "source": [
    "#Let's try :-)\n",
    "#, implace is changing the root original df\n",
    "df_setIndexDateOpened = df_order_data.set_index('date_opened')\n",
    "df_setIndexDateOpened.head(5)"
   ]
  },
  {
   "cell_type": "markdown",
   "id": "d6689e00",
   "metadata": {
    "lang": "en"
   },
   "source": [
    "n) From here all date features are available to you!!\n",
    "\n",
    "Using the resample function calculate the amount received from all restaurants per week."
   ]
  },
  {
   "cell_type": "code",
   "execution_count": 62,
   "id": "29930cc4",
   "metadata": {},
   "outputs": [],
   "source": [
    "df_setIndexDateOpened.resample?"
   ]
  },
  {
   "cell_type": "markdown",
   "id": "b29a158f",
   "metadata": {},
   "source": [
    "//Google search:\n",
    "B business day frequency\n",
    "C custom business day frequency (experimental)\n",
    "D calendar day frequency\n",
    "W weekly frequency\n",
    "M month end frequency\n",
    "SM semi-month end frequency (15th and end of month)\n",
    "BM business month end frequency\n",
    "CBM custom business month end frequency\n",
    "MS month start frequency\n",
    "SMS semi-month start frequency (1st and 15th)\n",
    "BMS business month start frequency\n",
    "CBMS custom business month start frequency\n",
    "Q quarter end frequency\n",
    "BQ business quarter endfrequency\n",
    "QS quarter start frequency"
   ]
  },
  {
   "cell_type": "code",
   "execution_count": 112,
   "id": "kr7nu1vHCuMB",
   "metadata": {
    "id": "kr7nu1vHCuMB"
   },
   "outputs": [
    {
     "data": {
      "text/plain": [
       "<AxesSubplot: xlabel='date_opened'>"
      ]
     },
     "execution_count": 112,
     "metadata": {},
     "output_type": "execute_result"
    },
    {
     "data": {
      "image/png": "[encoded data removed]",
      "text/plain": [
       "<Figure size 640x480 with 1 Axes>"
      ]
     },
     "metadata": {},
     "output_type": "display_data"
    }
   ],
   "source": [
    "#Let's try :-)\n",
    "df_setIndexDateOpened.resample('M').size().plot()"
   ]
  },
  {
   "cell_type": "markdown",
   "id": "d1d5d358",
   "metadata": {
    "lang": "en"
   },
   "source": [
    "o) We rather want to have it per week and per restaurant, modify the previous code.\n",
    "\n",
    "Note: resample comes after the groupby..."
   ]
  },
  {
   "cell_type": "code",
   "execution_count": 53,
   "id": "UBQg42vrG4D1",
   "metadata": {
    "id": "UBQg42vrG4D1"
   },
   "outputs": [
    {
     "data": {
      "text/plain": [
       "id_store  date_opened              \n",
       "360       2019-01-31 00:00:00+00:00    205\n",
       "          2019-02-28 00:00:00+00:00    269\n",
       "          2019-03-31 00:00:00+00:00    295\n",
       "          2019-04-30 00:00:00+00:00    200\n",
       "          2019-05-31 00:00:00+00:00    245\n",
       "                                      ... \n",
       "9084      2020-07-31 00:00:00+00:00    598\n",
       "          2020-08-31 00:00:00+00:00    529\n",
       "          2020-09-30 00:00:00+00:00    544\n",
       "          2020-10-31 00:00:00+00:00    583\n",
       "          2020-11-30 00:00:00+00:00     63\n",
       "Length: 179, dtype: int64"
      ]
     },
     "execution_count": 53,
     "metadata": {},
     "output_type": "execute_result"
    }
   ],
   "source": [
    "#Let's try :-)\n",
    "df_setIndexDateOpened.groupby(['id_store']).resample('M').size()"
   ]
  },
  {
   "cell_type": "markdown",
   "id": "c5ae58f1",
   "metadata": {
    "lang": "en"
   },
   "source": [
    "p) Finally we want it by quarter, modify the previous code to obtain the result. You can store the result in a quarter_results dataframe.\n",
    "\n",
    "You can check [this page](https://pandas.pydata.org/pandas-docs/stable/user_guide/timeseries.html#dateoffset-objects) to see all possible options of resample function.\n",
    "\n",
    "Practical, no?"
   ]
  },
  {
   "cell_type": "code",
   "execution_count": 60,
   "id": "iDSoG1OUB8od",
   "metadata": {
    "id": "iDSoG1OUB8od"
   },
   "outputs": [
    {
     "data": {
      "text/plain": [
       "id_store  date_opened              \n",
       "360       2019-03-31 00:00:00+00:00     769\n",
       "          2019-06-30 00:00:00+00:00     679\n",
       "          2019-09-30 00:00:00+00:00     725\n",
       "          2019-12-31 00:00:00+00:00     894\n",
       "          2020-03-31 00:00:00+00:00     696\n",
       "                                       ... \n",
       "9084      2019-12-31 00:00:00+00:00    1222\n",
       "          2020-03-31 00:00:00+00:00    1278\n",
       "          2020-06-30 00:00:00+00:00     824\n",
       "          2020-09-30 00:00:00+00:00    1671\n",
       "          2020-12-31 00:00:00+00:00     646\n",
       "Length: 65, dtype: int64"
      ]
     },
     "execution_count": 60,
     "metadata": {},
     "output_type": "execute_result"
    }
   ],
   "source": [
    "#Let's try :-)\n",
    "df_quarter_results = df_setIndexDateOpened.groupby(['id_store']).resample('Q').size()\n",
    "df_quarter_results"
   ]
  },
  {
   "cell_type": "markdown",
   "id": "482a8870",
   "metadata": {
    "lang": "en"
   },
   "source": [
    "q) Study the function [pct_change](https://pandas.pydata.org/docs/reference/api/pandas.DataFrame.pct_change.html) of pandas and calculate the evolution of CA per restaurant per quarter in a new column."
   ]
  },
  {
   "cell_type": "code",
   "execution_count": 63,
   "id": "Ko4gRhFGK4mp",
   "metadata": {
    "id": "Ko4gRhFGK4mp"
   },
   "outputs": [],
   "source": [
    "# Computes the percentage change from the immediately previous row by\n",
    "# default. This is useful in comparing the percentage of change in a time\n",
    "# series of elements.\n",
    "df_setIndexDateOpened.pct_change?"
   ]
  },
  {
   "cell_type": "code",
   "execution_count": 62,
   "id": "4e8704f3",
   "metadata": {},
   "outputs": [
    {
     "data": {
      "text/plain": [
       "id_store  date_opened              \n",
       "360       2019-03-31 00:00:00+00:00         NaN\n",
       "          2019-06-30 00:00:00+00:00   -0.117035\n",
       "          2019-09-30 00:00:00+00:00    0.067747\n",
       "          2019-12-31 00:00:00+00:00    0.233103\n",
       "          2020-03-31 00:00:00+00:00   -0.221477\n",
       "                                         ...   \n",
       "9084      2019-12-31 00:00:00+00:00    0.054357\n",
       "          2020-03-31 00:00:00+00:00    0.045827\n",
       "          2020-06-30 00:00:00+00:00   -0.355243\n",
       "          2020-09-30 00:00:00+00:00    1.027913\n",
       "          2020-12-31 00:00:00+00:00   -0.613405\n",
       "Length: 65, dtype: float64"
      ]
     },
     "execution_count": 62,
     "metadata": {},
     "output_type": "execute_result"
    }
   ],
   "source": [
    "#Let's try :-)\n",
    "df_setIndexDateOpened.groupby(['id_store']).resample('Q').size().pct_change()"
   ]
  },
  {
   "cell_type": "markdown",
   "id": "471cab7d",
   "metadata": {
    "lang": "en"
   },
   "source": [
    "r) What is the restaurant with the most important evolution per quarter on this data? For which quarter?"
   ]
  },
  {
   "cell_type": "code",
   "execution_count": 72,
   "id": "a_lK6oCJLlvF",
   "metadata": {
    "id": "a_lK6oCJLlvF"
   },
   "outputs": [
    {
     "data": {
      "text/plain": [
       "(9084, Timestamp('2019-06-30 00:00:00+0000', tz='UTC'))"
      ]
     },
     "execution_count": 72,
     "metadata": {},
     "output_type": "execute_result"
    }
   ],
   "source": [
    "#Let's try :-)\n",
    "df_setIndexDateOpened.groupby(['id_store']).resample('Q').size().pct_change().idxmax()"
   ]
  },
  {
   "cell_type": "markdown",
   "id": "c680cbf8",
   "metadata": {
    "lang": "en"
   },
   "source": [
    "### PivotTables"
   ]
  },
  {
   "cell_type": "markdown",
   "id": "963d2ee9",
   "metadata": {
    "lang": "fr"
   },
   "source": [
    "s) On the order data, look at all the modalities of dim_source by occurrence"
   ]
  },
  {
   "cell_type": "code",
   "execution_count": 75,
   "id": "eF5DSQkXNoGU",
   "metadata": {
    "id": "eF5DSQkXNoGU"
   },
   "outputs": [],
   "source": [
    "# The mode is the value that appears most often. There can be multiple modes.\n",
    "# Always returns Series even if only one value is returned.\n",
    "\n",
    "df_order_data.dim_source.mode?"
   ]
  },
  {
   "cell_type": "code",
   "execution_count": 30,
   "id": "4402bdb9",
   "metadata": {},
   "outputs": [
    {
     "data": {
      "text/plain": [
       "0          Tiller iPAD\n",
       "1          Tiller iPAD\n",
       "2          Tiller iPAD\n",
       "3         tiller-order\n",
       "4          Tiller iPAD\n",
       "              ...     \n",
       "117299     Tiller iPAD\n",
       "117300     Tiller iPAD\n",
       "117301     Tiller iPAD\n",
       "117302     Tiller iPAD\n",
       "117303     Tiller iPAD\n",
       "Name: dim_source, Length: 117304, dtype: object"
      ]
     },
     "execution_count": 30,
     "metadata": {},
     "output_type": "execute_result"
    }
   ],
   "source": [
    "df_order_data.dim_source"
   ]
  },
  {
   "cell_type": "code",
   "execution_count": 31,
   "id": "0533a98e",
   "metadata": {},
   "outputs": [
    {
     "data": {
      "text/plain": [
       "0    Tiller iPAD\n",
       "Name: dim_source, dtype: object"
      ]
     },
     "execution_count": 31,
     "metadata": {},
     "output_type": "execute_result"
    }
   ],
   "source": [
    "#Let's try :-)\n",
    "df_order_data.dim_source.mode()"
   ]
  },
  {
   "cell_type": "code",
   "execution_count": 32,
   "id": "4a5142ce",
   "metadata": {},
   "outputs": [
    {
     "data": {
      "text/plain": [
       "array(['Tiller iPAD', 'tiller-order', 'other', 'LAFOURCHETTE'],\n",
       "      dtype=object)"
      ]
     },
     "execution_count": 32,
     "metadata": {},
     "output_type": "execute_result"
    }
   ],
   "source": [
    "# check what for unique values are out there \n",
    "df_order_data.dim_source.unique()"
   ]
  },
  {
   "cell_type": "markdown",
   "id": "7b922882",
   "metadata": {
    "lang": "en"
   },
   "source": [
    "t) Replace values ​​other than \"Tiller iPAD\", \"tiller-order\" and \"LAFOURCHETTE\" with \"Other\". Use the loc function with a mask using the .isin function."
   ]
  },
  {
   "cell_type": "code",
   "execution_count": 33,
   "id": "8e4BFoPxOjs8",
   "metadata": {
    "id": "8e4BFoPxOjs8"
   },
   "outputs": [
    {
     "data": {
      "text/plain": [
       "183     other\n",
       "346     other\n",
       "347     other\n",
       "447     other\n",
       "487     other\n",
       "        ...  \n",
       "8385    other\n",
       "8423    other\n",
       "8493    other\n",
       "8563    other\n",
       "8568    other\n",
       "Name: dim_source, Length: 166, dtype: object"
      ]
     },
     "execution_count": 33,
     "metadata": {},
     "output_type": "execute_result"
    }
   ],
   "source": [
    "#Let's try :-)\n",
    "mask = ~df_order_data.dim_source.isin(['Tiller iPAD', 'tiller-order', 'LAFOURCHETTE'])\n",
    "#print(mask)\n",
    "df_order_data.loc[mask, 'dim_source'] = 'other'\n",
    "df_order_data.loc[mask, 'dim_source']"
   ]
  },
  {
   "cell_type": "markdown",
   "id": "9cc7dabf",
   "metadata": {
    "lang": "en"
   },
   "source": [
    "u) Using the pivot_table function, calculate the turnover generated by restaurant in rows and by dim_source in column. You can use the fillna function to replace null values ​​with 0.\n",
    "\n",
    "We will also use a reset_index to reassemble the id_store as columns"
   ]
  },
  {
   "cell_type": "code",
   "execution_count": 122,
   "id": "RwNyqPtENN7H",
   "metadata": {
    "id": "RwNyqPtENN7H"
   },
   "outputs": [],
   "source": [
    "# Question : What's the difference between pivot and pivot_table \n",
    "df_order_data.pivot_table?\n",
    "\n"
   ]
  },
  {
   "cell_type": "code",
   "execution_count": null,
   "id": "ebdd543a",
   "metadata": {},
   "outputs": [],
   "source": [
    "df_order_data.fillna?"
   ]
  },
  {
   "cell_type": "code",
   "execution_count": 34,
   "id": "90b0b7fa",
   "metadata": {},
   "outputs": [
    {
     "data": {
      "text/html": [
       "<div>\n",
       "<style scoped>\n",
       "    .dataframe tbody tr th:only-of-type {\n",
       "        vertical-align: middle;\n",
       "    }\n",
       "\n",
       "    .dataframe tbody tr th {\n",
       "        vertical-align: top;\n",
       "    }\n",
       "\n",
       "    .dataframe thead th {\n",
       "        text-align: right;\n",
       "    }\n",
       "</style>\n",
       "<table border=\"1\" class=\"dataframe\">\n",
       "  <thead>\n",
       "    <tr style=\"text-align: right;\">\n",
       "      <th>dim_source</th>\n",
       "      <th>LAFOURCHETTE</th>\n",
       "      <th>Tiller iPAD</th>\n",
       "      <th>other</th>\n",
       "      <th>tiller-order</th>\n",
       "    </tr>\n",
       "    <tr>\n",
       "      <th>id_store</th>\n",
       "      <th></th>\n",
       "      <th></th>\n",
       "      <th></th>\n",
       "      <th></th>\n",
       "    </tr>\n",
       "  </thead>\n",
       "  <tbody>\n",
       "    <tr>\n",
       "      <th>360</th>\n",
       "      <td>111.4</td>\n",
       "      <td>339334.64</td>\n",
       "      <td>0.00</td>\n",
       "      <td>47643.10</td>\n",
       "    </tr>\n",
       "    <tr>\n",
       "      <th>1796</th>\n",
       "      <td>0.0</td>\n",
       "      <td>32402.74</td>\n",
       "      <td>0.00</td>\n",
       "      <td>288696.95</td>\n",
       "    </tr>\n",
       "    <tr>\n",
       "      <th>4337</th>\n",
       "      <td>0.0</td>\n",
       "      <td>861920.50</td>\n",
       "      <td>3437.39</td>\n",
       "      <td>0.00</td>\n",
       "    </tr>\n",
       "    <tr>\n",
       "      <th>4542</th>\n",
       "      <td>0.0</td>\n",
       "      <td>115965.84</td>\n",
       "      <td>0.00</td>\n",
       "      <td>127762.85</td>\n",
       "    </tr>\n",
       "    <tr>\n",
       "      <th>6293</th>\n",
       "      <td>0.0</td>\n",
       "      <td>359347.00</td>\n",
       "      <td>0.00</td>\n",
       "      <td>124.00</td>\n",
       "    </tr>\n",
       "    <tr>\n",
       "      <th>7965</th>\n",
       "      <td>0.0</td>\n",
       "      <td>1044520.95</td>\n",
       "      <td>0.00</td>\n",
       "      <td>94170.00</td>\n",
       "    </tr>\n",
       "    <tr>\n",
       "      <th>8052</th>\n",
       "      <td>0.0</td>\n",
       "      <td>294655.29</td>\n",
       "      <td>0.00</td>\n",
       "      <td>33103.56</td>\n",
       "    </tr>\n",
       "    <tr>\n",
       "      <th>8283</th>\n",
       "      <td>0.0</td>\n",
       "      <td>0.00</td>\n",
       "      <td>0.00</td>\n",
       "      <td>369822.82</td>\n",
       "    </tr>\n",
       "    <tr>\n",
       "      <th>8347</th>\n",
       "      <td>0.0</td>\n",
       "      <td>23.00</td>\n",
       "      <td>0.00</td>\n",
       "      <td>0.00</td>\n",
       "    </tr>\n",
       "    <tr>\n",
       "      <th>9084</th>\n",
       "      <td>0.0</td>\n",
       "      <td>0.00</td>\n",
       "      <td>0.00</td>\n",
       "      <td>479019.75</td>\n",
       "    </tr>\n",
       "  </tbody>\n",
       "</table>\n",
       "</div>"
      ],
      "text/plain": [
       "dim_source  LAFOURCHETTE  Tiller iPAD    other  tiller-order\n",
       "id_store                                                    \n",
       "360                111.4    339334.64     0.00      47643.10\n",
       "1796                 0.0     32402.74     0.00     288696.95\n",
       "4337                 0.0    861920.50  3437.39          0.00\n",
       "4542                 0.0    115965.84     0.00     127762.85\n",
       "6293                 0.0    359347.00     0.00        124.00\n",
       "7965                 0.0   1044520.95     0.00      94170.00\n",
       "8052                 0.0    294655.29     0.00      33103.56\n",
       "8283                 0.0         0.00     0.00     369822.82\n",
       "8347                 0.0        23.00     0.00          0.00\n",
       "9084                 0.0         0.00     0.00     479019.75"
      ]
     },
     "execution_count": 34,
     "metadata": {},
     "output_type": "execute_result"
    }
   ],
   "source": [
    "#Let's try :-)\n",
    "df_pivot_table = df_order_data.pivot_table(index='id_store',columns= 'dim_source', values='m_cached_payed', aggfunc='sum').fillna(0)\n",
    "df_pivot_table"
   ]
  },
  {
   "cell_type": "code",
   "execution_count": 35,
   "id": "309d6330",
   "metadata": {
    "collapsed": true
   },
   "outputs": [
    {
     "data": {
      "text/html": [
       "<div>\n",
       "<style scoped>\n",
       "    .dataframe tbody tr th:only-of-type {\n",
       "        vertical-align: middle;\n",
       "    }\n",
       "\n",
       "    .dataframe tbody tr th {\n",
       "        vertical-align: top;\n",
       "    }\n",
       "\n",
       "    .dataframe thead th {\n",
       "        text-align: right;\n",
       "    }\n",
       "</style>\n",
       "<table border=\"1\" class=\"dataframe\">\n",
       "  <thead>\n",
       "    <tr style=\"text-align: right;\">\n",
       "      <th></th>\n",
       "      <th>id_store</th>\n",
       "      <th>dim_source</th>\n",
       "      <th>turnover</th>\n",
       "    </tr>\n",
       "  </thead>\n",
       "  <tbody>\n",
       "    <tr>\n",
       "      <th>0</th>\n",
       "      <td>360</td>\n",
       "      <td>LAFOURCHETTE</td>\n",
       "      <td>111.40</td>\n",
       "    </tr>\n",
       "    <tr>\n",
       "      <th>1</th>\n",
       "      <td>360</td>\n",
       "      <td>Tiller iPAD</td>\n",
       "      <td>339334.64</td>\n",
       "    </tr>\n",
       "    <tr>\n",
       "      <th>2</th>\n",
       "      <td>360</td>\n",
       "      <td>tiller-order</td>\n",
       "      <td>47643.10</td>\n",
       "    </tr>\n",
       "    <tr>\n",
       "      <th>3</th>\n",
       "      <td>1796</td>\n",
       "      <td>Tiller iPAD</td>\n",
       "      <td>32402.74</td>\n",
       "    </tr>\n",
       "    <tr>\n",
       "      <th>4</th>\n",
       "      <td>1796</td>\n",
       "      <td>tiller-order</td>\n",
       "      <td>288696.95</td>\n",
       "    </tr>\n",
       "    <tr>\n",
       "      <th>5</th>\n",
       "      <td>4337</td>\n",
       "      <td>Tiller iPAD</td>\n",
       "      <td>861920.50</td>\n",
       "    </tr>\n",
       "    <tr>\n",
       "      <th>6</th>\n",
       "      <td>4337</td>\n",
       "      <td>other</td>\n",
       "      <td>3437.39</td>\n",
       "    </tr>\n",
       "    <tr>\n",
       "      <th>7</th>\n",
       "      <td>4542</td>\n",
       "      <td>Tiller iPAD</td>\n",
       "      <td>115965.84</td>\n",
       "    </tr>\n",
       "    <tr>\n",
       "      <th>8</th>\n",
       "      <td>4542</td>\n",
       "      <td>tiller-order</td>\n",
       "      <td>127762.85</td>\n",
       "    </tr>\n",
       "    <tr>\n",
       "      <th>9</th>\n",
       "      <td>6293</td>\n",
       "      <td>Tiller iPAD</td>\n",
       "      <td>359347.00</td>\n",
       "    </tr>\n",
       "    <tr>\n",
       "      <th>10</th>\n",
       "      <td>6293</td>\n",
       "      <td>tiller-order</td>\n",
       "      <td>124.00</td>\n",
       "    </tr>\n",
       "    <tr>\n",
       "      <th>11</th>\n",
       "      <td>7965</td>\n",
       "      <td>Tiller iPAD</td>\n",
       "      <td>1044520.95</td>\n",
       "    </tr>\n",
       "    <tr>\n",
       "      <th>12</th>\n",
       "      <td>7965</td>\n",
       "      <td>tiller-order</td>\n",
       "      <td>94170.00</td>\n",
       "    </tr>\n",
       "    <tr>\n",
       "      <th>13</th>\n",
       "      <td>8052</td>\n",
       "      <td>Tiller iPAD</td>\n",
       "      <td>294655.29</td>\n",
       "    </tr>\n",
       "    <tr>\n",
       "      <th>14</th>\n",
       "      <td>8052</td>\n",
       "      <td>other</td>\n",
       "      <td>0.00</td>\n",
       "    </tr>\n",
       "    <tr>\n",
       "      <th>15</th>\n",
       "      <td>8052</td>\n",
       "      <td>tiller-order</td>\n",
       "      <td>33103.56</td>\n",
       "    </tr>\n",
       "    <tr>\n",
       "      <th>16</th>\n",
       "      <td>8283</td>\n",
       "      <td>tiller-order</td>\n",
       "      <td>369822.82</td>\n",
       "    </tr>\n",
       "    <tr>\n",
       "      <th>17</th>\n",
       "      <td>8347</td>\n",
       "      <td>Tiller iPAD</td>\n",
       "      <td>23.00</td>\n",
       "    </tr>\n",
       "    <tr>\n",
       "      <th>18</th>\n",
       "      <td>9084</td>\n",
       "      <td>tiller-order</td>\n",
       "      <td>479019.75</td>\n",
       "    </tr>\n",
       "  </tbody>\n",
       "</table>\n",
       "</div>"
      ],
      "text/plain": [
       "    id_store    dim_source    turnover\n",
       "0        360  LAFOURCHETTE      111.40\n",
       "1        360   Tiller iPAD   339334.64\n",
       "2        360  tiller-order    47643.10\n",
       "3       1796   Tiller iPAD    32402.74\n",
       "4       1796  tiller-order   288696.95\n",
       "5       4337   Tiller iPAD   861920.50\n",
       "6       4337         other     3437.39\n",
       "7       4542   Tiller iPAD   115965.84\n",
       "8       4542  tiller-order   127762.85\n",
       "9       6293   Tiller iPAD   359347.00\n",
       "10      6293  tiller-order      124.00\n",
       "11      7965   Tiller iPAD  1044520.95\n",
       "12      7965  tiller-order    94170.00\n",
       "13      8052   Tiller iPAD   294655.29\n",
       "14      8052         other        0.00\n",
       "15      8052  tiller-order    33103.56\n",
       "16      8283  tiller-order   369822.82\n",
       "17      8347   Tiller iPAD       23.00\n",
       "18      9084  tiller-order   479019.75"
      ]
     },
     "execution_count": 35,
     "metadata": {},
     "output_type": "execute_result"
    }
   ],
   "source": [
    "#Let's try :-)\n",
    "df_turnover = df_order_data.groupby(['id_store','dim_source'])['m_cached_payed'].sum().reset_index(name='turnover')\n",
    "df_turnover\n"
   ]
  },
  {
   "cell_type": "markdown",
   "id": "02616dbe",
   "metadata": {
    "lang": "en"
   },
   "source": [
    "v) [Bonus] Go back to the previous dataframe and bring down all the dim_source in a new column with the melt function"
   ]
  },
  {
   "cell_type": "code",
   "execution_count": 40,
   "id": "oxXekhg8Pwqk",
   "metadata": {
    "id": "oxXekhg8Pwqk"
   },
   "outputs": [
    {
     "data": {
      "text/html": [
       "<div>\n",
       "<style scoped>\n",
       "    .dataframe tbody tr th:only-of-type {\n",
       "        vertical-align: middle;\n",
       "    }\n",
       "\n",
       "    .dataframe tbody tr th {\n",
       "        vertical-align: top;\n",
       "    }\n",
       "\n",
       "    .dataframe thead th {\n",
       "        text-align: right;\n",
       "    }\n",
       "</style>\n",
       "<table border=\"1\" class=\"dataframe\">\n",
       "  <thead>\n",
       "    <tr style=\"text-align: right;\">\n",
       "      <th></th>\n",
       "      <th>dim_source</th>\n",
       "      <th>value</th>\n",
       "    </tr>\n",
       "  </thead>\n",
       "  <tbody>\n",
       "    <tr>\n",
       "      <th>0</th>\n",
       "      <td>LAFOURCHETTE</td>\n",
       "      <td>111.40</td>\n",
       "    </tr>\n",
       "    <tr>\n",
       "      <th>1</th>\n",
       "      <td>LAFOURCHETTE</td>\n",
       "      <td>0.00</td>\n",
       "    </tr>\n",
       "    <tr>\n",
       "      <th>2</th>\n",
       "      <td>LAFOURCHETTE</td>\n",
       "      <td>0.00</td>\n",
       "    </tr>\n",
       "    <tr>\n",
       "      <th>3</th>\n",
       "      <td>LAFOURCHETTE</td>\n",
       "      <td>0.00</td>\n",
       "    </tr>\n",
       "    <tr>\n",
       "      <th>4</th>\n",
       "      <td>LAFOURCHETTE</td>\n",
       "      <td>0.00</td>\n",
       "    </tr>\n",
       "    <tr>\n",
       "      <th>5</th>\n",
       "      <td>LAFOURCHETTE</td>\n",
       "      <td>0.00</td>\n",
       "    </tr>\n",
       "    <tr>\n",
       "      <th>6</th>\n",
       "      <td>LAFOURCHETTE</td>\n",
       "      <td>0.00</td>\n",
       "    </tr>\n",
       "    <tr>\n",
       "      <th>7</th>\n",
       "      <td>LAFOURCHETTE</td>\n",
       "      <td>0.00</td>\n",
       "    </tr>\n",
       "    <tr>\n",
       "      <th>8</th>\n",
       "      <td>LAFOURCHETTE</td>\n",
       "      <td>0.00</td>\n",
       "    </tr>\n",
       "    <tr>\n",
       "      <th>9</th>\n",
       "      <td>LAFOURCHETTE</td>\n",
       "      <td>0.00</td>\n",
       "    </tr>\n",
       "    <tr>\n",
       "      <th>10</th>\n",
       "      <td>Tiller iPAD</td>\n",
       "      <td>339334.64</td>\n",
       "    </tr>\n",
       "    <tr>\n",
       "      <th>11</th>\n",
       "      <td>Tiller iPAD</td>\n",
       "      <td>32402.74</td>\n",
       "    </tr>\n",
       "    <tr>\n",
       "      <th>12</th>\n",
       "      <td>Tiller iPAD</td>\n",
       "      <td>861920.50</td>\n",
       "    </tr>\n",
       "    <tr>\n",
       "      <th>13</th>\n",
       "      <td>Tiller iPAD</td>\n",
       "      <td>115965.84</td>\n",
       "    </tr>\n",
       "    <tr>\n",
       "      <th>14</th>\n",
       "      <td>Tiller iPAD</td>\n",
       "      <td>359347.00</td>\n",
       "    </tr>\n",
       "    <tr>\n",
       "      <th>15</th>\n",
       "      <td>Tiller iPAD</td>\n",
       "      <td>1044520.95</td>\n",
       "    </tr>\n",
       "    <tr>\n",
       "      <th>16</th>\n",
       "      <td>Tiller iPAD</td>\n",
       "      <td>294655.29</td>\n",
       "    </tr>\n",
       "    <tr>\n",
       "      <th>17</th>\n",
       "      <td>Tiller iPAD</td>\n",
       "      <td>0.00</td>\n",
       "    </tr>\n",
       "    <tr>\n",
       "      <th>18</th>\n",
       "      <td>Tiller iPAD</td>\n",
       "      <td>23.00</td>\n",
       "    </tr>\n",
       "    <tr>\n",
       "      <th>19</th>\n",
       "      <td>Tiller iPAD</td>\n",
       "      <td>0.00</td>\n",
       "    </tr>\n",
       "    <tr>\n",
       "      <th>20</th>\n",
       "      <td>other</td>\n",
       "      <td>0.00</td>\n",
       "    </tr>\n",
       "    <tr>\n",
       "      <th>21</th>\n",
       "      <td>other</td>\n",
       "      <td>0.00</td>\n",
       "    </tr>\n",
       "    <tr>\n",
       "      <th>22</th>\n",
       "      <td>other</td>\n",
       "      <td>3437.39</td>\n",
       "    </tr>\n",
       "    <tr>\n",
       "      <th>23</th>\n",
       "      <td>other</td>\n",
       "      <td>0.00</td>\n",
       "    </tr>\n",
       "    <tr>\n",
       "      <th>24</th>\n",
       "      <td>other</td>\n",
       "      <td>0.00</td>\n",
       "    </tr>\n",
       "    <tr>\n",
       "      <th>25</th>\n",
       "      <td>other</td>\n",
       "      <td>0.00</td>\n",
       "    </tr>\n",
       "    <tr>\n",
       "      <th>26</th>\n",
       "      <td>other</td>\n",
       "      <td>0.00</td>\n",
       "    </tr>\n",
       "    <tr>\n",
       "      <th>27</th>\n",
       "      <td>other</td>\n",
       "      <td>0.00</td>\n",
       "    </tr>\n",
       "    <tr>\n",
       "      <th>28</th>\n",
       "      <td>other</td>\n",
       "      <td>0.00</td>\n",
       "    </tr>\n",
       "    <tr>\n",
       "      <th>29</th>\n",
       "      <td>other</td>\n",
       "      <td>0.00</td>\n",
       "    </tr>\n",
       "    <tr>\n",
       "      <th>30</th>\n",
       "      <td>tiller-order</td>\n",
       "      <td>47643.10</td>\n",
       "    </tr>\n",
       "    <tr>\n",
       "      <th>31</th>\n",
       "      <td>tiller-order</td>\n",
       "      <td>288696.95</td>\n",
       "    </tr>\n",
       "    <tr>\n",
       "      <th>32</th>\n",
       "      <td>tiller-order</td>\n",
       "      <td>0.00</td>\n",
       "    </tr>\n",
       "    <tr>\n",
       "      <th>33</th>\n",
       "      <td>tiller-order</td>\n",
       "      <td>127762.85</td>\n",
       "    </tr>\n",
       "    <tr>\n",
       "      <th>34</th>\n",
       "      <td>tiller-order</td>\n",
       "      <td>124.00</td>\n",
       "    </tr>\n",
       "    <tr>\n",
       "      <th>35</th>\n",
       "      <td>tiller-order</td>\n",
       "      <td>94170.00</td>\n",
       "    </tr>\n",
       "    <tr>\n",
       "      <th>36</th>\n",
       "      <td>tiller-order</td>\n",
       "      <td>33103.56</td>\n",
       "    </tr>\n",
       "    <tr>\n",
       "      <th>37</th>\n",
       "      <td>tiller-order</td>\n",
       "      <td>369822.82</td>\n",
       "    </tr>\n",
       "    <tr>\n",
       "      <th>38</th>\n",
       "      <td>tiller-order</td>\n",
       "      <td>0.00</td>\n",
       "    </tr>\n",
       "    <tr>\n",
       "      <th>39</th>\n",
       "      <td>tiller-order</td>\n",
       "      <td>479019.75</td>\n",
       "    </tr>\n",
       "  </tbody>\n",
       "</table>\n",
       "</div>"
      ],
      "text/plain": [
       "      dim_source       value\n",
       "0   LAFOURCHETTE      111.40\n",
       "1   LAFOURCHETTE        0.00\n",
       "2   LAFOURCHETTE        0.00\n",
       "3   LAFOURCHETTE        0.00\n",
       "4   LAFOURCHETTE        0.00\n",
       "5   LAFOURCHETTE        0.00\n",
       "6   LAFOURCHETTE        0.00\n",
       "7   LAFOURCHETTE        0.00\n",
       "8   LAFOURCHETTE        0.00\n",
       "9   LAFOURCHETTE        0.00\n",
       "10   Tiller iPAD   339334.64\n",
       "11   Tiller iPAD    32402.74\n",
       "12   Tiller iPAD   861920.50\n",
       "13   Tiller iPAD   115965.84\n",
       "14   Tiller iPAD   359347.00\n",
       "15   Tiller iPAD  1044520.95\n",
       "16   Tiller iPAD   294655.29\n",
       "17   Tiller iPAD        0.00\n",
       "18   Tiller iPAD       23.00\n",
       "19   Tiller iPAD        0.00\n",
       "20         other        0.00\n",
       "21         other        0.00\n",
       "22         other     3437.39\n",
       "23         other        0.00\n",
       "24         other        0.00\n",
       "25         other        0.00\n",
       "26         other        0.00\n",
       "27         other        0.00\n",
       "28         other        0.00\n",
       "29         other        0.00\n",
       "30  tiller-order    47643.10\n",
       "31  tiller-order   288696.95\n",
       "32  tiller-order        0.00\n",
       "33  tiller-order   127762.85\n",
       "34  tiller-order      124.00\n",
       "35  tiller-order    94170.00\n",
       "36  tiller-order    33103.56\n",
       "37  tiller-order   369822.82\n",
       "38  tiller-order        0.00\n",
       "39  tiller-order   479019.75"
      ]
     },
     "execution_count": 40,
     "metadata": {},
     "output_type": "execute_result"
    }
   ],
   "source": [
    "#Let's try :-)\n",
    "df_pivot_table.melt()"
   ]
  },
  {
   "cell_type": "markdown",
   "id": "b4be4cec",
   "metadata": {
    "lang": "en"
   },
   "source": [
    "## Pandas profiling"
   ]
  },
  {
   "cell_type": "markdown",
   "id": "c903fa26",
   "metadata": {
    "lang": "en"
   },
   "source": [
    "There are libraries in Python to make data exploration even easier.\n",
    "\n",
    "`pandas-profiling` is one! Look at this article which details its possibilities."
   ]
  },
  {
   "cell_type": "markdown",
   "id": "2fc6bedc",
   "metadata": {
    "lang": "en"
   },
   "source": [
    "w) Download the `pandas-profiling` library in your environment and generate an order data report order_data."
   ]
  },
  {
   "cell_type": "code",
   "execution_count": 115,
   "id": "28edc23e",
   "metadata": {
    "id": "28edc23e",
    "scrolled": true
   },
   "outputs": [],
   "source": [
    "#Let's try :-)\n",
    "profile_report = ProfileReport(df_order_data)\n",
    "#profile.to_file(\"data_report.html\")"
   ]
  },
  {
   "cell_type": "markdown",
   "id": "28a94c61",
   "metadata": {
    "lang": "en"
   },
   "source": [
    "x) From this generated file: answer the following questions:\n",
    "- What is the percentage of missing values?\n",
    "- How many numeric variables are there? categorical? Do these numbers seem consistent to you? Are there any points of attention to raise?\n",
    "- What is the percentage of data with the value \"tiller-order\" in the \"dim_source\" column?\n",
    "- What is the skewness coefficient for the m_nb_customer variable?"
   ]
  },
  {
   "cell_type": "markdown",
   "id": "1975f424",
   "metadata": {},
   "source": [
    "1. What is the percentage of missing values?\n",
    "\n",
    "Missing cells\t457182\n"
   ]
  },
  {
   "cell_type": "markdown",
   "id": "8a1d8f21",
   "metadata": {},
   "source": [
    "2. How many numeric variables are there? categorical? Do these numbers seem consistent to you? Are there any points of attention to raise?\n",
    "Number of variables\t17"
   ]
  },
  {
   "cell_type": "markdown",
   "id": "675bbf6a",
   "metadata": {},
   "source": [
    "3. What is the percentage of data with the value \"tiller-order\" in the \"dim_source\" column?\n",
    "53.6%"
   ]
  },
  {
   "cell_type": "markdown",
   "id": "2be215e8",
   "metadata": {},
   "source": [
    "What is the skewness coefficient for the m_nb_customer variable?\n",
    "Skewness\t11.000394"
   ]
  },
  {
   "cell_type": "code",
   "execution_count": null,
   "id": "5748047b",
   "metadata": {},
   "outputs": [],
   "source": []
  },
  {
   "cell_type": "markdown",
   "id": "316e3078",
   "metadata": {
    "lang": "en"
   },
   "source": [
    "y) Thanks to the to_json method of the report, store this json in a Python dictionary by executing the code below"
   ]
  },
  {
   "cell_type": "code",
   "execution_count": 116,
   "id": "d947a34a",
   "metadata": {
    "id": "d947a34a"
   },
   "outputs": [
    {
     "data": {
      "application/vnd.jupyter.widget-view+json": {
       "model_id": "ea3171ff29104e9d91196c3b6fb6aa2c",
       "version_major": 2,
       "version_minor": 0
      },
      "text/plain": [
       "Summarize dataset:   0%|          | 0/5 [00:00<?, ?it/s]"
      ]
     },
     "metadata": {},
     "output_type": "display_data"
    },
    {
     "data": {
      "application/vnd.jupyter.widget-view+json": {
       "model_id": "2745ef7f41f84e64b733fe7e67c82ba0",
       "version_major": 2,
       "version_minor": 0
      },
      "text/plain": [
       "Render JSON:   0%|          | 0/1 [00:00<?, ?it/s]"
      ]
     },
     "metadata": {},
     "output_type": "display_data"
    }
   ],
   "source": [
    "#Let's try :-)\n",
    "profile_json = json.loads(profile_report.to_json())"
   ]
  },
  {
   "cell_type": "markdown",
   "id": "5253f456",
   "metadata": {
    "lang": "en"
   },
   "source": [
    "z) Determine which variable has the highest kurtosis coefficient"
   ]
  },
  {
   "cell_type": "code",
   "execution_count": 118,
   "id": "7f9f5d0e",
   "metadata": {
    "id": "7f9f5d0e"
   },
   "outputs": [
    {
     "ename": "SyntaxError",
     "evalue": "cannot assign to function call (3215595651.py, line 4)",
     "output_type": "error",
     "traceback": [
      "\u001b[1;36m  Cell \u001b[1;32mIn[118], line 4\u001b[1;36m\u001b[0m\n\u001b[1;33m    kurtosis_dictionary(variable) =variable_info['kurtosis']\u001b[0m\n\u001b[1;37m    ^\u001b[0m\n\u001b[1;31mSyntaxError\u001b[0m\u001b[1;31m:\u001b[0m cannot assign to function call\n"
     ]
    }
   ],
   "source": [
    "#Let's try :-)\n",
    "for variable, variable_info in profile_json['variables']['id_order'].items():\n",
    "    if 'kurtosis' in variable_info:\n",
    "        kurtosis_dictionary(variable) =variable_info['kurtosis']"
   ]
  },
  {
   "cell_type": "code",
   "execution_count": null,
   "id": "_Ta3zd6Hh5fV",
   "metadata": {
    "id": "_Ta3zd6Hh5fV"
   },
   "outputs": [],
   "source": []
  },
  {
   "cell_type": "markdown",
   "id": "gQwp90LeiCja",
   "metadata": {
    "id": "gQwp90LeiCja"
   },
   "source": [
    "# Text Processing"
   ]
  },
  {
   "cell_type": "markdown",
   "id": "d8996234",
   "metadata": {
    "lang": "en"
   },
   "source": [
    "a_bis) The `id_external` field follows in almost all cases the following pattern X-X-X-X-X, where X corresponds to a character string of a certain length and composed of letters as well as numbers.\n",
    "Determine how many rows in this dataframe do not follow this pattern?"
   ]
  },
  {
   "cell_type": "code",
   "execution_count": 150,
   "id": "3846c11a",
   "metadata": {},
   "outputs": [
    {
     "data": {
      "text/plain": [
       "0         0425716B-EFF4-41CA-AEA1-839104F36833\n",
       "1         75E41FE2-64FF-41D3-954C-A7DE4AA887EF\n",
       "2         F6051A05-C9AC-4033-BF72-BB5149B8F439\n",
       "3         B8BEEC66-1C10-48A0-B4D5-035CB5EEFE62\n",
       "4         17F0533C-2FF1-4FC5-A50D-12704C7B7A4B\n",
       "                          ...                 \n",
       "117299    C4A0AFD8-FBD7-4740-A48B-4890F46E43E2\n",
       "117300    95A17B0B-22AE-43A1-8BEB-B105BF337655\n",
       "117301    0E5D4843-7EA3-4D9E-9490-EB9717A0220F\n",
       "117302    CE760A3B-4464-462A-AA2C-CCFEB88EEC39\n",
       "117303    F004A307-C7C9-4508-A587-49ED5CF8F156\n",
       "Name: id_external, Length: 117304, dtype: object"
      ]
     },
     "execution_count": 150,
     "metadata": {},
     "output_type": "execute_result"
    }
   ],
   "source": [
    "#Let's try :-)\n",
    "df_order_data.id_external\n"
   ]
  },
  {
   "cell_type": "code",
   "execution_count": 7,
   "id": "db45d7bd",
   "metadata": {},
   "outputs": [
    {
     "data": {
      "text/plain": [
       "2822"
      ]
     },
     "execution_count": 7,
     "metadata": {},
     "output_type": "execute_result"
    }
   ],
   "source": [
    "#Let's try :-)\n",
    "# Define the regular expression pattern\n",
    "pattern = r'\\S{8}-\\S{4}-\\S{4}-\\S{4}-\\S{12}'\n",
    "mask = df_order_data.id_external.str.match(pattern).fillna(False)\n",
    "df_filtered = df_order_data.loc[~mask].size\n",
    "df_filtered"
   ]
  },
  {
   "cell_type": "markdown",
   "id": "20c78d02",
   "metadata": {
    "lang": "en"
   },
   "source": [
    "b_bis) [Difficult] The security team informs you that there is a computer flaw in the order recording system and that some orders are corrupted.\n",
    "Here are the characteristics to determine if an order is corrupt:\n",
    "- The field evaluated is the `external id` field\n",
    "- This field follows the pattern X-X-X-X-X, where X corresponds to a character string of a certain length\n",
    "- X contains strictly more numbers than letters\n",
    "\n",
    "Filter your dataset to only keep corrupt orders. How many do you find?"
   ]
  },
  {
   "cell_type": "code",
   "execution_count": 42,
   "id": "be1014a6",
   "metadata": {},
   "outputs": [],
   "source": [
    "import re"
   ]
  },
  {
   "cell_type": "code",
   "execution_count": 46,
   "id": "8b21096f",
   "metadata": {},
   "outputs": [
    {
     "data": {
      "text/plain": [
       "True"
      ]
     },
     "execution_count": 46,
     "metadata": {},
     "output_type": "execute_result"
    }
   ],
   "source": [
    "def has_more_digits_than_letters(value):\n",
    "    # create array of string \n",
    "    strings = value.split('-')\n",
    "    # initialize return value status \n",
    "    status = False\n",
    "    \n",
    "    #loop through strings and check if each part met the condition digits > letters\n",
    "    for string in strings:\n",
    "        numberDigits = len(re.findall(r'\\d', string))\n",
    "        numberLetters = len(re.findall(r'\\D', string))\n",
    "        #print (f\"for {string}---number of digits: {numberDigits}; number of letters: {numberLetters}\")\n",
    "        \n",
    "        if numberDigits > numberLetters:\n",
    "            status = True\n",
    "            \n",
    "        else: \n",
    "            status = False\n",
    "          \n",
    "    return status\n",
    "\n",
    "has_more_digits_than_letters('04AAAA6B-EFF4-41CA-AEA1-839104F36833')\n"
   ]
  },
  {
   "cell_type": "code",
   "execution_count": 50,
   "id": "Dut620D0iIh4",
   "metadata": {
    "id": "Dut620D0iIh4"
   },
   "outputs": [
    {
     "name": "stdout",
     "output_type": "stream",
     "text": [
      "INFO: 543745 corrupt order entries are found.\n"
     ]
    }
   ],
   "source": [
    "#Let's try :-)\n",
    "# Define the regular expression pattern\n",
    "pattern = r'\\S{8}-\\S{4}-\\S{4}-\\S{4}-\\S{12}'\n",
    "mask = df_order_data.id_external.str.match(pattern).fillna(False)\n",
    "#check more number than letters only for entries with valid format\n",
    "mask_DigitLetters = df_order_data.loc[mask].id_external.apply(has_more_digits_than_letters)\n",
    "\n",
    "#for debug purpose only\n",
    "#print(maskDigitLetters)\n",
    "        \n",
    "#get filtered data by combining several masks         \n",
    "df_filtered = df_order_data.loc[~mask | ~mask_DigitLetters]\n",
    "\n",
    "print (f\"INFO: {df_filtered.size} corrupt order entries are found.\")\n"
   ]
  }
 ],
 "metadata": {
  "colab": {
   "collapsed_sections": [],
   "name": "tp_4_data_manipulation_exercices.ipynb",
   "provenance": []
  },
  "kernelspec": {
   "display_name": "Python 3 (ipykernel)",
   "language": "python",
   "name": "python3"
  },
  "language_info": {
   "codemirror_mode": {
    "name": "ipython",
    "version": 3
   },
   "file_extension": ".py",
   "mimetype": "text/x-python",
   "name": "python",
   "nbconvert_exporter": "python",
   "pygments_lexer": "ipython3",
   "version": "3.9.7"
  },
  "nbTranslate": {
   "displayLangs": [
    "*"
   ],
   "hotkey": "",
   "langInMainMenu": true,
   "sourceLang": "fr",
   "targetLang": "en",
   "useGoogleTranslate": true
  },
  "toc": {
   "base_numbering": 1,
   "nav_menu": {},
   "number_sections": true,
   "sideBar": true,
   "skip_h1_title": false,
   "title_cell": "Table of Contents",
   "title_sidebar": "Contents",
   "toc_cell": false,
   "toc_position": {},
   "toc_section_display": true,
   "toc_window_display": false
  },
  "varInspector": {
   "cols": {
    "lenName": 16,
    "lenType": 16,
    "lenVar": 40
   },
   "kernels_config": {
    "python": {
     "delete_cmd_postfix": "",
     "delete_cmd_prefix": "del ",
     "library": "var_list.py",
     "varRefreshCmd": "print(var_dic_list())"
    },
    "r": {
     "delete_cmd_postfix": ") ",
     "delete_cmd_prefix": "rm(",
     "library": "var_list.r",
     "varRefreshCmd": "cat(var_dic_list()) "
    }
   },
   "types_to_exclude": [
    "module",
    "function",
    "builtin_function_or_method",
    "instance",
    "_Feature"
   ],
   "window_display": false
  }
 },
 "nbformat": 4,
 "nbformat_minor": 5
}
