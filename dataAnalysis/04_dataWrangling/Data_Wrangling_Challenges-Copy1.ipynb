{
 "cells": [
  {
   "cell_type": "markdown",
   "id": "_TQYWmV0-mrV",
   "metadata": {
    "id": "_TQYWmV0-mrV"
   },
   "source": [
    "## EDA Tiller System"
   ]
  },
  {
   "cell_type": "markdown",
   "id": "d7cfdb56",
   "metadata": {
    "lang": "en"
   },
   "source": [
    "### Import of libraries and data"
   ]
  },
  {
   "cell_type": "markdown",
   "id": "5c1a1d97",
   "metadata": {
    "lang": "en"
   },
   "source": [
    "a) Add the `pandas_profiling` library to your environment and import the following libraries:"
   ]
  },
  {
   "cell_type": "code",
   "execution_count": null,
   "id": "OlMvy5Ks-woI",
   "metadata": {
    "id": "OlMvy5Ks-woI"
   },
   "outputs": [],
   "source": [
    "from collections import Counter\n",
    "import json\n",
    "\n",
    "import pandas as pd\n",
    "from pandas_profiling import ProfileReport"
   ]
  },
  {
   "cell_type": "markdown",
   "id": "30857595",
   "metadata": {
    "lang": "en"
   },
   "source": [
    "b) Normally you have already downloaded the data [order_data](https://drive.google.com/file/d/1X5uXVFrl7SuMUKe7CJaiCmGEOhokorh2/view?usp=sharing) and [order_line](https: //drive.google.com/file/d/1G7Jbq_m-tJrHRhL-44j8XFOVs_zPil_9/view?usp=sharing)."
   ]
  },
  {
   "cell_type": "markdown",
   "id": "3eb1559e",
   "metadata": {
    "lang": "en"
   },
   "source": [
    "c) Import this data into 2 dataframes order_data and order_line"
   ]
  },
  {
   "cell_type": "code",
   "execution_count": null,
   "id": "TNxhRi-Y-ztH",
   "metadata": {
    "id": "TNxhRi-Y-ztH"
   },
   "outputs": [],
   "source": []
  },
  {
   "cell_type": "markdown",
   "id": "d5b9a03f",
   "metadata": {
    "lang": "en"
   },
   "source": [
    "### Missing values"
   ]
  },
  {
   "cell_type": "markdown",
   "id": "09d1c5a2",
   "metadata": {
    "lang": "en"
   },
   "source": [
    "d) Using the info function, look at the number of missing values ​​per column of your order_data dataframe"
   ]
  },
  {
   "cell_type": "code",
   "execution_count": null,
   "id": "d23a9dd8",
   "metadata": {
    "ExecuteTime": {
     "end_time": "2021-12-07T20:50:43.001680Z",
     "start_time": "2021-12-07T20:50:42.945528Z"
    },
    "id": "d23a9dd8"
   },
   "outputs": [],
   "source": []
  },
  {
   "cell_type": "markdown",
   "id": "258fce8e",
   "metadata": {
    "lang": "en"
   },
   "source": [
    "e) Using this time the isnull() function, calculate the percentage of null rows per column of your datafrale order_data"
   ]
  },
  {
   "cell_type": "code",
   "execution_count": null,
   "id": "4S_ONFsYHQ6t",
   "metadata": {
    "id": "4S_ONFsYHQ6t"
   },
   "outputs": [],
   "source": []
  },
  {
   "cell_type": "markdown",
   "id": "e9a80fe5",
   "metadata": {
    "lang": "en"
   },
   "source": [
    "f) How can you explain that there are so many id_customer to null?"
   ]
  },
  {
   "cell_type": "markdown",
   "id": "42812f0f",
   "metadata": {
    "lang": "en"
   },
   "source": [
    "g) Create a subdataframe that only contains non-null id_customer rows? You can use the `~` operator"
   ]
  },
  {
   "cell_type": "code",
   "execution_count": null,
   "id": "g2DKzlwTMJU0",
   "metadata": {
    "id": "g2DKzlwTMJU0"
   },
   "outputs": [],
   "source": []
  },
  {
   "cell_type": "markdown",
   "id": "6e4d6f1d",
   "metadata": {
    "lang": "en"
   },
   "source": [
    "### Descriptive statistics"
   ]
  },
  {
   "cell_type": "markdown",
   "id": "bdbd043e",
   "metadata": {
    "lang": "en"
   },
   "source": [
    "h) What is the average price of an order? median? minimum? max?"
   ]
  },
  {
   "cell_type": "code",
   "execution_count": null,
   "id": "afc205cb",
   "metadata": {
    "ExecuteTime": {
     "end_time": "2021-12-07T20:50:26.778009Z",
     "start_time": "2021-12-07T20:50:26.771504Z"
    },
    "id": "afc205cb"
   },
   "outputs": [],
   "source": []
  },
  {
   "cell_type": "markdown",
   "id": "02514670",
   "metadata": {
    "lang": "en"
   },
   "source": [
    "i) Use the describe function to have more descriptive statistics"
   ]
  },
  {
   "cell_type": "code",
   "execution_count": null,
   "id": "DCADm6V4Fi5n",
   "metadata": {
    "id": "DCADm6V4Fi5n"
   },
   "outputs": [],
   "source": []
  },
  {
   "cell_type": "markdown",
   "id": "cc088f25",
   "metadata": {
    "lang": "en"
   },
   "source": [
    "The dim_comment column"
   ]
  },
  {
   "cell_type": "markdown",
   "id": "9d0c239a",
   "metadata": {
    "lang": "en"
   },
   "source": [
    "j) What is the mode of the dim_name column?"
   ]
  },
  {
   "cell_type": "code",
   "execution_count": null,
   "id": "f19fd17a",
   "metadata": {
    "id": "f19fd17a"
   },
   "outputs": [],
   "source": []
  },
  {
   "cell_type": "markdown",
   "id": "6a40767e",
   "metadata": {
    "lang": "en"
   },
   "source": [
    "k) [More difficult] In which store was the order placed with the most products ordered? How many products in total?"
   ]
  },
  {
   "cell_type": "code",
   "execution_count": null,
   "id": "haJfylOB8BdE",
   "metadata": {
    "id": "haJfylOB8BdE"
   },
   "outputs": [],
   "source": []
  },
  {
   "cell_type": "markdown",
   "id": "c352fda7",
   "metadata": {
    "lang": "en"
   },
   "source": [
    "### Temporal analyzes"
   ]
  },
  {
   "cell_type": "markdown",
   "id": "c8287cd0",
   "metadata": {
    "lang": "en"
   },
   "source": [
    "l) Convert `date_opened` and `date_closed` columns to datetime format"
   ]
  },
  {
   "cell_type": "code",
   "execution_count": null,
   "id": "nqDqHVG2AMle",
   "metadata": {
    "id": "nqDqHVG2AMle"
   },
   "outputs": [],
   "source": []
  },
  {
   "cell_type": "markdown",
   "id": "45616431",
   "metadata": {
    "lang": "en"
   },
   "source": [
    "m) Using the set_index function, index the date_opened column to the dataframe (already in datetime format)"
   ]
  },
  {
   "cell_type": "code",
   "execution_count": null,
   "id": "iT0MNO24B0bE",
   "metadata": {
    "id": "iT0MNO24B0bE"
   },
   "outputs": [],
   "source": []
  },
  {
   "cell_type": "markdown",
   "id": "d6689e00",
   "metadata": {
    "lang": "en"
   },
   "source": [
    "n) From here all date features are available to you!!\n",
    "\n",
    "Using the resample function calculate the amount received from all restaurants per week."
   ]
  },
  {
   "cell_type": "code",
   "execution_count": null,
   "id": "kr7nu1vHCuMB",
   "metadata": {
    "id": "kr7nu1vHCuMB"
   },
   "outputs": [],
   "source": []
  },
  {
   "cell_type": "markdown",
   "id": "d1d5d358",
   "metadata": {
    "lang": "en"
   },
   "source": [
    "o) We rather want to have it per week and per restaurant, modify the previous code.\n",
    "\n",
    "Note: resample comes after the groupby..."
   ]
  },
  {
   "cell_type": "code",
   "execution_count": null,
   "id": "UBQg42vrG4D1",
   "metadata": {
    "id": "UBQg42vrG4D1"
   },
   "outputs": [],
   "source": []
  },
  {
   "cell_type": "markdown",
   "id": "c5ae58f1",
   "metadata": {
    "lang": "en"
   },
   "source": [
    "p) Finally we want it by quarter, modify the previous code to obtain the result. You can store the result in a quarter_results dataframe.\n",
    "\n",
    "You can check [this page](https://pandas.pydata.org/pandas-docs/stable/user_guide/timeseries.html#dateoffset-objects) to see all possible options of resample function.\n",
    "\n",
    "Practical, no?"
   ]
  },
  {
   "cell_type": "code",
   "execution_count": null,
   "id": "iDSoG1OUB8od",
   "metadata": {
    "id": "iDSoG1OUB8od"
   },
   "outputs": [],
   "source": []
  },
  {
   "cell_type": "markdown",
   "id": "482a8870",
   "metadata": {
    "lang": "en"
   },
   "source": [
    "q) Study the function [pct_change](https://pandas.pydata.org/docs/reference/api/pandas.DataFrame.pct_change.html) of pandas and calculate the evolution of CA per restaurant per quarter in a new column."
   ]
  },
  {
   "cell_type": "code",
   "execution_count": null,
   "id": "Ko4gRhFGK4mp",
   "metadata": {
    "id": "Ko4gRhFGK4mp"
   },
   "outputs": [],
   "source": []
  },
  {
   "cell_type": "markdown",
   "id": "471cab7d",
   "metadata": {
    "lang": "en"
   },
   "source": [
    "r) What is the restaurant with the most important evolution per quarter on this data? For which quarter?"
   ]
  },
  {
   "cell_type": "code",
   "execution_count": null,
   "id": "a_lK6oCJLlvF",
   "metadata": {
    "id": "a_lK6oCJLlvF"
   },
   "outputs": [],
   "source": []
  },
  {
   "cell_type": "markdown",
   "id": "c680cbf8",
   "metadata": {
    "lang": "en"
   },
   "source": [
    "### PivotTables"
   ]
  },
  {
   "cell_type": "markdown",
   "id": "963d2ee9",
   "metadata": {
    "lang": "fr"
   },
   "source": [
    "s) On the order data, look at all the modalities of dim_source by occurrence"
   ]
  },
  {
   "cell_type": "code",
   "execution_count": null,
   "id": "eF5DSQkXNoGU",
   "metadata": {
    "id": "eF5DSQkXNoGU"
   },
   "outputs": [],
   "source": []
  },
  {
   "cell_type": "markdown",
   "id": "7b922882",
   "metadata": {
    "lang": "en"
   },
   "source": [
    "t) Replace values ​​other than \"Tiller iPAD\", \"tiller-order\" and \"LAFOURCHETTE\" with \"Other\". Use the loc function with a mask using the .isin function."
   ]
  },
  {
   "cell_type": "code",
   "execution_count": null,
   "id": "8e4BFoPxOjs8",
   "metadata": {
    "id": "8e4BFoPxOjs8"
   },
   "outputs": [],
   "source": []
  },
  {
   "cell_type": "markdown",
   "id": "9cc7dabf",
   "metadata": {
    "lang": "en"
   },
   "source": [
    "u) Using the pivot_table function, calculate the turnover generated by restaurant in rows and by dim_source in column. You can use the fillna function to replace null values ​​with 0.\n",
    "\n",
    "We will also use a reset_index to reassemble the id_store as columns"
   ]
  },
  {
   "cell_type": "code",
   "execution_count": null,
   "id": "RwNyqPtENN7H",
   "metadata": {
    "id": "RwNyqPtENN7H"
   },
   "outputs": [],
   "source": []
  },
  {
   "cell_type": "markdown",
   "id": "02616dbe",
   "metadata": {
    "lang": "en"
   },
   "source": [
    "v) [Bonus] Go back to the previous dataframe and bring down all the dim_source in a new column with the melt function"
   ]
  },
  {
   "cell_type": "code",
   "execution_count": null,
   "id": "oxXekhg8Pwqk",
   "metadata": {
    "id": "oxXekhg8Pwqk"
   },
   "outputs": [],
   "source": []
  },
  {
   "cell_type": "markdown",
   "id": "b4be4cec",
   "metadata": {
    "lang": "en"
   },
   "source": [
    "## Pandas profiling"
   ]
  },
  {
   "cell_type": "markdown",
   "id": "c903fa26",
   "metadata": {
    "lang": "en"
   },
   "source": [
    "There are libraries in Python to make data exploration even easier.\n",
    "\n",
    "`pandas-profiling` is one! Look at this article which details its possibilities."
   ]
  },
  {
   "cell_type": "markdown",
   "id": "2fc6bedc",
   "metadata": {
    "lang": "en"
   },
   "source": [
    "w) Download the `pandas-profiling` library in your environment and generate an order data report order_data."
   ]
  },
  {
   "cell_type": "code",
   "execution_count": null,
   "id": "28edc23e",
   "metadata": {
    "id": "28edc23e",
    "scrolled": true
   },
   "outputs": [],
   "source": []
  },
  {
   "cell_type": "markdown",
   "id": "28a94c61",
   "metadata": {
    "lang": "en"
   },
   "source": [
    "x) From this generated file: answer the following questions:\n",
    "- What is the percentage of missing values?\n",
    "- How many numeric variables are there? categorical? Do these numbers seem consistent to you? Are there any points of attention to raise?\n",
    "- What is the percentage of data with the value \"tiller-order\" in the \"dim_source\" column?\n",
    "- What is the skewness coefficient for the m_nb_customer variable?"
   ]
  },
  {
   "cell_type": "markdown",
   "id": "316e3078",
   "metadata": {
    "lang": "en"
   },
   "source": [
    "y) Thanks to the to_json method of the report, store this json in a Python dictionary by executing the code below"
   ]
  },
  {
   "cell_type": "code",
   "execution_count": null,
   "id": "d947a34a",
   "metadata": {
    "id": "d947a34a"
   },
   "outputs": [],
   "source": [
    "profile_json = json.loads(profile_report.to_json())"
   ]
  },
  {
   "cell_type": "markdown",
   "id": "5253f456",
   "metadata": {
    "lang": "en"
   },
   "source": [
    "z) Determine which variable has the highest kurtosis coefficient"
   ]
  },
  {
   "cell_type": "code",
   "execution_count": null,
   "id": "7f9f5d0e",
   "metadata": {
    "id": "7f9f5d0e"
   },
   "outputs": [],
   "source": []
  },
  {
   "cell_type": "code",
   "execution_count": null,
   "id": "_Ta3zd6Hh5fV",
   "metadata": {
    "id": "_Ta3zd6Hh5fV"
   },
   "outputs": [],
   "source": []
  },
  {
   "cell_type": "markdown",
   "id": "gQwp90LeiCja",
   "metadata": {
    "id": "gQwp90LeiCja"
   },
   "source": [
    "# Text Processing"
   ]
  },
  {
   "cell_type": "markdown",
   "id": "d8996234",
   "metadata": {
    "lang": "en"
   },
   "source": [
    "a_bis) The `id_external` field follows in almost all cases the following pattern X-X-X-X-X, where X corresponds to a character string of a certain length and composed of letters as well as numbers.\n",
    "Determine how many rows in this dataframe do not follow this pattern?"
   ]
  },
  {
   "cell_type": "code",
   "execution_count": null,
   "id": "UaGLkdn1h6BK",
   "metadata": {
    "id": "UaGLkdn1h6BK"
   },
   "outputs": [],
   "source": []
  },
  {
   "cell_type": "markdown",
   "id": "20c78d02",
   "metadata": {
    "lang": "en"
   },
   "source": [
    "b_bis) [Difficult] The security team informs you that there is a computer flaw in the order recording system and that some orders are corrupted.\n",
    "Here are the characteristics to determine if an order is corrupt:\n",
    "- The field evaluated is the `external id` field\n",
    "- This field follows the pattern X-X-X-X-X, where X corresponds to a character string of a certain length\n",
    "- X contains strictly more numbers than letters\n",
    "\n",
    "Filter your dataset to only keep corrupt orders. How many do you find?"
   ]
  },
  {
   "cell_type": "code",
   "execution_count": null,
   "id": "Dut620D0iIh4",
   "metadata": {
    "id": "Dut620D0iIh4"
   },
   "outputs": [],
   "source": []
  }
 ],
 "metadata": {
  "colab": {
   "collapsed_sections": [],
   "name": "tp_4_data_manipulation_exercices.ipynb",
   "provenance": []
  },
  "kernelspec": {
   "display_name": "Python 3 (ipykernel)",
   "language": "python",
   "name": "python3"
  },
  "language_info": {
   "codemirror_mode": {
    "name": "ipython",
    "version": 3
   },
   "file_extension": ".py",
   "mimetype": "text/x-python",
   "name": "python",
   "nbconvert_exporter": "python",
   "pygments_lexer": "ipython3",
   "version": "3.10.6"
  },
  "nbTranslate": {
   "displayLangs": [
    "*"
   ],
   "hotkey": "",
   "langInMainMenu": true,
   "sourceLang": "fr",
   "targetLang": "en",
   "useGoogleTranslate": true
  },
  "toc": {
   "base_numbering": 1,
   "nav_menu": {},
   "number_sections": true,
   "sideBar": true,
   "skip_h1_title": false,
   "title_cell": "Table of Contents",
   "title_sidebar": "Contents",
   "toc_cell": false,
   "toc_position": {},
   "toc_section_display": true,
   "toc_window_display": false
  },
  "varInspector": {
   "cols": {
    "lenName": 16,
    "lenType": 16,
    "lenVar": 40
   },
   "kernels_config": {
    "python": {
     "delete_cmd_postfix": "",
     "delete_cmd_prefix": "del ",
     "library": "var_list.py",
     "varRefreshCmd": "print(var_dic_list())"
    },
    "r": {
     "delete_cmd_postfix": ") ",
     "delete_cmd_prefix": "rm(",
     "library": "var_list.r",
     "varRefreshCmd": "cat(var_dic_list()) "
    }
   },
   "types_to_exclude": [
    "module",
    "function",
    "builtin_function_or_method",
    "instance",
    "_Feature"
   ],
   "window_display": false
  }
 },
 "nbformat": 4,
 "nbformat_minor": 5
}
