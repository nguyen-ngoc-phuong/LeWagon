{
 "cells": [
  {
   "cell_type": "markdown",
   "id": "f8a89a51",
   "metadata": {
    "id": "f8a89a51",
    "lang": "en"
   },
   "source": [
    "# Installation and best practices"
   ]
  },
  {
   "cell_type": "markdown",
   "id": "7c3d1896",
   "metadata": {
    "id": "7c3d1896",
    "lang": "en"
   },
   "source": [
    "The goal of this jupyter notebook is to teach you some very basic Python instructions and how to debug code. Even if you don't have much knowledge about a programming language such as Python, you should be able to manage by general intuition and by using the internet as a helpful resource.\n",
    "Also, don't worry, we'll introduce Python in the next lesson!\n",
    "\n",
    "The focus of this jupyter notebook is to:\n",
    "- discover some correct Python instructions\n",
    "- debug code to make it work\n",
    "- understand and practice on how to search for coding solutions on the internet"
   ]
  },
  {
   "cell_type": "markdown",
   "id": "47e24328",
   "metadata": {
    "id": "47e24328",
    "lang": "en"
   },
   "source": [
    "## 0) Some correct instructions in Python"
   ]
  },
  {
   "cell_type": "markdown",
   "id": "4bc4330f",
   "metadata": {
    "id": "4bc4330f",
    "lang": "en"
   },
   "source": [
    "### simple calculation\n",
    "The code below is a simple calculation, run the code by using the run button above, or search for the shortcut in your enviornment (usually, shift+enter). <br>\n",
    "Feel free to change the operands and operator ( + - / * )"
   ]
  },
  {
   "cell_type": "code",
   "execution_count": 5,
   "id": "U9omObjskUuj",
   "metadata": {
    "id": "U9omObjskUuj"
   },
   "outputs": [
    {
     "data": {
      "text/plain": [
       "3"
      ]
     },
     "execution_count": 5,
     "metadata": {},
     "output_type": "execute_result"
    }
   ],
   "source": [
    "1 + 2 #sum"
   ]
  },
  {
   "cell_type": "code",
   "execution_count": 4,
   "id": "29ce299f",
   "metadata": {},
   "outputs": [
    {
     "data": {
      "text/plain": [
       "-1"
      ]
     },
     "execution_count": 4,
     "metadata": {},
     "output_type": "execute_result"
    }
   ],
   "source": [
    "1-2 #substract"
   ]
  },
  {
   "cell_type": "code",
   "execution_count": 21,
   "id": "68bf6f36",
   "metadata": {},
   "outputs": [
    {
     "data": {
      "text/plain": [
       "8"
      ]
     },
     "execution_count": 21,
     "metadata": {},
     "output_type": "execute_result"
    }
   ],
   "source": [
    " 2*4 #multiply"
   ]
  },
  {
   "cell_type": "code",
   "execution_count": 36,
   "id": "768b6d5a",
   "metadata": {},
   "outputs": [
    {
     "data": {
      "text/plain": [
       "0.5"
      ]
     },
     "execution_count": 36,
     "metadata": {},
     "output_type": "execute_result"
    }
   ],
   "source": [
    "4/8 #divide"
   ]
  },
  {
   "cell_type": "markdown",
   "id": "4db0c466",
   "metadata": {
    "id": "4db0c466",
    "lang": "en"
   },
   "source": [
    "### display\n",
    "By using the print statement we can display some code"
   ]
  },
  {
   "cell_type": "code",
   "execution_count": 6,
   "id": "W5DLhyDXm36p",
   "metadata": {
    "id": "W5DLhyDXm36p"
   },
   "outputs": [
    {
     "name": "stdout",
     "output_type": "stream",
     "text": [
      "Hello\n"
     ]
    }
   ],
   "source": [
    "print(\"Hello\")"
   ]
  },
  {
   "cell_type": "markdown",
   "id": "383954b8",
   "metadata": {
    "id": "383954b8",
    "lang": "en"
   },
   "source": [
    "### the variables\n",
    "In Python, a variable is a named identifier that represents a memory location used to store data. It serves as a container to hold a value or a reference to an object. Variables in Python are dynamically typed, meaning you do not need to specify the type explicitly when declaring a variable. The data type of a variable is inferred based on the value assigned to it."
   ]
  },
  {
   "cell_type": "code",
   "execution_count": 11,
   "id": "i6s5vav4nL2w",
   "metadata": {
    "id": "i6s5vav4nL2w"
   },
   "outputs": [
    {
     "name": "stdout",
     "output_type": "stream",
     "text": [
      "Phuong Nguyen\n",
      "3\n",
      "3\n",
      "3\n",
      "3\n",
      "4\n"
     ]
    }
   ],
   "source": [
    "my_variable = 3\n",
    "my_firstName = \"Phuong\"\n",
    "my_secondName = \"Nguyen\"\n",
    "my\n",
    "\n",
    "\n",
    "print(my_Name+ ' '+my_secondName)\n",
    "print(3)\n",
    "print(3)\n",
    "print(3)\n",
    "print(my_variable)\n",
    "print(my_variable + 1)"
   ]
  },
  {
   "cell_type": "markdown",
   "id": "eff406fb",
   "metadata": {
    "id": "eff406fb",
    "lang": "en"
   },
   "source": [
    "### functions\n",
    "\n",
    "In Python, a function is a block of reusable code that performs a specific task. It is a self-contained unit of functionality that can be called and executed multiple times throughout a program. Functions in Python help organize code and improve reusability. <br>\n",
    "\n",
    "A function in Python typically takes input parameters (optional) and can return a value (optional). It encapsulates a series of instructions or statements that are executed when the function is called. Functions can also be designed to perform specific actions without returning a value.<br>\n",
    "\n",
    "To define a function in Python, the def keyword is used"
   ]
  },
  {
   "cell_type": "code",
   "execution_count": 16,
   "id": "wGnD24McnUfa",
   "metadata": {
    "id": "wGnD24McnUfa"
   },
   "outputs": [],
   "source": [
    "#example for defining a function \n",
    "def my_function(input_parameter):\n",
    "    value = input_parameter + 5\n",
    "    return value\n",
    "\n",
    "#function call\n",
    "returnValue = my_function(4)"
   ]
  },
  {
   "cell_type": "code",
   "execution_count": 18,
   "id": "8fe6ff65",
   "metadata": {},
   "outputs": [],
   "source": [
    "#example for defining a function string\n",
    "def my_function(input_parameter):\n",
    "    value = input_parameter + \"_copied\"\n",
    "    return value\n",
    "\n",
    "#function call\n",
    "returnValue = my_function('String')"
   ]
  },
  {
   "cell_type": "code",
   "execution_count": 19,
   "id": "65352dd9",
   "metadata": {},
   "outputs": [
    {
     "data": {
      "text/plain": [
       "'String_copied'"
      ]
     },
     "execution_count": 19,
     "metadata": {},
     "output_type": "execute_result"
    }
   ],
   "source": [
    "returnValue"
   ]
  },
  {
   "cell_type": "markdown",
   "id": "eeb9abe6",
   "metadata": {
    "id": "eeb9abe6",
    "lang": "en"
   },
   "source": [
    "### conditions: if/else statement\n",
    "In Python, an if/else statement is a conditional statement that allows you to control the flow of your program based on certain conditions. It provides a way to specify different sets of actions or code blocks to be executed depending on whether a given condition is true or false. <br>\n",
    "\n",
    "The following is an example of an if/else statement in a Python function:"
   ]
  },
  {
   "cell_type": "code",
   "execution_count": 22,
   "id": "cTJrGJ0Wndxs",
   "metadata": {
    "id": "cTJrGJ0Wndxs"
   },
   "outputs": [
    {
     "name": "stdout",
     "output_type": "stream",
     "text": [
      "positive\n",
      "negative\n"
     ]
    }
   ],
   "source": [
    "#if and else can be very messy, anyhow use less nested structure anywhere possible\n",
    "def my_second_function(my_parameter):\n",
    "\n",
    "    status = \"\"\n",
    "    if my_parameter <= 0 :\n",
    "        status = \"negative\"\n",
    "    else :\n",
    "        status = \"positive\"\n",
    "\n",
    "    return status\n",
    "\n",
    "# function call\n",
    "print(my_second_function(5))\n",
    "print(my_second_function(-5))"
   ]
  },
  {
   "cell_type": "code",
   "execution_count": 38,
   "id": "1a0d84d2",
   "metadata": {},
   "outputs": [
    {
     "name": "stdout",
     "output_type": "stream",
     "text": [
      "positive\n",
      "negative\n"
     ]
    }
   ],
   "source": [
    "#if and else can be very messy, anyhow use less nested structure anywhere possible\n",
    "def my_second_function(my_hello):\n",
    "\n",
    "    status = \"\"\n",
    "    if my_hello <= 0 :\n",
    "        status = \"negative\"\n",
    "    else :\n",
    "        status = \"positive\"\n",
    "\n",
    "    return status\n",
    "\n",
    "# function call\n",
    "print(my_second_function(5))\n",
    "print(my_second_function(-5))"
   ]
  },
  {
   "cell_type": "code",
   "execution_count": 37,
   "id": "23236895",
   "metadata": {},
   "outputs": [
    {
     "data": {
      "text/plain": [
       "'positive'"
      ]
     },
     "execution_count": 37,
     "metadata": {},
     "output_type": "execute_result"
    }
   ],
   "source": [
    "variable"
   ]
  },
  {
   "cell_type": "markdown",
   "id": "e0f0e446",
   "metadata": {
    "id": "e0f0e446",
    "lang": "en"
   },
   "source": [
    "### error handling : try / except statement\n",
    "In Python, the try/except statement is used for exception handling, allowing you to handle and manage potential errors or exceptions that may occur during the execution of your code. It provides a way to gracefully handle exceptions and prevent your program from crashing. <br>\n",
    "\n",
    "The following is an example of an try/except statement:"
   ]
  },
  {
   "cell_type": "code",
   "execution_count": 7,
   "id": "RxAqL1pUn5Qp",
   "metadata": {
    "id": "RxAqL1pUn5Qp"
   },
   "outputs": [
    {
     "ename": "ZeroDivisionError",
     "evalue": "division by zero",
     "output_type": "error",
     "traceback": [
      "\u001b[1;31m---------------------------------------------------------------------------\u001b[0m",
      "\u001b[1;31mZeroDivisionError\u001b[0m                         Traceback (most recent call last)",
      "Cell \u001b[1;32mIn[7], line 1\u001b[0m\n\u001b[1;32m----> 1\u001b[0m my_variable \u001b[38;5;241m=\u001b[39m \u001b[38;5;241;43m1\u001b[39;49m\u001b[38;5;241;43m/\u001b[39;49m\u001b[38;5;241;43m0\u001b[39;49m\n",
      "\u001b[1;31mZeroDivisionError\u001b[0m: division by zero"
     ]
    }
   ],
   "source": [
    "my_variable = 1/0"
   ]
  },
  {
   "cell_type": "code",
   "execution_count": 51,
   "id": "PwP-spOJosmb",
   "metadata": {
    "id": "PwP-spOJosmb"
   },
   "outputs": [
    {
     "name": "stdout",
     "output_type": "stream",
     "text": [
      "can only concatenate str (not \"float\") to str\n"
     ]
    }
   ],
   "source": [
    "try :\n",
    "    my_variable = 1/1 #1st error\n",
    "    my_String = 'hello'\n",
    "    result = my_String + my_variable # 2nd error\n",
    "    print(my_variable) #float\n",
    "except Exception as e :\n",
    "    print(e)\n",
    "    "
   ]
  },
  {
   "cell_type": "markdown",
   "id": "20fa67b4",
   "metadata": {
    "id": "20fa67b4",
    "lang": "en"
   },
   "source": [
    "### libraries\n",
    "\n",
    "In Python, a library (also known as a module or package) is a collection of pre-existing code and functionality that provides additional features and capabilities beyond what is available in the core Python language. Libraries contain functions, classes, and variables that can be used to perform specific tasks or solve particular problems.\n",
    "<br>\n",
    "\n",
    "To use a library in your Python code, you need to import it. The import statement is used to import a library/module into your code."
   ]
  },
  {
   "cell_type": "code",
   "execution_count": 11,
   "id": "EnuWebDtoOOZ",
   "metadata": {
    "id": "EnuWebDtoOOZ"
   },
   "outputs": [
    {
     "name": "stdout",
     "output_type": "stream",
     "text": [
      "C:\\Users\\p.nguyen\\LeWagon\\Python_MachineLearning\\dataAnalysis\\01_installation\n"
     ]
    }
   ],
   "source": [
    "import os\n",
    "import requests\n",
    "import pandas as pandas\n",
    "\n",
    "\n",
    "\n",
    "\n",
    "\n",
    "# displays the current directory\n",
    "print(os.getcwd())"
   ]
  },
  {
   "cell_type": "markdown",
   "id": "4ab57332",
   "metadata": {
    "id": "4ab57332",
    "lang": "en"
   },
   "source": [
    "## 1) Run the following code"
   ]
  },
  {
   "cell_type": "markdown",
   "id": "8954bd83",
   "metadata": {
    "id": "8954bd83",
    "lang": "en"
   },
   "source": [
    "The following code will give you errors and the task is to debug the functions. In order to resolve each of the errors encountered, one can utilize the debugger or employ print statements, alongside internet searches to seek solutions on how to rectify the code and make it functional."
   ]
  },
  {
   "cell_type": "code",
   "execution_count": 66,
   "id": "cb97c5d4",
   "metadata": {},
   "outputs": [
    {
     "name": "stdout",
     "output_type": "stream",
     "text": [
      "Automatic pdb calling has been turned ON\n"
     ]
    }
   ],
   "source": [
    "%pdb"
   ]
  },
  {
   "cell_type": "code",
   "execution_count": 65,
   "id": "7c147fff",
   "metadata": {
    "ExecuteTime": {
     "end_time": "2021-11-29T20:32:54.055443Z",
     "start_time": "2021-11-29T20:32:54.041591Z"
    },
    "id": "7c147fff"
   },
   "outputs": [
    {
     "name": "stdout",
     "output_type": "stream",
     "text": [
      "First riddle succeed !\n",
      "Second riddle succeed !\n",
      "Third riddle succeed !\n",
      "Fourth riddle succeed !\n",
      "Fifth riddle succeed !\n",
      "Yes ! SUCCESS !! And the magic number is 42\n"
     ]
    }
   ],
   "source": [
    "import pandas as pandas #4 import missing\n",
    "import random\n",
    "\n",
    "\n",
    "\n",
    "\n",
    "def huge_function():\n",
    "    something_huge = str(random.randrange(10000, 99999))#7 change range of random to get into this if, because random \n",
    "    length = len(something_huge)\n",
    "    if len(something_huge)==5: \n",
    "        return len(something_huge) * 6 + 2\n",
    "    else:\n",
    "        raise Exception(\"Error of magnitude\")\n",
    "\n",
    "def random_function(a_parameter):\n",
    "    complex_number = 9\n",
    "    return complex_number+len(a_parameter) #6 addition of string and number not allowed\n",
    "\n",
    "def first_riddle(some_parameter):\n",
    "    my_dataframe = pandas.DataFrame(some_parameter) #a_parameter not exists in function\n",
    "    print(\"First riddle succeed !\")\n",
    "    return my_dataframe\n",
    "\n",
    "def second_riddle(something):\n",
    "    try:\n",
    "        \n",
    "        resu = 10/len(something)\n",
    "    except Exception as e:\n",
    "        print(e)\n",
    "        \n",
    "    if len(something)==10:\n",
    "        print(\"Second riddle succeed !\")\n",
    "        return int(resu) #5 returs a float 1.0, riddle 3 expects an int as string\n",
    "    else:\n",
    "        raise Exception(\"Create something with the right length (a word, a list, a range, ...)\")\n",
    "\n",
    "def third_riddle(something):\n",
    "    if something==\"1\":\n",
    "        print(\"Third riddle succeed !\")\n",
    "        return something\n",
    "    else:\n",
    "        raise Exception(\"Maybe you have to change something\")\n",
    "\n",
    "def fourth_riddle(something):\n",
    "    result = random_function(something)\n",
    "    print(\"Fourth riddle succeed !\")\n",
    "    return result\n",
    "\n",
    "def fifth_riddle(something):\n",
    "    result = huge_function()\n",
    "    print(\"Fifth riddle succeed !\")\n",
    "    return result + something\n",
    "#0 activate Line in editor with 'L'\n",
    "def make_me_succeed(): #1 syntax error ':' missing \n",
    "    a_parameter = {'1' ,'2','3','4','5','6','7','8','9','10'} #2 tab in for function inclusion\n",
    "    first_result = first_riddle(a_parameter)\n",
    "    second_result = second_riddle(first_result)\n",
    "    third_result = third_riddle(str(second_result)) #6 expected string for internal comparision\n",
    "    fourth_result = fourth_riddle(third_result)#3 close bracket missing \n",
    "    fifth_result = fifth_riddle(fourth_result)\n",
    "    print(f\"Yes ! SUCCESS !! And the magic number is {fifth_result}\")\n",
    "\n",
    "make_me_succeed()"
   ]
  },
  {
   "cell_type": "code",
   "execution_count": 60,
   "id": "c84b77a0",
   "metadata": {},
   "outputs": [
    {
     "name": "stdout",
     "output_type": "stream",
     "text": [
      "> \u001b[1;32mc:\\programdata\\anaconda3\\envs\\thewagon\\lib\\site-packages\\ipykernel\\kernelbase.py\u001b[0m(1245)\u001b[0;36m_input_request\u001b[1;34m()\u001b[0m\n",
      "\u001b[1;32m   1243 \u001b[1;33m                \u001b[1;31m# re-raise KeyboardInterrupt, to truncate traceback\u001b[0m\u001b[1;33m\u001b[0m\u001b[1;33m\u001b[0m\u001b[0m\n",
      "\u001b[0m\u001b[1;32m   1244 \u001b[1;33m                \u001b[0mmsg\u001b[0m \u001b[1;33m=\u001b[0m \u001b[1;34m\"Interrupted by user\"\u001b[0m\u001b[1;33m\u001b[0m\u001b[1;33m\u001b[0m\u001b[0m\n",
      "\u001b[0m\u001b[1;32m-> 1245 \u001b[1;33m                \u001b[1;32mraise\u001b[0m \u001b[0mKeyboardInterrupt\u001b[0m\u001b[1;33m(\u001b[0m\u001b[0mmsg\u001b[0m\u001b[1;33m)\u001b[0m \u001b[1;32mfrom\u001b[0m \u001b[1;32mNone\u001b[0m\u001b[1;33m\u001b[0m\u001b[1;33m\u001b[0m\u001b[0m\n",
      "\u001b[0m\u001b[1;32m   1246 \u001b[1;33m            \u001b[1;32mexcept\u001b[0m \u001b[0mException\u001b[0m\u001b[1;33m:\u001b[0m\u001b[1;33m\u001b[0m\u001b[1;33m\u001b[0m\u001b[0m\n",
      "\u001b[0m\u001b[1;32m   1247 \u001b[1;33m                \u001b[0mself\u001b[0m\u001b[1;33m.\u001b[0m\u001b[0mlog\u001b[0m\u001b[1;33m.\u001b[0m\u001b[0mwarning\u001b[0m\u001b[1;33m(\u001b[0m\u001b[1;34m\"Invalid Message:\"\u001b[0m\u001b[1;33m,\u001b[0m \u001b[0mexc_info\u001b[0m\u001b[1;33m=\u001b[0m\u001b[1;32mTrue\u001b[0m\u001b[1;33m)\u001b[0m\u001b[1;33m\u001b[0m\u001b[1;33m\u001b[0m\u001b[0m\n",
      "\u001b[0m\n",
      "ipdb> p a_parameter\n",
      "*** NameError: name 'a_parameter' is not defined\n",
      "ipdb> up\n",
      "> \u001b[1;32mc:\\programdata\\anaconda3\\envs\\thewagon\\lib\\site-packages\\ipykernel\\kernelbase.py\u001b[0m(1202)\u001b[0;36mraw_input\u001b[1;34m()\u001b[0m\n",
      "\u001b[1;32m   1200 \u001b[1;33m            \u001b[0mmsg\u001b[0m \u001b[1;33m=\u001b[0m \u001b[1;34m\"raw_input was called, but this frontend does not support input requests.\"\u001b[0m\u001b[1;33m\u001b[0m\u001b[1;33m\u001b[0m\u001b[0m\n",
      "\u001b[0m\u001b[1;32m   1201 \u001b[1;33m            \u001b[1;32mraise\u001b[0m \u001b[0mStdinNotImplementedError\u001b[0m\u001b[1;33m(\u001b[0m\u001b[0mmsg\u001b[0m\u001b[1;33m)\u001b[0m\u001b[1;33m\u001b[0m\u001b[1;33m\u001b[0m\u001b[0m\n",
      "\u001b[0m\u001b[1;32m-> 1202 \u001b[1;33m        return self._input_request(\n",
      "\u001b[0m\u001b[1;32m   1203 \u001b[1;33m            \u001b[0mstr\u001b[0m\u001b[1;33m(\u001b[0m\u001b[0mprompt\u001b[0m\u001b[1;33m)\u001b[0m\u001b[1;33m,\u001b[0m\u001b[1;33m\u001b[0m\u001b[1;33m\u001b[0m\u001b[0m\n",
      "\u001b[0m\u001b[1;32m   1204 \u001b[1;33m            \u001b[0mself\u001b[0m\u001b[1;33m.\u001b[0m\u001b[0m_parent_ident\u001b[0m\u001b[1;33m[\u001b[0m\u001b[1;34m\"shell\"\u001b[0m\u001b[1;33m]\u001b[0m\u001b[1;33m,\u001b[0m\u001b[1;33m\u001b[0m\u001b[1;33m\u001b[0m\u001b[0m\n",
      "\u001b[0m\n",
      "--KeyboardInterrupt--\n",
      "\n",
      "KeyboardInterrupt: Interrupted by user\n"
     ]
    }
   ],
   "source": [
    "%debug"
   ]
  },
  {
   "cell_type": "code",
   "execution_count": 69,
   "id": "c2a3776a",
   "metadata": {},
   "outputs": [
    {
     "name": "stdout",
     "output_type": "stream",
     "text": [
      "Automatic pdb calling has been turned OFF\n"
     ]
    }
   ],
   "source": [
    "%pdb"
   ]
  },
  {
   "cell_type": "markdown",
   "id": "d5dd339a",
   "metadata": {
    "id": "d5dd339a",
    "lang": "en"
   },
   "source": [
    "### Display today's date in DD/MM/YYYY format\n",
    "You might need to import a libary here 🤔"
   ]
  },
  {
   "cell_type": "code",
   "execution_count": 16,
   "id": "7c98e30d",
   "metadata": {
    "ExecuteTime": {
     "end_time": "2021-11-29T20:55:42.362629Z",
     "start_time": "2021-11-29T20:55:42.359304Z"
    },
    "id": "7c98e30d"
   },
   "outputs": [
    {
     "name": "stdout",
     "output_type": "stream",
     "text": [
      "Today,26/10/2023 will be a wonderful day. Enjoy it!\n"
     ]
    }
   ],
   "source": [
    "import time\n",
    "date = time.localtime()\n",
    "print(f'Today,{date.tm_mday}/{date.tm_mon}/{date.tm_year} will be a wonderful day. Enjoy it!')"
   ]
  },
  {
   "cell_type": "markdown",
   "id": "41aac624",
   "metadata": {
    "id": "41aac624",
    "lang": "en"
   },
   "source": [
    "### Calculate the exponential of 10\n",
    "You might need to import a libary here 🤔"
   ]
  },
  {
   "cell_type": "code",
   "execution_count": 27,
   "id": "b355ad11",
   "metadata": {},
   "outputs": [
    {
     "name": "stdout",
     "output_type": "stream",
     "text": [
      "10000000000\n"
     ]
    }
   ],
   "source": [
    "exp = 10**10 #exponential of 10\n",
    "print(exp)"
   ]
  },
  {
   "cell_type": "code",
   "execution_count": 29,
   "id": "c679b9e5",
   "metadata": {},
   "outputs": [
    {
     "name": "stdout",
     "output_type": "stream",
     "text": [
      "65536\n"
     ]
    }
   ],
   "source": [
    "print(2**16) #binary 16 bit"
   ]
  },
  {
   "cell_type": "markdown",
   "id": "62fae302",
   "metadata": {
    "id": "62fae302",
    "lang": "en"
   },
   "source": [
    "### Count the number of times the number 1 is present in this list\n",
    "By using code of course, not counting them manually 😃"
   ]
  },
  {
   "cell_type": "code",
   "execution_count": 30,
   "id": "7a6f283a",
   "metadata": {
    "ExecuteTime": {
     "end_time": "2021-11-29T21:17:20.981569Z",
     "start_time": "2021-11-29T21:17:20.977889Z"
    },
    "id": "7a6f283a"
   },
   "outputs": [],
   "source": [
    "list_to_count = [1, 2, 3, 4, 1, 4, 1, 1, 2, 3, 4, 1, 4, 1, 1, 2, 3, 4, 1, 4, 1, 1, 2, 3, 4, 1, 4, 1, 1, 2, 3, 4, 1, 4, 1]"
   ]
  },
  {
   "cell_type": "code",
   "execution_count": 35,
   "id": "84b1deb1",
   "metadata": {
    "ExecuteTime": {
     "end_time": "2021-11-29T21:17:21.695363Z",
     "start_time": "2021-11-29T21:17:21.692280Z"
    },
    "id": "84b1deb1"
   },
   "outputs": [
    {
     "name": "stdout",
     "output_type": "stream",
     "text": [
      "1 is 15 times present in this list.\n"
     ]
    }
   ],
   "source": [
    "searchedNumber = 1\n",
    "print(f'{searchedNumber} is {list_to_count.count(searchedNumber)} times present in this list.')"
   ]
  },
  {
   "cell_type": "markdown",
   "id": "67cc10b2",
   "metadata": {
    "id": "67cc10b2",
    "lang": "en"
   },
   "source": [
    "### List the files in your Documents folder\n",
    "If you get a PermissionError -> make sure to enable full disk access to your terminal. A google search might be approriate if you are unsure how :-)"
   ]
  },
  {
   "cell_type": "code",
   "execution_count": 70,
   "id": "273269a4",
   "metadata": {
    "id": "273269a4"
   },
   "outputs": [
    {
     "name": "stdout",
     "output_type": "stream",
     "text": [
      "|_dataAnalysis\n",
      "|  |_____01_installation\n",
      "|  |_____02_python\n",
      "|  |_____03_dataFrame\n",
      "|  |_____04_dataWrangling\n",
      "|_machineLearning\n",
      "|  |_____classification\n",
      "|  |_____clustering\n",
      "|  |_____regression\n",
      "|  |_____timeSeries\n",
      "|_projecting\n",
      "|_vizualization\n",
      "|  |_____Pyplot\n",
      "|  |_____Widgets\n"
     ]
    }
   ],
   "source": [
    "import os\n",
    "path = r'C:\\Users\\p.nguyen\\LeWagon\\Python_MachineLearning'\n",
    "folders = os.listdir(path)\n",
    "\n",
    "# print folder structure\n",
    "for folder in folders:\n",
    "    print('|_'+folder)\n",
    "    # the same with subfolder.\n",
    "    subfolders = os.listdir(os.path.join(path,folder))\n",
    "    for subfolder in subfolders:\n",
    "        print('|  |_____'+subfolder)\n"
   ]
  },
  {
   "cell_type": "markdown",
   "id": "82436bad",
   "metadata": {},
   "source": [
    "###second posibility"
   ]
  },
  {
   "cell_type": "markdown",
   "id": "b2e4723d",
   "metadata": {
    "id": "b2e4723d",
    "lang": "en"
   },
   "source": [
    "### Display the contents of these two lists in parallel\n",
    "This is how the final output should look like: <br>\n",
    "1 a<br>\n",
    "2 b<br>\n",
    "3 c<br>\n",
    "4 d<br>\n",
    "5 e<br>"
   ]
  },
  {
   "cell_type": "markdown",
   "id": "d3c95320",
   "metadata": {},
   "source": [
    "###1st"
   ]
  },
  {
   "cell_type": "code",
   "execution_count": 73,
   "id": "5a0849ac",
   "metadata": {
    "ExecuteTime": {
     "end_time": "2021-11-29T21:13:51.675675Z",
     "start_time": "2021-11-29T21:13:51.673032Z"
    },
    "id": "5a0849ac"
   },
   "outputs": [
    {
     "name": "stdout",
     "output_type": "stream",
     "text": [
      "1 a\n",
      "2 b\n",
      "3 c\n",
      "4 d\n",
      "5 e\n"
     ]
    }
   ],
   "source": [
    "first_list = [1, 2, 3, 4, 5]\n",
    "second###second posibility_list = [\"a\", \"b\", \"c\", \"d\", \"e\"]\n",
    "\n",
    "for first in first_list:\n",
    "    second = second_list[first_list.index(first)]\n",
    "    print(first, second)\n",
    "    "
   ]
  },
  {
   "cell_type": "markdown",
   "id": "39fb3457",
   "metadata": {},
   "source": [
    "###2nd"
   ]
  },
  {
   "cell_type": "code",
   "execution_count": 73,
   "id": "5ee3139e",
   "metadata": {},
   "outputs": [
    {
     "name": "stdout",
     "output_type": "stream",
     "text": [
      "1 a\n",
      "2 b\n",
      "3 c\n",
      "4 d\n",
      "5 e\n"
     ]
    }
   ],
   "source": [
    "first_list = [1, 2, 3, 4, 5]\n",
    "second_list = [\"a\", \"b\", \"c\", \"d\", \"e\"]\n",
    "\n",
    "for index, first in enumerate(first_list):\n",
    "    second = second_list[index]\n",
    "    print(first, second)"
   ]
  },
  {
   "cell_type": "code",
   "execution_count": 74,
   "id": "3605f381",
   "metadata": {
    "scrolled": true
   },
   "outputs": [
    {
     "name": "stdout",
     "output_type": "stream",
     "text": [
      "1 a\n",
      "2 b\n",
      "3 c\n",
      "4 d\n",
      "5 e\n"
     ]
    }
   ],
   "source": [
    "for first, second in zip(first_list,second_list):\n",
    "    print (first, second)"
   ]
  },
  {
   "cell_type": "markdown",
   "id": "2f2440fa",
   "metadata": {
    "id": "2f2440fa",
    "lang": "en"
   },
   "source": [
    "### [Bonus] Calculate the Levensthein distance between these two strings"
   ]
  },
  {
   "cell_type": "markdown",
   "id": "0b03cd4c",
   "metadata": {
    "id": "0b03cd4c",
    "lang": "en"
   },
   "source": [
    "Definition of the [Levensthein distance](https://fr.wikipedia.org/wiki/Distance_de_Levenshtein). N.B. a new library will be necessary, it will then be necessary to restart your kernel (jupyter notebook so that the installation of this library is taken into account in your environment)"
   ]
  },
  {
   "cell_type": "markdown",
   "id": "9dbb419c",
   "metadata": {},
   "source": [
    "Let's say we have two words, \"kitten\" and \"sitting.\" The Levenshtein distance between these words is 3 because it takes three single-character edits to change \"kitten\" into \"sitting\":\n",
    "\n",
    "Replace 'k' with 's': \"sitten\"\n",
    "Insert 'i' at the beginning: \"isitten\"\n",
    "Replace 'e' with 'g': \"isitting\""
   ]
  },
  {
   "cell_type": "code",
   "execution_count": 1,
   "id": "0dd7a208",
   "metadata": {},
   "outputs": [],
   "source": [
    "import Levenshtein\n",
    "\n"
   ]
  },
  {
   "cell_type": "code",
   "execution_count": 6,
   "id": "69abda9f",
   "metadata": {
    "ExecuteTime": {
     "end_time": "2021-11-29T21:06:52.829663Z",
     "start_time": "2021-11-29T21:06:52.826514Z"
    },
    "id": "69abda9f"
   },
   "outputs": [],
   "source": [
    "first_sentence = \"my secon sentence\"\n",
    "second_sentence = \"my second sentence\""
   ]
  },
  {
   "cell_type": "code",
   "execution_count": 7,
   "id": "0119ee9d",
   "metadata": {},
   "outputs": [
    {
     "name": "stdout",
     "output_type": "stream",
     "text": [
      "Levenshtein distance: 1\n"
     ]
    }
   ],
   "source": [
    "levenshtein_distance = Levenshtein.distance(first_sentence,second_sentence)\n",
    "print(f'Levenshtein distance: {levenshtein_distance}')"
   ]
  },
  {
   "cell_type": "markdown",
   "id": "6fa77aff",
   "metadata": {
    "id": "6fa77aff",
    "lang": "en"
   },
   "source": [
    "Install the supplied requirements.txt file and verify that you can import the ```scikit-learn``` library."
   ]
  },
  {
   "cell_type": "code",
   "execution_count": 2,
   "id": "1e3c9950",
   "metadata": {},
   "outputs": [],
   "source": [
    "import sklearn\n",
    "sklearn."
   ]
  }
 ],
 "metadata": {
  "colab": {
   "provenance": []
  },
  "kernelspec": {
   "display_name": "Python 3 (ipykernel)",
   "language": "python",
   "name": "python3"
  },
  "language_info": {
   "codemirror_mode": {
    "name": "ipython",
    "version": 3
   },
   "file_extension": ".py",
   "mimetype": "text/x-python",
   "name": "python",
   "nbconvert_exporter": "python",
   "pygments_lexer": "ipython3",
   "version": "3.9.7"
  },
  "nbTranslate": {
   "displayLangs": [
    "*"
   ],
   "hotkey": "e",
   "langInMainMenu": true,
   "sourceLang": "fr",
   "targetLang": "en",
   "useGoogleTranslate": true
  },
  "toc": {
   "base_numbering": 1,
   "nav_menu": {},
   "number_sections": true,
   "sideBar": true,
   "skip_h1_title": false,
   "title_cell": "Table of Contents",
   "title_sidebar": "Contents",
   "toc_cell": false,
   "toc_position": {},
   "toc_section_display": true,
   "toc_window_display": false
  },
  "varInspector": {
   "cols": {
    "lenName": 16,
    "lenType": 16,
    "lenVar": 40
   },
   "kernels_config": {
    "python": {
     "delete_cmd_postfix": "",
     "delete_cmd_prefix": "del ",
     "library": "var_list.py",
     "varRefreshCmd": "print(var_dic_list())"
    },
    "r": {
     "delete_cmd_postfix": ") ",
     "delete_cmd_prefix": "rm(",
     "library": "var_list.r",
     "varRefreshCmd": "cat(var_dic_list()) "
    }
   },
   "types_to_exclude": [
    "module",
    "function",
    "builtin_function_or_method",
    "instance",
    "_Feature"
   ],
   "window_display": false
  }
 },
 "nbformat": 4,
 "nbformat_minor": 5
}
