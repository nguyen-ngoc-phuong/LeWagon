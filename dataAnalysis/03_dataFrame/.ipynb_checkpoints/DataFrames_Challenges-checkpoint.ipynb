{
 "cells": [
  {
   "cell_type": "markdown",
   "metadata": {
    "id": "cR6dXZDVCpuB",
    "lang": "en"
   },
   "source": [
    "## EDA Tiller System"
   ]
  },
  {
   "cell_type": "markdown",
   "metadata": {
    "id": "qL-uyLJBCpuE",
    "lang": "en"
   },
   "source": [
    "### Loading file"
   ]
  },
  {
   "cell_type": "markdown",
   "metadata": {
    "id": "n3mYnhZXCpuE",
    "lang": "en"
   },
   "source": [
    "Download the lab data by following this [link](https://drive.google.com/file/d/1X5uXVFrl7SuMUKe7CJaiCmGEOhokorh2/view?usp=sharing)"
   ]
  },
  {
   "cell_type": "markdown",
   "metadata": {
    "id": "ECAIsNMMCpuE",
    "lang": "en"
   },
   "source": [
    "a) Load the Tiller_order_data.csv file into a DataFrame named df"
   ]
  },
  {
   "cell_type": "code",
   "execution_count": null,
   "metadata": {
    "ExecuteTime": {
     "end_time": "2021-12-05T16:43:55.660324Z",
     "start_time": "2021-12-05T16:43:55.298778Z"
    },
    "id": "ZaHu4Fpaq-w7"
   },
   "outputs": [],
   "source": [
    "#.agg('Population: 'sum', ''Area: 'mean')"
   ]
  },
  {
   "cell_type": "code",
   "execution_count": 1,
   "metadata": {},
   "outputs": [],
   "source": [
    "#let's try it :-)\n",
    "\n",
    "import pandas as pd\n",
    "\n",
    "df = pd.read_csv('./Tiller_order_data.csv', low_memory=False)"
   ]
  },
  {
   "cell_type": "code",
   "execution_count": 4,
   "metadata": {},
   "outputs": [
    {
     "data": {
      "text/html": [
       "<div>\n",
       "<style scoped>\n",
       "    .dataframe tbody tr th:only-of-type {\n",
       "        vertical-align: middle;\n",
       "    }\n",
       "\n",
       "    .dataframe tbody tr th {\n",
       "        vertical-align: top;\n",
       "    }\n",
       "\n",
       "    .dataframe thead th {\n",
       "        text-align: right;\n",
       "    }\n",
       "</style>\n",
       "<table border=\"1\" class=\"dataframe\">\n",
       "  <thead>\n",
       "    <tr style=\"text-align: right;\">\n",
       "      <th></th>\n",
       "      <th>id_order</th>\n",
       "      <th>id_store</th>\n",
       "      <th>id_table</th>\n",
       "      <th>id_waiter</th>\n",
       "      <th>id_customer</th>\n",
       "      <th>id_external</th>\n",
       "      <th>id_device</th>\n",
       "      <th>date_opened</th>\n",
       "      <th>date_closed</th>\n",
       "      <th>dim_name</th>\n",
       "      <th>dim_status</th>\n",
       "      <th>dim_type</th>\n",
       "      <th>dim_comment</th>\n",
       "      <th>dim_source</th>\n",
       "      <th>m_nb_customer</th>\n",
       "      <th>m_cached_payed</th>\n",
       "      <th>m_cached_price</th>\n",
       "    </tr>\n",
       "  </thead>\n",
       "  <tbody>\n",
       "    <tr>\n",
       "      <th>0</th>\n",
       "      <td>55538867</td>\n",
       "      <td>8052</td>\n",
       "      <td>NaN</td>\n",
       "      <td>NaN</td>\n",
       "      <td>NaN</td>\n",
       "      <td>0425716B-EFF4-41CA-AEA1-839104F36833</td>\n",
       "      <td>15327.0</td>\n",
       "      <td>2019-01-12 13:02:17 UTC</td>\n",
       "      <td>2019-01-12 19:58:38 UTC</td>\n",
       "      <td>vincent</td>\n",
       "      <td>CLOSED</td>\n",
       "      <td>1</td>\n",
       "      <td>NaN</td>\n",
       "      <td>Tiller iPAD</td>\n",
       "      <td>1</td>\n",
       "      <td>45.5</td>\n",
       "      <td>45.5</td>\n",
       "    </tr>\n",
       "  </tbody>\n",
       "</table>\n",
       "</div>"
      ],
      "text/plain": [
       "   id_order  id_store  id_table  id_waiter  id_customer  \\\n",
       "0  55538867      8052       NaN        NaN          NaN   \n",
       "\n",
       "                            id_external  id_device              date_opened  \\\n",
       "0  0425716B-EFF4-41CA-AEA1-839104F36833    15327.0  2019-01-12 13:02:17 UTC   \n",
       "\n",
       "               date_closed dim_name dim_status  dim_type dim_comment  \\\n",
       "0  2019-01-12 19:58:38 UTC  vincent     CLOSED         1         NaN   \n",
       "\n",
       "    dim_source  m_nb_customer  m_cached_payed  m_cached_price  \n",
       "0  Tiller iPAD              1            45.5            45.5  "
      ]
     },
     "execution_count": 4,
     "metadata": {},
     "output_type": "execute_result"
    }
   ],
   "source": [
    "df.head(1)"
   ]
  },
  {
   "cell_type": "markdown",
   "metadata": {
    "id": "D6PFA0P8CpuF",
    "lang": "en"
   },
   "source": [
    "### Data Discovery"
   ]
  },
  {
   "cell_type": "markdown",
   "metadata": {
    "id": "vEyjia4gCpuG",
    "lang": "en"
   },
   "source": [
    "b) Display the first 5 rows of this dataframe"
   ]
  },
  {
   "cell_type": "code",
   "execution_count": null,
   "metadata": {},
   "outputs": [],
   "source": []
  },
  {
   "cell_type": "code",
   "execution_count": 5,
   "metadata": {
    "ExecuteTime": {
     "end_time": "2021-12-05T16:43:55.679127Z",
     "start_time": "2021-12-05T16:43:55.662096Z"
    },
    "id": "wbhmoMRBq-w9"
   },
   "outputs": [
    {
     "data": {
      "text/html": [
       "<div>\n",
       "<style scoped>\n",
       "    .dataframe tbody tr th:only-of-type {\n",
       "        vertical-align: middle;\n",
       "    }\n",
       "\n",
       "    .dataframe tbody tr th {\n",
       "        vertical-align: top;\n",
       "    }\n",
       "\n",
       "    .dataframe thead th {\n",
       "        text-align: right;\n",
       "    }\n",
       "</style>\n",
       "<table border=\"1\" class=\"dataframe\">\n",
       "  <thead>\n",
       "    <tr style=\"text-align: right;\">\n",
       "      <th></th>\n",
       "      <th>id_order</th>\n",
       "      <th>id_store</th>\n",
       "      <th>id_table</th>\n",
       "      <th>id_waiter</th>\n",
       "      <th>id_customer</th>\n",
       "      <th>id_external</th>\n",
       "      <th>id_device</th>\n",
       "      <th>date_opened</th>\n",
       "      <th>date_closed</th>\n",
       "      <th>dim_name</th>\n",
       "      <th>dim_status</th>\n",
       "      <th>dim_type</th>\n",
       "      <th>dim_comment</th>\n",
       "      <th>dim_source</th>\n",
       "      <th>m_nb_customer</th>\n",
       "      <th>m_cached_payed</th>\n",
       "      <th>m_cached_price</th>\n",
       "    </tr>\n",
       "  </thead>\n",
       "  <tbody>\n",
       "    <tr>\n",
       "      <th>0</th>\n",
       "      <td>55538867</td>\n",
       "      <td>8052</td>\n",
       "      <td>NaN</td>\n",
       "      <td>NaN</td>\n",
       "      <td>NaN</td>\n",
       "      <td>0425716B-EFF4-41CA-AEA1-839104F36833</td>\n",
       "      <td>15327.0</td>\n",
       "      <td>2019-01-12 13:02:17 UTC</td>\n",
       "      <td>2019-01-12 19:58:38 UTC</td>\n",
       "      <td>vincent</td>\n",
       "      <td>CLOSED</td>\n",
       "      <td>1</td>\n",
       "      <td>NaN</td>\n",
       "      <td>Tiller iPAD</td>\n",
       "      <td>1</td>\n",
       "      <td>45.5</td>\n",
       "      <td>45.5</td>\n",
       "    </tr>\n",
       "    <tr>\n",
       "      <th>1</th>\n",
       "      <td>56035309</td>\n",
       "      <td>8052</td>\n",
       "      <td>NaN</td>\n",
       "      <td>NaN</td>\n",
       "      <td>NaN</td>\n",
       "      <td>75E41FE2-64FF-41D3-954C-A7DE4AA887EF</td>\n",
       "      <td>15327.0</td>\n",
       "      <td>2019-01-16 19:39:09 UTC</td>\n",
       "      <td>2019-01-16 22:10:50 UTC</td>\n",
       "      <td>frere et soeur avec pierre</td>\n",
       "      <td>CLOSED</td>\n",
       "      <td>1</td>\n",
       "      <td>NaN</td>\n",
       "      <td>Tiller iPAD</td>\n",
       "      <td>2</td>\n",
       "      <td>49.8</td>\n",
       "      <td>49.8</td>\n",
       "    </tr>\n",
       "    <tr>\n",
       "      <th>2</th>\n",
       "      <td>55550051</td>\n",
       "      <td>8052</td>\n",
       "      <td>NaN</td>\n",
       "      <td>NaN</td>\n",
       "      <td>NaN</td>\n",
       "      <td>F6051A05-C9AC-4033-BF72-BB5149B8F439</td>\n",
       "      <td>15327.0</td>\n",
       "      <td>2019-01-12 14:18:46 UTC</td>\n",
       "      <td>2019-01-12 19:50:32 UTC</td>\n",
       "      <td>rachel</td>\n",
       "      <td>CLOSED</td>\n",
       "      <td>1</td>\n",
       "      <td>NaN</td>\n",
       "      <td>Tiller iPAD</td>\n",
       "      <td>1</td>\n",
       "      <td>27.4</td>\n",
       "      <td>27.4</td>\n",
       "    </tr>\n",
       "    <tr>\n",
       "      <th>3</th>\n",
       "      <td>57000119</td>\n",
       "      <td>8052</td>\n",
       "      <td>NaN</td>\n",
       "      <td>16199.0</td>\n",
       "      <td>NaN</td>\n",
       "      <td>B8BEEC66-1C10-48A0-B4D5-035CB5EEFE62</td>\n",
       "      <td>15327.0</td>\n",
       "      <td>2019-01-24 17:49:12 UTC</td>\n",
       "      <td>2019-01-24 21:58:59 UTC</td>\n",
       "      <td>Groupe PEL</td>\n",
       "      <td>CLOSED</td>\n",
       "      <td>1</td>\n",
       "      <td>NaN</td>\n",
       "      <td>tiller-order</td>\n",
       "      <td>3</td>\n",
       "      <td>60.0</td>\n",
       "      <td>60.0</td>\n",
       "    </tr>\n",
       "    <tr>\n",
       "      <th>4</th>\n",
       "      <td>55558817</td>\n",
       "      <td>8052</td>\n",
       "      <td>NaN</td>\n",
       "      <td>NaN</td>\n",
       "      <td>NaN</td>\n",
       "      <td>17F0533C-2FF1-4FC5-A50D-12704C7B7A4B</td>\n",
       "      <td>15327.0</td>\n",
       "      <td>2019-01-12 15:25:06 UTC</td>\n",
       "      <td>2019-01-12 19:21:03 UTC</td>\n",
       "      <td>remi et date</td>\n",
       "      <td>CLOSED</td>\n",
       "      <td>1</td>\n",
       "      <td>NaN</td>\n",
       "      <td>Tiller iPAD</td>\n",
       "      <td>2</td>\n",
       "      <td>39.9</td>\n",
       "      <td>39.9</td>\n",
       "    </tr>\n",
       "  </tbody>\n",
       "</table>\n",
       "</div>"
      ],
      "text/plain": [
       "   id_order  id_store  id_table  id_waiter  id_customer  \\\n",
       "0  55538867      8052       NaN        NaN          NaN   \n",
       "1  56035309      8052       NaN        NaN          NaN   \n",
       "2  55550051      8052       NaN        NaN          NaN   \n",
       "3  57000119      8052       NaN    16199.0          NaN   \n",
       "4  55558817      8052       NaN        NaN          NaN   \n",
       "\n",
       "                            id_external  id_device              date_opened  \\\n",
       "0  0425716B-EFF4-41CA-AEA1-839104F36833    15327.0  2019-01-12 13:02:17 UTC   \n",
       "1  75E41FE2-64FF-41D3-954C-A7DE4AA887EF    15327.0  2019-01-16 19:39:09 UTC   \n",
       "2  F6051A05-C9AC-4033-BF72-BB5149B8F439    15327.0  2019-01-12 14:18:46 UTC   \n",
       "3  B8BEEC66-1C10-48A0-B4D5-035CB5EEFE62    15327.0  2019-01-24 17:49:12 UTC   \n",
       "4  17F0533C-2FF1-4FC5-A50D-12704C7B7A4B    15327.0  2019-01-12 15:25:06 UTC   \n",
       "\n",
       "               date_closed                    dim_name dim_status  dim_type  \\\n",
       "0  2019-01-12 19:58:38 UTC                     vincent     CLOSED         1   \n",
       "1  2019-01-16 22:10:50 UTC  frere et soeur avec pierre     CLOSED         1   \n",
       "2  2019-01-12 19:50:32 UTC                      rachel     CLOSED         1   \n",
       "3  2019-01-24 21:58:59 UTC                  Groupe PEL     CLOSED         1   \n",
       "4  2019-01-12 19:21:03 UTC                remi et date     CLOSED         1   \n",
       "\n",
       "  dim_comment    dim_source  m_nb_customer  m_cached_payed  m_cached_price  \n",
       "0         NaN   Tiller iPAD              1            45.5            45.5  \n",
       "1         NaN   Tiller iPAD              2            49.8            49.8  \n",
       "2         NaN   Tiller iPAD              1            27.4            27.4  \n",
       "3         NaN  tiller-order              3            60.0            60.0  \n",
       "4         NaN   Tiller iPAD              2            39.9            39.9  "
      ]
     },
     "execution_count": 5,
     "metadata": {},
     "output_type": "execute_result"
    }
   ],
   "source": [
    "#Let's try it :-)\n",
    "df.head(5)"
   ]
  },
  {
   "cell_type": "markdown",
   "metadata": {
    "id": "fze1N_GTCpuG",
    "lang": "en"
   },
   "source": [
    "c) What does a row of this dataframe represent? What information can you find?"
   ]
  },
  {
   "cell_type": "code",
   "execution_count": null,
   "metadata": {
    "id": "eAKcskxFTMDG"
   },
   "outputs": [],
   "source": []
  },
  {
   "cell_type": "code",
   "execution_count": 5,
   "metadata": {},
   "outputs": [
    {
     "data": {
      "text/html": [
       "<div>\n",
       "<style scoped>\n",
       "    .dataframe tbody tr th:only-of-type {\n",
       "        vertical-align: middle;\n",
       "    }\n",
       "\n",
       "    .dataframe tbody tr th {\n",
       "        vertical-align: top;\n",
       "    }\n",
       "\n",
       "    .dataframe thead th {\n",
       "        text-align: right;\n",
       "    }\n",
       "</style>\n",
       "<table border=\"1\" class=\"dataframe\">\n",
       "  <thead>\n",
       "    <tr style=\"text-align: right;\">\n",
       "      <th></th>\n",
       "      <th>id_order</th>\n",
       "      <th>id_store</th>\n",
       "      <th>id_table</th>\n",
       "      <th>id_waiter</th>\n",
       "      <th>id_customer</th>\n",
       "      <th>id_external</th>\n",
       "      <th>id_device</th>\n",
       "      <th>date_opened</th>\n",
       "      <th>date_closed</th>\n",
       "      <th>dim_name</th>\n",
       "      <th>dim_status</th>\n",
       "      <th>dim_type</th>\n",
       "      <th>dim_comment</th>\n",
       "      <th>dim_source</th>\n",
       "      <th>m_nb_customer</th>\n",
       "      <th>m_cached_payed</th>\n",
       "      <th>m_cached_price</th>\n",
       "    </tr>\n",
       "  </thead>\n",
       "  <tbody>\n",
       "    <tr>\n",
       "      <th>0</th>\n",
       "      <td>55538867</td>\n",
       "      <td>8052</td>\n",
       "      <td>NaN</td>\n",
       "      <td>NaN</td>\n",
       "      <td>NaN</td>\n",
       "      <td>0425716B-EFF4-41CA-AEA1-839104F36833</td>\n",
       "      <td>15327.0</td>\n",
       "      <td>2019-01-12 13:02:17 UTC</td>\n",
       "      <td>2019-01-12 19:58:38 UTC</td>\n",
       "      <td>vincent</td>\n",
       "      <td>CLOSED</td>\n",
       "      <td>1</td>\n",
       "      <td>NaN</td>\n",
       "      <td>Tiller iPAD</td>\n",
       "      <td>1</td>\n",
       "      <td>45.5</td>\n",
       "      <td>45.5</td>\n",
       "    </tr>\n",
       "  </tbody>\n",
       "</table>\n",
       "</div>"
      ],
      "text/plain": [
       "   id_order  id_store  id_table  ...  m_nb_customer  m_cached_payed m_cached_price\n",
       "0  55538867      8052       NaN  ...              1            45.5           45.5\n",
       "\n",
       "[1 rows x 17 columns]"
      ]
     },
     "execution_count": 5,
     "metadata": {},
     "output_type": "execute_result"
    }
   ],
   "source": [
    "#Let's try it :-)\n",
    "# order management: row shows one order transaction\n",
    "df.head(1)\n",
    "# column features: \n"
   ]
  },
  {
   "cell_type": "code",
   "execution_count": 5,
   "metadata": {},
   "outputs": [
    {
     "data": {
      "text/plain": [
       "Index(['id_order', 'id_store', 'id_table', 'id_waiter', 'id_customer',\n",
       "       'id_external', 'id_device', 'date_opened', 'date_closed', 'dim_name',\n",
       "       'dim_status', 'dim_type', 'dim_comment', 'dim_source', 'm_nb_customer',\n",
       "       'm_cached_payed', 'm_cached_price'],\n",
       "      dtype='object')"
      ]
     },
     "execution_count": 5,
     "metadata": {},
     "output_type": "execute_result"
    }
   ],
   "source": [
    "# each row has following information\n",
    "df.columns"
   ]
  },
  {
   "cell_type": "markdown",
   "metadata": {
    "id": "1DT8rs3_CpuH",
    "lang": "en"
   },
   "source": [
    "d) How many orders are there in this dataframe? How many columns?"
   ]
  },
  {
   "cell_type": "code",
   "execution_count": 63,
   "metadata": {
    "id": "I6Q-lBTMpJba",
    "scrolled": true
   },
   "outputs": [
    {
     "data": {
      "text/plain": [
       "117304"
      ]
     },
     "execution_count": 63,
     "metadata": {},
     "output_type": "execute_result"
    }
   ],
   "source": [
    "# counts the amount of entries \n",
    "totalOrders = df['id_order'].count()\n",
    "totalOrders"
   ]
  },
  {
   "cell_type": "code",
   "execution_count": 21,
   "metadata": {},
   "outputs": [
    {
     "data": {
      "text/plain": [
       "55538867     1\n",
       "98394465     1\n",
       "141379937    1\n",
       "137955892    1\n",
       "81456389     1\n",
       "            ..\n",
       "95910271     1\n",
       "94147715     1\n",
       "63666263     1\n",
       "60359283     1\n",
       "93223821     1\n",
       "Name: id_order, Length: 117304, dtype: int64"
      ]
     },
     "execution_count": 21,
     "metadata": {},
     "output_type": "execute_result"
    }
   ],
   "source": [
    "# counts the amount of values\n",
    "df['id_order'].value_counts()"
   ]
  },
  {
   "cell_type": "markdown",
   "metadata": {
    "id": "xk3s55atwdXV"
   },
   "source": [
    "#### Column selection"
   ]
  },
  {
   "cell_type": "markdown",
   "metadata": {
    "id": "BTeAHs3dCpuH",
    "lang": "en"
   },
   "source": [
    "e) Select only the id_order, id_store, date_opened and date_closed columns of this DataFrame and save the result in a variable df_sub"
   ]
  },
  {
   "cell_type": "code",
   "execution_count": null,
   "metadata": {
    "id": "HJmlPYcnCgDY",
    "lang": "fr"
   },
   "outputs": [],
   "source": []
  },
  {
   "cell_type": "code",
   "execution_count": 22,
   "metadata": {},
   "outputs": [
    {
     "data": {
      "text/html": [
       "<div>\n",
       "<style scoped>\n",
       "    .dataframe tbody tr th:only-of-type {\n",
       "        vertical-align: middle;\n",
       "    }\n",
       "\n",
       "    .dataframe tbody tr th {\n",
       "        vertical-align: top;\n",
       "    }\n",
       "\n",
       "    .dataframe thead th {\n",
       "        text-align: right;\n",
       "    }\n",
       "</style>\n",
       "<table border=\"1\" class=\"dataframe\">\n",
       "  <thead>\n",
       "    <tr style=\"text-align: right;\">\n",
       "      <th></th>\n",
       "      <th>id_order</th>\n",
       "      <th>id_store</th>\n",
       "      <th>date_opened</th>\n",
       "      <th>date_closed</th>\n",
       "    </tr>\n",
       "  </thead>\n",
       "  <tbody>\n",
       "    <tr>\n",
       "      <th>0</th>\n",
       "      <td>55538867</td>\n",
       "      <td>8052</td>\n",
       "      <td>2019-01-12 13:02:17 UTC</td>\n",
       "      <td>2019-01-12 19:58:38 UTC</td>\n",
       "    </tr>\n",
       "    <tr>\n",
       "      <th>1</th>\n",
       "      <td>56035309</td>\n",
       "      <td>8052</td>\n",
       "      <td>2019-01-16 19:39:09 UTC</td>\n",
       "      <td>2019-01-16 22:10:50 UTC</td>\n",
       "    </tr>\n",
       "    <tr>\n",
       "      <th>2</th>\n",
       "      <td>55550051</td>\n",
       "      <td>8052</td>\n",
       "      <td>2019-01-12 14:18:46 UTC</td>\n",
       "      <td>2019-01-12 19:50:32 UTC</td>\n",
       "    </tr>\n",
       "    <tr>\n",
       "      <th>3</th>\n",
       "      <td>57000119</td>\n",
       "      <td>8052</td>\n",
       "      <td>2019-01-24 17:49:12 UTC</td>\n",
       "      <td>2019-01-24 21:58:59 UTC</td>\n",
       "    </tr>\n",
       "    <tr>\n",
       "      <th>4</th>\n",
       "      <td>55558817</td>\n",
       "      <td>8052</td>\n",
       "      <td>2019-01-12 15:25:06 UTC</td>\n",
       "      <td>2019-01-12 19:21:03 UTC</td>\n",
       "    </tr>\n",
       "  </tbody>\n",
       "</table>\n",
       "</div>"
      ],
      "text/plain": [
       "   id_order  id_store              date_opened              date_closed\n",
       "0  55538867      8052  2019-01-12 13:02:17 UTC  2019-01-12 19:58:38 UTC\n",
       "1  56035309      8052  2019-01-16 19:39:09 UTC  2019-01-16 22:10:50 UTC\n",
       "2  55550051      8052  2019-01-12 14:18:46 UTC  2019-01-12 19:50:32 UTC\n",
       "3  57000119      8052  2019-01-24 17:49:12 UTC  2019-01-24 21:58:59 UTC\n",
       "4  55558817      8052  2019-01-12 15:25:06 UTC  2019-01-12 19:21:03 UTC"
      ]
     },
     "execution_count": 22,
     "metadata": {},
     "output_type": "execute_result"
    }
   ],
   "source": [
    "#Let's try it :-)\n",
    "# select columns\n",
    "df_sub = df[['id_order','id_store', 'date_opened' , 'date_closed']]\n",
    "df_sub.head(5)"
   ]
  },
  {
   "cell_type": "markdown",
   "metadata": {
    "id": "lgHxvXI6CpuH",
    "lang": "en"
   },
   "source": [
    "#### Row selection"
   ]
  },
  {
   "cell_type": "markdown",
   "metadata": {
    "id": "HSiegLw0CpuH",
    "lang": "en"
   },
   "source": [
    "f) Filter df_sub only on lines concerning id_store 4542. How many orders have there been in this restaurant?"
   ]
  },
  {
   "cell_type": "code",
   "execution_count": null,
   "metadata": {
    "id": "LRg_wbkFDjPg"
   },
   "outputs": [],
   "source": []
  },
  {
   "cell_type": "code",
   "execution_count": 18,
   "metadata": {},
   "outputs": [
    {
     "data": {
      "text/plain": [
       "id_order       17641\n",
       "id_store       17641\n",
       "date_opened    17641\n",
       "date_closed    17641\n",
       "dtype: int64"
      ]
     },
     "execution_count": 18,
     "metadata": {},
     "output_type": "execute_result"
    }
   ],
   "source": [
    "#Let's try it :-)\n",
    "# build up a mask\n",
    "mask = df_sub['id_store'] == 4542\n",
    "# use count() function to count every element of each column\n",
    "df_id_store_info = df_sub[mask].count()\n",
    "#show data\n",
    "df_id_store_info"
   ]
  },
  {
   "cell_type": "markdown",
   "metadata": {
    "id": "4f6K3BKjCpuI",
    "lang": "en"
   },
   "source": [
    "### Data analysis"
   ]
  },
  {
   "cell_type": "markdown",
   "metadata": {
    "id": "1rP6S-IKCpuI",
    "lang": "en"
   },
   "source": [
    "g) Going back to the initial DataFrame, what are the different possible statuses of an order? How many orders are there per status?"
   ]
  },
  {
   "cell_type": "code",
   "execution_count": 36,
   "metadata": {
    "id": "oaUCabqUuyVS",
    "scrolled": true
   },
   "outputs": [
    {
     "name": "stdout",
     "output_type": "stream",
     "text": [
      "['CLOSED' 'IN_PROGRESS']\n"
     ]
    },
    {
     "data": {
      "text/plain": [
       "numpy.ndarray"
      ]
     },
     "execution_count": 36,
     "metadata": {},
     "output_type": "execute_result"
    }
   ],
   "source": [
    "# use .unique() to get different entries inside an array\n",
    "unique_entries = df['dim_status'].unique()\n",
    "print(unique_entries)\n",
    "type(unique_entries)"
   ]
  },
  {
   "cell_type": "code",
   "execution_count": 32,
   "metadata": {},
   "outputs": [
    {
     "name": "stdout",
     "output_type": "stream",
     "text": [
      "this is the number of orders with status CLOSE: 116939\n"
     ]
    }
   ],
   "source": [
    "#get count by using value_count the way of pandas\n",
    "closeOrders = df[\"dim_status\"].value_counts().get('CLOSED')\n",
    "print(f\"this is the number of orders with status CLOSE: {closeOrders}\")"
   ]
  },
  {
   "cell_type": "code",
   "execution_count": 33,
   "metadata": {},
   "outputs": [
    {
     "name": "stdout",
     "output_type": "stream",
     "text": [
      "this is the number of orders with status CLOSE: 116939\n"
     ]
    }
   ],
   "source": [
    "# 2nd way to get count \n",
    "closeOrders = len(df.query(\"dim_status == 'CLOSED'\"))\n",
    "print(f\"this is the number of orders with status CLOSE: {closeOrders}\")"
   ]
  },
  {
   "cell_type": "code",
   "execution_count": 34,
   "metadata": {},
   "outputs": [
    {
     "name": "stdout",
     "output_type": "stream",
     "text": [
      "this is the number of orders with status IN_PROGRESS: 365\n"
     ]
    }
   ],
   "source": [
    "# 2nd way to get count\n",
    "progressOrders = len(df.query(\"dim_status == 'IN_PROGRESS'\"))\n",
    "print(f\"this is the number of orders with status IN_PROGRESS: {progressOrders}\")"
   ]
  },
  {
   "cell_type": "markdown",
   "metadata": {
    "id": "OHLuWvHvCpuI",
    "lang": "en"
   },
   "source": [
    "h) What is the proportion of orders whose status is CLOSE?"
   ]
  },
  {
   "cell_type": "code",
   "execution_count": null,
   "metadata": {
    "id": "nKRY5m8kuEFS"
   },
   "outputs": [],
   "source": []
  },
  {
   "cell_type": "code",
   "execution_count": 41,
   "metadata": {},
   "outputs": [
    {
     "name": "stdout",
     "output_type": "stream",
     "text": [
      "proportion of orders with status CLOSE:  99.689%\n"
     ]
    }
   ],
   "source": [
    "#Let's try it :-)\n",
    "# percentage of close orders\n",
    "# counts the amount of entries \n",
    "totalOrders = df['id_order'].count()\n",
    "percentageClose = (closeOrders/totalOrders) *100\n",
    "print(f\"proportion of orders with status CLOSE: {percentageClose: .3f}%\")"
   ]
  },
  {
   "cell_type": "markdown",
   "metadata": {
    "id": "ovaHfpC1CpuI",
    "lang": "en"
   },
   "source": [
    "i) How many restaurants are there in this data? What are their IDs?"
   ]
  },
  {
   "cell_type": "code",
   "execution_count": null,
   "metadata": {
    "id": "L_An80n8s_T9"
   },
   "outputs": [],
   "source": []
  },
  {
   "cell_type": "code",
   "execution_count": 65,
   "metadata": {},
   "outputs": [
    {
     "name": "stdout",
     "output_type": "stream",
     "text": [
      "There are 10 restaurants with followint IDs: [8052 8347 8283 9084 4337  360 1796 7965 6293 4542]\n"
     ]
    }
   ],
   "source": [
    "restaurants = df[\"id_store\"].unique()\n",
    "count_of_restaurant = len(restaurants)\n",
    "restaurants\n",
    "print(f\"There are {count_of_restaurant} restaurants with following IDs: {restaurants}\")"
   ]
  },
  {
   "cell_type": "code",
   "execution_count": 120,
   "metadata": {},
   "outputs": [
    {
     "data": {
      "text/plain": [
       "10"
      ]
     },
     "execution_count": 120,
     "metadata": {},
     "output_type": "execute_result"
    }
   ],
   "source": [
    "restaurants = df[\"id_store\"].unique().size\n",
    "restaurants"
   ]
  },
  {
   "cell_type": "code",
   "execution_count": 48,
   "metadata": {},
   "outputs": [
    {
     "name": "stdout",
     "output_type": "stream",
     "text": [
      "There are 10 different restaurants in this datset\n",
      "10\n"
     ]
    }
   ],
   "source": [
    "#Let's try it :-)\n",
    "# filter for id_store\n",
    "restaurants = df[\"id_store\"].unique()\n",
    "print(f\"There are {len(restaurants)} different restaurants in this datset\")\n",
    "print(len(restaurants))"
   ]
  },
  {
   "cell_type": "markdown",
   "metadata": {
    "id": "P6VbO1iOCpuI",
    "lang": "en"
   },
   "source": [
    "j) Calculate the turnover per restaurant. Which restaurant has the highest turnover?"
   ]
  },
  {
   "cell_type": "code",
   "execution_count": 99,
   "metadata": {
    "id": "YmsHXRrJHAJx"
   },
   "outputs": [
    {
     "data": {
      "text/html": [
       "<div>\n",
       "<style scoped>\n",
       "    .dataframe tbody tr th:only-of-type {\n",
       "        vertical-align: middle;\n",
       "    }\n",
       "\n",
       "    .dataframe tbody tr th {\n",
       "        vertical-align: top;\n",
       "    }\n",
       "\n",
       "    .dataframe thead th {\n",
       "        text-align: right;\n",
       "    }\n",
       "</style>\n",
       "<table border=\"1\" class=\"dataframe\">\n",
       "  <thead>\n",
       "    <tr style=\"text-align: right;\">\n",
       "      <th></th>\n",
       "      <th>id_order</th>\n",
       "      <th>id_store</th>\n",
       "      <th>id_table</th>\n",
       "      <th>id_waiter</th>\n",
       "      <th>id_customer</th>\n",
       "      <th>id_external</th>\n",
       "      <th>id_device</th>\n",
       "      <th>date_opened</th>\n",
       "      <th>date_closed</th>\n",
       "      <th>dim_name</th>\n",
       "      <th>dim_status</th>\n",
       "      <th>dim_type</th>\n",
       "      <th>dim_comment</th>\n",
       "      <th>dim_source</th>\n",
       "      <th>m_nb_customer</th>\n",
       "      <th>m_cached_payed</th>\n",
       "      <th>m_cached_price</th>\n",
       "    </tr>\n",
       "  </thead>\n",
       "  <tbody>\n",
       "    <tr>\n",
       "      <th>0</th>\n",
       "      <td>55538867</td>\n",
       "      <td>8052</td>\n",
       "      <td>NaN</td>\n",
       "      <td>NaN</td>\n",
       "      <td>NaN</td>\n",
       "      <td>0425716B-EFF4-41CA-AEA1-839104F36833</td>\n",
       "      <td>15327.0</td>\n",
       "      <td>2019-01-12 13:02:17 UTC</td>\n",
       "      <td>2019-01-12 19:58:38 UTC</td>\n",
       "      <td>vincent</td>\n",
       "      <td>CLOSED</td>\n",
       "      <td>1</td>\n",
       "      <td>NaN</td>\n",
       "      <td>Tiller iPAD</td>\n",
       "      <td>1</td>\n",
       "      <td>45.5</td>\n",
       "      <td>45.5</td>\n",
       "    </tr>\n",
       "  </tbody>\n",
       "</table>\n",
       "</div>"
      ],
      "text/plain": [
       "   id_order  id_store  id_table  id_waiter  id_customer  \\\n",
       "0  55538867      8052       NaN        NaN          NaN   \n",
       "\n",
       "                            id_external  id_device              date_opened  \\\n",
       "0  0425716B-EFF4-41CA-AEA1-839104F36833    15327.0  2019-01-12 13:02:17 UTC   \n",
       "\n",
       "               date_closed dim_name dim_status  dim_type dim_comment  \\\n",
       "0  2019-01-12 19:58:38 UTC  vincent     CLOSED         1         NaN   \n",
       "\n",
       "    dim_source  m_nb_customer  m_cached_payed  m_cached_price  \n",
       "0  Tiller iPAD              1            45.5            45.5  "
      ]
     },
     "execution_count": 99,
     "metadata": {},
     "output_type": "execute_result"
    }
   ],
   "source": [
    "df.head(1)"
   ]
  },
  {
   "cell_type": "code",
   "execution_count": 66,
   "metadata": {},
   "outputs": [
    {
     "data": {
      "text/html": [
       "<div>\n",
       "<style scoped>\n",
       "    .dataframe tbody tr th:only-of-type {\n",
       "        vertical-align: middle;\n",
       "    }\n",
       "\n",
       "    .dataframe tbody tr th {\n",
       "        vertical-align: top;\n",
       "    }\n",
       "\n",
       "    .dataframe thead th {\n",
       "        text-align: right;\n",
       "    }\n",
       "</style>\n",
       "<table border=\"1\" class=\"dataframe\">\n",
       "  <thead>\n",
       "    <tr style=\"text-align: right;\">\n",
       "      <th></th>\n",
       "      <th>id_store</th>\n",
       "      <th>m_cached_payed</th>\n",
       "    </tr>\n",
       "  </thead>\n",
       "  <tbody>\n",
       "    <tr>\n",
       "      <th>0</th>\n",
       "      <td>360</td>\n",
       "      <td>387089.14</td>\n",
       "    </tr>\n",
       "    <tr>\n",
       "      <th>1</th>\n",
       "      <td>1796</td>\n",
       "      <td>321099.69</td>\n",
       "    </tr>\n",
       "    <tr>\n",
       "      <th>2</th>\n",
       "      <td>4337</td>\n",
       "      <td>865357.89</td>\n",
       "    </tr>\n",
       "    <tr>\n",
       "      <th>3</th>\n",
       "      <td>4542</td>\n",
       "      <td>243728.69</td>\n",
       "    </tr>\n",
       "    <tr>\n",
       "      <th>4</th>\n",
       "      <td>6293</td>\n",
       "      <td>359471.00</td>\n",
       "    </tr>\n",
       "    <tr>\n",
       "      <th>5</th>\n",
       "      <td>7965</td>\n",
       "      <td>1138690.95</td>\n",
       "    </tr>\n",
       "    <tr>\n",
       "      <th>6</th>\n",
       "      <td>8052</td>\n",
       "      <td>327758.85</td>\n",
       "    </tr>\n",
       "    <tr>\n",
       "      <th>7</th>\n",
       "      <td>8283</td>\n",
       "      <td>369822.82</td>\n",
       "    </tr>\n",
       "    <tr>\n",
       "      <th>8</th>\n",
       "      <td>8347</td>\n",
       "      <td>23.00</td>\n",
       "    </tr>\n",
       "    <tr>\n",
       "      <th>9</th>\n",
       "      <td>9084</td>\n",
       "      <td>479019.75</td>\n",
       "    </tr>\n",
       "  </tbody>\n",
       "</table>\n",
       "</div>"
      ],
      "text/plain": [
       "   id_store  m_cached_payed\n",
       "0       360       387089.14\n",
       "1      1796       321099.69\n",
       "2      4337       865357.89\n",
       "3      4542       243728.69\n",
       "4      6293       359471.00\n",
       "5      7965      1138690.95\n",
       "6      8052       327758.85\n",
       "7      8283       369822.82\n",
       "8      8347           23.00\n",
       "9      9084       479019.75"
      ]
     },
     "execution_count": 66,
     "metadata": {},
     "output_type": "execute_result"
    }
   ],
   "source": [
    "#Let's try it :-)\n",
    "\n",
    "#use groupby to group the DataFrame by the 'id_store' column.\n",
    "# calculate the sum of 'm_cached_payed' for each restaurant using sum()\n",
    "#reset the index to obtain a DataFrame with 'id_store' and their respective turnovers.\n",
    "df_sub_restaurant_turnover = df.groupby('id_store')['m_cached_payed'].sum().reset_index()\n",
    "df_sub_restaurant_turnover"
   ]
  },
  {
   "cell_type": "code",
   "execution_count": 70,
   "metadata": {},
   "outputs": [
    {
     "name": "stdout",
     "output_type": "stream",
     "text": [
      "index of restaurant with maximum turnover : 5\n",
      "Maximimum turnover 1138690.95\n"
     ]
    }
   ],
   "source": [
    "#get the id of the restaurant with max turnover\n",
    "idMaxTurnover = df_sub_restaurant_turnover[\"m_cached_payed\"].idxmax()\n",
    "maxTurnover = df_sub_restaurant_turnover[\"m_cached_payed\"].max()\n",
    "print(f\"index of restaurant with maximum turnover : {idMaxTurnover}\")\n",
    "print(f\"Maximimum turnover {maxTurnover}\")"
   ]
  },
  {
   "cell_type": "code",
   "execution_count": 72,
   "metadata": {},
   "outputs": [
    {
     "name": "stdout",
     "output_type": "stream",
     "text": [
      "Restaurant with id 7965.0 has maximum turnover of 1138690.95\n"
     ]
    }
   ],
   "source": [
    "#find the restaurant with the maximum turnover using idMaxTurnover and loc[].\n",
    "#with id loc and i loc both worked \n",
    "maxTurnoverRestaurant = df_sub_restaurant_turnover.iloc[idMaxTurnover]\n",
    "\n",
    "#output Restaurant and max turnover\n",
    "print(f\"Restaurant with id {maxTurnoverRestaurant['id_store']} has maximum turnover of {maxTurnover}\")\n",
    "\n",
    "\n",
    "# maxTurnoverRestaurant = df_sub_restaurant_turnover.loc['m_cached_payed'].i\n"
   ]
  },
  {
   "cell_type": "markdown",
   "metadata": {
    "id": "G_3naXPwCpuI",
    "lang": "en"
   },
   "source": [
    "k) Count the number of orders per restaurant. Which restaurant had the most orders in this data? Is it the same as the one with the highest turnover?"
   ]
  },
  {
   "cell_type": "code",
   "execution_count": 73,
   "metadata": {
    "collapsed": true,
    "id": "ryZBJEV5E6jO"
   },
   "outputs": [
    {
     "ename": "NameError",
     "evalue": "name 'df_sub_orders' is not defined",
     "output_type": "error",
     "traceback": [
      "\u001b[1;31m---------------------------------------------------------------------------\u001b[0m",
      "\u001b[1;31mNameError\u001b[0m                                 Traceback (most recent call last)",
      "Cell \u001b[1;32mIn[73], line 1\u001b[0m\n\u001b[1;32m----> 1\u001b[0m \u001b[43mdf_sub_orders\u001b[49m\n",
      "\u001b[1;31mNameError\u001b[0m: name 'df_sub_orders' is not defined"
     ]
    }
   ],
   "source": [
    "df_sub_orders"
   ]
  },
  {
   "cell_type": "code",
   "execution_count": 90,
   "metadata": {},
   "outputs": [
    {
     "data": {
      "text/html": [
       "<div>\n",
       "<style scoped>\n",
       "    .dataframe tbody tr th:only-of-type {\n",
       "        vertical-align: middle;\n",
       "    }\n",
       "\n",
       "    .dataframe tbody tr th {\n",
       "        vertical-align: top;\n",
       "    }\n",
       "\n",
       "    .dataframe thead th {\n",
       "        text-align: right;\n",
       "    }\n",
       "</style>\n",
       "<table border=\"1\" class=\"dataframe\">\n",
       "  <thead>\n",
       "    <tr style=\"text-align: right;\">\n",
       "      <th></th>\n",
       "      <th>index</th>\n",
       "      <th>order_total</th>\n",
       "    </tr>\n",
       "  </thead>\n",
       "  <tbody>\n",
       "    <tr>\n",
       "      <th>0</th>\n",
       "      <td>8</td>\n",
       "      <td>1</td>\n",
       "    </tr>\n",
       "    <tr>\n",
       "      <th>1</th>\n",
       "      <td>0</td>\n",
       "      <td>4383</td>\n",
       "    </tr>\n",
       "    <tr>\n",
       "      <th>2</th>\n",
       "      <td>6</td>\n",
       "      <td>4906</td>\n",
       "    </tr>\n",
       "    <tr>\n",
       "      <th>3</th>\n",
       "      <td>9</td>\n",
       "      <td>7804</td>\n",
       "    </tr>\n",
       "    <tr>\n",
       "      <th>4</th>\n",
       "      <td>5</td>\n",
       "      <td>9091</td>\n",
       "    </tr>\n",
       "    <tr>\n",
       "      <th>5</th>\n",
       "      <td>7</td>\n",
       "      <td>10023</td>\n",
       "    </tr>\n",
       "    <tr>\n",
       "      <th>6</th>\n",
       "      <td>4</td>\n",
       "      <td>16103</td>\n",
       "    </tr>\n",
       "    <tr>\n",
       "      <th>7</th>\n",
       "      <td>3</td>\n",
       "      <td>17641</td>\n",
       "    </tr>\n",
       "    <tr>\n",
       "      <th>8</th>\n",
       "      <td>2</td>\n",
       "      <td>20003</td>\n",
       "    </tr>\n",
       "    <tr>\n",
       "      <th>9</th>\n",
       "      <td>1</td>\n",
       "      <td>27349</td>\n",
       "    </tr>\n",
       "  </tbody>\n",
       "</table>\n",
       "</div>"
      ],
      "text/plain": [
       "   index  order_total\n",
       "0      8            1\n",
       "1      0         4383\n",
       "2      6         4906\n",
       "3      9         7804\n",
       "4      5         9091\n",
       "5      7        10023\n",
       "6      4        16103\n",
       "7      3        17641\n",
       "8      2        20003\n",
       "9      1        27349"
      ]
     },
     "execution_count": 90,
     "metadata": {},
     "output_type": "execute_result"
    }
   ],
   "source": [
    "#Let's try it :-)\n",
    "# apply .size() to count the number of orders for each restaurant, cause each row = an order.\n",
    "# reset the index and rename the resulting count column to 'order_total'\n",
    "df_sub_orders = df.groupby('id_store').size().reset_index(name='order_total')\n",
    "# order values to column order_total\n",
    "df_sub_orders['order_total'].sort_values(ascending=True).reset_index()"
   ]
  },
  {
   "cell_type": "code",
   "execution_count": 98,
   "metadata": {},
   "outputs": [
    {
     "name": "stdout",
     "output_type": "stream",
     "text": [
      "1 is the index of restaurant with the maximum order\n",
      "Restaurant: 1796 Orders: 27349\n"
     ]
    }
   ],
   "source": [
    "# get index of the restaurant with maximum orders \n",
    "indexRestaurantMaxOrders = df_sub_orders[\"order_total\"].idxmax()\n",
    "print(f\"{idRestaurantMaxOrders} is the index of restaurant with the maximum order\")\n",
    "# use loc[index] to get row data restaurant with maximum orders\n",
    "nameRestaurantMaxOrders = df_sub_orders.loc[indexRestaurantMaxOrders]\n",
    "print(f\"Restaurant: {nameRestaurantMaxOrders['id_store']} Orders: {nameRestaurantMaxOrders['order_total']}\")"
   ]
  },
  {
   "cell_type": "markdown",
   "metadata": {
    "id": "kilu2ukeCpuJ",
    "lang": "en"
   },
   "source": [
    "l) Calculate the average price of an order for each restaurant. Do you think you face the same types of restaurants?"
   ]
  },
  {
   "cell_type": "code",
   "execution_count": null,
   "metadata": {
    "id": "xQPxmRRMHf7b"
   },
   "outputs": [],
   "source": []
  },
  {
   "cell_type": "code",
   "execution_count": 97,
   "metadata": {},
   "outputs": [
    {
     "name": "stdout",
     "output_type": "stream",
     "text": [
      "Restaurant  7965 avg price of an order:  125.25 Euro\n"
     ]
    }
   ],
   "source": [
    "#Let's try it :-)\n",
    "# 1.Step- build up a dataframe grouped by id_store\n",
    "\n",
    "df_average_price = df.groupby('id_store')['m_cached_payed'].mean().reset_index(name='avg_price')\n",
    "idMaxAvgPrice = df_average_price['avg_price'].idxmax()\n",
    "\n",
    "maxAvgPrice = df_average_price.loc[idMaxAvgPrice]\n",
    "print(f\"Restaurant {maxAvgPrice['id_store']: .0f} avg price of an order: {maxAvgPrice['avg_price'].max(): .2f} Euro\")"
   ]
  },
  {
   "cell_type": "markdown",
   "metadata": {
    "id": "mlCBOMpQCpuJ",
    "lang": "en"
   },
   "source": [
    "m) The problem is that an order can be placed for several people. We rather want to know the price spent on average by a person in the restaurant.\n",
    "\n",
    "From the initial dataframe, add a column representing the price of the order per customer"
   ]
  },
  {
   "cell_type": "code",
   "execution_count": null,
   "metadata": {
    "id": "uuafguQgLBsb"
   },
   "outputs": [],
   "source": []
  },
  {
   "cell_type": "code",
   "execution_count": 147,
   "metadata": {},
   "outputs": [
    {
     "data": {
      "text/html": [
       "<div>\n",
       "<style scoped>\n",
       "    .dataframe tbody tr th:only-of-type {\n",
       "        vertical-align: middle;\n",
       "    }\n",
       "\n",
       "    .dataframe tbody tr th {\n",
       "        vertical-align: top;\n",
       "    }\n",
       "\n",
       "    .dataframe thead th {\n",
       "        text-align: right;\n",
       "    }\n",
       "</style>\n",
       "<table border=\"1\" class=\"dataframe\">\n",
       "  <thead>\n",
       "    <tr style=\"text-align: right;\">\n",
       "      <th></th>\n",
       "      <th>id_order</th>\n",
       "      <th>id_store</th>\n",
       "      <th>id_table</th>\n",
       "      <th>id_waiter</th>\n",
       "      <th>id_customer</th>\n",
       "      <th>id_external</th>\n",
       "      <th>id_device</th>\n",
       "      <th>date_opened</th>\n",
       "      <th>date_closed</th>\n",
       "      <th>dim_name</th>\n",
       "      <th>dim_status</th>\n",
       "      <th>dim_type</th>\n",
       "      <th>dim_comment</th>\n",
       "      <th>dim_source</th>\n",
       "      <th>m_nb_customer</th>\n",
       "      <th>m_cached_payed</th>\n",
       "      <th>m_cached_price</th>\n",
       "      <th>order_per_customer</th>\n",
       "    </tr>\n",
       "  </thead>\n",
       "  <tbody>\n",
       "    <tr>\n",
       "      <th>0</th>\n",
       "      <td>55538867</td>\n",
       "      <td>8052</td>\n",
       "      <td>NaN</td>\n",
       "      <td>NaN</td>\n",
       "      <td>NaN</td>\n",
       "      <td>0425716B-EFF4-41CA-AEA1-839104F36833</td>\n",
       "      <td>15327.0</td>\n",
       "      <td>2019-01-12 13:02:17 UTC</td>\n",
       "      <td>2019-01-12 19:58:38 UTC</td>\n",
       "      <td>vincent</td>\n",
       "      <td>CLOSED</td>\n",
       "      <td>1</td>\n",
       "      <td>NaN</td>\n",
       "      <td>Tiller iPAD</td>\n",
       "      <td>1</td>\n",
       "      <td>45.5</td>\n",
       "      <td>45.5</td>\n",
       "      <td>0</td>\n",
       "    </tr>\n",
       "  </tbody>\n",
       "</table>\n",
       "</div>"
      ],
      "text/plain": [
       "   id_order  id_store  id_table  id_waiter  id_customer  \\\n",
       "0  55538867      8052       NaN        NaN          NaN   \n",
       "\n",
       "                            id_external  id_device              date_opened  \\\n",
       "0  0425716B-EFF4-41CA-AEA1-839104F36833    15327.0  2019-01-12 13:02:17 UTC   \n",
       "\n",
       "               date_closed dim_name dim_status  dim_type dim_comment  \\\n",
       "0  2019-01-12 19:58:38 UTC  vincent     CLOSED         1         NaN   \n",
       "\n",
       "    dim_source  m_nb_customer  m_cached_payed  m_cached_price  \\\n",
       "0  Tiller iPAD              1            45.5            45.5   \n",
       "\n",
       "   order_per_customer  \n",
       "0                   0  "
      ]
     },
     "execution_count": 147,
     "metadata": {},
     "output_type": "execute_result"
    }
   ],
   "source": [
    "#Let's try it :-)\n",
    "df[\"order_per_customer\"] = 0\n",
    "df.head(1)"
   ]
  },
  {
   "cell_type": "markdown",
   "metadata": {
    "id": "XjjmM3lxCpuJ",
    "lang": "en"
   },
   "source": [
    "n) Using the previous column, calculate the average price spent by each person in each of the restaurants."
   ]
  },
  {
   "cell_type": "code",
   "execution_count": null,
   "metadata": {
    "id": "FDmNUDEANfKr"
   },
   "outputs": [],
   "source": []
  },
  {
   "cell_type": "code",
   "execution_count": 102,
   "metadata": {},
   "outputs": [
    {
     "data": {
      "text/html": [
       "<div>\n",
       "<style scoped>\n",
       "    .dataframe tbody tr th:only-of-type {\n",
       "        vertical-align: middle;\n",
       "    }\n",
       "\n",
       "    .dataframe tbody tr th {\n",
       "        vertical-align: top;\n",
       "    }\n",
       "\n",
       "    .dataframe thead th {\n",
       "        text-align: right;\n",
       "    }\n",
       "</style>\n",
       "<table border=\"1\" class=\"dataframe\">\n",
       "  <thead>\n",
       "    <tr style=\"text-align: right;\">\n",
       "      <th></th>\n",
       "      <th>id_store</th>\n",
       "      <th>dim_name</th>\n",
       "      <th>average_price_spent_person</th>\n",
       "    </tr>\n",
       "  </thead>\n",
       "  <tbody>\n",
       "    <tr>\n",
       "      <th>0</th>\n",
       "      <td>360</td>\n",
       "      <td>A1</td>\n",
       "      <td>98.344643</td>\n",
       "    </tr>\n",
       "    <tr>\n",
       "      <th>1</th>\n",
       "      <td>360</td>\n",
       "      <td>A10</td>\n",
       "      <td>36.625000</td>\n",
       "    </tr>\n",
       "    <tr>\n",
       "      <th>2</th>\n",
       "      <td>360</td>\n",
       "      <td>A11</td>\n",
       "      <td>88.000000</td>\n",
       "    </tr>\n",
       "    <tr>\n",
       "      <th>3</th>\n",
       "      <td>360</td>\n",
       "      <td>A12</td>\n",
       "      <td>138.666667</td>\n",
       "    </tr>\n",
       "    <tr>\n",
       "      <th>4</th>\n",
       "      <td>360</td>\n",
       "      <td>A13</td>\n",
       "      <td>0.000000</td>\n",
       "    </tr>\n",
       "    <tr>\n",
       "      <th>...</th>\n",
       "      <td>...</td>\n",
       "      <td>...</td>\n",
       "      <td>...</td>\n",
       "    </tr>\n",
       "    <tr>\n",
       "      <th>2006</th>\n",
       "      <td>9084</td>\n",
       "      <td>REMY</td>\n",
       "      <td>178.000000</td>\n",
       "    </tr>\n",
       "    <tr>\n",
       "      <th>2007</th>\n",
       "      <td>9084</td>\n",
       "      <td>SIBILLE</td>\n",
       "      <td>42.000000</td>\n",
       "    </tr>\n",
       "    <tr>\n",
       "      <th>2008</th>\n",
       "      <td>9084</td>\n",
       "      <td>Salim</td>\n",
       "      <td>139.000000</td>\n",
       "    </tr>\n",
       "    <tr>\n",
       "      <th>2009</th>\n",
       "      <td>9084</td>\n",
       "      <td>THOMAS</td>\n",
       "      <td>64.300000</td>\n",
       "    </tr>\n",
       "    <tr>\n",
       "      <th>2010</th>\n",
       "      <td>9084</td>\n",
       "      <td>y</td>\n",
       "      <td>40.000000</td>\n",
       "    </tr>\n",
       "  </tbody>\n",
       "</table>\n",
       "<p>2011 rows × 3 columns</p>\n",
       "</div>"
      ],
      "text/plain": [
       "      id_store dim_name  average_price_spent_person\n",
       "0          360       A1                   98.344643\n",
       "1          360      A10                   36.625000\n",
       "2          360      A11                   88.000000\n",
       "3          360      A12                  138.666667\n",
       "4          360      A13                    0.000000\n",
       "...        ...      ...                         ...\n",
       "2006      9084     REMY                  178.000000\n",
       "2007      9084  SIBILLE                   42.000000\n",
       "2008      9084    Salim                  139.000000\n",
       "2009      9084   THOMAS                   64.300000\n",
       "2010      9084        y                   40.000000\n",
       "\n",
       "[2011 rows x 3 columns]"
      ]
     },
     "execution_count": 102,
     "metadata": {},
     "output_type": "execute_result"
    }
   ],
   "source": [
    "#Let's try it :-)\n",
    "# ['id_store', 'dim_name'] defines order of grouping.\n",
    "# df ordered by id_store first, then each element is ordered by dim_name\n",
    "id_store = df.groupby(['id_store', 'dim_name'])['m_cached_payed'].mean().reset_index(name='average_price_spent_person')\n",
    "id_store\n"
   ]
  },
  {
   "cell_type": "markdown",
   "metadata": {
    "id": "-jeOJ9qECpuJ",
    "lang": "en"
   },
   "source": [
    "o) It seems that there are data problems because for some restaurants the average price is lower ...\n",
    "\n",
    "Do you have any idea why?\n",
    "\n",
    "Replace the values ​​at 0 in the m_nb_customer column with 1 then delete the rows whose m_cached_price column is at 0"
   ]
  },
  {
   "cell_type": "code",
   "execution_count": 111,
   "metadata": {
    "id": "0Abq1T50PQjQ"
   },
   "outputs": [
    {
     "data": {
      "text/plain": [
       "0         1\n",
       "1         2\n",
       "2         1\n",
       "3         3\n",
       "4         2\n",
       "         ..\n",
       "117299    1\n",
       "117300    1\n",
       "117301    1\n",
       "117302    1\n",
       "117303    1\n",
       "Name: m_nb_customer, Length: 117304, dtype: int64"
      ]
     },
     "execution_count": 111,
     "metadata": {},
     "output_type": "execute_result"
    }
   ],
   "source": [
    "df['m_nb_customer']"
   ]
  },
  {
   "cell_type": "code",
   "execution_count": 115,
   "metadata": {},
   "outputs": [
    {
     "data": {
      "text/html": [
       "<div>\n",
       "<style scoped>\n",
       "    .dataframe tbody tr th:only-of-type {\n",
       "        vertical-align: middle;\n",
       "    }\n",
       "\n",
       "    .dataframe tbody tr th {\n",
       "        vertical-align: top;\n",
       "    }\n",
       "\n",
       "    .dataframe thead th {\n",
       "        text-align: right;\n",
       "    }\n",
       "</style>\n",
       "<table border=\"1\" class=\"dataframe\">\n",
       "  <thead>\n",
       "    <tr style=\"text-align: right;\">\n",
       "      <th></th>\n",
       "      <th>id_order</th>\n",
       "      <th>id_store</th>\n",
       "      <th>id_table</th>\n",
       "      <th>id_waiter</th>\n",
       "      <th>id_customer</th>\n",
       "      <th>id_external</th>\n",
       "      <th>id_device</th>\n",
       "      <th>date_opened</th>\n",
       "      <th>date_closed</th>\n",
       "      <th>dim_name</th>\n",
       "      <th>dim_status</th>\n",
       "      <th>dim_type</th>\n",
       "      <th>dim_comment</th>\n",
       "      <th>dim_source</th>\n",
       "      <th>m_nb_customer</th>\n",
       "      <th>m_cached_payed</th>\n",
       "      <th>m_cached_price</th>\n",
       "    </tr>\n",
       "  </thead>\n",
       "  <tbody>\n",
       "    <tr>\n",
       "      <th>0</th>\n",
       "      <td>55538867</td>\n",
       "      <td>8052</td>\n",
       "      <td>NaN</td>\n",
       "      <td>NaN</td>\n",
       "      <td>NaN</td>\n",
       "      <td>0425716B-EFF4-41CA-AEA1-839104F36833</td>\n",
       "      <td>15327.0</td>\n",
       "      <td>2019-01-12 13:02:17 UTC</td>\n",
       "      <td>2019-01-12 19:58:38 UTC</td>\n",
       "      <td>vincent</td>\n",
       "      <td>CLOSED</td>\n",
       "      <td>1</td>\n",
       "      <td>NaN</td>\n",
       "      <td>Tiller iPAD</td>\n",
       "      <td>1</td>\n",
       "      <td>45.5</td>\n",
       "      <td>45.5</td>\n",
       "    </tr>\n",
       "    <tr>\n",
       "      <th>1</th>\n",
       "      <td>56035309</td>\n",
       "      <td>8052</td>\n",
       "      <td>NaN</td>\n",
       "      <td>NaN</td>\n",
       "      <td>NaN</td>\n",
       "      <td>75E41FE2-64FF-41D3-954C-A7DE4AA887EF</td>\n",
       "      <td>15327.0</td>\n",
       "      <td>2019-01-16 19:39:09 UTC</td>\n",
       "      <td>2019-01-16 22:10:50 UTC</td>\n",
       "      <td>frere et soeur avec pierre</td>\n",
       "      <td>CLOSED</td>\n",
       "      <td>1</td>\n",
       "      <td>NaN</td>\n",
       "      <td>Tiller iPAD</td>\n",
       "      <td>2</td>\n",
       "      <td>49.8</td>\n",
       "      <td>49.8</td>\n",
       "    </tr>\n",
       "    <tr>\n",
       "      <th>2</th>\n",
       "      <td>55550051</td>\n",
       "      <td>8052</td>\n",
       "      <td>NaN</td>\n",
       "      <td>NaN</td>\n",
       "      <td>NaN</td>\n",
       "      <td>F6051A05-C9AC-4033-BF72-BB5149B8F439</td>\n",
       "      <td>15327.0</td>\n",
       "      <td>2019-01-12 14:18:46 UTC</td>\n",
       "      <td>2019-01-12 19:50:32 UTC</td>\n",
       "      <td>rachel</td>\n",
       "      <td>CLOSED</td>\n",
       "      <td>1</td>\n",
       "      <td>NaN</td>\n",
       "      <td>Tiller iPAD</td>\n",
       "      <td>1</td>\n",
       "      <td>27.4</td>\n",
       "      <td>27.4</td>\n",
       "    </tr>\n",
       "    <tr>\n",
       "      <th>3</th>\n",
       "      <td>57000119</td>\n",
       "      <td>8052</td>\n",
       "      <td>NaN</td>\n",
       "      <td>16199.0</td>\n",
       "      <td>NaN</td>\n",
       "      <td>B8BEEC66-1C10-48A0-B4D5-035CB5EEFE62</td>\n",
       "      <td>15327.0</td>\n",
       "      <td>2019-01-24 17:49:12 UTC</td>\n",
       "      <td>2019-01-24 21:58:59 UTC</td>\n",
       "      <td>Groupe PEL</td>\n",
       "      <td>CLOSED</td>\n",
       "      <td>1</td>\n",
       "      <td>NaN</td>\n",
       "      <td>tiller-order</td>\n",
       "      <td>3</td>\n",
       "      <td>60.0</td>\n",
       "      <td>60.0</td>\n",
       "    </tr>\n",
       "    <tr>\n",
       "      <th>4</th>\n",
       "      <td>55558817</td>\n",
       "      <td>8052</td>\n",
       "      <td>NaN</td>\n",
       "      <td>NaN</td>\n",
       "      <td>NaN</td>\n",
       "      <td>17F0533C-2FF1-4FC5-A50D-12704C7B7A4B</td>\n",
       "      <td>15327.0</td>\n",
       "      <td>2019-01-12 15:25:06 UTC</td>\n",
       "      <td>2019-01-12 19:21:03 UTC</td>\n",
       "      <td>remi et date</td>\n",
       "      <td>CLOSED</td>\n",
       "      <td>1</td>\n",
       "      <td>NaN</td>\n",
       "      <td>Tiller iPAD</td>\n",
       "      <td>2</td>\n",
       "      <td>39.9</td>\n",
       "      <td>39.9</td>\n",
       "    </tr>\n",
       "    <tr>\n",
       "      <th>5</th>\n",
       "      <td>55451477</td>\n",
       "      <td>8052</td>\n",
       "      <td>NaN</td>\n",
       "      <td>NaN</td>\n",
       "      <td>NaN</td>\n",
       "      <td>570F71DE-504D-4040-BE10-19B5FDF64FAD</td>\n",
       "      <td>15327.0</td>\n",
       "      <td>2019-01-11 19:13:15 UTC</td>\n",
       "      <td>2019-01-11 23:22:04 UTC</td>\n",
       "      <td>abdel</td>\n",
       "      <td>CLOSED</td>\n",
       "      <td>1</td>\n",
       "      <td>NaN</td>\n",
       "      <td>Tiller iPAD</td>\n",
       "      <td>1</td>\n",
       "      <td>25.0</td>\n",
       "      <td>25.0</td>\n",
       "    </tr>\n",
       "    <tr>\n",
       "      <th>6</th>\n",
       "      <td>56030563</td>\n",
       "      <td>8052</td>\n",
       "      <td>NaN</td>\n",
       "      <td>NaN</td>\n",
       "      <td>NaN</td>\n",
       "      <td>0BEB2A9B-4A3A-4BEE-AC13-8BDCB03DF568</td>\n",
       "      <td>15327.0</td>\n",
       "      <td>2019-01-16 19:04:08 UTC</td>\n",
       "      <td>2019-01-16 22:13:55 UTC</td>\n",
       "      <td>pierre + 6</td>\n",
       "      <td>CLOSED</td>\n",
       "      <td>1</td>\n",
       "      <td>NaN</td>\n",
       "      <td>Tiller iPAD</td>\n",
       "      <td>7</td>\n",
       "      <td>220.7</td>\n",
       "      <td>220.7</td>\n",
       "    </tr>\n",
       "    <tr>\n",
       "      <th>7</th>\n",
       "      <td>56310086</td>\n",
       "      <td>8052</td>\n",
       "      <td>NaN</td>\n",
       "      <td>NaN</td>\n",
       "      <td>NaN</td>\n",
       "      <td>5522AFFD-BC4A-4F24-8129-14400BC529AA</td>\n",
       "      <td>15327.0</td>\n",
       "      <td>2019-01-18 19:06:17 UTC</td>\n",
       "      <td>2019-01-18 23:13:08 UTC</td>\n",
       "      <td>oceane +3</td>\n",
       "      <td>CLOSED</td>\n",
       "      <td>1</td>\n",
       "      <td>NaN</td>\n",
       "      <td>Tiller iPAD</td>\n",
       "      <td>4</td>\n",
       "      <td>111.0</td>\n",
       "      <td>111.0</td>\n",
       "    </tr>\n",
       "    <tr>\n",
       "      <th>8</th>\n",
       "      <td>54326699</td>\n",
       "      <td>8052</td>\n",
       "      <td>NaN</td>\n",
       "      <td>NaN</td>\n",
       "      <td>NaN</td>\n",
       "      <td>E41B347F-840F-4067-90F4-76D3E5258A2B</td>\n",
       "      <td>15327.0</td>\n",
       "      <td>2019-01-01 16:33:33 UTC</td>\n",
       "      <td>2019-01-01 23:47:28 UTC</td>\n",
       "      <td>margaux, agathe et melanie</td>\n",
       "      <td>CLOSED</td>\n",
       "      <td>1</td>\n",
       "      <td>NaN</td>\n",
       "      <td>Tiller iPAD</td>\n",
       "      <td>3</td>\n",
       "      <td>41.0</td>\n",
       "      <td>41.0</td>\n",
       "    </tr>\n",
       "    <tr>\n",
       "      <th>9</th>\n",
       "      <td>56479526</td>\n",
       "      <td>8052</td>\n",
       "      <td>NaN</td>\n",
       "      <td>NaN</td>\n",
       "      <td>NaN</td>\n",
       "      <td>B47CEA06-6AD3-406D-81F1-92DA56500267</td>\n",
       "      <td>15327.0</td>\n",
       "      <td>2019-01-19 21:44:00 UTC</td>\n",
       "      <td>2019-01-19 23:15:16 UTC</td>\n",
       "      <td>filles canapé</td>\n",
       "      <td>CLOSED</td>\n",
       "      <td>1</td>\n",
       "      <td>NaN</td>\n",
       "      <td>Tiller iPAD</td>\n",
       "      <td>3</td>\n",
       "      <td>33.9</td>\n",
       "      <td>33.9</td>\n",
       "    </tr>\n",
       "  </tbody>\n",
       "</table>\n",
       "</div>"
      ],
      "text/plain": [
       "   id_order  id_store  id_table  id_waiter  id_customer  \\\n",
       "0  55538867      8052       NaN        NaN          NaN   \n",
       "1  56035309      8052       NaN        NaN          NaN   \n",
       "2  55550051      8052       NaN        NaN          NaN   \n",
       "3  57000119      8052       NaN    16199.0          NaN   \n",
       "4  55558817      8052       NaN        NaN          NaN   \n",
       "5  55451477      8052       NaN        NaN          NaN   \n",
       "6  56030563      8052       NaN        NaN          NaN   \n",
       "7  56310086      8052       NaN        NaN          NaN   \n",
       "8  54326699      8052       NaN        NaN          NaN   \n",
       "9  56479526      8052       NaN        NaN          NaN   \n",
       "\n",
       "                            id_external  id_device              date_opened  \\\n",
       "0  0425716B-EFF4-41CA-AEA1-839104F36833    15327.0  2019-01-12 13:02:17 UTC   \n",
       "1  75E41FE2-64FF-41D3-954C-A7DE4AA887EF    15327.0  2019-01-16 19:39:09 UTC   \n",
       "2  F6051A05-C9AC-4033-BF72-BB5149B8F439    15327.0  2019-01-12 14:18:46 UTC   \n",
       "3  B8BEEC66-1C10-48A0-B4D5-035CB5EEFE62    15327.0  2019-01-24 17:49:12 UTC   \n",
       "4  17F0533C-2FF1-4FC5-A50D-12704C7B7A4B    15327.0  2019-01-12 15:25:06 UTC   \n",
       "5  570F71DE-504D-4040-BE10-19B5FDF64FAD    15327.0  2019-01-11 19:13:15 UTC   \n",
       "6  0BEB2A9B-4A3A-4BEE-AC13-8BDCB03DF568    15327.0  2019-01-16 19:04:08 UTC   \n",
       "7  5522AFFD-BC4A-4F24-8129-14400BC529AA    15327.0  2019-01-18 19:06:17 UTC   \n",
       "8  E41B347F-840F-4067-90F4-76D3E5258A2B    15327.0  2019-01-01 16:33:33 UTC   \n",
       "9  B47CEA06-6AD3-406D-81F1-92DA56500267    15327.0  2019-01-19 21:44:00 UTC   \n",
       "\n",
       "               date_closed                    dim_name dim_status  dim_type  \\\n",
       "0  2019-01-12 19:58:38 UTC                     vincent     CLOSED         1   \n",
       "1  2019-01-16 22:10:50 UTC  frere et soeur avec pierre     CLOSED         1   \n",
       "2  2019-01-12 19:50:32 UTC                      rachel     CLOSED         1   \n",
       "3  2019-01-24 21:58:59 UTC                  Groupe PEL     CLOSED         1   \n",
       "4  2019-01-12 19:21:03 UTC                remi et date     CLOSED         1   \n",
       "5  2019-01-11 23:22:04 UTC                       abdel     CLOSED         1   \n",
       "6  2019-01-16 22:13:55 UTC                  pierre + 6     CLOSED         1   \n",
       "7  2019-01-18 23:13:08 UTC                   oceane +3     CLOSED         1   \n",
       "8  2019-01-01 23:47:28 UTC  margaux, agathe et melanie     CLOSED         1   \n",
       "9  2019-01-19 23:15:16 UTC               filles canapé     CLOSED         1   \n",
       "\n",
       "  dim_comment    dim_source  m_nb_customer  m_cached_payed  m_cached_price  \n",
       "0         NaN   Tiller iPAD              1            45.5            45.5  \n",
       "1         NaN   Tiller iPAD              2            49.8            49.8  \n",
       "2         NaN   Tiller iPAD              1            27.4            27.4  \n",
       "3         NaN  tiller-order              3            60.0            60.0  \n",
       "4         NaN   Tiller iPAD              2            39.9            39.9  \n",
       "5         NaN   Tiller iPAD              1            25.0            25.0  \n",
       "6         NaN   Tiller iPAD              7           220.7           220.7  \n",
       "7         NaN   Tiller iPAD              4           111.0           111.0  \n",
       "8         NaN   Tiller iPAD              3            41.0            41.0  \n",
       "9         NaN   Tiller iPAD              3            33.9            33.9  "
      ]
     },
     "execution_count": 115,
     "metadata": {},
     "output_type": "execute_result"
    }
   ],
   "source": [
    "#Let's try it :-)\n",
    "# Replace values at 0 in the 'm_nb_customer' column with 1\n",
    "df['m_nb_customer'] = df['m_nb_customer'].replace(0,1)\n",
    "\n",
    "#delete the rows whose m_cached_price column is at 0\n",
    "mask = df['m_cached_price'] !=0\n",
    "df = df[mask]\n",
    "df.head(10)"
   ]
  },
  {
   "cell_type": "markdown",
   "metadata": {
    "id": "jk5zujvcCpuJ",
    "lang": "en"
   },
   "source": [
    "p) Recalculate the price_per_customer column and the average price spent by each person in a restaurant"
   ]
  },
  {
   "cell_type": "code",
   "execution_count": null,
   "metadata": {
    "id": "oLQY0R__OhkA"
   },
   "outputs": [],
   "source": []
  },
  {
   "cell_type": "code",
   "execution_count": 173,
   "metadata": {},
   "outputs": [
    {
     "data": {
      "text/html": [
       "<div>\n",
       "<style scoped>\n",
       "    .dataframe tbody tr th:only-of-type {\n",
       "        vertical-align: middle;\n",
       "    }\n",
       "\n",
       "    .dataframe tbody tr th {\n",
       "        vertical-align: top;\n",
       "    }\n",
       "\n",
       "    .dataframe thead th {\n",
       "        text-align: right;\n",
       "    }\n",
       "</style>\n",
       "<table border=\"1\" class=\"dataframe\">\n",
       "  <thead>\n",
       "    <tr style=\"text-align: right;\">\n",
       "      <th></th>\n",
       "      <th>id_store</th>\n",
       "      <th>dim_name</th>\n",
       "      <th>m_cached_payed</th>\n",
       "    </tr>\n",
       "  </thead>\n",
       "  <tbody>\n",
       "    <tr>\n",
       "      <th>0</th>\n",
       "      <td>360</td>\n",
       "      <td>A1</td>\n",
       "      <td>101.051376</td>\n",
       "    </tr>\n",
       "    <tr>\n",
       "      <th>1</th>\n",
       "      <td>360</td>\n",
       "      <td>A10</td>\n",
       "      <td>41.857143</td>\n",
       "    </tr>\n",
       "    <tr>\n",
       "      <th>2</th>\n",
       "      <td>360</td>\n",
       "      <td>A11</td>\n",
       "      <td>88.000000</td>\n",
       "    </tr>\n",
       "    <tr>\n",
       "      <th>3</th>\n",
       "      <td>360</td>\n",
       "      <td>A12</td>\n",
       "      <td>138.666667</td>\n",
       "    </tr>\n",
       "    <tr>\n",
       "      <th>4</th>\n",
       "      <td>360</td>\n",
       "      <td>A14</td>\n",
       "      <td>140.000000</td>\n",
       "    </tr>\n",
       "    <tr>\n",
       "      <th>...</th>\n",
       "      <td>...</td>\n",
       "      <td>...</td>\n",
       "      <td>...</td>\n",
       "    </tr>\n",
       "    <tr>\n",
       "      <th>2003</th>\n",
       "      <td>9084</td>\n",
       "      <td>REMY</td>\n",
       "      <td>178.000000</td>\n",
       "    </tr>\n",
       "    <tr>\n",
       "      <th>2004</th>\n",
       "      <td>9084</td>\n",
       "      <td>SIBILLE</td>\n",
       "      <td>42.000000</td>\n",
       "    </tr>\n",
       "    <tr>\n",
       "      <th>2005</th>\n",
       "      <td>9084</td>\n",
       "      <td>Salim</td>\n",
       "      <td>139.000000</td>\n",
       "    </tr>\n",
       "    <tr>\n",
       "      <th>2006</th>\n",
       "      <td>9084</td>\n",
       "      <td>THOMAS</td>\n",
       "      <td>64.300000</td>\n",
       "    </tr>\n",
       "    <tr>\n",
       "      <th>2007</th>\n",
       "      <td>9084</td>\n",
       "      <td>y</td>\n",
       "      <td>40.000000</td>\n",
       "    </tr>\n",
       "  </tbody>\n",
       "</table>\n",
       "<p>2008 rows × 3 columns</p>\n",
       "</div>"
      ],
      "text/plain": [
       "      id_store dim_name  m_cached_payed\n",
       "0          360       A1      101.051376\n",
       "1          360      A10       41.857143\n",
       "2          360      A11       88.000000\n",
       "3          360      A12      138.666667\n",
       "4          360      A14      140.000000\n",
       "...        ...      ...             ...\n",
       "2003      9084     REMY      178.000000\n",
       "2004      9084  SIBILLE       42.000000\n",
       "2005      9084    Salim      139.000000\n",
       "2006      9084   THOMAS       64.300000\n",
       "2007      9084        y       40.000000\n",
       "\n",
       "[2008 rows x 3 columns]"
      ]
     },
     "execution_count": 173,
     "metadata": {},
     "output_type": "execute_result"
    }
   ],
   "source": [
    "#Let's try it :-)\n",
    "# group id_store -> group dim_name , then get m_cached_payed\n",
    "id_store = df.groupby(['id_store', 'dim_name'])['m_cached_payed'].mean().reset_index()\n",
    "id_store"
   ]
  },
  {
   "cell_type": "markdown",
   "metadata": {
    "id": "-POZ20_YCpuJ",
    "lang": "en"
   },
   "source": [
    "### Temporal analysis"
   ]
  },
  {
   "cell_type": "markdown",
   "metadata": {
    "id": "KamVv4LNCpuO",
    "lang": "en"
   },
   "source": [
    "Restaurant 7965 has a higher price per person than the rest. Let's look at the time spent at the table to find out if this can correspond to a large restaurant."
   ]
  },
  {
   "cell_type": "markdown",
   "metadata": {
    "id": "PB_OHbmdCpuO",
    "lang": "en"
   },
   "source": [
    "q) Convert date_opened and date_closed columns to datetime format"
   ]
  },
  {
   "cell_type": "code",
   "execution_count": 174,
   "metadata": {
    "id": "vr_lHtn2SzXW"
   },
   "outputs": [
    {
     "data": {
      "text/html": [
       "<div>\n",
       "<style scoped>\n",
       "    .dataframe tbody tr th:only-of-type {\n",
       "        vertical-align: middle;\n",
       "    }\n",
       "\n",
       "    .dataframe tbody tr th {\n",
       "        vertical-align: top;\n",
       "    }\n",
       "\n",
       "    .dataframe thead th {\n",
       "        text-align: right;\n",
       "    }\n",
       "</style>\n",
       "<table border=\"1\" class=\"dataframe\">\n",
       "  <thead>\n",
       "    <tr style=\"text-align: right;\">\n",
       "      <th></th>\n",
       "      <th>id_order</th>\n",
       "      <th>id_store</th>\n",
       "      <th>id_table</th>\n",
       "      <th>id_waiter</th>\n",
       "      <th>id_customer</th>\n",
       "      <th>id_external</th>\n",
       "      <th>id_device</th>\n",
       "      <th>date_opened</th>\n",
       "      <th>date_closed</th>\n",
       "      <th>dim_name</th>\n",
       "      <th>dim_status</th>\n",
       "      <th>dim_type</th>\n",
       "      <th>dim_comment</th>\n",
       "      <th>dim_source</th>\n",
       "      <th>m_nb_customer</th>\n",
       "      <th>m_cached_payed</th>\n",
       "      <th>m_cached_price</th>\n",
       "      <th>order_per_customer</th>\n",
       "    </tr>\n",
       "  </thead>\n",
       "  <tbody>\n",
       "    <tr>\n",
       "      <th>0</th>\n",
       "      <td>55538867</td>\n",
       "      <td>8052</td>\n",
       "      <td>NaN</td>\n",
       "      <td>NaN</td>\n",
       "      <td>NaN</td>\n",
       "      <td>0425716B-EFF4-41CA-AEA1-839104F36833</td>\n",
       "      <td>15327.0</td>\n",
       "      <td>2019-01-12 13:02:17 UTC</td>\n",
       "      <td>2019-01-12 19:58:38 UTC</td>\n",
       "      <td>vincent</td>\n",
       "      <td>CLOSED</td>\n",
       "      <td>1</td>\n",
       "      <td>NaN</td>\n",
       "      <td>Tiller iPAD</td>\n",
       "      <td>1</td>\n",
       "      <td>45.5</td>\n",
       "      <td>45.5</td>\n",
       "      <td>0</td>\n",
       "    </tr>\n",
       "    <tr>\n",
       "      <th>1</th>\n",
       "      <td>56035309</td>\n",
       "      <td>8052</td>\n",
       "      <td>NaN</td>\n",
       "      <td>NaN</td>\n",
       "      <td>NaN</td>\n",
       "      <td>75E41FE2-64FF-41D3-954C-A7DE4AA887EF</td>\n",
       "      <td>15327.0</td>\n",
       "      <td>2019-01-16 19:39:09 UTC</td>\n",
       "      <td>2019-01-16 22:10:50 UTC</td>\n",
       "      <td>frere et soeur avec pierre</td>\n",
       "      <td>CLOSED</td>\n",
       "      <td>1</td>\n",
       "      <td>NaN</td>\n",
       "      <td>Tiller iPAD</td>\n",
       "      <td>2</td>\n",
       "      <td>49.8</td>\n",
       "      <td>49.8</td>\n",
       "      <td>0</td>\n",
       "    </tr>\n",
       "  </tbody>\n",
       "</table>\n",
       "</div>"
      ],
      "text/plain": [
       "   id_order  id_store  id_table  id_waiter  id_customer  \\\n",
       "0  55538867      8052       NaN        NaN          NaN   \n",
       "1  56035309      8052       NaN        NaN          NaN   \n",
       "\n",
       "                            id_external  id_device              date_opened  \\\n",
       "0  0425716B-EFF4-41CA-AEA1-839104F36833    15327.0  2019-01-12 13:02:17 UTC   \n",
       "1  75E41FE2-64FF-41D3-954C-A7DE4AA887EF    15327.0  2019-01-16 19:39:09 UTC   \n",
       "\n",
       "               date_closed                    dim_name dim_status  dim_type  \\\n",
       "0  2019-01-12 19:58:38 UTC                     vincent     CLOSED         1   \n",
       "1  2019-01-16 22:10:50 UTC  frere et soeur avec pierre     CLOSED         1   \n",
       "\n",
       "  dim_comment   dim_source  m_nb_customer  m_cached_payed  m_cached_price  \\\n",
       "0         NaN  Tiller iPAD              1            45.5            45.5   \n",
       "1         NaN  Tiller iPAD              2            49.8            49.8   \n",
       "\n",
       "   order_per_customer  \n",
       "0                   0  \n",
       "1                   0  "
      ]
     },
     "execution_count": 174,
     "metadata": {},
     "output_type": "execute_result"
    }
   ],
   "source": [
    "df.head(2)"
   ]
  },
  {
   "cell_type": "code",
   "execution_count": 181,
   "metadata": {},
   "outputs": [
    {
     "name": "stderr",
     "output_type": "stream",
     "text": [
      "C:\\Users\\p.nguyen\\AppData\\Local\\Temp\\ipykernel_26860\\811732765.py:4: SettingWithCopyWarning: \n",
      "A value is trying to be set on a copy of a slice from a DataFrame.\n",
      "Try using .loc[row_indexer,col_indexer] = value instead\n",
      "\n",
      "See the caveats in the documentation: https://pandas.pydata.org/pandas-docs/stable/user_guide/indexing.html#returning-a-view-versus-a-copy\n",
      "  df['date_opened'] = pd.to_datetime(df['date_opened'])\n",
      "C:\\Users\\p.nguyen\\AppData\\Local\\Temp\\ipykernel_26860\\811732765.py:5: SettingWithCopyWarning: \n",
      "A value is trying to be set on a copy of a slice from a DataFrame.\n",
      "Try using .loc[row_indexer,col_indexer] = value instead\n",
      "\n",
      "See the caveats in the documentation: https://pandas.pydata.org/pandas-docs/stable/user_guide/indexing.html#returning-a-view-versus-a-copy\n",
      "  df['date_closed'] = pd.to_datetime(df['date_closed'])\n"
     ]
    },
    {
     "data": {
      "text/html": [
       "<div>\n",
       "<style scoped>\n",
       "    .dataframe tbody tr th:only-of-type {\n",
       "        vertical-align: middle;\n",
       "    }\n",
       "\n",
       "    .dataframe tbody tr th {\n",
       "        vertical-align: top;\n",
       "    }\n",
       "\n",
       "    .dataframe thead th {\n",
       "        text-align: right;\n",
       "    }\n",
       "</style>\n",
       "<table border=\"1\" class=\"dataframe\">\n",
       "  <thead>\n",
       "    <tr style=\"text-align: right;\">\n",
       "      <th></th>\n",
       "      <th>id_order</th>\n",
       "      <th>id_store</th>\n",
       "      <th>id_table</th>\n",
       "      <th>id_waiter</th>\n",
       "      <th>id_customer</th>\n",
       "      <th>id_external</th>\n",
       "      <th>id_device</th>\n",
       "      <th>date_opened</th>\n",
       "      <th>date_closed</th>\n",
       "      <th>dim_name</th>\n",
       "      <th>dim_status</th>\n",
       "      <th>dim_type</th>\n",
       "      <th>dim_comment</th>\n",
       "      <th>dim_source</th>\n",
       "      <th>m_nb_customer</th>\n",
       "      <th>m_cached_payed</th>\n",
       "      <th>m_cached_price</th>\n",
       "      <th>order_per_customer</th>\n",
       "      <th>order_duration</th>\n",
       "    </tr>\n",
       "  </thead>\n",
       "  <tbody>\n",
       "    <tr>\n",
       "      <th>0</th>\n",
       "      <td>55538867</td>\n",
       "      <td>8052</td>\n",
       "      <td>NaN</td>\n",
       "      <td>NaN</td>\n",
       "      <td>NaN</td>\n",
       "      <td>0425716B-EFF4-41CA-AEA1-839104F36833</td>\n",
       "      <td>15327.0</td>\n",
       "      <td>2019-01-12 13:02:17+00:00</td>\n",
       "      <td>2019-01-12 19:58:38+00:00</td>\n",
       "      <td>vincent</td>\n",
       "      <td>CLOSED</td>\n",
       "      <td>1</td>\n",
       "      <td>NaN</td>\n",
       "      <td>Tiller iPAD</td>\n",
       "      <td>1</td>\n",
       "      <td>45.5</td>\n",
       "      <td>45.5</td>\n",
       "      <td>0</td>\n",
       "      <td>416.350000</td>\n",
       "    </tr>\n",
       "    <tr>\n",
       "      <th>1</th>\n",
       "      <td>56035309</td>\n",
       "      <td>8052</td>\n",
       "      <td>NaN</td>\n",
       "      <td>NaN</td>\n",
       "      <td>NaN</td>\n",
       "      <td>75E41FE2-64FF-41D3-954C-A7DE4AA887EF</td>\n",
       "      <td>15327.0</td>\n",
       "      <td>2019-01-16 19:39:09+00:00</td>\n",
       "      <td>2019-01-16 22:10:50+00:00</td>\n",
       "      <td>frere et soeur avec pierre</td>\n",
       "      <td>CLOSED</td>\n",
       "      <td>1</td>\n",
       "      <td>NaN</td>\n",
       "      <td>Tiller iPAD</td>\n",
       "      <td>2</td>\n",
       "      <td>49.8</td>\n",
       "      <td>49.8</td>\n",
       "      <td>0</td>\n",
       "      <td>151.683333</td>\n",
       "    </tr>\n",
       "    <tr>\n",
       "      <th>2</th>\n",
       "      <td>55550051</td>\n",
       "      <td>8052</td>\n",
       "      <td>NaN</td>\n",
       "      <td>NaN</td>\n",
       "      <td>NaN</td>\n",
       "      <td>F6051A05-C9AC-4033-BF72-BB5149B8F439</td>\n",
       "      <td>15327.0</td>\n",
       "      <td>2019-01-12 14:18:46+00:00</td>\n",
       "      <td>2019-01-12 19:50:32+00:00</td>\n",
       "      <td>rachel</td>\n",
       "      <td>CLOSED</td>\n",
       "      <td>1</td>\n",
       "      <td>NaN</td>\n",
       "      <td>Tiller iPAD</td>\n",
       "      <td>1</td>\n",
       "      <td>27.4</td>\n",
       "      <td>27.4</td>\n",
       "      <td>0</td>\n",
       "      <td>331.766667</td>\n",
       "    </tr>\n",
       "    <tr>\n",
       "      <th>3</th>\n",
       "      <td>57000119</td>\n",
       "      <td>8052</td>\n",
       "      <td>NaN</td>\n",
       "      <td>16199.0</td>\n",
       "      <td>NaN</td>\n",
       "      <td>B8BEEC66-1C10-48A0-B4D5-035CB5EEFE62</td>\n",
       "      <td>15327.0</td>\n",
       "      <td>2019-01-24 17:49:12+00:00</td>\n",
       "      <td>2019-01-24 21:58:59+00:00</td>\n",
       "      <td>Groupe PEL</td>\n",
       "      <td>CLOSED</td>\n",
       "      <td>1</td>\n",
       "      <td>NaN</td>\n",
       "      <td>tiller-order</td>\n",
       "      <td>3</td>\n",
       "      <td>60.0</td>\n",
       "      <td>60.0</td>\n",
       "      <td>0</td>\n",
       "      <td>249.783333</td>\n",
       "    </tr>\n",
       "    <tr>\n",
       "      <th>4</th>\n",
       "      <td>55558817</td>\n",
       "      <td>8052</td>\n",
       "      <td>NaN</td>\n",
       "      <td>NaN</td>\n",
       "      <td>NaN</td>\n",
       "      <td>17F0533C-2FF1-4FC5-A50D-12704C7B7A4B</td>\n",
       "      <td>15327.0</td>\n",
       "      <td>2019-01-12 15:25:06+00:00</td>\n",
       "      <td>2019-01-12 19:21:03+00:00</td>\n",
       "      <td>remi et date</td>\n",
       "      <td>CLOSED</td>\n",
       "      <td>1</td>\n",
       "      <td>NaN</td>\n",
       "      <td>Tiller iPAD</td>\n",
       "      <td>2</td>\n",
       "      <td>39.9</td>\n",
       "      <td>39.9</td>\n",
       "      <td>0</td>\n",
       "      <td>235.950000</td>\n",
       "    </tr>\n",
       "    <tr>\n",
       "      <th>...</th>\n",
       "      <td>...</td>\n",
       "      <td>...</td>\n",
       "      <td>...</td>\n",
       "      <td>...</td>\n",
       "      <td>...</td>\n",
       "      <td>...</td>\n",
       "      <td>...</td>\n",
       "      <td>...</td>\n",
       "      <td>...</td>\n",
       "      <td>...</td>\n",
       "      <td>...</td>\n",
       "      <td>...</td>\n",
       "      <td>...</td>\n",
       "      <td>...</td>\n",
       "      <td>...</td>\n",
       "      <td>...</td>\n",
       "      <td>...</td>\n",
       "      <td>...</td>\n",
       "      <td>...</td>\n",
       "    </tr>\n",
       "    <tr>\n",
       "      <th>117299</th>\n",
       "      <td>61630471</td>\n",
       "      <td>4542</td>\n",
       "      <td>NaN</td>\n",
       "      <td>NaN</td>\n",
       "      <td>NaN</td>\n",
       "      <td>C4A0AFD8-FBD7-4740-A48B-4890F46E43E2</td>\n",
       "      <td>7411.0</td>\n",
       "      <td>2019-02-28 13:13:21+00:00</td>\n",
       "      <td>2019-02-28 13:38:45+00:00</td>\n",
       "      <td>NaN</td>\n",
       "      <td>CLOSED</td>\n",
       "      <td>1</td>\n",
       "      <td>NaN</td>\n",
       "      <td>Tiller iPAD</td>\n",
       "      <td>1</td>\n",
       "      <td>23.0</td>\n",
       "      <td>23.0</td>\n",
       "      <td>0</td>\n",
       "      <td>25.400000</td>\n",
       "    </tr>\n",
       "    <tr>\n",
       "      <th>117300</th>\n",
       "      <td>76772730</td>\n",
       "      <td>4542</td>\n",
       "      <td>NaN</td>\n",
       "      <td>NaN</td>\n",
       "      <td>NaN</td>\n",
       "      <td>95A17B0B-22AE-43A1-8BEB-B105BF337655</td>\n",
       "      <td>7411.0</td>\n",
       "      <td>2019-06-11 11:08:01+00:00</td>\n",
       "      <td>2019-06-11 11:10:26+00:00</td>\n",
       "      <td>NaN</td>\n",
       "      <td>CLOSED</td>\n",
       "      <td>1</td>\n",
       "      <td>NaN</td>\n",
       "      <td>Tiller iPAD</td>\n",
       "      <td>1</td>\n",
       "      <td>26.0</td>\n",
       "      <td>26.0</td>\n",
       "      <td>0</td>\n",
       "      <td>2.416667</td>\n",
       "    </tr>\n",
       "    <tr>\n",
       "      <th>117301</th>\n",
       "      <td>77799227</td>\n",
       "      <td>4542</td>\n",
       "      <td>NaN</td>\n",
       "      <td>NaN</td>\n",
       "      <td>NaN</td>\n",
       "      <td>0E5D4843-7EA3-4D9E-9490-EB9717A0220F</td>\n",
       "      <td>7411.0</td>\n",
       "      <td>2019-06-17 10:30:50+00:00</td>\n",
       "      <td>2019-06-17 10:32:45+00:00</td>\n",
       "      <td>NaN</td>\n",
       "      <td>CLOSED</td>\n",
       "      <td>1</td>\n",
       "      <td>NaN</td>\n",
       "      <td>Tiller iPAD</td>\n",
       "      <td>1</td>\n",
       "      <td>29.0</td>\n",
       "      <td>29.0</td>\n",
       "      <td>0</td>\n",
       "      <td>1.916667</td>\n",
       "    </tr>\n",
       "    <tr>\n",
       "      <th>117302</th>\n",
       "      <td>60627160</td>\n",
       "      <td>4542</td>\n",
       "      <td>NaN</td>\n",
       "      <td>NaN</td>\n",
       "      <td>NaN</td>\n",
       "      <td>CE760A3B-4464-462A-AA2C-CCFEB88EEC39</td>\n",
       "      <td>7411.0</td>\n",
       "      <td>2019-02-21 11:50:58+00:00</td>\n",
       "      <td>2019-02-21 11:51:56+00:00</td>\n",
       "      <td>NaN</td>\n",
       "      <td>CLOSED</td>\n",
       "      <td>1</td>\n",
       "      <td>NaN</td>\n",
       "      <td>Tiller iPAD</td>\n",
       "      <td>1</td>\n",
       "      <td>32.0</td>\n",
       "      <td>32.0</td>\n",
       "      <td>0</td>\n",
       "      <td>0.966667</td>\n",
       "    </tr>\n",
       "    <tr>\n",
       "      <th>117303</th>\n",
       "      <td>93223821</td>\n",
       "      <td>4542</td>\n",
       "      <td>NaN</td>\n",
       "      <td>NaN</td>\n",
       "      <td>NaN</td>\n",
       "      <td>F004A307-C7C9-4508-A587-49ED5CF8F156</td>\n",
       "      <td>7411.0</td>\n",
       "      <td>2019-09-18 11:32:35+00:00</td>\n",
       "      <td>2019-09-18 11:39:38+00:00</td>\n",
       "      <td>NaN</td>\n",
       "      <td>CLOSED</td>\n",
       "      <td>1</td>\n",
       "      <td>NaN</td>\n",
       "      <td>Tiller iPAD</td>\n",
       "      <td>1</td>\n",
       "      <td>17.0</td>\n",
       "      <td>17.0</td>\n",
       "      <td>0</td>\n",
       "      <td>7.050000</td>\n",
       "    </tr>\n",
       "  </tbody>\n",
       "</table>\n",
       "<p>116605 rows × 19 columns</p>\n",
       "</div>"
      ],
      "text/plain": [
       "        id_order  id_store  id_table  id_waiter  id_customer  \\\n",
       "0       55538867      8052       NaN        NaN          NaN   \n",
       "1       56035309      8052       NaN        NaN          NaN   \n",
       "2       55550051      8052       NaN        NaN          NaN   \n",
       "3       57000119      8052       NaN    16199.0          NaN   \n",
       "4       55558817      8052       NaN        NaN          NaN   \n",
       "...          ...       ...       ...        ...          ...   \n",
       "117299  61630471      4542       NaN        NaN          NaN   \n",
       "117300  76772730      4542       NaN        NaN          NaN   \n",
       "117301  77799227      4542       NaN        NaN          NaN   \n",
       "117302  60627160      4542       NaN        NaN          NaN   \n",
       "117303  93223821      4542       NaN        NaN          NaN   \n",
       "\n",
       "                                 id_external  id_device  \\\n",
       "0       0425716B-EFF4-41CA-AEA1-839104F36833    15327.0   \n",
       "1       75E41FE2-64FF-41D3-954C-A7DE4AA887EF    15327.0   \n",
       "2       F6051A05-C9AC-4033-BF72-BB5149B8F439    15327.0   \n",
       "3       B8BEEC66-1C10-48A0-B4D5-035CB5EEFE62    15327.0   \n",
       "4       17F0533C-2FF1-4FC5-A50D-12704C7B7A4B    15327.0   \n",
       "...                                      ...        ...   \n",
       "117299  C4A0AFD8-FBD7-4740-A48B-4890F46E43E2     7411.0   \n",
       "117300  95A17B0B-22AE-43A1-8BEB-B105BF337655     7411.0   \n",
       "117301  0E5D4843-7EA3-4D9E-9490-EB9717A0220F     7411.0   \n",
       "117302  CE760A3B-4464-462A-AA2C-CCFEB88EEC39     7411.0   \n",
       "117303  F004A307-C7C9-4508-A587-49ED5CF8F156     7411.0   \n",
       "\n",
       "                     date_opened               date_closed  \\\n",
       "0      2019-01-12 13:02:17+00:00 2019-01-12 19:58:38+00:00   \n",
       "1      2019-01-16 19:39:09+00:00 2019-01-16 22:10:50+00:00   \n",
       "2      2019-01-12 14:18:46+00:00 2019-01-12 19:50:32+00:00   \n",
       "3      2019-01-24 17:49:12+00:00 2019-01-24 21:58:59+00:00   \n",
       "4      2019-01-12 15:25:06+00:00 2019-01-12 19:21:03+00:00   \n",
       "...                          ...                       ...   \n",
       "117299 2019-02-28 13:13:21+00:00 2019-02-28 13:38:45+00:00   \n",
       "117300 2019-06-11 11:08:01+00:00 2019-06-11 11:10:26+00:00   \n",
       "117301 2019-06-17 10:30:50+00:00 2019-06-17 10:32:45+00:00   \n",
       "117302 2019-02-21 11:50:58+00:00 2019-02-21 11:51:56+00:00   \n",
       "117303 2019-09-18 11:32:35+00:00 2019-09-18 11:39:38+00:00   \n",
       "\n",
       "                          dim_name dim_status  dim_type dim_comment  \\\n",
       "0                          vincent     CLOSED         1         NaN   \n",
       "1       frere et soeur avec pierre     CLOSED         1         NaN   \n",
       "2                           rachel     CLOSED         1         NaN   \n",
       "3                       Groupe PEL     CLOSED         1         NaN   \n",
       "4                     remi et date     CLOSED         1         NaN   \n",
       "...                            ...        ...       ...         ...   \n",
       "117299                         NaN     CLOSED         1         NaN   \n",
       "117300                         NaN     CLOSED         1         NaN   \n",
       "117301                         NaN     CLOSED         1         NaN   \n",
       "117302                         NaN     CLOSED         1         NaN   \n",
       "117303                         NaN     CLOSED         1         NaN   \n",
       "\n",
       "          dim_source  m_nb_customer  m_cached_payed  m_cached_price  \\\n",
       "0        Tiller iPAD              1            45.5            45.5   \n",
       "1        Tiller iPAD              2            49.8            49.8   \n",
       "2        Tiller iPAD              1            27.4            27.4   \n",
       "3       tiller-order              3            60.0            60.0   \n",
       "4        Tiller iPAD              2            39.9            39.9   \n",
       "...              ...            ...             ...             ...   \n",
       "117299   Tiller iPAD              1            23.0            23.0   \n",
       "117300   Tiller iPAD              1            26.0            26.0   \n",
       "117301   Tiller iPAD              1            29.0            29.0   \n",
       "117302   Tiller iPAD              1            32.0            32.0   \n",
       "117303   Tiller iPAD              1            17.0            17.0   \n",
       "\n",
       "        order_per_customer  order_duration  \n",
       "0                        0      416.350000  \n",
       "1                        0      151.683333  \n",
       "2                        0      331.766667  \n",
       "3                        0      249.783333  \n",
       "4                        0      235.950000  \n",
       "...                    ...             ...  \n",
       "117299                   0       25.400000  \n",
       "117300                   0        2.416667  \n",
       "117301                   0        1.916667  \n",
       "117302                   0        0.966667  \n",
       "117303                   0        7.050000  \n",
       "\n",
       "[116605 rows x 19 columns]"
      ]
     },
     "execution_count": 181,
     "metadata": {},
     "output_type": "execute_result"
    }
   ],
   "source": [
    "#Let's try it :-)\n",
    "#By using .loc, you are explicitly telling pandas to modify the original DataFrame. \n",
    "\n",
    "df['date_opened'] = pd.to_datetime(df['date_opened'])\n",
    "df['date_closed'] = pd.to_datetime(df['date_closed'])\n",
    "df"
   ]
  },
  {
   "cell_type": "markdown",
   "metadata": {
    "id": "GZs8yHCSCpuO",
    "lang": "en"
   },
   "source": [
    "r) Run the code below to calculate the time spent between the open and close date of an order in minutes."
   ]
  },
  {
   "cell_type": "code",
   "execution_count": 185,
   "metadata": {
    "ExecuteTime": {
     "end_time": "2021-12-05T17:34:35.565507Z",
     "start_time": "2021-12-05T17:34:35.558317Z"
    },
    "id": "HUNn5MUnq-xI"
   },
   "outputs": [
    {
     "name": "stderr",
     "output_type": "stream",
     "text": [
      "C:\\Users\\p.nguyen\\AppData\\Local\\Temp\\ipykernel_26860\\2932671850.py:1: SettingWithCopyWarning: \n",
      "A value is trying to be set on a copy of a slice from a DataFrame.\n",
      "Try using .loc[row_indexer,col_indexer] = value instead\n",
      "\n",
      "See the caveats in the documentation: https://pandas.pydata.org/pandas-docs/stable/user_guide/indexing.html#returning-a-view-versus-a-copy\n",
      "  df[\"order_duration\"] = (df.date_closed - df.date_opened).dt.total_seconds() / 60\n"
     ]
    },
    {
     "data": {
      "text/html": [
       "<div>\n",
       "<style scoped>\n",
       "    .dataframe tbody tr th:only-of-type {\n",
       "        vertical-align: middle;\n",
       "    }\n",
       "\n",
       "    .dataframe tbody tr th {\n",
       "        vertical-align: top;\n",
       "    }\n",
       "\n",
       "    .dataframe thead th {\n",
       "        text-align: right;\n",
       "    }\n",
       "</style>\n",
       "<table border=\"1\" class=\"dataframe\">\n",
       "  <thead>\n",
       "    <tr style=\"text-align: right;\">\n",
       "      <th></th>\n",
       "      <th>id_order</th>\n",
       "      <th>id_store</th>\n",
       "      <th>id_table</th>\n",
       "      <th>id_waiter</th>\n",
       "      <th>id_customer</th>\n",
       "      <th>id_external</th>\n",
       "      <th>id_device</th>\n",
       "      <th>date_opened</th>\n",
       "      <th>date_closed</th>\n",
       "      <th>dim_name</th>\n",
       "      <th>dim_status</th>\n",
       "      <th>dim_type</th>\n",
       "      <th>dim_comment</th>\n",
       "      <th>dim_source</th>\n",
       "      <th>m_nb_customer</th>\n",
       "      <th>m_cached_payed</th>\n",
       "      <th>m_cached_price</th>\n",
       "      <th>order_per_customer</th>\n",
       "      <th>order_duration</th>\n",
       "    </tr>\n",
       "  </thead>\n",
       "  <tbody>\n",
       "    <tr>\n",
       "      <th>0</th>\n",
       "      <td>55538867</td>\n",
       "      <td>8052</td>\n",
       "      <td>NaN</td>\n",
       "      <td>NaN</td>\n",
       "      <td>NaN</td>\n",
       "      <td>0425716B-EFF4-41CA-AEA1-839104F36833</td>\n",
       "      <td>15327.0</td>\n",
       "      <td>2019-01-12 13:02:17+00:00</td>\n",
       "      <td>2019-01-12 19:58:38+00:00</td>\n",
       "      <td>vincent</td>\n",
       "      <td>CLOSED</td>\n",
       "      <td>1</td>\n",
       "      <td>NaN</td>\n",
       "      <td>Tiller iPAD</td>\n",
       "      <td>1</td>\n",
       "      <td>45.5</td>\n",
       "      <td>45.5</td>\n",
       "      <td>0</td>\n",
       "      <td>416.350000</td>\n",
       "    </tr>\n",
       "    <tr>\n",
       "      <th>1</th>\n",
       "      <td>56035309</td>\n",
       "      <td>8052</td>\n",
       "      <td>NaN</td>\n",
       "      <td>NaN</td>\n",
       "      <td>NaN</td>\n",
       "      <td>75E41FE2-64FF-41D3-954C-A7DE4AA887EF</td>\n",
       "      <td>15327.0</td>\n",
       "      <td>2019-01-16 19:39:09+00:00</td>\n",
       "      <td>2019-01-16 22:10:50+00:00</td>\n",
       "      <td>frere et soeur avec pierre</td>\n",
       "      <td>CLOSED</td>\n",
       "      <td>1</td>\n",
       "      <td>NaN</td>\n",
       "      <td>Tiller iPAD</td>\n",
       "      <td>2</td>\n",
       "      <td>49.8</td>\n",
       "      <td>49.8</td>\n",
       "      <td>0</td>\n",
       "      <td>151.683333</td>\n",
       "    </tr>\n",
       "    <tr>\n",
       "      <th>2</th>\n",
       "      <td>55550051</td>\n",
       "      <td>8052</td>\n",
       "      <td>NaN</td>\n",
       "      <td>NaN</td>\n",
       "      <td>NaN</td>\n",
       "      <td>F6051A05-C9AC-4033-BF72-BB5149B8F439</td>\n",
       "      <td>15327.0</td>\n",
       "      <td>2019-01-12 14:18:46+00:00</td>\n",
       "      <td>2019-01-12 19:50:32+00:00</td>\n",
       "      <td>rachel</td>\n",
       "      <td>CLOSED</td>\n",
       "      <td>1</td>\n",
       "      <td>NaN</td>\n",
       "      <td>Tiller iPAD</td>\n",
       "      <td>1</td>\n",
       "      <td>27.4</td>\n",
       "      <td>27.4</td>\n",
       "      <td>0</td>\n",
       "      <td>331.766667</td>\n",
       "    </tr>\n",
       "  </tbody>\n",
       "</table>\n",
       "</div>"
      ],
      "text/plain": [
       "   id_order  id_store  id_table  id_waiter  id_customer  \\\n",
       "0  55538867      8052       NaN        NaN          NaN   \n",
       "1  56035309      8052       NaN        NaN          NaN   \n",
       "2  55550051      8052       NaN        NaN          NaN   \n",
       "\n",
       "                            id_external  id_device               date_opened  \\\n",
       "0  0425716B-EFF4-41CA-AEA1-839104F36833    15327.0 2019-01-12 13:02:17+00:00   \n",
       "1  75E41FE2-64FF-41D3-954C-A7DE4AA887EF    15327.0 2019-01-16 19:39:09+00:00   \n",
       "2  F6051A05-C9AC-4033-BF72-BB5149B8F439    15327.0 2019-01-12 14:18:46+00:00   \n",
       "\n",
       "                date_closed                    dim_name dim_status  dim_type  \\\n",
       "0 2019-01-12 19:58:38+00:00                     vincent     CLOSED         1   \n",
       "1 2019-01-16 22:10:50+00:00  frere et soeur avec pierre     CLOSED         1   \n",
       "2 2019-01-12 19:50:32+00:00                      rachel     CLOSED         1   \n",
       "\n",
       "  dim_comment   dim_source  m_nb_customer  m_cached_payed  m_cached_price  \\\n",
       "0         NaN  Tiller iPAD              1            45.5            45.5   \n",
       "1         NaN  Tiller iPAD              2            49.8            49.8   \n",
       "2         NaN  Tiller iPAD              1            27.4            27.4   \n",
       "\n",
       "   order_per_customer  order_duration  \n",
       "0                   0      416.350000  \n",
       "1                   0      151.683333  \n",
       "2                   0      331.766667  "
      ]
     },
     "execution_count": 185,
     "metadata": {},
     "output_type": "execute_result"
    }
   ],
   "source": [
    "df[\"order_duration\"] = (df.date_closed - df.date_opened).dt.total_seconds() / 60\n",
    "df.head(3)"
   ]
  },
  {
   "cell_type": "code",
   "execution_count": 183,
   "metadata": {
    "ExecuteTime": {
     "end_time": "2021-12-05T17:34:35.565507Z",
     "start_time": "2021-12-05T17:34:35.558317Z"
    },
    "id": "HUNn5MUnq-xI"
   },
   "outputs": [
    {
     "name": "stderr",
     "output_type": "stream",
     "text": [
      "C:\\Users\\p.nguyen\\AppData\\Local\\Temp\\ipykernel_26860\\4293396501.py:2: SettingWithCopyWarning: \n",
      "A value is trying to be set on a copy of a slice from a DataFrame.\n",
      "Try using .loc[row_indexer,col_indexer] = value instead\n",
      "\n",
      "See the caveats in the documentation: https://pandas.pydata.org/pandas-docs/stable/user_guide/indexing.html#returning-a-view-versus-a-copy\n",
      "  df[\"order_duration\"] = (df.date_closed - df.date_opened).dt.total_seconds() / 60\n"
     ]
    }
   ],
   "source": [
    "#Let's try it\n",
    "df[\"order_duration\"] = (df.date_closed - df.date_opened).dt.total_seconds() / 60\n"
   ]
  },
  {
   "cell_type": "markdown",
   "metadata": {
    "id": "8FNDVMEjCpuP",
    "lang": "en"
   },
   "source": [
    "s) Calculate the average time at the table for each of the restaurants."
   ]
  },
  {
   "cell_type": "code",
   "execution_count": null,
   "metadata": {
    "ExecuteTime": {
     "end_time": "2021-12-05T17:35:08.547003Z",
     "start_time": "2021-12-05T17:35:08.529944Z"
    },
    "id": "cCj4sDxyq-xJ"
   },
   "outputs": [],
   "source": []
  },
  {
   "cell_type": "code",
   "execution_count": 190,
   "metadata": {},
   "outputs": [
    {
     "data": {
      "text/html": [
       "<div>\n",
       "<style scoped>\n",
       "    .dataframe tbody tr th:only-of-type {\n",
       "        vertical-align: middle;\n",
       "    }\n",
       "\n",
       "    .dataframe tbody tr th {\n",
       "        vertical-align: top;\n",
       "    }\n",
       "\n",
       "    .dataframe thead th {\n",
       "        text-align: right;\n",
       "    }\n",
       "</style>\n",
       "<table border=\"1\" class=\"dataframe\">\n",
       "  <thead>\n",
       "    <tr style=\"text-align: right;\">\n",
       "      <th></th>\n",
       "      <th>id_store</th>\n",
       "      <th>id_table</th>\n",
       "      <th>order_duration</th>\n",
       "    </tr>\n",
       "  </thead>\n",
       "  <tbody>\n",
       "    <tr>\n",
       "      <th>0</th>\n",
       "      <td>360</td>\n",
       "      <td>3199.0</td>\n",
       "      <td>89.644592</td>\n",
       "    </tr>\n",
       "    <tr>\n",
       "      <th>1</th>\n",
       "      <td>360</td>\n",
       "      <td>3200.0</td>\n",
       "      <td>100.335584</td>\n",
       "    </tr>\n",
       "    <tr>\n",
       "      <th>2</th>\n",
       "      <td>360</td>\n",
       "      <td>3201.0</td>\n",
       "      <td>99.484146</td>\n",
       "    </tr>\n",
       "    <tr>\n",
       "      <th>3</th>\n",
       "      <td>360</td>\n",
       "      <td>3202.0</td>\n",
       "      <td>90.954392</td>\n",
       "    </tr>\n",
       "    <tr>\n",
       "      <th>4</th>\n",
       "      <td>360</td>\n",
       "      <td>3203.0</td>\n",
       "      <td>83.507494</td>\n",
       "    </tr>\n",
       "    <tr>\n",
       "      <th>...</th>\n",
       "      <td>...</td>\n",
       "      <td>...</td>\n",
       "      <td>...</td>\n",
       "    </tr>\n",
       "    <tr>\n",
       "      <th>92</th>\n",
       "      <td>9084</td>\n",
       "      <td>288078.0</td>\n",
       "      <td>143.523783</td>\n",
       "    </tr>\n",
       "    <tr>\n",
       "      <th>93</th>\n",
       "      <td>9084</td>\n",
       "      <td>288080.0</td>\n",
       "      <td>130.499383</td>\n",
       "    </tr>\n",
       "    <tr>\n",
       "      <th>94</th>\n",
       "      <td>9084</td>\n",
       "      <td>288081.0</td>\n",
       "      <td>121.558796</td>\n",
       "    </tr>\n",
       "    <tr>\n",
       "      <th>95</th>\n",
       "      <td>9084</td>\n",
       "      <td>288082.0</td>\n",
       "      <td>128.523718</td>\n",
       "    </tr>\n",
       "    <tr>\n",
       "      <th>96</th>\n",
       "      <td>9084</td>\n",
       "      <td>288083.0</td>\n",
       "      <td>149.903333</td>\n",
       "    </tr>\n",
       "  </tbody>\n",
       "</table>\n",
       "<p>97 rows × 3 columns</p>\n",
       "</div>"
      ],
      "text/plain": [
       "    id_store  id_table  order_duration\n",
       "0        360    3199.0       89.644592\n",
       "1        360    3200.0      100.335584\n",
       "2        360    3201.0       99.484146\n",
       "3        360    3202.0       90.954392\n",
       "4        360    3203.0       83.507494\n",
       "..       ...       ...             ...\n",
       "92      9084  288078.0      143.523783\n",
       "93      9084  288080.0      130.499383\n",
       "94      9084  288081.0      121.558796\n",
       "95      9084  288082.0      128.523718\n",
       "96      9084  288083.0      149.903333\n",
       "\n",
       "[97 rows x 3 columns]"
      ]
     },
     "execution_count": 190,
     "metadata": {},
     "output_type": "execute_result"
    }
   ],
   "source": [
    "#Let's try it :-)\n",
    "# dont forget []\n",
    "avg_time = df.groupby(['id_store', 'id_table'])['order_duration'].mean().reset_index()\n",
    "avg_time"
   ]
  },
  {
   "cell_type": "markdown",
   "metadata": {
    "id": "Sb-jjDTxCpuP",
    "lang": "en"
   },
   "source": [
    "It seems that there are no fast food type restaurants! Open order durations are relatively short."
   ]
  },
  {
   "cell_type": "markdown",
   "metadata": {
    "id": "wZw8HmyICpuP",
    "lang": "en"
   },
   "source": [
    "### Join operations"
   ]
  },
  {
   "cell_type": "markdown",
   "metadata": {
    "id": "4QOibFuHCpuP",
    "lang": "en"
   },
   "source": [
    "t) Download data from [order_line](https://drive.google.com/file/d/1G7Jbq_m-tJrHRhL-44j8XFOVs_zPil_9/view?usp=sharing) and [store_data](https://drive.google.com/file/d/1W032PaySL7gouyX3bEKgndtm6qVta7Qp/view?usp=sharing). Load them in Python."
   ]
  },
  {
   "cell_type": "code",
   "execution_count": null,
   "metadata": {
    "ExecuteTime": {
     "end_time": "2021-12-05T16:57:01.438479Z",
     "start_time": "2021-12-05T16:57:00.204091Z"
    },
    "id": "-LeTQt0lq-xG"
   },
   "outputs": [],
   "source": []
  },
  {
   "cell_type": "code",
   "execution_count": 203,
   "metadata": {},
   "outputs": [
    {
     "data": {
      "text/html": [
       "<div>\n",
       "<style scoped>\n",
       "    .dataframe tbody tr th:only-of-type {\n",
       "        vertical-align: middle;\n",
       "    }\n",
       "\n",
       "    .dataframe tbody tr th {\n",
       "        vertical-align: top;\n",
       "    }\n",
       "\n",
       "    .dataframe thead th {\n",
       "        text-align: right;\n",
       "    }\n",
       "</style>\n",
       "<table border=\"1\" class=\"dataframe\">\n",
       "  <thead>\n",
       "    <tr style=\"text-align: right;\">\n",
       "      <th></th>\n",
       "      <th>id_store</th>\n",
       "      <th>date_created</th>\n",
       "      <th>dim_zipcode</th>\n",
       "      <th>dim_country</th>\n",
       "      <th>dim_currency</th>\n",
       "    </tr>\n",
       "  </thead>\n",
       "  <tbody>\n",
       "    <tr>\n",
       "      <th>0</th>\n",
       "      <td>2576</td>\n",
       "      <td>2016-07-12 16:15:31+00:00</td>\n",
       "      <td>34120</td>\n",
       "      <td>FR</td>\n",
       "      <td>EUR</td>\n",
       "    </tr>\n",
       "    <tr>\n",
       "      <th>1</th>\n",
       "      <td>2538</td>\n",
       "      <td>2016-07-07 16:35:44+00:00</td>\n",
       "      <td>47800</td>\n",
       "      <td>FR</td>\n",
       "      <td>EUR</td>\n",
       "    </tr>\n",
       "    <tr>\n",
       "      <th>2</th>\n",
       "      <td>2468</td>\n",
       "      <td>2016-06-30 12:44:25+00:00</td>\n",
       "      <td>06470</td>\n",
       "      <td>FR</td>\n",
       "      <td>EUR</td>\n",
       "    </tr>\n",
       "    <tr>\n",
       "      <th>3</th>\n",
       "      <td>2375</td>\n",
       "      <td>2016-06-21 12:52:36+00:00</td>\n",
       "      <td>76000</td>\n",
       "      <td>FR</td>\n",
       "      <td>EUR</td>\n",
       "    </tr>\n",
       "    <tr>\n",
       "      <th>4</th>\n",
       "      <td>2328</td>\n",
       "      <td>2016-06-16 13:59:52+00:00</td>\n",
       "      <td>75018</td>\n",
       "      <td>FR</td>\n",
       "      <td>EUR</td>\n",
       "    </tr>\n",
       "    <tr>\n",
       "      <th>...</th>\n",
       "      <td>...</td>\n",
       "      <td>...</td>\n",
       "      <td>...</td>\n",
       "      <td>...</td>\n",
       "      <td>...</td>\n",
       "    </tr>\n",
       "    <tr>\n",
       "      <th>495</th>\n",
       "      <td>11412</td>\n",
       "      <td>2019-11-11 17:38:57+00:00</td>\n",
       "      <td>7500</td>\n",
       "      <td>CH</td>\n",
       "      <td>CHF</td>\n",
       "    </tr>\n",
       "    <tr>\n",
       "      <th>496</th>\n",
       "      <td>3453</td>\n",
       "      <td>2016-12-05 17:40:56+00:00</td>\n",
       "      <td>Abidjan</td>\n",
       "      <td>CI</td>\n",
       "      <td>XOF</td>\n",
       "    </tr>\n",
       "    <tr>\n",
       "      <th>497</th>\n",
       "      <td>1070</td>\n",
       "      <td>2016-01-15 08:44:03+00:00</td>\n",
       "      <td>01 BP</td>\n",
       "      <td>CI</td>\n",
       "      <td>XOF</td>\n",
       "    </tr>\n",
       "    <tr>\n",
       "      <th>498</th>\n",
       "      <td>425</td>\n",
       "      <td>2015-08-28 18:58:25+00:00</td>\n",
       "      <td>2687</td>\n",
       "      <td>GN</td>\n",
       "      <td>GNF</td>\n",
       "    </tr>\n",
       "    <tr>\n",
       "      <th>499</th>\n",
       "      <td>10009</td>\n",
       "      <td>2019-06-06 14:35:42+00:00</td>\n",
       "      <td>4059</td>\n",
       "      <td>CH</td>\n",
       "      <td>CHF</td>\n",
       "    </tr>\n",
       "  </tbody>\n",
       "</table>\n",
       "<p>500 rows × 5 columns</p>\n",
       "</div>"
      ],
      "text/plain": [
       "     id_store               date_created dim_zipcode dim_country dim_currency\n",
       "0        2576  2016-07-12 16:15:31+00:00       34120          FR          EUR\n",
       "1        2538  2016-07-07 16:35:44+00:00       47800          FR          EUR\n",
       "2        2468  2016-06-30 12:44:25+00:00       06470          FR          EUR\n",
       "3        2375  2016-06-21 12:52:36+00:00       76000          FR          EUR\n",
       "4        2328  2016-06-16 13:59:52+00:00       75018          FR          EUR\n",
       "..        ...                        ...         ...         ...          ...\n",
       "495     11412  2019-11-11 17:38:57+00:00        7500          CH          CHF\n",
       "496      3453  2016-12-05 17:40:56+00:00     Abidjan          CI          XOF\n",
       "497      1070  2016-01-15 08:44:03+00:00       01 BP          CI          XOF\n",
       "498       425  2015-08-28 18:58:25+00:00        2687          GN          GNF\n",
       "499     10009  2019-06-06 14:35:42+00:00        4059          CH          CHF\n",
       "\n",
       "[500 rows x 5 columns]"
      ]
     },
     "execution_count": 203,
     "metadata": {},
     "output_type": "execute_result"
    }
   ],
   "source": [
    "#Let's try it :-)\n",
    "df_store_data = pd.read_csv('./Tiller_store_data.csv')\n",
    "df_store_data"
   ]
  },
  {
   "cell_type": "code",
   "execution_count": 195,
   "metadata": {},
   "outputs": [
    {
     "data": {
      "text/html": [
       "<div>\n",
       "<style scoped>\n",
       "    .dataframe tbody tr th:only-of-type {\n",
       "        vertical-align: middle;\n",
       "    }\n",
       "\n",
       "    .dataframe tbody tr th {\n",
       "        vertical-align: top;\n",
       "    }\n",
       "\n",
       "    .dataframe thead th {\n",
       "        text-align: right;\n",
       "    }\n",
       "</style>\n",
       "<table border=\"1\" class=\"dataframe\">\n",
       "  <thead>\n",
       "    <tr style=\"text-align: right;\">\n",
       "      <th></th>\n",
       "      <th>id_order_line</th>\n",
       "      <th>id_order</th>\n",
       "      <th>date_opended</th>\n",
       "      <th>date_created</th>\n",
       "      <th>m_quantity</th>\n",
       "      <th>m_unit_price</th>\n",
       "      <th>m_unit_price_exc_vat</th>\n",
       "      <th>m_total_price_inc_vat</th>\n",
       "      <th>m_total_price_exc_vat</th>\n",
       "      <th>m_tax_percent</th>\n",
       "      <th>m_discount_amount</th>\n",
       "      <th>dim_type</th>\n",
       "      <th>dim_category</th>\n",
       "      <th>dim_name</th>\n",
       "      <th>dim_status</th>\n",
       "      <th>m_nb_payed</th>\n",
       "      <th>dim_feature_type</th>\n",
       "      <th>dim_unit_measure</th>\n",
       "      <th>dim_unit_measure_display</th>\n",
       "    </tr>\n",
       "  </thead>\n",
       "  <tbody>\n",
       "    <tr>\n",
       "      <th>0</th>\n",
       "      <td>626609716</td>\n",
       "      <td>139058632</td>\n",
       "      <td>2020-08-25 17:27:14 UTC</td>\n",
       "      <td>2020-08-25 17:27:25 UTC</td>\n",
       "      <td>1.0</td>\n",
       "      <td>15.0</td>\n",
       "      <td>12.500000</td>\n",
       "      <td>15.0</td>\n",
       "      <td>12.500000</td>\n",
       "      <td>0.2</td>\n",
       "      <td>0.0</td>\n",
       "      <td>PRODUCT</td>\n",
       "      <td>VINS ROUGES</td>\n",
       "      <td>TWIST AGAIN 2018 VDF - YOANN ROMAGNE</td>\n",
       "      <td>DONE</td>\n",
       "      <td>0</td>\n",
       "      <td>NaN</td>\n",
       "      <td>UNIT</td>\n",
       "      <td>UNIT</td>\n",
       "    </tr>\n",
       "    <tr>\n",
       "      <th>1</th>\n",
       "      <td>403167240</td>\n",
       "      <td>94770355</td>\n",
       "      <td>2019-09-27 07:47:14 UTC</td>\n",
       "      <td>2019-09-27 07:47:18 UTC</td>\n",
       "      <td>1.0</td>\n",
       "      <td>25.9</td>\n",
       "      <td>21.583333</td>\n",
       "      <td>25.9</td>\n",
       "      <td>21.583333</td>\n",
       "      <td>0.2</td>\n",
       "      <td>0.0</td>\n",
       "      <td>PRODUCT</td>\n",
       "      <td>LIQUIDES 50ML AUTRES</td>\n",
       "      <td>MOMMY CAKE</td>\n",
       "      <td>DONE</td>\n",
       "      <td>0</td>\n",
       "      <td>NaN</td>\n",
       "      <td>UNIT</td>\n",
       "      <td>UNIT</td>\n",
       "    </tr>\n",
       "  </tbody>\n",
       "</table>\n",
       "</div>"
      ],
      "text/plain": [
       "   id_order_line   id_order             date_opended             date_created  \\\n",
       "0      626609716  139058632  2020-08-25 17:27:14 UTC  2020-08-25 17:27:25 UTC   \n",
       "1      403167240   94770355  2019-09-27 07:47:14 UTC  2019-09-27 07:47:18 UTC   \n",
       "\n",
       "   m_quantity  m_unit_price  m_unit_price_exc_vat  m_total_price_inc_vat  \\\n",
       "0         1.0          15.0             12.500000                   15.0   \n",
       "1         1.0          25.9             21.583333                   25.9   \n",
       "\n",
       "   m_total_price_exc_vat  m_tax_percent  m_discount_amount dim_type  \\\n",
       "0              12.500000            0.2                0.0  PRODUCT   \n",
       "1              21.583333            0.2                0.0  PRODUCT   \n",
       "\n",
       "           dim_category                              dim_name dim_status  \\\n",
       "0           VINS ROUGES  TWIST AGAIN 2018 VDF - YOANN ROMAGNE       DONE   \n",
       "1  LIQUIDES 50ML AUTRES                            MOMMY CAKE       DONE   \n",
       "\n",
       "   m_nb_payed dim_feature_type dim_unit_measure dim_unit_measure_display  \n",
       "0           0              NaN             UNIT                     UNIT  \n",
       "1           0              NaN             UNIT                     UNIT  "
      ]
     },
     "execution_count": 195,
     "metadata": {},
     "output_type": "execute_result"
    }
   ],
   "source": [
    "#Let's try it :-)\n",
    "df_order_line = pd.read_csv('./Tiller_order_line.csv')\n",
    "\n",
    "df_order_line.head(2)"
   ]
  },
  {
   "cell_type": "markdown",
   "metadata": {
    "id": "1eIGeS1jCpuP",
    "lang": "en"
   },
   "source": [
    "u) What new information do you have access to thanks to this data?"
   ]
  },
  {
   "cell_type": "code",
   "execution_count": null,
   "metadata": {
    "ExecuteTime": {
     "end_time": "2021-12-05T16:58:04.620061Z",
     "start_time": "2021-12-05T16:58:04.611443Z"
    },
    "id": "gq4y3luXq-xH"
   },
   "outputs": [],
   "source": []
  },
  {
   "cell_type": "code",
   "execution_count": 196,
   "metadata": {},
   "outputs": [
    {
     "data": {
      "text/plain": [
       "Index(['id_order_line', 'id_order', 'date_opended', 'date_created',\n",
       "       'm_quantity', 'm_unit_price', 'm_unit_price_exc_vat',\n",
       "       'm_total_price_inc_vat', 'm_total_price_exc_vat', 'm_tax_percent',\n",
       "       'm_discount_amount', 'dim_type', 'dim_category', 'dim_name',\n",
       "       'dim_status', 'm_nb_payed', 'dim_feature_type', 'dim_unit_measure',\n",
       "       'dim_unit_measure_display'],\n",
       "      dtype='object')"
      ]
     },
     "execution_count": 196,
     "metadata": {},
     "output_type": "execute_result"
    }
   ],
   "source": [
    "#Let's try it :-)\n",
    "df_order_line.keys()"
   ]
  },
  {
   "cell_type": "code",
   "execution_count": 197,
   "metadata": {},
   "outputs": [
    {
     "data": {
      "text/plain": [
       "Index(['id_store', 'date_created', 'dim_zipcode', 'dim_country',\n",
       "       'dim_currency'],\n",
       "      dtype='object')"
      ]
     },
     "execution_count": 197,
     "metadata": {},
     "output_type": "execute_result"
    }
   ],
   "source": [
    "#Let's try it :-)\n",
    "df_store_data.keys()"
   ]
  },
  {
   "cell_type": "markdown",
   "metadata": {
    "id": "GMoPXaqTCpuQ",
    "lang": "en"
   },
   "source": [
    "v) How many orders were placed in the 2nd arrondissement of Paris? It will take merging store_data with the seed data to answer it."
   ]
  },
  {
   "cell_type": "code",
   "execution_count": null,
   "metadata": {
    "ExecuteTime": {
     "end_time": "2021-12-05T17:01:32.347122Z",
     "start_time": "2021-12-05T17:01:32.204026Z"
    },
    "id": "EQkdLlUMq-xH"
   },
   "outputs": [],
   "source": []
  },
  {
   "cell_type": "code",
   "execution_count": 209,
   "metadata": {},
   "outputs": [
    {
     "data": {
      "text/html": [
       "<div>\n",
       "<style scoped>\n",
       "    .dataframe tbody tr th:only-of-type {\n",
       "        vertical-align: middle;\n",
       "    }\n",
       "\n",
       "    .dataframe tbody tr th {\n",
       "        vertical-align: top;\n",
       "    }\n",
       "\n",
       "    .dataframe thead th {\n",
       "        text-align: right;\n",
       "    }\n",
       "</style>\n",
       "<table border=\"1\" class=\"dataframe\">\n",
       "  <thead>\n",
       "    <tr style=\"text-align: right;\">\n",
       "      <th></th>\n",
       "      <th>dim_zipcode</th>\n",
       "      <th>orders</th>\n",
       "    </tr>\n",
       "  </thead>\n",
       "  <tbody>\n",
       "    <tr>\n",
       "      <th>0</th>\n",
       "      <td>75001</td>\n",
       "      <td>57224</td>\n",
       "    </tr>\n",
       "    <tr>\n",
       "      <th>1</th>\n",
       "      <td>75002</td>\n",
       "      <td>59381</td>\n",
       "    </tr>\n",
       "  </tbody>\n",
       "</table>\n",
       "</div>"
      ],
      "text/plain": [
       "  dim_zipcode  orders\n",
       "0       75001   57224\n",
       "1       75002   59381"
      ]
     },
     "execution_count": 209,
     "metadata": {},
     "output_type": "execute_result"
    }
   ],
   "source": [
    "#Let's try it :-)\n",
    "#zip code  2nd arrondissement of Paris is 75002.\n",
    "df_merged = pd.merge(df, df_store_data, on='id_store', how='left')\n",
    "df_merged.groupby('dim_zipcode').size().reset_index(name='orders')\n"
   ]
  },
  {
   "cell_type": "markdown",
   "metadata": {
    "id": "tr62q1pSCpuQ",
    "lang": "en"
   },
   "source": [
    "w) Take restaurant 1796. Its average order time was very short.\n",
    "\n",
    "Show the most ordered items in this restaurant. To do this keep only the id_store and id_order columns of order_data and the id_order, id_order_line and dim_name columns of order_line.\n",
    "\n",
    "Be careful, the dim_name column exists both in order_data and in order_line."
   ]
  },
  {
   "cell_type": "code",
   "execution_count": null,
   "metadata": {
    "id": "ggr_eaelq-xI"
   },
   "outputs": [],
   "source": []
  },
  {
   "cell_type": "code",
   "execution_count": 227,
   "metadata": {},
   "outputs": [],
   "source": [
    "#Let's try it :-)\n",
    "#keep only the id_store and id_order columns of order_data \n",
    "df_order_data_reduced = df[['id_store', 'id_order']]\n",
    "\n",
    "df_order_data_reduced\n",
    "#the id_order, id_order_line and dim_name columns of order_line\n",
    "df_order_line_reduced = df_order_line[['id_order', 'id_order_line', 'dim_name']]\n",
    "df_order_line_reduced\n",
    "\n",
    "df_merged = pd.merge(df_order_data_reduced,df_order_line_reduced,on='id_order',how='left')\n",
    "df_merged= df_merged.groupby('dim_name').size().reset_index(name='orders')"
   ]
  },
  {
   "cell_type": "code",
   "execution_count": 232,
   "metadata": {},
   "outputs": [
    {
     "data": {
      "text/html": [
       "<div>\n",
       "<style scoped>\n",
       "    .dataframe tbody tr th:only-of-type {\n",
       "        vertical-align: middle;\n",
       "    }\n",
       "\n",
       "    .dataframe tbody tr th {\n",
       "        vertical-align: top;\n",
       "    }\n",
       "\n",
       "    .dataframe thead th {\n",
       "        text-align: right;\n",
       "    }\n",
       "</style>\n",
       "<table border=\"1\" class=\"dataframe\">\n",
       "  <thead>\n",
       "    <tr style=\"text-align: right;\">\n",
       "      <th></th>\n",
       "      <th>dim_name</th>\n",
       "      <th>orders</th>\n",
       "    </tr>\n",
       "  </thead>\n",
       "  <tbody>\n",
       "    <tr>\n",
       "      <th>318</th>\n",
       "      <td>BIG</td>\n",
       "      <td>13263</td>\n",
       "    </tr>\n",
       "    <tr>\n",
       "      <th>919</th>\n",
       "      <td>Cocktail</td>\n",
       "      <td>12877</td>\n",
       "    </tr>\n",
       "    <tr>\n",
       "      <th>742</th>\n",
       "      <td>COMPOSITION</td>\n",
       "      <td>10152</td>\n",
       "    </tr>\n",
       "    <tr>\n",
       "      <th>3222</th>\n",
       "      <td>TICKET JEU</td>\n",
       "      <td>10091</td>\n",
       "    </tr>\n",
       "    <tr>\n",
       "      <th>2481</th>\n",
       "      <td>POKE SUPER PROTEINE</td>\n",
       "      <td>8187</td>\n",
       "    </tr>\n",
       "    <tr>\n",
       "      <th>...</th>\n",
       "      <td>...</td>\n",
       "      <td>...</td>\n",
       "    </tr>\n",
       "    <tr>\n",
       "      <th>3141</th>\n",
       "      <td>Supplement amande fumée</td>\n",
       "      <td>1</td>\n",
       "    </tr>\n",
       "    <tr>\n",
       "      <th>1387</th>\n",
       "      <td>GROCIN 2019</td>\n",
       "      <td>1</td>\n",
       "    </tr>\n",
       "    <tr>\n",
       "      <th>1389</th>\n",
       "      <td>GROCIN PRIMEUR 2019, VDF</td>\n",
       "      <td>1</td>\n",
       "    </tr>\n",
       "    <tr>\n",
       "      <th>1399</th>\n",
       "      <td>GRORAH 12 cL</td>\n",
       "      <td>1</td>\n",
       "    </tr>\n",
       "    <tr>\n",
       "      <th>3992</th>\n",
       "      <td>Œufs mimosa</td>\n",
       "      <td>1</td>\n",
       "    </tr>\n",
       "  </tbody>\n",
       "</table>\n",
       "<p>3993 rows × 2 columns</p>\n",
       "</div>"
      ],
      "text/plain": [
       "                      dim_name  orders\n",
       "318                        BIG   13263\n",
       "919                   Cocktail   12877\n",
       "742                COMPOSITION   10152\n",
       "3222                TICKET JEU   10091\n",
       "2481       POKE SUPER PROTEINE    8187\n",
       "...                        ...     ...\n",
       "3141   Supplement amande fumée       1\n",
       "1387               GROCIN 2019       1\n",
       "1389  GROCIN PRIMEUR 2019, VDF       1\n",
       "1399             GRORAH 12 cL        1\n",
       "3992               Œufs mimosa       1\n",
       "\n",
       "[3993 rows x 2 columns]"
      ]
     },
     "execution_count": 232,
     "metadata": {},
     "output_type": "execute_result"
    }
   ],
   "source": [
    "df_merged.sort_values('orders', ascending=False)"
   ]
  },
  {
   "cell_type": "markdown",
   "metadata": {
    "id": "t5loptU2CpuQ",
    "lang": "en"
   },
   "source": [
    "Is it a fast lunch restaurant in your opinion?"
   ]
  },
  {
   "cell_type": "markdown",
   "metadata": {
    "id": "0-9z2kpJCpuQ",
    "lang": "en"
   },
   "source": [
    "### Data cleaning"
   ]
  },
  {
   "cell_type": "markdown",
   "metadata": {
    "id": "cQ3pbKwcCpuQ",
    "lang": "en"
   },
   "source": [
    "x) [More difficult] The dim_name column of order_data data is unstructured because it is a free field. We want to clean it by creating a new \"processed_dim_name\" column with:\n",
    "\n",
    "- Any value composed solely of numbers, whether or not preceded by a capital letter (example: B124, A7, 42) will be categorized as \"Code\"\n",
    "- Any value including \"TheFork\" will be categorized as \"TheFork\"\n",
    "- All remaining values ​​will be categorized as \"Person\"\n",
    "- Empty values ​​or character strings containing only spaces will be put empty\n",
    "\n",
    "You can look at the `pd.isna()` function, the regex with the `re` library."
   ]
  },
  {
   "cell_type": "code",
   "execution_count": 244,
   "metadata": {
    "ExecuteTime": {
     "end_time": "2021-12-05T18:02:38.942092Z",
     "start_time": "2021-12-05T18:02:38.812427Z"
    },
    "id": "1bpsik02q-xK"
   },
   "outputs": [],
   "source": [
    "import re"
   ]
  },
  {
   "cell_type": "markdown",
   "metadata": {},
   "source": [
    "The getCategory function gets its parameter value from the .apply() method when you apply it to a pandas Series or DataFrame column. Here's how it works:\n",
    "\n",
    "You define the getCategory function with a single parameter, which we commonly name value to represent the current value being processed.\n",
    "\n",
    "When you use the .apply() method on a Series or DataFrame column, it iterates over each element in that column.\n",
    "\n",
    "For each element in the column, the .apply() method calls the getCategory function and passes the current element as an argument to the value parameter.\n",
    "\n",
    "Inside the getCategory function, you can access and process the value passed as the value parameter. You can perform operations, checks, and any logic needed to categorize the value."
   ]
  },
  {
   "cell_type": "code",
   "execution_count": 251,
   "metadata": {},
   "outputs": [
    {
     "name": "stderr",
     "output_type": "stream",
     "text": [
      "C:\\Users\\p.nguyen\\AppData\\Local\\Temp\\ipykernel_26860\\1233077845.py:20: SettingWithCopyWarning: \n",
      "A value is trying to be set on a copy of a slice from a DataFrame.\n",
      "Try using .loc[row_indexer,col_indexer] = value instead\n",
      "\n",
      "See the caveats in the documentation: https://pandas.pydata.org/pandas-docs/stable/user_guide/indexing.html#returning-a-view-versus-a-copy\n",
      "  df['processed_dim_name'] = df['dim_name'].apply(getCategory)\n"
     ]
    },
    {
     "data": {
      "text/plain": [
       "array(['Person', 'Code'], dtype=object)"
      ]
     },
     "execution_count": 251,
     "metadata": {},
     "output_type": "execute_result"
    }
   ],
   "source": [
    "#Let's try it :-)\n",
    "\n",
    "def getCategory(value):\n",
    "    #value = value.strip() #remove spaces\n",
    "    value = str(value)\n",
    "    code_pattern = r'^[A-Z]?\\d+$'\n",
    "    \n",
    "    #check if value is 'Code'\n",
    "    if re.match(code_pattern, value):\n",
    "        return 'Code'\n",
    "    #check if value is 'TheFork'\n",
    "    elif 'TheFork' in value:\n",
    "        return 'TheFork'\n",
    "    #check if value is 'no Value' => ''\n",
    "    elif not value:\n",
    "        return ''\n",
    "    #check if value is 'Person'\n",
    "    else:\n",
    "        return 'Person'\n",
    "df.head(5)\n",
    "df['processed_dim_name'] = df['dim_name'].apply(getCategory)\n",
    "\n",
    "df['processed_dim_name'].unique()\n"
   ]
  },
  {
   "cell_type": "markdown",
   "metadata": {
    "id": "4Hy-ZMA6CpuQ",
    "lang": "en"
   },
   "source": [
    "y) To meet the needs of a team, we want to calculate the number of orders per restaurant and processed_dim_name. Create this dataframe."
   ]
  },
  {
   "cell_type": "code",
   "execution_count": null,
   "metadata": {
    "id": "InxphLY11JpK"
   },
   "outputs": [],
   "source": []
  },
  {
   "cell_type": "code",
   "execution_count": 252,
   "metadata": {},
   "outputs": [
    {
     "data": {
      "text/html": [
       "<div>\n",
       "<style scoped>\n",
       "    .dataframe tbody tr th:only-of-type {\n",
       "        vertical-align: middle;\n",
       "    }\n",
       "\n",
       "    .dataframe tbody tr th {\n",
       "        vertical-align: top;\n",
       "    }\n",
       "\n",
       "    .dataframe thead th {\n",
       "        text-align: right;\n",
       "    }\n",
       "</style>\n",
       "<table border=\"1\" class=\"dataframe\">\n",
       "  <thead>\n",
       "    <tr style=\"text-align: right;\">\n",
       "      <th></th>\n",
       "      <th>id_store</th>\n",
       "      <th>processed_dim_name</th>\n",
       "      <th>orders</th>\n",
       "    </tr>\n",
       "  </thead>\n",
       "  <tbody>\n",
       "    <tr>\n",
       "      <th>0</th>\n",
       "      <td>360</td>\n",
       "      <td>Code</td>\n",
       "      <td>528</td>\n",
       "    </tr>\n",
       "    <tr>\n",
       "      <th>1</th>\n",
       "      <td>360</td>\n",
       "      <td>Person</td>\n",
       "      <td>3438</td>\n",
       "    </tr>\n",
       "    <tr>\n",
       "      <th>2</th>\n",
       "      <td>1796</td>\n",
       "      <td>Code</td>\n",
       "      <td>24518</td>\n",
       "    </tr>\n",
       "    <tr>\n",
       "      <th>3</th>\n",
       "      <td>1796</td>\n",
       "      <td>Person</td>\n",
       "      <td>2619</td>\n",
       "    </tr>\n",
       "    <tr>\n",
       "      <th>4</th>\n",
       "      <td>4337</td>\n",
       "      <td>Person</td>\n",
       "      <td>19979</td>\n",
       "    </tr>\n",
       "    <tr>\n",
       "      <th>5</th>\n",
       "      <td>4542</td>\n",
       "      <td>Code</td>\n",
       "      <td>9148</td>\n",
       "    </tr>\n",
       "    <tr>\n",
       "      <th>6</th>\n",
       "      <td>4542</td>\n",
       "      <td>Person</td>\n",
       "      <td>8491</td>\n",
       "    </tr>\n",
       "    <tr>\n",
       "      <th>7</th>\n",
       "      <td>6293</td>\n",
       "      <td>Code</td>\n",
       "      <td>233</td>\n",
       "    </tr>\n",
       "    <tr>\n",
       "      <th>8</th>\n",
       "      <td>6293</td>\n",
       "      <td>Person</td>\n",
       "      <td>15866</td>\n",
       "    </tr>\n",
       "    <tr>\n",
       "      <th>9</th>\n",
       "      <td>7965</td>\n",
       "      <td>Code</td>\n",
       "      <td>720</td>\n",
       "    </tr>\n",
       "    <tr>\n",
       "      <th>10</th>\n",
       "      <td>7965</td>\n",
       "      <td>Person</td>\n",
       "      <td>8369</td>\n",
       "    </tr>\n",
       "    <tr>\n",
       "      <th>11</th>\n",
       "      <td>8052</td>\n",
       "      <td>Code</td>\n",
       "      <td>493</td>\n",
       "    </tr>\n",
       "    <tr>\n",
       "      <th>12</th>\n",
       "      <td>8052</td>\n",
       "      <td>Person</td>\n",
       "      <td>4406</td>\n",
       "    </tr>\n",
       "    <tr>\n",
       "      <th>13</th>\n",
       "      <td>8283</td>\n",
       "      <td>Code</td>\n",
       "      <td>10022</td>\n",
       "    </tr>\n",
       "    <tr>\n",
       "      <th>14</th>\n",
       "      <td>8347</td>\n",
       "      <td>Person</td>\n",
       "      <td>1</td>\n",
       "    </tr>\n",
       "    <tr>\n",
       "      <th>15</th>\n",
       "      <td>9084</td>\n",
       "      <td>Code</td>\n",
       "      <td>7742</td>\n",
       "    </tr>\n",
       "    <tr>\n",
       "      <th>16</th>\n",
       "      <td>9084</td>\n",
       "      <td>Person</td>\n",
       "      <td>32</td>\n",
       "    </tr>\n",
       "  </tbody>\n",
       "</table>\n",
       "</div>"
      ],
      "text/plain": [
       "    id_store processed_dim_name  orders\n",
       "0        360               Code     528\n",
       "1        360             Person    3438\n",
       "2       1796               Code   24518\n",
       "3       1796             Person    2619\n",
       "4       4337             Person   19979\n",
       "5       4542               Code    9148\n",
       "6       4542             Person    8491\n",
       "7       6293               Code     233\n",
       "8       6293             Person   15866\n",
       "9       7965               Code     720\n",
       "10      7965             Person    8369\n",
       "11      8052               Code     493\n",
       "12      8052             Person    4406\n",
       "13      8283               Code   10022\n",
       "14      8347             Person       1\n",
       "15      9084               Code    7742\n",
       "16      9084             Person      32"
      ]
     },
     "execution_count": 252,
     "metadata": {},
     "output_type": "execute_result"
    }
   ],
   "source": [
    "#Let's try it :-)\n",
    "df_new = df.groupby(['id_store', 'processed_dim_name']).size().reset_index(name='orders')\n",
    "df_new"
   ]
  },
  {
   "cell_type": "markdown",
   "metadata": {
    "id": "VAiq5dtVCpuR",
    "lang": "en"
   },
   "source": [
    "z) Save the new dataframe in csv. Don't back up your dataframe's index."
   ]
  },
  {
   "cell_type": "code",
   "execution_count": null,
   "metadata": {
    "ExecuteTime": {
     "end_time": "2021-12-05T18:11:14.960188Z",
     "start_time": "2021-12-05T18:11:13.543484Z"
    },
    "id": "E0n4GoN_q-xL"
   },
   "outputs": [],
   "source": []
  },
  {
   "cell_type": "code",
   "execution_count": 240,
   "metadata": {},
   "outputs": [],
   "source": [
    "#Let's try it :-)\n",
    "df.to_csv('./export.csv', index=False)"
   ]
  }
 ],
 "metadata": {
  "colab": {
   "provenance": []
  },
  "kernelspec": {
   "display_name": "Python 3 (ipykernel)",
   "language": "python",
   "name": "python3"
  },
  "language_info": {
   "codemirror_mode": {
    "name": "ipython",
    "version": 3
   },
   "file_extension": ".py",
   "mimetype": "text/x-python",
   "name": "python",
   "nbconvert_exporter": "python",
   "pygments_lexer": "ipython3",
   "version": "3.9.7"
  },
  "nbTranslate": {
   "displayLangs": [
    "*"
   ],
   "hotkey": "",
   "langInMainMenu": true,
   "sourceLang": "fr",
   "targetLang": "en",
   "useGoogleTranslate": true
  },
  "toc": {
   "base_numbering": 1,
   "nav_menu": {},
   "number_sections": true,
   "sideBar": true,
   "skip_h1_title": false,
   "title_cell": "Table of Contents",
   "title_sidebar": "Contents",
   "toc_cell": false,
   "toc_position": {},
   "toc_section_display": true,
   "toc_window_display": false
  },
  "varInspector": {
   "cols": {
    "lenName": 16,
    "lenType": 16,
    "lenVar": 40
   },
   "kernels_config": {
    "python": {
     "delete_cmd_postfix": "",
     "delete_cmd_prefix": "del ",
     "library": "var_list.py",
     "varRefreshCmd": "print(var_dic_list())"
    },
    "r": {
     "delete_cmd_postfix": ") ",
     "delete_cmd_prefix": "rm(",
     "library": "var_list.r",
     "varRefreshCmd": "cat(var_dic_list()) "
    }
   },
   "types_to_exclude": [
    "module",
    "function",
    "builtin_function_or_method",
    "instance",
    "_Feature"
   ],
   "window_display": false
  }
 },
 "nbformat": 4,
 "nbformat_minor": 1
}
