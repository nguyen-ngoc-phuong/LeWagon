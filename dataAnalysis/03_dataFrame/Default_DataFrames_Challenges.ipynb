{
 "cells": [
  {
   "cell_type": "markdown",
   "metadata": {
    "id": "cR6dXZDVCpuB",
    "lang": "en"
   },
   "source": [
    "## EDA Tiller System"
   ]
  },
  {
   "cell_type": "markdown",
   "metadata": {
    "id": "qL-uyLJBCpuE",
    "lang": "en"
   },
   "source": [
    "### Loading file"
   ]
  },
  {
   "cell_type": "markdown",
   "metadata": {
    "id": "n3mYnhZXCpuE",
    "lang": "en"
   },
   "source": [
    "Download the lab data by following this [link](https://drive.google.com/file/d/1X5uXVFrl7SuMUKe7CJaiCmGEOhokorh2/view?usp=sharing)"
   ]
  },
  {
   "cell_type": "markdown",
   "metadata": {
    "id": "ECAIsNMMCpuE",
    "lang": "en"
   },
   "source": [
    "a) Load the Tiller_order_data.csv file into a DataFrame named df"
   ]
  },
  {
   "cell_type": "code",
   "execution_count": 17,
   "metadata": {
    "ExecuteTime": {
     "end_time": "2021-12-05T16:43:55.660324Z",
     "start_time": "2021-12-05T16:43:55.298778Z"
    },
    "id": "ZaHu4Fpaq-w7"
   },
   "outputs": [],
   "source": [
    "import pandas as pd\n",
    "import lxml"
   ]
  },
  {
   "cell_type": "code",
   "execution_count": 47,
   "metadata": {},
   "outputs": [
    {
     "data": {
      "text/html": [
       "<div>\n",
       "<style scoped>\n",
       "    .dataframe tbody tr th:only-of-type {\n",
       "        vertical-align: middle;\n",
       "    }\n",
       "\n",
       "    .dataframe tbody tr th {\n",
       "        vertical-align: top;\n",
       "    }\n",
       "\n",
       "    .dataframe thead th {\n",
       "        text-align: right;\n",
       "    }\n",
       "</style>\n",
       "<table border=\"1\" class=\"dataframe\">\n",
       "  <thead>\n",
       "    <tr style=\"text-align: right;\">\n",
       "      <th></th>\n",
       "      <th>Name</th>\n",
       "      <th>Type</th>\n",
       "      <th>Flags</th>\n",
       "      <th>Value</th>\n",
       "    </tr>\n",
       "  </thead>\n",
       "  <tbody>\n",
       "    <tr>\n",
       "      <th>0</th>\n",
       "      <td>Status</td>\n",
       "      <td>String</td>\n",
       "      <td>0x0</td>\n",
       "      <td>Failed</td>\n",
       "    </tr>\n",
       "    <tr>\n",
       "      <th>1</th>\n",
       "      <td>Status</td>\n",
       "      <td>String</td>\n",
       "      <td>0x0</td>\n",
       "      <td>Passed</td>\n",
       "    </tr>\n",
       "    <tr>\n",
       "      <th>2</th>\n",
       "      <td>Status</td>\n",
       "      <td>String</td>\n",
       "      <td>0x0</td>\n",
       "      <td>Failed</td>\n",
       "    </tr>\n",
       "    <tr>\n",
       "      <th>3</th>\n",
       "      <td>Status</td>\n",
       "      <td>String</td>\n",
       "      <td>0x0</td>\n",
       "      <td>Passed</td>\n",
       "    </tr>\n",
       "    <tr>\n",
       "      <th>4</th>\n",
       "      <td>Status</td>\n",
       "      <td>String</td>\n",
       "      <td>0x400000</td>\n",
       "      <td>Done</td>\n",
       "    </tr>\n",
       "    <tr>\n",
       "      <th>...</th>\n",
       "      <td>...</td>\n",
       "      <td>...</td>\n",
       "      <td>...</td>\n",
       "      <td>...</td>\n",
       "    </tr>\n",
       "    <tr>\n",
       "      <th>1577</th>\n",
       "      <td>Status</td>\n",
       "      <td>String</td>\n",
       "      <td>0x400000</td>\n",
       "      <td>Failed</td>\n",
       "    </tr>\n",
       "    <tr>\n",
       "      <th>1578</th>\n",
       "      <td>Status</td>\n",
       "      <td>String</td>\n",
       "      <td>0x0</td>\n",
       "      <td>Passed</td>\n",
       "    </tr>\n",
       "    <tr>\n",
       "      <th>1579</th>\n",
       "      <td>Status</td>\n",
       "      <td>String</td>\n",
       "      <td>0x400000</td>\n",
       "      <td>Done</td>\n",
       "    </tr>\n",
       "    <tr>\n",
       "      <th>1580</th>\n",
       "      <td>Status</td>\n",
       "      <td>String</td>\n",
       "      <td>0x400000</td>\n",
       "      <td>Failed</td>\n",
       "    </tr>\n",
       "    <tr>\n",
       "      <th>1581</th>\n",
       "      <td>Status</td>\n",
       "      <td>String</td>\n",
       "      <td>0x400000</td>\n",
       "      <td>Failed</td>\n",
       "    </tr>\n",
       "  </tbody>\n",
       "</table>\n",
       "<p>1582 rows × 4 columns</p>\n",
       "</div>"
      ],
      "text/plain": [
       "        Name    Type     Flags   Value\n",
       "0     Status  String       0x0  Failed\n",
       "1     Status  String       0x0  Passed\n",
       "2     Status  String       0x0  Failed\n",
       "3     Status  String       0x0  Passed\n",
       "4     Status  String  0x400000    Done\n",
       "...      ...     ...       ...     ...\n",
       "1577  Status  String  0x400000  Failed\n",
       "1578  Status  String       0x0  Passed\n",
       "1579  Status  String  0x400000    Done\n",
       "1580  Status  String  0x400000  Failed\n",
       "1581  Status  String  0x400000  Failed\n",
       "\n",
       "[1582 rows x 4 columns]"
      ]
     },
     "execution_count": 47,
     "metadata": {},
     "output_type": "execute_result"
    }
   ],
   "source": [
    "path = \"./Reports[PLT1505_SW_02][7203043102C99][0001213][ParameterTest_RT_Umax][20 14 55][18.04.2018].xml\"\n",
    "xslt =\"./SimpleTable.xsl\"\n",
    "lxml.etree\n",
    "df_stepName = pd.read_xml(path, xpath=\"//Prop[@Name='StepName']\")\n",
    "df_measurement = pd.read_xml(path, xpath=\"//Prop[@Name='Status']\")\n",
    "\n",
    "df_measurement\n",
    "\n"
   ]
  },
  {
   "cell_type": "markdown",
   "metadata": {
    "id": "D6PFA0P8CpuF",
    "lang": "en"
   },
   "source": [
    "### Data Discovery"
   ]
  },
  {
   "cell_type": "markdown",
   "metadata": {
    "id": "vEyjia4gCpuG",
    "lang": "en"
   },
   "source": [
    "b) Display the first 5 rows of this dataframe"
   ]
  },
  {
   "cell_type": "code",
   "execution_count": null,
   "metadata": {
    "ExecuteTime": {
     "end_time": "2021-12-05T16:43:55.679127Z",
     "start_time": "2021-12-05T16:43:55.662096Z"
    },
    "id": "wbhmoMRBq-w9"
   },
   "outputs": [],
   "source": []
  },
  {
   "cell_type": "markdown",
   "metadata": {
    "id": "fze1N_GTCpuG",
    "lang": "en"
   },
   "source": [
    "c) What does a row of this dataframe represent? What information can you find?"
   ]
  },
  {
   "cell_type": "code",
   "execution_count": null,
   "metadata": {
    "id": "eAKcskxFTMDG"
   },
   "outputs": [],
   "source": []
  },
  {
   "cell_type": "markdown",
   "metadata": {
    "id": "1DT8rs3_CpuH",
    "lang": "en"
   },
   "source": [
    "d) How many orders are there in this dataframe? How many columns?"
   ]
  },
  {
   "cell_type": "markdown",
   "metadata": {
    "id": "I6Q-lBTMpJba"
   },
   "source": []
  },
  {
   "cell_type": "markdown",
   "metadata": {
    "id": "xk3s55atwdXV"
   },
   "source": [
    "#### Column selection"
   ]
  },
  {
   "cell_type": "markdown",
   "metadata": {
    "id": "BTeAHs3dCpuH",
    "lang": "en"
   },
   "source": [
    "e) Select only the id_order, id_store, date_opened and date_closed columns of this DataFrame and save the result in a variable df_sub"
   ]
  },
  {
   "cell_type": "code",
   "execution_count": null,
   "metadata": {
    "id": "HJmlPYcnCgDY",
    "lang": "fr"
   },
   "outputs": [],
   "source": []
  },
  {
   "cell_type": "markdown",
   "metadata": {
    "id": "lgHxvXI6CpuH",
    "lang": "en"
   },
   "source": [
    "#### Row selection"
   ]
  },
  {
   "cell_type": "markdown",
   "metadata": {
    "id": "HSiegLw0CpuH",
    "lang": "en"
   },
   "source": [
    "f) Filter df_sub only on lines concerning id_store 4542. How many orders have there been in this restaurant?"
   ]
  },
  {
   "cell_type": "code",
   "execution_count": null,
   "metadata": {
    "id": "LRg_wbkFDjPg"
   },
   "outputs": [],
   "source": []
  },
  {
   "cell_type": "markdown",
   "metadata": {
    "id": "4f6K3BKjCpuI",
    "lang": "en"
   },
   "source": [
    "### Data analysis"
   ]
  },
  {
   "cell_type": "markdown",
   "metadata": {
    "id": "1rP6S-IKCpuI",
    "lang": "en"
   },
   "source": [
    "g) Going back to the initial DataFrame, what are the different possible statuses of an order? How many orders are there per status?"
   ]
  },
  {
   "cell_type": "code",
   "execution_count": null,
   "metadata": {
    "id": "oaUCabqUuyVS"
   },
   "outputs": [],
   "source": []
  },
  {
   "cell_type": "markdown",
   "metadata": {
    "id": "OHLuWvHvCpuI",
    "lang": "en"
   },
   "source": [
    "h) What is the proportion of orders whose status is CLOSE?"
   ]
  },
  {
   "cell_type": "code",
   "execution_count": null,
   "metadata": {
    "id": "nKRY5m8kuEFS"
   },
   "outputs": [],
   "source": []
  },
  {
   "cell_type": "markdown",
   "metadata": {
    "id": "ovaHfpC1CpuI",
    "lang": "en"
   },
   "source": [
    "i) How many restaurants are there in this data? What are their IDs?"
   ]
  },
  {
   "cell_type": "code",
   "execution_count": null,
   "metadata": {
    "id": "L_An80n8s_T9"
   },
   "outputs": [],
   "source": []
  },
  {
   "cell_type": "markdown",
   "metadata": {
    "id": "P6VbO1iOCpuI",
    "lang": "en"
   },
   "source": [
    "j) Calculate the turnover per restaurant. Which restaurant has the highest turnover?"
   ]
  },
  {
   "cell_type": "code",
   "execution_count": null,
   "metadata": {
    "id": "YmsHXRrJHAJx"
   },
   "outputs": [],
   "source": []
  },
  {
   "cell_type": "markdown",
   "metadata": {
    "id": "G_3naXPwCpuI",
    "lang": "en"
   },
   "source": [
    "k) Count the number of orders per restaurant. Which restaurant had the most orders in this data? Is it the same as the one with the highest turnover?"
   ]
  },
  {
   "cell_type": "code",
   "execution_count": null,
   "metadata": {
    "id": "ryZBJEV5E6jO"
   },
   "outputs": [],
   "source": []
  },
  {
   "cell_type": "markdown",
   "metadata": {
    "id": "kilu2ukeCpuJ",
    "lang": "en"
   },
   "source": [
    "l) Calculate the average price of an order for each restaurant. Do you think you face the same types of restaurants?"
   ]
  },
  {
   "cell_type": "code",
   "execution_count": null,
   "metadata": {
    "id": "xQPxmRRMHf7b"
   },
   "outputs": [],
   "source": []
  },
  {
   "cell_type": "markdown",
   "metadata": {
    "id": "mlCBOMpQCpuJ",
    "lang": "en"
   },
   "source": [
    "m) The problem is that an order can be placed for several people. We rather want to know the price spent on average by a person in the restaurant.\n",
    "\n",
    "From the initial dataframe, add a column representing the price of the order per customer"
   ]
  },
  {
   "cell_type": "code",
   "execution_count": null,
   "metadata": {
    "id": "uuafguQgLBsb"
   },
   "outputs": [],
   "source": []
  },
  {
   "cell_type": "markdown",
   "metadata": {
    "id": "XjjmM3lxCpuJ",
    "lang": "en"
   },
   "source": [
    "n) Using the previous column, calculate the average price spent by each person in each of the restaurants."
   ]
  },
  {
   "cell_type": "code",
   "execution_count": null,
   "metadata": {
    "id": "FDmNUDEANfKr"
   },
   "outputs": [],
   "source": []
  },
  {
   "cell_type": "markdown",
   "metadata": {
    "id": "-jeOJ9qECpuJ",
    "lang": "en"
   },
   "source": [
    "o) It seems that there are data problems because for some restaurants the average price is lower ...\n",
    "\n",
    "Do you have any idea why?\n",
    "\n",
    "Replace the values ​​at 0 in the m_nb_customer column with 1 then delete the rows whose m_cached_price column is at 0"
   ]
  },
  {
   "cell_type": "code",
   "execution_count": null,
   "metadata": {
    "id": "0Abq1T50PQjQ"
   },
   "outputs": [],
   "source": []
  },
  {
   "cell_type": "markdown",
   "metadata": {
    "id": "jk5zujvcCpuJ",
    "lang": "en"
   },
   "source": [
    "p) Recalculate the price_per_customer column and the average price spent by each person in a restaurant"
   ]
  },
  {
   "cell_type": "code",
   "execution_count": null,
   "metadata": {
    "id": "oLQY0R__OhkA"
   },
   "outputs": [],
   "source": []
  },
  {
   "cell_type": "markdown",
   "metadata": {
    "id": "-POZ20_YCpuJ",
    "lang": "en"
   },
   "source": [
    "### Temporal analysis"
   ]
  },
  {
   "cell_type": "markdown",
   "metadata": {
    "id": "KamVv4LNCpuO",
    "lang": "en"
   },
   "source": [
    "Restaurant 7965 has a higher price per person than the rest. Let's look at the time spent at the table to find out if this can correspond to a large restaurant."
   ]
  },
  {
   "cell_type": "markdown",
   "metadata": {
    "id": "PB_OHbmdCpuO",
    "lang": "en"
   },
   "source": [
    "q) Convert date_opened and date_closed columns to datetime format"
   ]
  },
  {
   "cell_type": "code",
   "execution_count": null,
   "metadata": {
    "id": "vr_lHtn2SzXW"
   },
   "outputs": [],
   "source": []
  },
  {
   "cell_type": "markdown",
   "metadata": {
    "id": "GZs8yHCSCpuO",
    "lang": "en"
   },
   "source": [
    "r) Run the code below to calculate the time spent between the open and close date of an order in minutes."
   ]
  },
  {
   "cell_type": "code",
   "execution_count": null,
   "metadata": {
    "ExecuteTime": {
     "end_time": "2021-12-05T17:34:35.565507Z",
     "start_time": "2021-12-05T17:34:35.558317Z"
    },
    "id": "HUNn5MUnq-xI"
   },
   "outputs": [],
   "source": [
    "df[\"order_duration\"] = (df.date_closed - df.date_opened).dt.total_seconds() / 60\n"
   ]
  },
  {
   "cell_type": "markdown",
   "metadata": {
    "id": "8FNDVMEjCpuP",
    "lang": "en"
   },
   "source": [
    "s) Calculate the average time at the table for each of the restaurants."
   ]
  },
  {
   "cell_type": "code",
   "execution_count": null,
   "metadata": {
    "ExecuteTime": {
     "end_time": "2021-12-05T17:35:08.547003Z",
     "start_time": "2021-12-05T17:35:08.529944Z"
    },
    "id": "cCj4sDxyq-xJ"
   },
   "outputs": [],
   "source": []
  },
  {
   "cell_type": "markdown",
   "metadata": {
    "id": "Sb-jjDTxCpuP",
    "lang": "en"
   },
   "source": [
    "It seems that there are no fast food type restaurants! Open order durations are relatively short."
   ]
  },
  {
   "cell_type": "markdown",
   "metadata": {
    "id": "wZw8HmyICpuP",
    "lang": "en"
   },
   "source": [
    "### Join operations"
   ]
  },
  {
   "cell_type": "markdown",
   "metadata": {
    "id": "4QOibFuHCpuP",
    "lang": "en"
   },
   "source": [
    "t) Download data from [order_line](https://drive.google.com/file/d/1G7Jbq_m-tJrHRhL-44j8XFOVs_zPil_9/view?usp=sharing) and [store_data](https://drive.google.com/file/d/1W032PaySL7gouyX3bEKgndtm6qVta7Qp/view?usp=sharing). Load them in Python."
   ]
  },
  {
   "cell_type": "code",
   "execution_count": null,
   "metadata": {
    "ExecuteTime": {
     "end_time": "2021-12-05T16:57:01.438479Z",
     "start_time": "2021-12-05T16:57:00.204091Z"
    },
    "id": "-LeTQt0lq-xG"
   },
   "outputs": [],
   "source": []
  },
  {
   "cell_type": "markdown",
   "metadata": {
    "id": "1eIGeS1jCpuP",
    "lang": "en"
   },
   "source": [
    "u) What new information do you have access to thanks to this data?"
   ]
  },
  {
   "cell_type": "code",
   "execution_count": null,
   "metadata": {
    "ExecuteTime": {
     "end_time": "2021-12-05T16:58:04.620061Z",
     "start_time": "2021-12-05T16:58:04.611443Z"
    },
    "id": "gq4y3luXq-xH"
   },
   "outputs": [],
   "source": []
  },
  {
   "cell_type": "markdown",
   "metadata": {
    "id": "GMoPXaqTCpuQ",
    "lang": "en"
   },
   "source": [
    "v) How many orders were placed in the 2nd arrondissement of Paris? It will take merging store_data with the seed data to answer it."
   ]
  },
  {
   "cell_type": "code",
   "execution_count": null,
   "metadata": {
    "ExecuteTime": {
     "end_time": "2021-12-05T17:01:32.347122Z",
     "start_time": "2021-12-05T17:01:32.204026Z"
    },
    "id": "EQkdLlUMq-xH"
   },
   "outputs": [],
   "source": []
  },
  {
   "cell_type": "markdown",
   "metadata": {
    "id": "tr62q1pSCpuQ",
    "lang": "en"
   },
   "source": [
    "w) Take restaurant 1796. Its average order time was very short.\n",
    "\n",
    "Show the most ordered items in this restaurant. To do this keep only the id_store and id_order columns of order_data and the id_order, id_order_line and dim_name columns of order_line.\n",
    "\n",
    "Be careful, the dim_name column exists both in order_data and in order_line."
   ]
  },
  {
   "cell_type": "code",
   "execution_count": null,
   "metadata": {
    "id": "ggr_eaelq-xI"
   },
   "outputs": [],
   "source": []
  },
  {
   "cell_type": "markdown",
   "metadata": {
    "id": "t5loptU2CpuQ",
    "lang": "en"
   },
   "source": [
    "Is it a fast lunch restaurant in your opinion?"
   ]
  },
  {
   "cell_type": "markdown",
   "metadata": {
    "id": "0-9z2kpJCpuQ",
    "lang": "en"
   },
   "source": [
    "### Data cleaning"
   ]
  },
  {
   "cell_type": "markdown",
   "metadata": {
    "id": "cQ3pbKwcCpuQ",
    "lang": "en"
   },
   "source": [
    "x) [More difficult] The dim_name column of order_data data is unstructured because it is a free field. We want to clean it by creating a new \"processed_dim_name\" column with:\n",
    "\n",
    "- Any value composed solely of numbers, whether or not preceded by a capital letter (example: B124, A7, 42) will be categorized as \"Code\"\n",
    "- Any value including \"TheFork\" will be categorized as \"TheFork\"\n",
    "- All remaining values ​​will be categorized as \"Person\"\n",
    "- Empty values ​​or character strings containing only spaces will be put empty\n",
    "\n",
    "You can look at the `pd.isna()` function, the regex with the `re` library."
   ]
  },
  {
   "cell_type": "code",
   "execution_count": null,
   "metadata": {
    "ExecuteTime": {
     "end_time": "2021-12-05T18:02:38.942092Z",
     "start_time": "2021-12-05T18:02:38.812427Z"
    },
    "id": "1bpsik02q-xK"
   },
   "outputs": [],
   "source": []
  },
  {
   "cell_type": "markdown",
   "metadata": {
    "id": "4Hy-ZMA6CpuQ",
    "lang": "en"
   },
   "source": [
    "y) To meet the needs of a team, we want to calculate the number of orders per restaurant and processed_dim_name. Create this dataframe."
   ]
  },
  {
   "cell_type": "code",
   "execution_count": null,
   "metadata": {
    "id": "InxphLY11JpK"
   },
   "outputs": [],
   "source": []
  },
  {
   "cell_type": "markdown",
   "metadata": {
    "id": "VAiq5dtVCpuR",
    "lang": "en"
   },
   "source": [
    "z) Save the new dataframe in csv. Don't back up your dataframe's index."
   ]
  },
  {
   "cell_type": "code",
   "execution_count": null,
   "metadata": {
    "ExecuteTime": {
     "end_time": "2021-12-05T18:11:14.960188Z",
     "start_time": "2021-12-05T18:11:13.543484Z"
    },
    "id": "E0n4GoN_q-xL"
   },
   "outputs": [],
   "source": []
  }
 ],
 "metadata": {
  "colab": {
   "provenance": []
  },
  "kernelspec": {
   "display_name": "Python 3 (ipykernel)",
   "language": "python",
   "name": "python3"
  },
  "language_info": {
   "codemirror_mode": {
    "name": "ipython",
    "version": 3
   },
   "file_extension": ".py",
   "mimetype": "text/x-python",
   "name": "python",
   "nbconvert_exporter": "python",
   "pygments_lexer": "ipython3",
   "version": "3.9.7"
  },
  "nbTranslate": {
   "displayLangs": [
    "*"
   ],
   "hotkey": "",
   "langInMainMenu": true,
   "sourceLang": "fr",
   "targetLang": "en",
   "useGoogleTranslate": true
  },
  "toc": {
   "base_numbering": 1,
   "nav_menu": {},
   "number_sections": true,
   "sideBar": true,
   "skip_h1_title": false,
   "title_cell": "Table of Contents",
   "title_sidebar": "Contents",
   "toc_cell": false,
   "toc_position": {},
   "toc_section_display": true,
   "toc_window_display": false
  },
  "varInspector": {
   "cols": {
    "lenName": 16,
    "lenType": 16,
    "lenVar": 40
   },
   "kernels_config": {
    "python": {
     "delete_cmd_postfix": "",
     "delete_cmd_prefix": "del ",
     "library": "var_list.py",
     "varRefreshCmd": "print(var_dic_list())"
    },
    "r": {
     "delete_cmd_postfix": ") ",
     "delete_cmd_prefix": "rm(",
     "library": "var_list.r",
     "varRefreshCmd": "cat(var_dic_list()) "
    }
   },
   "types_to_exclude": [
    "module",
    "function",
    "builtin_function_or_method",
    "instance",
    "_Feature"
   ],
   "window_display": false
  }
 },
 "nbformat": 4,
 "nbformat_minor": 1
}
